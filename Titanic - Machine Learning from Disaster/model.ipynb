{
 "cells": [
  {
   "cell_type": "markdown",
   "source": [
    "Import packages"
   ],
   "metadata": {
    "collapsed": false
   },
   "id": "d23e888e8498d3cc"
  },
  {
   "cell_type": "code",
   "execution_count": 1,
   "id": "eed70e31b9baa878",
   "metadata": {
    "collapsed": false,
    "ExecuteTime": {
     "end_time": "2023-11-14T00:50:52.140854300Z",
     "start_time": "2023-11-14T00:50:52.134194100Z"
    }
   },
   "outputs": [],
   "source": [
    "import pandas as pd\n",
    "import numpy as np\n",
    "import seaborn as sns"
   ]
  },
  {
   "cell_type": "markdown",
   "source": [
    "Load data"
   ],
   "metadata": {
    "collapsed": false
   },
   "id": "ec5924473e65a00d"
  },
  {
   "cell_type": "code",
   "execution_count": 2,
   "id": "23a373983b982949",
   "metadata": {
    "collapsed": false,
    "ExecuteTime": {
     "end_time": "2023-11-14T00:50:52.160613900Z",
     "start_time": "2023-11-14T00:50:52.142438500Z"
    }
   },
   "outputs": [],
   "source": [
    "train_data = pd.read_csv(\"data/train.csv\")\n",
    "\n",
    "test_data = pd.read_csv(\"data/test.csv\")"
   ]
  },
  {
   "cell_type": "code",
   "execution_count": 3,
   "outputs": [
    {
     "name": "stdout",
     "output_type": "stream",
     "text": [
      "<class 'pandas.core.frame.DataFrame'>\n",
      "RangeIndex: 891 entries, 0 to 890\n",
      "Data columns (total 12 columns):\n",
      " #   Column       Non-Null Count  Dtype  \n",
      "---  ------       --------------  -----  \n",
      " 0   PassengerId  891 non-null    int64  \n",
      " 1   Survived     891 non-null    int64  \n",
      " 2   Pclass       891 non-null    int64  \n",
      " 3   Name         891 non-null    object \n",
      " 4   Sex          891 non-null    object \n",
      " 5   Age          714 non-null    float64\n",
      " 6   SibSp        891 non-null    int64  \n",
      " 7   Parch        891 non-null    int64  \n",
      " 8   Ticket       891 non-null    object \n",
      " 9   Fare         891 non-null    float64\n",
      " 10  Cabin        204 non-null    object \n",
      " 11  Embarked     889 non-null    object \n",
      "dtypes: float64(2), int64(5), object(5)\n",
      "memory usage: 83.7+ KB\n",
      "PassengerId      0\n",
      "Survived         0\n",
      "Pclass           0\n",
      "Name             0\n",
      "Sex              0\n",
      "Age            177\n",
      "SibSp            0\n",
      "Parch            0\n",
      "Ticket           0\n",
      "Fare             0\n",
      "Cabin          687\n",
      "Embarked         2\n",
      "dtype: int64\n",
      "Percent of missing values:  8.099513655069211\n"
     ]
    }
   ],
   "source": [
    "# Check data\n",
    "train_data = train_data.fillna(np.nan)\n",
    "train_data.info()\n",
    "\n",
    "missing_values_count = train_data.isnull().sum()\n",
    "print(missing_values_count)\n",
    "\n",
    "total_cells = np.product(train_data.shape)\n",
    "total_missing = missing_values_count.sum()\n",
    "\n",
    "percent_missing = (total_missing/total_cells) * 100\n",
    "print(\"Percent of missing values: \", percent_missing)"
   ],
   "metadata": {
    "collapsed": false,
    "ExecuteTime": {
     "end_time": "2023-11-14T00:50:52.207537600Z",
     "start_time": "2023-11-14T00:50:52.166683100Z"
    }
   },
   "id": "e72c48224006f9ac"
  },
  {
   "cell_type": "markdown",
   "source": [
    "Summarize data"
   ],
   "metadata": {
    "collapsed": false
   },
   "id": "cc26863de54a7c78"
  },
  {
   "cell_type": "code",
   "execution_count": 4,
   "outputs": [
    {
     "data": {
      "text/plain": "       PassengerId    Survived      Pclass         Age       SibSp  \\\ncount   891.000000  891.000000  891.000000  714.000000  891.000000   \nmean    446.000000    0.383838    2.308642   29.699118    0.523008   \nstd     257.353842    0.486592    0.836071   14.526497    1.102743   \nmin       1.000000    0.000000    1.000000    0.420000    0.000000   \n25%     223.500000    0.000000    2.000000   20.125000    0.000000   \n50%     446.000000    0.000000    3.000000   28.000000    0.000000   \n75%     668.500000    1.000000    3.000000   38.000000    1.000000   \nmax     891.000000    1.000000    3.000000   80.000000    8.000000   \n\n            Parch        Fare  \ncount  891.000000  891.000000  \nmean     0.381594   32.204208  \nstd      0.806057   49.693429  \nmin      0.000000    0.000000  \n25%      0.000000    7.910400  \n50%      0.000000   14.454200  \n75%      0.000000   31.000000  \nmax      6.000000  512.329200  ",
      "text/html": "<div>\n<style scoped>\n    .dataframe tbody tr th:only-of-type {\n        vertical-align: middle;\n    }\n\n    .dataframe tbody tr th {\n        vertical-align: top;\n    }\n\n    .dataframe thead th {\n        text-align: right;\n    }\n</style>\n<table border=\"1\" class=\"dataframe\">\n  <thead>\n    <tr style=\"text-align: right;\">\n      <th></th>\n      <th>PassengerId</th>\n      <th>Survived</th>\n      <th>Pclass</th>\n      <th>Age</th>\n      <th>SibSp</th>\n      <th>Parch</th>\n      <th>Fare</th>\n    </tr>\n  </thead>\n  <tbody>\n    <tr>\n      <th>count</th>\n      <td>891.000000</td>\n      <td>891.000000</td>\n      <td>891.000000</td>\n      <td>714.000000</td>\n      <td>891.000000</td>\n      <td>891.000000</td>\n      <td>891.000000</td>\n    </tr>\n    <tr>\n      <th>mean</th>\n      <td>446.000000</td>\n      <td>0.383838</td>\n      <td>2.308642</td>\n      <td>29.699118</td>\n      <td>0.523008</td>\n      <td>0.381594</td>\n      <td>32.204208</td>\n    </tr>\n    <tr>\n      <th>std</th>\n      <td>257.353842</td>\n      <td>0.486592</td>\n      <td>0.836071</td>\n      <td>14.526497</td>\n      <td>1.102743</td>\n      <td>0.806057</td>\n      <td>49.693429</td>\n    </tr>\n    <tr>\n      <th>min</th>\n      <td>1.000000</td>\n      <td>0.000000</td>\n      <td>1.000000</td>\n      <td>0.420000</td>\n      <td>0.000000</td>\n      <td>0.000000</td>\n      <td>0.000000</td>\n    </tr>\n    <tr>\n      <th>25%</th>\n      <td>223.500000</td>\n      <td>0.000000</td>\n      <td>2.000000</td>\n      <td>20.125000</td>\n      <td>0.000000</td>\n      <td>0.000000</td>\n      <td>7.910400</td>\n    </tr>\n    <tr>\n      <th>50%</th>\n      <td>446.000000</td>\n      <td>0.000000</td>\n      <td>3.000000</td>\n      <td>28.000000</td>\n      <td>0.000000</td>\n      <td>0.000000</td>\n      <td>14.454200</td>\n    </tr>\n    <tr>\n      <th>75%</th>\n      <td>668.500000</td>\n      <td>1.000000</td>\n      <td>3.000000</td>\n      <td>38.000000</td>\n      <td>1.000000</td>\n      <td>0.000000</td>\n      <td>31.000000</td>\n    </tr>\n    <tr>\n      <th>max</th>\n      <td>891.000000</td>\n      <td>1.000000</td>\n      <td>3.000000</td>\n      <td>80.000000</td>\n      <td>8.000000</td>\n      <td>6.000000</td>\n      <td>512.329200</td>\n    </tr>\n  </tbody>\n</table>\n</div>"
     },
     "execution_count": 4,
     "metadata": {},
     "output_type": "execute_result"
    }
   ],
   "source": [
    "train_data.describe()"
   ],
   "metadata": {
    "collapsed": false,
    "ExecuteTime": {
     "end_time": "2023-11-14T00:50:52.309271100Z",
     "start_time": "2023-11-14T00:50:52.188496600Z"
    }
   },
   "id": "a5baab59f85c3a53"
  },
  {
   "cell_type": "markdown",
   "source": [
    "Feature analysis"
   ],
   "metadata": {
    "collapsed": false
   },
   "id": "ed19aed16d23d5ef"
  },
  {
   "cell_type": "markdown",
   "source": [
    "Numerical variables"
   ],
   "metadata": {
    "collapsed": false
   },
   "id": "7f0ec8406ae5cd87"
  },
  {
   "cell_type": "code",
   "execution_count": 5,
   "outputs": [
    {
     "data": {
      "text/plain": "<Figure size 640x480 with 2 Axes>",
      "image/png": "[encoded data removed]"
     },
     "metadata": {},
     "output_type": "display_data"
    }
   ],
   "source": [
    "g = sns.heatmap(train_data[['Survived', 'Age', 'SibSp', 'Parch', 'Fare']].corr(), annot=True, fmt=\".2f\", cmap=\"coolwarm\")"
   ],
   "metadata": {
    "collapsed": false,
    "ExecuteTime": {
     "end_time": "2023-11-14T00:50:52.738846900Z",
     "start_time": "2023-11-14T00:50:52.225654200Z"
    }
   },
   "id": "1ef452e224d29eb3"
  },
  {
   "cell_type": "markdown",
   "source": [
    "SibSP"
   ],
   "metadata": {
    "collapsed": false
   },
   "id": "6f21f0e9a30caa90"
  },
  {
   "cell_type": "code",
   "execution_count": 6,
   "outputs": [
    {
     "data": {
      "text/plain": "<Figure size 500x500 with 1 Axes>",
      "image/png": "[encoded data removed]"
     },
     "metadata": {},
     "output_type": "display_data"
    }
   ],
   "source": [
    "g = sns.catplot(hue=\"SibSp\", y=\"Survived\", data=train_data, kind=\"bar\", palette=\"muted\", legend=False)\n",
    "g = g.set_ylabels(\"survived probability\")"
   ],
   "metadata": {
    "collapsed": false,
    "ExecuteTime": {
     "end_time": "2023-11-14T00:50:53.222482600Z",
     "start_time": "2023-11-14T00:50:52.582584500Z"
    }
   },
   "id": "961eb3bc4f1bacf7"
  },
  {
   "cell_type": "markdown",
   "source": [
    "Parch"
   ],
   "metadata": {
    "collapsed": false
   },
   "id": "1e1e13a7a0f85de1"
  },
  {
   "cell_type": "code",
   "execution_count": 7,
   "outputs": [
    {
     "data": {
      "text/plain": "<Figure size 500x500 with 1 Axes>",
      "image/png": "[encoded data removed]"
     },
     "metadata": {},
     "output_type": "display_data"
    }
   ],
   "source": [
    "g = sns.catplot(hue=\"Parch\", y=\"Survived\", data=train_data, kind=\"bar\", palette=\"muted\", legend=False)\n",
    "g = g.set_ylabels(\"Survived probability\")"
   ],
   "metadata": {
    "collapsed": false,
    "ExecuteTime": {
     "end_time": "2023-11-14T00:50:54.528263600Z",
     "start_time": "2023-11-14T00:50:53.175758600Z"
    }
   },
   "id": "e0be502989d226e1"
  },
  {
   "cell_type": "markdown",
   "source": [
    "Age"
   ],
   "metadata": {
    "collapsed": false
   },
   "id": "ab4aa4c7a9a96502"
  },
  {
   "cell_type": "code",
   "execution_count": 8,
   "outputs": [
    {
     "data": {
      "text/plain": "<Figure size 600x300 with 2 Axes>",
      "image/png": "[encoded data removed]"
     },
     "metadata": {},
     "output_type": "display_data"
    }
   ],
   "source": [
    "g = sns.FacetGrid(data=train_data, col=\"Survived\")\n",
    "g = g.map(sns.histplot  , \"Age\")"
   ],
   "metadata": {
    "collapsed": false,
    "ExecuteTime": {
     "end_time": "2023-11-14T00:50:55.414489200Z",
     "start_time": "2023-11-14T00:50:54.518066400Z"
    }
   },
   "id": "7f01c6043d74ed5b"
  },
  {
   "cell_type": "markdown",
   "source": [
    "Fare"
   ],
   "metadata": {
    "collapsed": false
   },
   "id": "9b1856f733f94d87"
  },
  {
   "cell_type": "code",
   "execution_count": 9,
   "outputs": [
    {
     "data": {
      "text/plain": "<Figure size 500x500 with 1 Axes>",
      "image/png": "[encoded data removed]"
     },
     "metadata": {},
     "output_type": "display_data"
    }
   ],
   "source": [
    "g = sns.displot(train_data[\"Fare\"], color=\"m\", label=\"Skewness: %.2f\"%(train_data[\"Fare\"].skew()))"
   ],
   "metadata": {
    "collapsed": false,
    "ExecuteTime": {
     "end_time": "2023-11-14T00:50:55.974597200Z",
     "start_time": "2023-11-14T00:50:55.418037500Z"
    }
   },
   "id": "3ac4bb98214bf6ee"
  },
  {
   "cell_type": "code",
   "execution_count": 10,
   "outputs": [],
   "source": [
    "# Apply log to Fare to reduce skewness distribution\n",
    "train_data[\"Fare\"] = train_data[\"Fare\"].map(lambda i: np.log(i) if i > 0 else 0)"
   ],
   "metadata": {
    "collapsed": false,
    "ExecuteTime": {
     "end_time": "2023-11-14T00:50:55.989397Z",
     "start_time": "2023-11-14T00:50:55.978599500Z"
    }
   },
   "id": "e81fdd0438be0317"
  },
  {
   "cell_type": "code",
   "execution_count": 11,
   "outputs": [
    {
     "data": {
      "text/plain": "<Figure size 500x500 with 1 Axes>",
      "image/png": "[encoded data removed]"
     },
     "metadata": {},
     "output_type": "display_data"
    }
   ],
   "source": [
    "g = sns.displot(train_data[\"Fare\"], color=\"b\", label=\"Skewness: %.2f\"%(train_data[\"Fare\"].skew()))"
   ],
   "metadata": {
    "collapsed": false,
    "ExecuteTime": {
     "end_time": "2023-11-14T00:50:56.539720900Z",
     "start_time": "2023-11-14T00:50:55.989397Z"
    }
   },
   "id": "2016d45167cfde54"
  },
  {
   "cell_type": "markdown",
   "source": [
    "Categorical variables"
   ],
   "metadata": {
    "collapsed": false
   },
   "id": "7ff405ea1fe92bf4"
  },
  {
   "cell_type": "code",
   "execution_count": 12,
   "outputs": [
    {
     "data": {
      "text/plain": "   PassengerId  Survived  Pclass  \\\n0            1         0       3   \n1            2         1       1   \n2            3         1       3   \n3            4         1       1   \n4            5         0       3   \n\n                                                Name     Sex   Age  SibSp  \\\n0                            Braund, Mr. Owen Harris    male  22.0      1   \n1  Cumings, Mrs. John Bradley (Florence Briggs Th...  female  38.0      1   \n2                             Heikkinen, Miss. Laina  female  26.0      0   \n3       Futrelle, Mrs. Jacques Heath (Lily May Peel)  female  35.0      1   \n4                           Allen, Mr. William Henry    male  35.0      0   \n\n   Parch            Ticket      Fare Cabin Embarked  \n0      0         A/5 21171  1.981001   NaN        S  \n1      0          PC 17599  4.266662   C85        C  \n2      0  STON/O2. 3101282  2.070022   NaN        S  \n3      0            113803  3.972177  C123        S  \n4      0            373450  2.085672   NaN        S  ",
      "text/html": "<div>\n<style scoped>\n    .dataframe tbody tr th:only-of-type {\n        vertical-align: middle;\n    }\n\n    .dataframe tbody tr th {\n        vertical-align: top;\n    }\n\n    .dataframe thead th {\n        text-align: right;\n    }\n</style>\n<table border=\"1\" class=\"dataframe\">\n  <thead>\n    <tr style=\"text-align: right;\">\n      <th></th>\n      <th>PassengerId</th>\n      <th>Survived</th>\n      <th>Pclass</th>\n      <th>Name</th>\n      <th>Sex</th>\n      <th>Age</th>\n      <th>SibSp</th>\n      <th>Parch</th>\n      <th>Ticket</th>\n      <th>Fare</th>\n      <th>Cabin</th>\n      <th>Embarked</th>\n    </tr>\n  </thead>\n  <tbody>\n    <tr>\n      <th>0</th>\n      <td>1</td>\n      <td>0</td>\n      <td>3</td>\n      <td>Braund, Mr. Owen Harris</td>\n      <td>male</td>\n      <td>22.0</td>\n      <td>1</td>\n      <td>0</td>\n      <td>A/5 21171</td>\n      <td>1.981001</td>\n      <td>NaN</td>\n      <td>S</td>\n    </tr>\n    <tr>\n      <th>1</th>\n      <td>2</td>\n      <td>1</td>\n      <td>1</td>\n      <td>Cumings, Mrs. John Bradley (Florence Briggs Th...</td>\n      <td>female</td>\n      <td>38.0</td>\n      <td>1</td>\n      <td>0</td>\n      <td>PC 17599</td>\n      <td>4.266662</td>\n      <td>C85</td>\n      <td>C</td>\n    </tr>\n    <tr>\n      <th>2</th>\n      <td>3</td>\n      <td>1</td>\n      <td>3</td>\n      <td>Heikkinen, Miss. Laina</td>\n      <td>female</td>\n      <td>26.0</td>\n      <td>0</td>\n      <td>0</td>\n      <td>STON/O2. 3101282</td>\n      <td>2.070022</td>\n      <td>NaN</td>\n      <td>S</td>\n    </tr>\n    <tr>\n      <th>3</th>\n      <td>4</td>\n      <td>1</td>\n      <td>1</td>\n      <td>Futrelle, Mrs. Jacques Heath (Lily May Peel)</td>\n      <td>female</td>\n      <td>35.0</td>\n      <td>1</td>\n      <td>0</td>\n      <td>113803</td>\n      <td>3.972177</td>\n      <td>C123</td>\n      <td>S</td>\n    </tr>\n    <tr>\n      <th>4</th>\n      <td>5</td>\n      <td>0</td>\n      <td>3</td>\n      <td>Allen, Mr. William Henry</td>\n      <td>male</td>\n      <td>35.0</td>\n      <td>0</td>\n      <td>0</td>\n      <td>373450</td>\n      <td>2.085672</td>\n      <td>NaN</td>\n      <td>S</td>\n    </tr>\n  </tbody>\n</table>\n</div>"
     },
     "execution_count": 12,
     "metadata": {},
     "output_type": "execute_result"
    }
   ],
   "source": [
    "train_data.head()"
   ],
   "metadata": {
    "collapsed": false,
    "ExecuteTime": {
     "end_time": "2023-11-14T00:50:56.555486100Z",
     "start_time": "2023-11-14T00:50:56.543503800Z"
    }
   },
   "id": "cf453138d16ca868"
  },
  {
   "cell_type": "markdown",
   "source": [
    "Sex"
   ],
   "metadata": {
    "collapsed": false
   },
   "id": "c3ff79bb60e57558"
  },
  {
   "cell_type": "code",
   "execution_count": 13,
   "outputs": [
    {
     "data": {
      "text/plain": "<Figure size 640x480 with 1 Axes>",
      "image/png": "[encoded data removed]"
     },
     "metadata": {},
     "output_type": "display_data"
    }
   ],
   "source": [
    "g = sns.barplot(x=\"Sex\", y=\"Survived\", data=train_data)\n",
    "g = g.set_ylabel(\"Survival probability\")"
   ],
   "metadata": {
    "collapsed": false,
    "ExecuteTime": {
     "end_time": "2023-11-14T00:50:57.022758800Z",
     "start_time": "2023-11-14T00:50:56.552457400Z"
    }
   },
   "id": "fd518a0c85e0f84b"
  },
  {
   "cell_type": "code",
   "execution_count": 14,
   "outputs": [
    {
     "data": {
      "text/plain": "        Survived\nSex             \nfemale  0.742038\nmale    0.188908",
      "text/html": "<div>\n<style scoped>\n    .dataframe tbody tr th:only-of-type {\n        vertical-align: middle;\n    }\n\n    .dataframe tbody tr th {\n        vertical-align: top;\n    }\n\n    .dataframe thead th {\n        text-align: right;\n    }\n</style>\n<table border=\"1\" class=\"dataframe\">\n  <thead>\n    <tr style=\"text-align: right;\">\n      <th></th>\n      <th>Survived</th>\n    </tr>\n    <tr>\n      <th>Sex</th>\n      <th></th>\n    </tr>\n  </thead>\n  <tbody>\n    <tr>\n      <th>female</th>\n      <td>0.742038</td>\n    </tr>\n    <tr>\n      <th>male</th>\n      <td>0.188908</td>\n    </tr>\n  </tbody>\n</table>\n</div>"
     },
     "execution_count": 14,
     "metadata": {},
     "output_type": "execute_result"
    }
   ],
   "source": [
    "train_data[[\"Sex\", \"Survived\"]].groupby('Sex').mean()"
   ],
   "metadata": {
    "collapsed": false,
    "ExecuteTime": {
     "end_time": "2023-11-14T00:50:57.038752300Z",
     "start_time": "2023-11-14T00:50:56.834398900Z"
    }
   },
   "id": "cb2f0017392a38a"
  },
  {
   "cell_type": "markdown",
   "source": [
    "Pclass"
   ],
   "metadata": {
    "collapsed": false
   },
   "id": "232320771c88ebb6"
  },
  {
   "cell_type": "code",
   "execution_count": 15,
   "outputs": [
    {
     "data": {
      "text/plain": "<Figure size 500x500 with 1 Axes>",
      "image/png": "[encoded data removed]"
     },
     "metadata": {},
     "output_type": "display_data"
    }
   ],
   "source": [
    "g = sns.catplot(hue=\"Pclass\", y=\"Survived\", data=train_data, kind=\"bar\", palette=\"muted\", legend=False)\n",
    "g = g.set_ylabels(\"Survival probability\")"
   ],
   "metadata": {
    "collapsed": false,
    "ExecuteTime": {
     "end_time": "2023-11-14T00:50:57.634890400Z",
     "start_time": "2023-11-14T00:50:56.840456200Z"
    }
   },
   "id": "59d107370076ecd5"
  },
  {
   "cell_type": "code",
   "execution_count": 16,
   "outputs": [
    {
     "data": {
      "text/plain": "<Figure size 591.875x500 with 1 Axes>",
      "image/png": "[encoded data removed]"
     },
     "metadata": {},
     "output_type": "display_data"
    }
   ],
   "source": [
    "# Pclass vs Survived by Sex\n",
    "g = sns.catplot(x=\"Pclass\", y=\"Survived\", hue=\"Sex\", data=train_data, kind=\"bar\", palette=\"muted\")\n",
    "g = g.set_ylabels(\"Survival probability\")"
   ],
   "metadata": {
    "collapsed": false,
    "ExecuteTime": {
     "end_time": "2023-11-14T00:50:58.347001800Z",
     "start_time": "2023-11-14T00:50:57.349161900Z"
    }
   },
   "id": "f3744f5bd42ee6c6"
  },
  {
   "cell_type": "markdown",
   "source": [
    "Embarked"
   ],
   "metadata": {
    "collapsed": false
   },
   "id": "1ffdc7789dc5ea67"
  },
  {
   "cell_type": "code",
   "execution_count": 17,
   "outputs": [
    {
     "data": {
      "text/plain": "<Figure size 500x500 with 1 Axes>",
      "image/png": "[encoded data removed]"
     },
     "metadata": {},
     "output_type": "display_data"
    }
   ],
   "source": [
    "# Explore Embarked vs Survived\n",
    "g = sns.catplot(hue=\"Embarked\", y=\"Survived\", data=train_data, kind=\"bar\", palette=\"muted\", legend=False)\n",
    "g = g.set_ylabels(\"Survived probability\")"
   ],
   "metadata": {
    "collapsed": false,
    "ExecuteTime": {
     "end_time": "2023-11-14T00:50:58.802641200Z",
     "start_time": "2023-11-14T00:50:58.257130900Z"
    }
   },
   "id": "a404d3b520412e2d"
  },
  {
   "cell_type": "code",
   "execution_count": 18,
   "outputs": [
    {
     "data": {
      "text/plain": "<Figure size 500x500 with 1 Axes>",
      "image/png": "[encoded data removed]"
     },
     "metadata": {},
     "output_type": "display_data"
    }
   ],
   "source": [
    "# Explore Embarked vs Pclass\n",
    "g = sns.catplot(x=\"Pclass\", hue=\"Embarked\", data=train_data, kind=\"count\", legend=False)\n",
    "g = g.set_ylabels(\"Count\")"
   ],
   "metadata": {
    "collapsed": false,
    "ExecuteTime": {
     "end_time": "2023-11-14T00:50:59.322700300Z",
     "start_time": "2023-11-14T00:50:58.805216600Z"
    }
   },
   "id": "2fe2b21443065763"
  },
  {
   "cell_type": "markdown",
   "source": [
    "Preprocessing"
   ],
   "metadata": {
    "collapsed": false
   },
   "id": "81c9b16ddf571c82"
  },
  {
   "cell_type": "code",
   "execution_count": 19,
   "outputs": [
    {
     "data": {
      "text/plain": "   PassengerId  Survived  Pclass  \\\n0            1         0       3   \n1            2         1       1   \n2            3         1       3   \n3            4         1       1   \n4            5         0       3   \n\n                                                Name     Sex   Age  SibSp  \\\n0                            Braund, Mr. Owen Harris    male  22.0      1   \n1  Cumings, Mrs. John Bradley (Florence Briggs Th...  female  38.0      1   \n2                             Heikkinen, Miss. Laina  female  26.0      0   \n3       Futrelle, Mrs. Jacques Heath (Lily May Peel)  female  35.0      1   \n4                           Allen, Mr. William Henry    male  35.0      0   \n\n   Parch            Ticket      Fare Cabin Embarked  \n0      0         A/5 21171  1.981001   NaN        S  \n1      0          PC 17599  4.266662   C85        C  \n2      0  STON/O2. 3101282  2.070022   NaN        S  \n3      0            113803  3.972177  C123        S  \n4      0            373450  2.085672   NaN        S  ",
      "text/html": "<div>\n<style scoped>\n    .dataframe tbody tr th:only-of-type {\n        vertical-align: middle;\n    }\n\n    .dataframe tbody tr th {\n        vertical-align: top;\n    }\n\n    .dataframe thead th {\n        text-align: right;\n    }\n</style>\n<table border=\"1\" class=\"dataframe\">\n  <thead>\n    <tr style=\"text-align: right;\">\n      <th></th>\n      <th>PassengerId</th>\n      <th>Survived</th>\n      <th>Pclass</th>\n      <th>Name</th>\n      <th>Sex</th>\n      <th>Age</th>\n      <th>SibSp</th>\n      <th>Parch</th>\n      <th>Ticket</th>\n      <th>Fare</th>\n      <th>Cabin</th>\n      <th>Embarked</th>\n    </tr>\n  </thead>\n  <tbody>\n    <tr>\n      <th>0</th>\n      <td>1</td>\n      <td>0</td>\n      <td>3</td>\n      <td>Braund, Mr. Owen Harris</td>\n      <td>male</td>\n      <td>22.0</td>\n      <td>1</td>\n      <td>0</td>\n      <td>A/5 21171</td>\n      <td>1.981001</td>\n      <td>NaN</td>\n      <td>S</td>\n    </tr>\n    <tr>\n      <th>1</th>\n      <td>2</td>\n      <td>1</td>\n      <td>1</td>\n      <td>Cumings, Mrs. John Bradley (Florence Briggs Th...</td>\n      <td>female</td>\n      <td>38.0</td>\n      <td>1</td>\n      <td>0</td>\n      <td>PC 17599</td>\n      <td>4.266662</td>\n      <td>C85</td>\n      <td>C</td>\n    </tr>\n    <tr>\n      <th>2</th>\n      <td>3</td>\n      <td>1</td>\n      <td>3</td>\n      <td>Heikkinen, Miss. Laina</td>\n      <td>female</td>\n      <td>26.0</td>\n      <td>0</td>\n      <td>0</td>\n      <td>STON/O2. 3101282</td>\n      <td>2.070022</td>\n      <td>NaN</td>\n      <td>S</td>\n    </tr>\n    <tr>\n      <th>3</th>\n      <td>4</td>\n      <td>1</td>\n      <td>1</td>\n      <td>Futrelle, Mrs. Jacques Heath (Lily May Peel)</td>\n      <td>female</td>\n      <td>35.0</td>\n      <td>1</td>\n      <td>0</td>\n      <td>113803</td>\n      <td>3.972177</td>\n      <td>C123</td>\n      <td>S</td>\n    </tr>\n    <tr>\n      <th>4</th>\n      <td>5</td>\n      <td>0</td>\n      <td>3</td>\n      <td>Allen, Mr. William Henry</td>\n      <td>male</td>\n      <td>35.0</td>\n      <td>0</td>\n      <td>0</td>\n      <td>373450</td>\n      <td>2.085672</td>\n      <td>NaN</td>\n      <td>S</td>\n    </tr>\n  </tbody>\n</table>\n</div>"
     },
     "execution_count": 19,
     "metadata": {},
     "output_type": "execute_result"
    }
   ],
   "source": [
    "train_data.head()"
   ],
   "metadata": {
    "collapsed": false,
    "ExecuteTime": {
     "end_time": "2023-11-14T00:50:59.328274600Z",
     "start_time": "2023-11-14T00:50:59.290246300Z"
    }
   },
   "id": "7aa1e93add3e94e1"
  },
  {
   "cell_type": "code",
   "execution_count": 20,
   "outputs": [],
   "source": [
    "# Drop Cabin column (687/891) missing values\n",
    "train_data = train_data.drop(['Cabin', 'Age', 'Name', 'Ticket'], axis=1)\n",
    "test_data = test_data.drop(['Cabin', 'Age', 'Name', 'Ticket'], axis=1)\n",
    "\n",
    "# Fill embarked nan values of dataset set with 'S', most frequent value\n",
    "train_data['Embarked'] = train_data['Embarked'].fillna('S')\n",
    "\n",
    "# Fill fare nan values of dataset set with 2, most frequent value\n",
    "test_data['Fare'] = test_data['Fare'].fillna(2)"
   ],
   "metadata": {
    "collapsed": false,
    "ExecuteTime": {
     "end_time": "2023-11-14T00:50:59.330377900Z",
     "start_time": "2023-11-14T00:50:59.312714600Z"
    }
   },
   "id": "9f4f85ef546b6cc1"
  },
  {
   "cell_type": "code",
   "execution_count": 21,
   "outputs": [],
   "source": [
    "from sklearn.preprocessing import OneHotEncoder\n",
    "\n",
    "# Convert categorical data (Sex and Embarked) one-hot-encoding\n",
    "object_cols = ['Sex', 'Embarked']\n",
    "new_cols_name = ['Sex_female', 'Sex_male', 'Embarked_C', 'Embarked_Q', 'Embarked_S']\n",
    "\n",
    "OH_encoder = OneHotEncoder(handle_unknown='ignore', sparse_output=False)\n",
    "OH_cols_train = pd.DataFrame(OH_encoder.fit_transform(train_data[object_cols]))\n",
    "OH_cols_valid = pd.DataFrame(OH_encoder.transform(test_data[object_cols]))\n",
    "\n",
    "OH_cols_train.columns = new_cols_name\n",
    "OH_cols_valid.columns = new_cols_name\n",
    "\n",
    "num_X_train = train_data.drop(object_cols, axis=1)\n",
    "num_X_valid = test_data.drop(object_cols, axis=1)\n",
    "\n",
    "train_data = pd.concat([num_X_train, OH_cols_train], axis=1)\n",
    "test_data = pd.concat([num_X_valid, OH_cols_valid], axis=1)"
   ],
   "metadata": {
    "collapsed": false,
    "ExecuteTime": {
     "end_time": "2023-11-14T00:50:59.575211100Z",
     "start_time": "2023-11-14T00:50:59.330377900Z"
    }
   },
   "id": "e10579a9e6b0b91d"
  },
  {
   "cell_type": "code",
   "execution_count": 22,
   "outputs": [
    {
     "data": {
      "text/plain": "   PassengerId  Survived  Pclass  SibSp  Parch      Fare  Sex_female  \\\n0            1         0       3      1      0  1.981001         0.0   \n1            2         1       1      1      0  4.266662         1.0   \n2            3         1       3      0      0  2.070022         1.0   \n3            4         1       1      1      0  3.972177         1.0   \n4            5         0       3      0      0  2.085672         0.0   \n\n   Sex_male  Embarked_C  Embarked_Q  Embarked_S  \n0       1.0         0.0         0.0         1.0  \n1       0.0         1.0         0.0         0.0  \n2       0.0         0.0         0.0         1.0  \n3       0.0         0.0         0.0         1.0  \n4       1.0         0.0         0.0         1.0  ",
      "text/html": "<div>\n<style scoped>\n    .dataframe tbody tr th:only-of-type {\n        vertical-align: middle;\n    }\n\n    .dataframe tbody tr th {\n        vertical-align: top;\n    }\n\n    .dataframe thead th {\n        text-align: right;\n    }\n</style>\n<table border=\"1\" class=\"dataframe\">\n  <thead>\n    <tr style=\"text-align: right;\">\n      <th></th>\n      <th>PassengerId</th>\n      <th>Survived</th>\n      <th>Pclass</th>\n      <th>SibSp</th>\n      <th>Parch</th>\n      <th>Fare</th>\n      <th>Sex_female</th>\n      <th>Sex_male</th>\n      <th>Embarked_C</th>\n      <th>Embarked_Q</th>\n      <th>Embarked_S</th>\n    </tr>\n  </thead>\n  <tbody>\n    <tr>\n      <th>0</th>\n      <td>1</td>\n      <td>0</td>\n      <td>3</td>\n      <td>1</td>\n      <td>0</td>\n      <td>1.981001</td>\n      <td>0.0</td>\n      <td>1.0</td>\n      <td>0.0</td>\n      <td>0.0</td>\n      <td>1.0</td>\n    </tr>\n    <tr>\n      <th>1</th>\n      <td>2</td>\n      <td>1</td>\n      <td>1</td>\n      <td>1</td>\n      <td>0</td>\n      <td>4.266662</td>\n      <td>1.0</td>\n      <td>0.0</td>\n      <td>1.0</td>\n      <td>0.0</td>\n      <td>0.0</td>\n    </tr>\n    <tr>\n      <th>2</th>\n      <td>3</td>\n      <td>1</td>\n      <td>3</td>\n      <td>0</td>\n      <td>0</td>\n      <td>2.070022</td>\n      <td>1.0</td>\n      <td>0.0</td>\n      <td>0.0</td>\n      <td>0.0</td>\n      <td>1.0</td>\n    </tr>\n    <tr>\n      <th>3</th>\n      <td>4</td>\n      <td>1</td>\n      <td>1</td>\n      <td>1</td>\n      <td>0</td>\n      <td>3.972177</td>\n      <td>1.0</td>\n      <td>0.0</td>\n      <td>0.0</td>\n      <td>0.0</td>\n      <td>1.0</td>\n    </tr>\n    <tr>\n      <th>4</th>\n      <td>5</td>\n      <td>0</td>\n      <td>3</td>\n      <td>0</td>\n      <td>0</td>\n      <td>2.085672</td>\n      <td>0.0</td>\n      <td>1.0</td>\n      <td>0.0</td>\n      <td>0.0</td>\n      <td>1.0</td>\n    </tr>\n  </tbody>\n</table>\n</div>"
     },
     "execution_count": 22,
     "metadata": {},
     "output_type": "execute_result"
    }
   ],
   "source": [
    "train_data.head()"
   ],
   "metadata": {
    "collapsed": false,
    "ExecuteTime": {
     "end_time": "2023-11-14T00:50:59.727011700Z",
     "start_time": "2023-11-14T00:50:59.467544300Z"
    }
   },
   "id": "d1e73e5ce7a57da2"
  },
  {
   "cell_type": "code",
   "execution_count": 23,
   "outputs": [],
   "source": [
    "target = train_data['Survived']\n",
    "train_data = train_data.drop('Survived', axis=1)"
   ],
   "metadata": {
    "collapsed": false,
    "ExecuteTime": {
     "end_time": "2023-11-14T00:50:59.728026900Z",
     "start_time": "2023-11-14T00:50:59.488940600Z"
    }
   },
   "id": "c4d7dc6f803b3c0f"
  },
  {
   "cell_type": "code",
   "execution_count": 24,
   "outputs": [
    {
     "data": {
      "text/plain": "   PassengerId  Pclass  SibSp  Parch     Fare  Sex_female  Sex_male  \\\n0          892       3      0      0   7.8292         0.0       1.0   \n1          893       3      1      0   7.0000         1.0       0.0   \n2          894       2      0      0   9.6875         0.0       1.0   \n3          895       3      0      0   8.6625         0.0       1.0   \n4          896       3      1      1  12.2875         1.0       0.0   \n\n   Embarked_C  Embarked_Q  Embarked_S  \n0         0.0         1.0         0.0  \n1         0.0         0.0         1.0  \n2         0.0         1.0         0.0  \n3         0.0         0.0         1.0  \n4         0.0         0.0         1.0  ",
      "text/html": "<div>\n<style scoped>\n    .dataframe tbody tr th:only-of-type {\n        vertical-align: middle;\n    }\n\n    .dataframe tbody tr th {\n        vertical-align: top;\n    }\n\n    .dataframe thead th {\n        text-align: right;\n    }\n</style>\n<table border=\"1\" class=\"dataframe\">\n  <thead>\n    <tr style=\"text-align: right;\">\n      <th></th>\n      <th>PassengerId</th>\n      <th>Pclass</th>\n      <th>SibSp</th>\n      <th>Parch</th>\n      <th>Fare</th>\n      <th>Sex_female</th>\n      <th>Sex_male</th>\n      <th>Embarked_C</th>\n      <th>Embarked_Q</th>\n      <th>Embarked_S</th>\n    </tr>\n  </thead>\n  <tbody>\n    <tr>\n      <th>0</th>\n      <td>892</td>\n      <td>3</td>\n      <td>0</td>\n      <td>0</td>\n      <td>7.8292</td>\n      <td>0.0</td>\n      <td>1.0</td>\n      <td>0.0</td>\n      <td>1.0</td>\n      <td>0.0</td>\n    </tr>\n    <tr>\n      <th>1</th>\n      <td>893</td>\n      <td>3</td>\n      <td>1</td>\n      <td>0</td>\n      <td>7.0000</td>\n      <td>1.0</td>\n      <td>0.0</td>\n      <td>0.0</td>\n      <td>0.0</td>\n      <td>1.0</td>\n    </tr>\n    <tr>\n      <th>2</th>\n      <td>894</td>\n      <td>2</td>\n      <td>0</td>\n      <td>0</td>\n      <td>9.6875</td>\n      <td>0.0</td>\n      <td>1.0</td>\n      <td>0.0</td>\n      <td>1.0</td>\n      <td>0.0</td>\n    </tr>\n    <tr>\n      <th>3</th>\n      <td>895</td>\n      <td>3</td>\n      <td>0</td>\n      <td>0</td>\n      <td>8.6625</td>\n      <td>0.0</td>\n      <td>1.0</td>\n      <td>0.0</td>\n      <td>0.0</td>\n      <td>1.0</td>\n    </tr>\n    <tr>\n      <th>4</th>\n      <td>896</td>\n      <td>3</td>\n      <td>1</td>\n      <td>1</td>\n      <td>12.2875</td>\n      <td>1.0</td>\n      <td>0.0</td>\n      <td>0.0</td>\n      <td>0.0</td>\n      <td>1.0</td>\n    </tr>\n  </tbody>\n</table>\n</div>"
     },
     "execution_count": 24,
     "metadata": {},
     "output_type": "execute_result"
    }
   ],
   "source": [
    "test_data.head()"
   ],
   "metadata": {
    "collapsed": false,
    "ExecuteTime": {
     "end_time": "2023-11-14T00:50:59.768165400Z",
     "start_time": "2023-11-14T00:50:59.501722800Z"
    }
   },
   "id": "9de60a99536c8268"
  },
  {
   "cell_type": "code",
   "execution_count": 25,
   "outputs": [
    {
     "data": {
      "text/plain": "PassengerId    0\nPclass         0\nSibSp          0\nParch          0\nFare           0\nSex_female     0\nSex_male       0\nEmbarked_C     0\nEmbarked_Q     0\nEmbarked_S     0\ndtype: int64"
     },
     "execution_count": 25,
     "metadata": {},
     "output_type": "execute_result"
    }
   ],
   "source": [
    "train_data.isnull().sum()"
   ],
   "metadata": {
    "collapsed": false,
    "ExecuteTime": {
     "end_time": "2023-11-14T00:50:59.784048Z",
     "start_time": "2023-11-14T00:50:59.523330Z"
    }
   },
   "id": "158a66a767722f44"
  },
  {
   "cell_type": "code",
   "execution_count": 26,
   "outputs": [
    {
     "data": {
      "text/plain": "PassengerId    0\nPclass         0\nSibSp          0\nParch          0\nFare           0\nSex_female     0\nSex_male       0\nEmbarked_C     0\nEmbarked_Q     0\nEmbarked_S     0\ndtype: int64"
     },
     "execution_count": 26,
     "metadata": {},
     "output_type": "execute_result"
    }
   ],
   "source": [
    "test_data.isnull().sum()"
   ],
   "metadata": {
    "collapsed": false,
    "ExecuteTime": {
     "end_time": "2023-11-14T00:50:59.786597900Z",
     "start_time": "2023-11-14T00:50:59.542728300Z"
    }
   },
   "id": "3f040d4a538b9195"
  },
  {
   "cell_type": "markdown",
   "source": [
    "Search the best hyperparameters for Random Forest"
   ],
   "metadata": {
    "collapsed": false
   },
   "id": "7080e873dddefa33"
  },
  {
   "cell_type": "code",
   "execution_count": 27,
   "outputs": [],
   "source": [
    "from sklearn.ensemble import RandomForestClassifier\n",
    "from sklearn.model_selection import GridSearchCV"
   ],
   "metadata": {
    "collapsed": false,
    "ExecuteTime": {
     "end_time": "2023-11-14T00:51:00.149103Z",
     "start_time": "2023-11-14T00:50:59.558477100Z"
    }
   },
   "id": "f3a19a9e6d2cc58e"
  },
  {
   "cell_type": "code",
   "execution_count": 28,
   "outputs": [
    {
     "name": "stdout",
     "output_type": "stream",
     "text": [
      "Best score: 0.7901234567901234\n",
      "Best params: {'criterion': 'entropy', 'min_samples_leaf': 5, 'min_samples_split': 16, 'n_estimators': 700}\n",
      "CV result: {'mean_fit_time': array([ 0.53675413,  0.76755921,  5.23269002,  8.16185474, 10.91031941,\n",
      "        0.79316608,  1.48354141,  4.43881567,  6.92316175,  9.97961617,\n",
      "        0.52504675,  0.75754062,  4.11649601,  8.50756097,  9.08691343,\n",
      "        0.64873997,  1.34797057,  3.48936041,  7.322872  ,  8.9446195 ,\n",
      "        0.53766759,  0.94039162,  4.29306952,  7.25275819,  8.78159833,\n",
      "        0.42684245,  0.60539198,  3.9596467 ,  7.59996168,  9.5332667 ,\n",
      "        0.56127604,  1.02148906,  3.70926515,  7.37447604,  8.28446388,\n",
      "        0.45336159,  0.8520298 ,  3.52304244,  6.7699906 ,  7.73170479,\n",
      "        0.44516587,  0.7843926 ,  3.6813395 ,  6.97233812,  7.92401695,\n",
      "        0.3405927 ,  0.71355923,  3.08771563,  6.95962477,  7.52414672,\n",
      "        0.31987341,  0.77170388,  3.1982975 ,  6.24384387,  6.8177077 ,\n",
      "        0.29322553,  0.58576973,  3.16146191,  6.1740423 ,  6.55982828,\n",
      "        0.25753101,  0.74854541,  3.07786592,  6.08037949,  6.6870501 ,\n",
      "        0.32516265,  0.59763741,  2.99307656,  5.88414518,  7.18951853,\n",
      "        0.39026093,  0.56711594,  3.23264273,  6.32122604,  7.56469083,\n",
      "        0.34248813,  0.77529383,  3.57175382,  6.88362177,  8.50627502,\n",
      "        0.5066487 ,  0.77020089,  3.92365996,  7.32380589,  8.71569769,\n",
      "        0.411424  ,  0.63090698,  3.78006411,  7.82155895,  8.47215494,\n",
      "        0.49679844,  0.72177505,  3.73995296,  7.09956137,  7.48944497,\n",
      "        0.30521051,  0.78490289,  3.49983446,  7.21701471,  8.24744081,\n",
      "        0.32391191,  0.78746804,  3.41630522,  7.4336617 ,  7.96493912,\n",
      "        0.33217033,  0.8361973 ,  3.12553716,  6.53753432,  7.38463489,\n",
      "        0.3141257 ,  0.64550805,  3.52661141,  6.18891382,  8.14785202,\n",
      "        0.46098057,  0.80473391,  3.17140325,  7.37004495,  8.35752336,\n",
      "        0.43468165,  0.89475584,  3.2899255 ,  7.52411469,  8.52564224,\n",
      "        0.60547368,  1.11304736,  4.36426234,  6.57488513,  7.51065779,\n",
      "        0.42209029,  0.59265836,  3.23225959,  7.08294471,  8.09299898,\n",
      "        0.32151643,  0.76473769,  3.0261565 ,  7.00029119,  8.05290286,\n",
      "        0.48940865,  0.88340871,  3.18542282,  6.99521883,  7.07419968,\n",
      "        0.37568649,  0.7399114 ,  3.34286014,  4.71666328,  4.85172025]), 'std_fit_time': array([0.05810364, 0.03964811, 0.35966389, 0.16046406, 0.06135015,\n",
      "       0.27964593, 0.19685515, 0.22458762, 0.14239986, 0.60067949,\n",
      "       0.13492967, 0.10661804, 0.38107533, 0.21639255, 0.28183814,\n",
      "       0.03211674, 0.2677125 , 0.05914368, 0.37767838, 0.25942881,\n",
      "       0.30948029, 0.14362515, 0.62557377, 0.50085508, 0.0889048 ,\n",
      "       0.01702591, 0.0901981 , 0.69363646, 0.28863762, 0.09319496,\n",
      "       0.06201164, 0.14434841, 0.25709398, 0.15794276, 0.14769704,\n",
      "       0.05359156, 0.09411511, 0.46496611, 0.23263947, 0.05306999,\n",
      "       0.05629319, 0.05468924, 0.312612  , 0.29716709, 0.47728   ,\n",
      "       0.06148813, 0.06477406, 0.10012364, 0.03764053, 0.57806467,\n",
      "       0.06426479, 0.00801012, 0.18492666, 0.66983246, 0.57592954,\n",
      "       0.03192189, 0.02866315, 0.08113172, 0.66131086, 0.12209267,\n",
      "       0.01255058, 0.09806578, 0.25459127, 0.39632319, 0.09563368,\n",
      "       0.05812368, 0.02829659, 0.31598587, 0.16455978, 0.15757503,\n",
      "       0.06305656, 0.02116435, 0.37179875, 0.1832788 , 0.01668357,\n",
      "       0.04113461, 0.08228956, 0.57362214, 0.67268404, 0.01614745,\n",
      "       0.05127116, 0.10082089, 0.21575308, 0.25651032, 0.2614158 ,\n",
      "       0.04114679, 0.07224957, 0.31737826, 0.01027676, 0.03756294,\n",
      "       0.09768737, 0.06935856, 0.32635068, 0.08248259, 0.0508622 ,\n",
      "       0.0494822 , 0.02604729, 0.19618005, 0.17229224, 0.76654712,\n",
      "       0.07373308, 0.08520288, 0.28520744, 0.14853892, 0.39637367,\n",
      "       0.01101068, 0.09004805, 0.00916845, 0.86459917, 0.17802911,\n",
      "       0.01744748, 0.05171737, 0.04044588, 0.68144075, 0.6823621 ,\n",
      "       0.08409011, 0.15081159, 0.00935256, 0.3930528 , 0.43077739,\n",
      "       0.03724989, 0.10469652, 0.15574289, 0.50701072, 0.03571992,\n",
      "       0.11608497, 0.24871162, 0.39335838, 0.07965478, 0.14356803,\n",
      "       0.1443709 , 0.03400943, 0.26098412, 0.10595558, 0.16878344,\n",
      "       0.02367721, 0.08808589, 0.02011836, 0.22659704, 0.3595139 ,\n",
      "       0.08960388, 0.02270955, 0.17700367, 0.43057634, 0.19201446,\n",
      "       0.02665047, 0.10136287, 0.08578066, 0.50928506, 0.06162684]), 'mean_score_time': array([0.20289326, 0.18632857, 0.75388432, 0.61441612, 0.53983951,\n",
      "       1.31695167, 0.54104789, 0.3469619 , 0.68352016, 0.79734985,\n",
      "       0.12594835, 0.1071914 , 0.32645742, 0.56868537, 0.86322888,\n",
      "       0.32214952, 0.49338293, 0.32456875, 0.42720397, 0.54582127,\n",
      "       0.19652994, 0.17578411, 0.34259693, 0.6595389 , 0.62285725,\n",
      "       0.13656751, 0.13282696, 0.40310836, 0.58259924, 0.66937701,\n",
      "       0.25805084, 0.13348166, 0.30980531, 0.36672266, 0.55526177,\n",
      "       0.17953928, 0.11871362, 0.29378343, 0.53847639, 0.50619992,\n",
      "       0.17074656, 0.1309212 , 0.29685767, 0.60293953, 0.57967289,\n",
      "       0.19337877, 0.12215829, 0.28449313, 0.38323553, 0.50936993,\n",
      "       0.08749088, 0.11357856, 0.21778321, 0.32204517, 0.55135059,\n",
      "       0.07778891, 0.1332914 , 0.2193106 , 0.33790414, 0.5122033 ,\n",
      "       0.08673557, 0.12427258, 0.19585975, 0.40579454, 0.5515631 ,\n",
      "       0.11155407, 0.11911607, 0.26585444, 0.40255857, 0.46702202,\n",
      "       0.15220388, 0.09977492, 0.26159676, 0.36734756, 0.44880708,\n",
      "       0.12918337, 0.16289608, 0.35431743, 0.6780177 , 0.47595827,\n",
      "       0.21658413, 0.19023085, 0.45450989, 0.59549395, 0.60195255,\n",
      "       0.13326248, 0.0950609 , 0.28784784, 0.38191978, 0.52229166,\n",
      "       0.19547049, 0.17073131, 0.27374117, 0.49210866, 0.44952218,\n",
      "       0.13987843, 0.11634851, 0.23178395, 0.48976437, 0.59201543,\n",
      "       0.11658812, 0.18985685, 0.26194978, 0.36050971, 0.89394236,\n",
      "       0.09582353, 0.13371499, 0.19470231, 0.33584086, 0.55358974,\n",
      "       0.0842673 , 0.16181   , 0.19683806, 0.37161589, 0.82468422,\n",
      "       0.19918521, 0.22189593, 0.20568577, 0.54207222, 0.95486045,\n",
      "       0.13749862, 0.25584173, 0.2622451 , 0.49896622, 0.45643202,\n",
      "       0.42572943, 0.2563018 , 0.41205057, 0.49216191, 0.52202837,\n",
      "       0.1203742 , 0.09344721, 0.25941634, 0.40592456, 0.5042994 ,\n",
      "       0.1401302 , 0.13644083, 0.21120246, 0.44074837, 0.71175845,\n",
      "       0.18329239, 0.16565696, 0.29559652, 0.39465316, 0.49583125,\n",
      "       0.182561  , 0.16351692, 0.23139731, 0.32711752, 0.28892549]), 'std_score_time': array([0.09221441, 0.08004417, 0.2550835 , 0.18819087, 0.00806867,\n",
      "       0.29187269, 0.14055014, 0.03358944, 0.07429229, 0.14429886,\n",
      "       0.01784922, 0.02842078, 0.04023407, 0.10479225, 0.21901506,\n",
      "       0.10522057, 0.04936697, 0.0701704 , 0.03831918, 0.06094795,\n",
      "       0.03783418, 0.03805933, 0.04447196, 0.04787165, 0.0234153 ,\n",
      "       0.0319818 , 0.03094932, 0.06634658, 0.10067242, 0.11409682,\n",
      "       0.04352584, 0.03608357, 0.0125451 , 0.01747485, 0.04566771,\n",
      "       0.06461857, 0.02286836, 0.05904959, 0.13290002, 0.02930114,\n",
      "       0.03631866, 0.0257479 , 0.03780622, 0.19461821, 0.1112884 ,\n",
      "       0.12811206, 0.04349161, 0.02563048, 0.05388387, 0.00403024,\n",
      "       0.01391326, 0.01037559, 0.02171375, 0.0096955 , 0.06943724,\n",
      "       0.01017585, 0.03540553, 0.006111  , 0.04614243, 0.02703834,\n",
      "       0.01223684, 0.00728537, 0.01013605, 0.02770831, 0.07891835,\n",
      "       0.01540814, 0.01338858, 0.02997992, 0.00691919, 0.0125273 ,\n",
      "       0.03216322, 0.00889996, 0.0239306 , 0.0545952 , 0.00919981,\n",
      "       0.03002615, 0.02109121, 0.06955953, 0.19670775, 0.02200775,\n",
      "       0.02835605, 0.06137871, 0.05785378, 0.1543216 , 0.05312474,\n",
      "       0.04787526, 0.01196563, 0.05376054, 0.04195737, 0.09354086,\n",
      "       0.06409227, 0.05375929, 0.03133824, 0.22965626, 0.01673641,\n",
      "       0.04056936, 0.03887063, 0.03845943, 0.1079693 , 0.08366659,\n",
      "       0.04235517, 0.06690589, 0.0353319 , 0.03267612, 0.25898079,\n",
      "       0.03857495, 0.06458636, 0.01676055, 0.02387032, 0.03298292,\n",
      "       0.0066612 , 0.01397635, 0.00152224, 0.00580856, 0.25754435,\n",
      "       0.01608939, 0.15832126, 0.00216938, 0.0888424 , 0.22429015,\n",
      "       0.0082175 , 0.08769334, 0.02503835, 0.02775088, 0.00609783,\n",
      "       0.14468558, 0.06802953, 0.14396365, 0.02373624, 0.05078992,\n",
      "       0.02263564, 0.03625045, 0.02310004, 0.02899524, 0.08652962,\n",
      "       0.00271372, 0.06082966, 0.01555794, 0.0425713 , 0.07028426,\n",
      "       0.04256447, 0.02248989, 0.03404525, 0.03858463, 0.01478817,\n",
      "       0.01848891, 0.07076012, 0.01013146, 0.00653646, 0.0375265 ]), 'param_criterion': masked_array(data=['gini', 'gini', 'gini', 'gini', 'gini', 'gini', 'gini',\n",
      "                   'gini', 'gini', 'gini', 'gini', 'gini', 'gini', 'gini',\n",
      "                   'gini', 'gini', 'gini', 'gini', 'gini', 'gini', 'gini',\n",
      "                   'gini', 'gini', 'gini', 'gini', 'gini', 'gini', 'gini',\n",
      "                   'gini', 'gini', 'gini', 'gini', 'gini', 'gini', 'gini',\n",
      "                   'gini', 'gini', 'gini', 'gini', 'gini', 'gini', 'gini',\n",
      "                   'gini', 'gini', 'gini', 'gini', 'gini', 'gini', 'gini',\n",
      "                   'gini', 'gini', 'gini', 'gini', 'gini', 'gini', 'gini',\n",
      "                   'gini', 'gini', 'gini', 'gini', 'gini', 'gini', 'gini',\n",
      "                   'gini', 'gini', 'gini', 'gini', 'gini', 'gini', 'gini',\n",
      "                   'gini', 'gini', 'gini', 'gini', 'gini', 'entropy',\n",
      "                   'entropy', 'entropy', 'entropy', 'entropy', 'entropy',\n",
      "                   'entropy', 'entropy', 'entropy', 'entropy', 'entropy',\n",
      "                   'entropy', 'entropy', 'entropy', 'entropy', 'entropy',\n",
      "                   'entropy', 'entropy', 'entropy', 'entropy', 'entropy',\n",
      "                   'entropy', 'entropy', 'entropy', 'entropy', 'entropy',\n",
      "                   'entropy', 'entropy', 'entropy', 'entropy', 'entropy',\n",
      "                   'entropy', 'entropy', 'entropy', 'entropy', 'entropy',\n",
      "                   'entropy', 'entropy', 'entropy', 'entropy', 'entropy',\n",
      "                   'entropy', 'entropy', 'entropy', 'entropy', 'entropy',\n",
      "                   'entropy', 'entropy', 'entropy', 'entropy', 'entropy',\n",
      "                   'entropy', 'entropy', 'entropy', 'entropy', 'entropy',\n",
      "                   'entropy', 'entropy', 'entropy', 'entropy', 'entropy',\n",
      "                   'entropy', 'entropy', 'entropy', 'entropy', 'entropy',\n",
      "                   'entropy', 'entropy', 'entropy', 'entropy', 'entropy',\n",
      "                   'entropy', 'entropy', 'entropy', 'entropy'],\n",
      "             mask=[False, False, False, False, False, False, False, False,\n",
      "                   False, False, False, False, False, False, False, False,\n",
      "                   False, False, False, False, False, False, False, False,\n",
      "                   False, False, False, False, False, False, False, False,\n",
      "                   False, False, False, False, False, False, False, False,\n",
      "                   False, False, False, False, False, False, False, False,\n",
      "                   False, False, False, False, False, False, False, False,\n",
      "                   False, False, False, False, False, False, False, False,\n",
      "                   False, False, False, False, False, False, False, False,\n",
      "                   False, False, False, False, False, False, False, False,\n",
      "                   False, False, False, False, False, False, False, False,\n",
      "                   False, False, False, False, False, False, False, False,\n",
      "                   False, False, False, False, False, False, False, False,\n",
      "                   False, False, False, False, False, False, False, False,\n",
      "                   False, False, False, False, False, False, False, False,\n",
      "                   False, False, False, False, False, False, False, False,\n",
      "                   False, False, False, False, False, False, False, False,\n",
      "                   False, False, False, False, False, False, False, False,\n",
      "                   False, False, False, False, False, False],\n",
      "       fill_value='?',\n",
      "            dtype=object), 'param_min_samples_leaf': masked_array(data=[1, 1, 1, 1, 1, 1, 1, 1, 1, 1, 1, 1, 1, 1, 1, 1, 1, 1,\n",
      "                   1, 1, 1, 1, 1, 1, 1, 5, 5, 5, 5, 5, 5, 5, 5, 5, 5, 5,\n",
      "                   5, 5, 5, 5, 5, 5, 5, 5, 5, 5, 5, 5, 5, 5, 10, 10, 10,\n",
      "                   10, 10, 10, 10, 10, 10, 10, 10, 10, 10, 10, 10, 10, 10,\n",
      "                   10, 10, 10, 10, 10, 10, 10, 10, 1, 1, 1, 1, 1, 1, 1, 1,\n",
      "                   1, 1, 1, 1, 1, 1, 1, 1, 1, 1, 1, 1, 1, 1, 1, 1, 1, 5,\n",
      "                   5, 5, 5, 5, 5, 5, 5, 5, 5, 5, 5, 5, 5, 5, 5, 5, 5, 5,\n",
      "                   5, 5, 5, 5, 5, 5, 10, 10, 10, 10, 10, 10, 10, 10, 10,\n",
      "                   10, 10, 10, 10, 10, 10, 10, 10, 10, 10, 10, 10, 10, 10,\n",
      "                   10, 10],\n",
      "             mask=[False, False, False, False, False, False, False, False,\n",
      "                   False, False, False, False, False, False, False, False,\n",
      "                   False, False, False, False, False, False, False, False,\n",
      "                   False, False, False, False, False, False, False, False,\n",
      "                   False, False, False, False, False, False, False, False,\n",
      "                   False, False, False, False, False, False, False, False,\n",
      "                   False, False, False, False, False, False, False, False,\n",
      "                   False, False, False, False, False, False, False, False,\n",
      "                   False, False, False, False, False, False, False, False,\n",
      "                   False, False, False, False, False, False, False, False,\n",
      "                   False, False, False, False, False, False, False, False,\n",
      "                   False, False, False, False, False, False, False, False,\n",
      "                   False, False, False, False, False, False, False, False,\n",
      "                   False, False, False, False, False, False, False, False,\n",
      "                   False, False, False, False, False, False, False, False,\n",
      "                   False, False, False, False, False, False, False, False,\n",
      "                   False, False, False, False, False, False, False, False,\n",
      "                   False, False, False, False, False, False, False, False,\n",
      "                   False, False, False, False, False, False],\n",
      "       fill_value='?',\n",
      "            dtype=object), 'param_min_samples_split': masked_array(data=[2, 2, 2, 2, 2, 4, 4, 4, 4, 4, 10, 10, 10, 10, 10, 12,\n",
      "                   12, 12, 12, 12, 16, 16, 16, 16, 16, 2, 2, 2, 2, 2, 4,\n",
      "                   4, 4, 4, 4, 10, 10, 10, 10, 10, 12, 12, 12, 12, 12, 16,\n",
      "                   16, 16, 16, 16, 2, 2, 2, 2, 2, 4, 4, 4, 4, 4, 10, 10,\n",
      "                   10, 10, 10, 12, 12, 12, 12, 12, 16, 16, 16, 16, 16, 2,\n",
      "                   2, 2, 2, 2, 4, 4, 4, 4, 4, 10, 10, 10, 10, 10, 12, 12,\n",
      "                   12, 12, 12, 16, 16, 16, 16, 16, 2, 2, 2, 2, 2, 4, 4, 4,\n",
      "                   4, 4, 10, 10, 10, 10, 10, 12, 12, 12, 12, 12, 16, 16,\n",
      "                   16, 16, 16, 2, 2, 2, 2, 2, 4, 4, 4, 4, 4, 10, 10, 10,\n",
      "                   10, 10, 12, 12, 12, 12, 12, 16, 16, 16, 16, 16],\n",
      "             mask=[False, False, False, False, False, False, False, False,\n",
      "                   False, False, False, False, False, False, False, False,\n",
      "                   False, False, False, False, False, False, False, False,\n",
      "                   False, False, False, False, False, False, False, False,\n",
      "                   False, False, False, False, False, False, False, False,\n",
      "                   False, False, False, False, False, False, False, False,\n",
      "                   False, False, False, False, False, False, False, False,\n",
      "                   False, False, False, False, False, False, False, False,\n",
      "                   False, False, False, False, False, False, False, False,\n",
      "                   False, False, False, False, False, False, False, False,\n",
      "                   False, False, False, False, False, False, False, False,\n",
      "                   False, False, False, False, False, False, False, False,\n",
      "                   False, False, False, False, False, False, False, False,\n",
      "                   False, False, False, False, False, False, False, False,\n",
      "                   False, False, False, False, False, False, False, False,\n",
      "                   False, False, False, False, False, False, False, False,\n",
      "                   False, False, False, False, False, False, False, False,\n",
      "                   False, False, False, False, False, False, False, False,\n",
      "                   False, False, False, False, False, False],\n",
      "       fill_value='?',\n",
      "            dtype=object), 'param_n_estimators': masked_array(data=[50, 100, 400, 700, 1000, 50, 100, 400, 700, 1000, 50,\n",
      "                   100, 400, 700, 1000, 50, 100, 400, 700, 1000, 50, 100,\n",
      "                   400, 700, 1000, 50, 100, 400, 700, 1000, 50, 100, 400,\n",
      "                   700, 1000, 50, 100, 400, 700, 1000, 50, 100, 400, 700,\n",
      "                   1000, 50, 100, 400, 700, 1000, 50, 100, 400, 700, 1000,\n",
      "                   50, 100, 400, 700, 1000, 50, 100, 400, 700, 1000, 50,\n",
      "                   100, 400, 700, 1000, 50, 100, 400, 700, 1000, 50, 100,\n",
      "                   400, 700, 1000, 50, 100, 400, 700, 1000, 50, 100, 400,\n",
      "                   700, 1000, 50, 100, 400, 700, 1000, 50, 100, 400, 700,\n",
      "                   1000, 50, 100, 400, 700, 1000, 50, 100, 400, 700, 1000,\n",
      "                   50, 100, 400, 700, 1000, 50, 100, 400, 700, 1000, 50,\n",
      "                   100, 400, 700, 1000, 50, 100, 400, 700, 1000, 50, 100,\n",
      "                   400, 700, 1000, 50, 100, 400, 700, 1000, 50, 100, 400,\n",
      "                   700, 1000, 50, 100, 400, 700, 1000],\n",
      "             mask=[False, False, False, False, False, False, False, False,\n",
      "                   False, False, False, False, False, False, False, False,\n",
      "                   False, False, False, False, False, False, False, False,\n",
      "                   False, False, False, False, False, False, False, False,\n",
      "                   False, False, False, False, False, False, False, False,\n",
      "                   False, False, False, False, False, False, False, False,\n",
      "                   False, False, False, False, False, False, False, False,\n",
      "                   False, False, False, False, False, False, False, False,\n",
      "                   False, False, False, False, False, False, False, False,\n",
      "                   False, False, False, False, False, False, False, False,\n",
      "                   False, False, False, False, False, False, False, False,\n",
      "                   False, False, False, False, False, False, False, False,\n",
      "                   False, False, False, False, False, False, False, False,\n",
      "                   False, False, False, False, False, False, False, False,\n",
      "                   False, False, False, False, False, False, False, False,\n",
      "                   False, False, False, False, False, False, False, False,\n",
      "                   False, False, False, False, False, False, False, False,\n",
      "                   False, False, False, False, False, False, False, False,\n",
      "                   False, False, False, False, False, False],\n",
      "       fill_value='?',\n",
      "            dtype=object), 'params': [{'criterion': 'gini', 'min_samples_leaf': 1, 'min_samples_split': 2, 'n_estimators': 50}, {'criterion': 'gini', 'min_samples_leaf': 1, 'min_samples_split': 2, 'n_estimators': 100}, {'criterion': 'gini', 'min_samples_leaf': 1, 'min_samples_split': 2, 'n_estimators': 400}, {'criterion': 'gini', 'min_samples_leaf': 1, 'min_samples_split': 2, 'n_estimators': 700}, {'criterion': 'gini', 'min_samples_leaf': 1, 'min_samples_split': 2, 'n_estimators': 1000}, {'criterion': 'gini', 'min_samples_leaf': 1, 'min_samples_split': 4, 'n_estimators': 50}, {'criterion': 'gini', 'min_samples_leaf': 1, 'min_samples_split': 4, 'n_estimators': 100}, {'criterion': 'gini', 'min_samples_leaf': 1, 'min_samples_split': 4, 'n_estimators': 400}, {'criterion': 'gini', 'min_samples_leaf': 1, 'min_samples_split': 4, 'n_estimators': 700}, {'criterion': 'gini', 'min_samples_leaf': 1, 'min_samples_split': 4, 'n_estimators': 1000}, {'criterion': 'gini', 'min_samples_leaf': 1, 'min_samples_split': 10, 'n_estimators': 50}, {'criterion': 'gini', 'min_samples_leaf': 1, 'min_samples_split': 10, 'n_estimators': 100}, {'criterion': 'gini', 'min_samples_leaf': 1, 'min_samples_split': 10, 'n_estimators': 400}, {'criterion': 'gini', 'min_samples_leaf': 1, 'min_samples_split': 10, 'n_estimators': 700}, {'criterion': 'gini', 'min_samples_leaf': 1, 'min_samples_split': 10, 'n_estimators': 1000}, {'criterion': 'gini', 'min_samples_leaf': 1, 'min_samples_split': 12, 'n_estimators': 50}, {'criterion': 'gini', 'min_samples_leaf': 1, 'min_samples_split': 12, 'n_estimators': 100}, {'criterion': 'gini', 'min_samples_leaf': 1, 'min_samples_split': 12, 'n_estimators': 400}, {'criterion': 'gini', 'min_samples_leaf': 1, 'min_samples_split': 12, 'n_estimators': 700}, {'criterion': 'gini', 'min_samples_leaf': 1, 'min_samples_split': 12, 'n_estimators': 1000}, {'criterion': 'gini', 'min_samples_leaf': 1, 'min_samples_split': 16, 'n_estimators': 50}, {'criterion': 'gini', 'min_samples_leaf': 1, 'min_samples_split': 16, 'n_estimators': 100}, {'criterion': 'gini', 'min_samples_leaf': 1, 'min_samples_split': 16, 'n_estimators': 400}, {'criterion': 'gini', 'min_samples_leaf': 1, 'min_samples_split': 16, 'n_estimators': 700}, {'criterion': 'gini', 'min_samples_leaf': 1, 'min_samples_split': 16, 'n_estimators': 1000}, {'criterion': 'gini', 'min_samples_leaf': 5, 'min_samples_split': 2, 'n_estimators': 50}, {'criterion': 'gini', 'min_samples_leaf': 5, 'min_samples_split': 2, 'n_estimators': 100}, {'criterion': 'gini', 'min_samples_leaf': 5, 'min_samples_split': 2, 'n_estimators': 400}, {'criterion': 'gini', 'min_samples_leaf': 5, 'min_samples_split': 2, 'n_estimators': 700}, {'criterion': 'gini', 'min_samples_leaf': 5, 'min_samples_split': 2, 'n_estimators': 1000}, {'criterion': 'gini', 'min_samples_leaf': 5, 'min_samples_split': 4, 'n_estimators': 50}, {'criterion': 'gini', 'min_samples_leaf': 5, 'min_samples_split': 4, 'n_estimators': 100}, {'criterion': 'gini', 'min_samples_leaf': 5, 'min_samples_split': 4, 'n_estimators': 400}, {'criterion': 'gini', 'min_samples_leaf': 5, 'min_samples_split': 4, 'n_estimators': 700}, {'criterion': 'gini', 'min_samples_leaf': 5, 'min_samples_split': 4, 'n_estimators': 1000}, {'criterion': 'gini', 'min_samples_leaf': 5, 'min_samples_split': 10, 'n_estimators': 50}, {'criterion': 'gini', 'min_samples_leaf': 5, 'min_samples_split': 10, 'n_estimators': 100}, {'criterion': 'gini', 'min_samples_leaf': 5, 'min_samples_split': 10, 'n_estimators': 400}, {'criterion': 'gini', 'min_samples_leaf': 5, 'min_samples_split': 10, 'n_estimators': 700}, {'criterion': 'gini', 'min_samples_leaf': 5, 'min_samples_split': 10, 'n_estimators': 1000}, {'criterion': 'gini', 'min_samples_leaf': 5, 'min_samples_split': 12, 'n_estimators': 50}, {'criterion': 'gini', 'min_samples_leaf': 5, 'min_samples_split': 12, 'n_estimators': 100}, {'criterion': 'gini', 'min_samples_leaf': 5, 'min_samples_split': 12, 'n_estimators': 400}, {'criterion': 'gini', 'min_samples_leaf': 5, 'min_samples_split': 12, 'n_estimators': 700}, {'criterion': 'gini', 'min_samples_leaf': 5, 'min_samples_split': 12, 'n_estimators': 1000}, {'criterion': 'gini', 'min_samples_leaf': 5, 'min_samples_split': 16, 'n_estimators': 50}, {'criterion': 'gini', 'min_samples_leaf': 5, 'min_samples_split': 16, 'n_estimators': 100}, {'criterion': 'gini', 'min_samples_leaf': 5, 'min_samples_split': 16, 'n_estimators': 400}, {'criterion': 'gini', 'min_samples_leaf': 5, 'min_samples_split': 16, 'n_estimators': 700}, {'criterion': 'gini', 'min_samples_leaf': 5, 'min_samples_split': 16, 'n_estimators': 1000}, {'criterion': 'gini', 'min_samples_leaf': 10, 'min_samples_split': 2, 'n_estimators': 50}, {'criterion': 'gini', 'min_samples_leaf': 10, 'min_samples_split': 2, 'n_estimators': 100}, {'criterion': 'gini', 'min_samples_leaf': 10, 'min_samples_split': 2, 'n_estimators': 400}, {'criterion': 'gini', 'min_samples_leaf': 10, 'min_samples_split': 2, 'n_estimators': 700}, {'criterion': 'gini', 'min_samples_leaf': 10, 'min_samples_split': 2, 'n_estimators': 1000}, {'criterion': 'gini', 'min_samples_leaf': 10, 'min_samples_split': 4, 'n_estimators': 50}, {'criterion': 'gini', 'min_samples_leaf': 10, 'min_samples_split': 4, 'n_estimators': 100}, {'criterion': 'gini', 'min_samples_leaf': 10, 'min_samples_split': 4, 'n_estimators': 400}, {'criterion': 'gini', 'min_samples_leaf': 10, 'min_samples_split': 4, 'n_estimators': 700}, {'criterion': 'gini', 'min_samples_leaf': 10, 'min_samples_split': 4, 'n_estimators': 1000}, {'criterion': 'gini', 'min_samples_leaf': 10, 'min_samples_split': 10, 'n_estimators': 50}, {'criterion': 'gini', 'min_samples_leaf': 10, 'min_samples_split': 10, 'n_estimators': 100}, {'criterion': 'gini', 'min_samples_leaf': 10, 'min_samples_split': 10, 'n_estimators': 400}, {'criterion': 'gini', 'min_samples_leaf': 10, 'min_samples_split': 10, 'n_estimators': 700}, {'criterion': 'gini', 'min_samples_leaf': 10, 'min_samples_split': 10, 'n_estimators': 1000}, {'criterion': 'gini', 'min_samples_leaf': 10, 'min_samples_split': 12, 'n_estimators': 50}, {'criterion': 'gini', 'min_samples_leaf': 10, 'min_samples_split': 12, 'n_estimators': 100}, {'criterion': 'gini', 'min_samples_leaf': 10, 'min_samples_split': 12, 'n_estimators': 400}, {'criterion': 'gini', 'min_samples_leaf': 10, 'min_samples_split': 12, 'n_estimators': 700}, {'criterion': 'gini', 'min_samples_leaf': 10, 'min_samples_split': 12, 'n_estimators': 1000}, {'criterion': 'gini', 'min_samples_leaf': 10, 'min_samples_split': 16, 'n_estimators': 50}, {'criterion': 'gini', 'min_samples_leaf': 10, 'min_samples_split': 16, 'n_estimators': 100}, {'criterion': 'gini', 'min_samples_leaf': 10, 'min_samples_split': 16, 'n_estimators': 400}, {'criterion': 'gini', 'min_samples_leaf': 10, 'min_samples_split': 16, 'n_estimators': 700}, {'criterion': 'gini', 'min_samples_leaf': 10, 'min_samples_split': 16, 'n_estimators': 1000}, {'criterion': 'entropy', 'min_samples_leaf': 1, 'min_samples_split': 2, 'n_estimators': 50}, {'criterion': 'entropy', 'min_samples_leaf': 1, 'min_samples_split': 2, 'n_estimators': 100}, {'criterion': 'entropy', 'min_samples_leaf': 1, 'min_samples_split': 2, 'n_estimators': 400}, {'criterion': 'entropy', 'min_samples_leaf': 1, 'min_samples_split': 2, 'n_estimators': 700}, {'criterion': 'entropy', 'min_samples_leaf': 1, 'min_samples_split': 2, 'n_estimators': 1000}, {'criterion': 'entropy', 'min_samples_leaf': 1, 'min_samples_split': 4, 'n_estimators': 50}, {'criterion': 'entropy', 'min_samples_leaf': 1, 'min_samples_split': 4, 'n_estimators': 100}, {'criterion': 'entropy', 'min_samples_leaf': 1, 'min_samples_split': 4, 'n_estimators': 400}, {'criterion': 'entropy', 'min_samples_leaf': 1, 'min_samples_split': 4, 'n_estimators': 700}, {'criterion': 'entropy', 'min_samples_leaf': 1, 'min_samples_split': 4, 'n_estimators': 1000}, {'criterion': 'entropy', 'min_samples_leaf': 1, 'min_samples_split': 10, 'n_estimators': 50}, {'criterion': 'entropy', 'min_samples_leaf': 1, 'min_samples_split': 10, 'n_estimators': 100}, {'criterion': 'entropy', 'min_samples_leaf': 1, 'min_samples_split': 10, 'n_estimators': 400}, {'criterion': 'entropy', 'min_samples_leaf': 1, 'min_samples_split': 10, 'n_estimators': 700}, {'criterion': 'entropy', 'min_samples_leaf': 1, 'min_samples_split': 10, 'n_estimators': 1000}, {'criterion': 'entropy', 'min_samples_leaf': 1, 'min_samples_split': 12, 'n_estimators': 50}, {'criterion': 'entropy', 'min_samples_leaf': 1, 'min_samples_split': 12, 'n_estimators': 100}, {'criterion': 'entropy', 'min_samples_leaf': 1, 'min_samples_split': 12, 'n_estimators': 400}, {'criterion': 'entropy', 'min_samples_leaf': 1, 'min_samples_split': 12, 'n_estimators': 700}, {'criterion': 'entropy', 'min_samples_leaf': 1, 'min_samples_split': 12, 'n_estimators': 1000}, {'criterion': 'entropy', 'min_samples_leaf': 1, 'min_samples_split': 16, 'n_estimators': 50}, {'criterion': 'entropy', 'min_samples_leaf': 1, 'min_samples_split': 16, 'n_estimators': 100}, {'criterion': 'entropy', 'min_samples_leaf': 1, 'min_samples_split': 16, 'n_estimators': 400}, {'criterion': 'entropy', 'min_samples_leaf': 1, 'min_samples_split': 16, 'n_estimators': 700}, {'criterion': 'entropy', 'min_samples_leaf': 1, 'min_samples_split': 16, 'n_estimators': 1000}, {'criterion': 'entropy', 'min_samples_leaf': 5, 'min_samples_split': 2, 'n_estimators': 50}, {'criterion': 'entropy', 'min_samples_leaf': 5, 'min_samples_split': 2, 'n_estimators': 100}, {'criterion': 'entropy', 'min_samples_leaf': 5, 'min_samples_split': 2, 'n_estimators': 400}, {'criterion': 'entropy', 'min_samples_leaf': 5, 'min_samples_split': 2, 'n_estimators': 700}, {'criterion': 'entropy', 'min_samples_leaf': 5, 'min_samples_split': 2, 'n_estimators': 1000}, {'criterion': 'entropy', 'min_samples_leaf': 5, 'min_samples_split': 4, 'n_estimators': 50}, {'criterion': 'entropy', 'min_samples_leaf': 5, 'min_samples_split': 4, 'n_estimators': 100}, {'criterion': 'entropy', 'min_samples_leaf': 5, 'min_samples_split': 4, 'n_estimators': 400}, {'criterion': 'entropy', 'min_samples_leaf': 5, 'min_samples_split': 4, 'n_estimators': 700}, {'criterion': 'entropy', 'min_samples_leaf': 5, 'min_samples_split': 4, 'n_estimators': 1000}, {'criterion': 'entropy', 'min_samples_leaf': 5, 'min_samples_split': 10, 'n_estimators': 50}, {'criterion': 'entropy', 'min_samples_leaf': 5, 'min_samples_split': 10, 'n_estimators': 100}, {'criterion': 'entropy', 'min_samples_leaf': 5, 'min_samples_split': 10, 'n_estimators': 400}, {'criterion': 'entropy', 'min_samples_leaf': 5, 'min_samples_split': 10, 'n_estimators': 700}, {'criterion': 'entropy', 'min_samples_leaf': 5, 'min_samples_split': 10, 'n_estimators': 1000}, {'criterion': 'entropy', 'min_samples_leaf': 5, 'min_samples_split': 12, 'n_estimators': 50}, {'criterion': 'entropy', 'min_samples_leaf': 5, 'min_samples_split': 12, 'n_estimators': 100}, {'criterion': 'entropy', 'min_samples_leaf': 5, 'min_samples_split': 12, 'n_estimators': 400}, {'criterion': 'entropy', 'min_samples_leaf': 5, 'min_samples_split': 12, 'n_estimators': 700}, {'criterion': 'entropy', 'min_samples_leaf': 5, 'min_samples_split': 12, 'n_estimators': 1000}, {'criterion': 'entropy', 'min_samples_leaf': 5, 'min_samples_split': 16, 'n_estimators': 50}, {'criterion': 'entropy', 'min_samples_leaf': 5, 'min_samples_split': 16, 'n_estimators': 100}, {'criterion': 'entropy', 'min_samples_leaf': 5, 'min_samples_split': 16, 'n_estimators': 400}, {'criterion': 'entropy', 'min_samples_leaf': 5, 'min_samples_split': 16, 'n_estimators': 700}, {'criterion': 'entropy', 'min_samples_leaf': 5, 'min_samples_split': 16, 'n_estimators': 1000}, {'criterion': 'entropy', 'min_samples_leaf': 10, 'min_samples_split': 2, 'n_estimators': 50}, {'criterion': 'entropy', 'min_samples_leaf': 10, 'min_samples_split': 2, 'n_estimators': 100}, {'criterion': 'entropy', 'min_samples_leaf': 10, 'min_samples_split': 2, 'n_estimators': 400}, {'criterion': 'entropy', 'min_samples_leaf': 10, 'min_samples_split': 2, 'n_estimators': 700}, {'criterion': 'entropy', 'min_samples_leaf': 10, 'min_samples_split': 2, 'n_estimators': 1000}, {'criterion': 'entropy', 'min_samples_leaf': 10, 'min_samples_split': 4, 'n_estimators': 50}, {'criterion': 'entropy', 'min_samples_leaf': 10, 'min_samples_split': 4, 'n_estimators': 100}, {'criterion': 'entropy', 'min_samples_leaf': 10, 'min_samples_split': 4, 'n_estimators': 400}, {'criterion': 'entropy', 'min_samples_leaf': 10, 'min_samples_split': 4, 'n_estimators': 700}, {'criterion': 'entropy', 'min_samples_leaf': 10, 'min_samples_split': 4, 'n_estimators': 1000}, {'criterion': 'entropy', 'min_samples_leaf': 10, 'min_samples_split': 10, 'n_estimators': 50}, {'criterion': 'entropy', 'min_samples_leaf': 10, 'min_samples_split': 10, 'n_estimators': 100}, {'criterion': 'entropy', 'min_samples_leaf': 10, 'min_samples_split': 10, 'n_estimators': 400}, {'criterion': 'entropy', 'min_samples_leaf': 10, 'min_samples_split': 10, 'n_estimators': 700}, {'criterion': 'entropy', 'min_samples_leaf': 10, 'min_samples_split': 10, 'n_estimators': 1000}, {'criterion': 'entropy', 'min_samples_leaf': 10, 'min_samples_split': 12, 'n_estimators': 50}, {'criterion': 'entropy', 'min_samples_leaf': 10, 'min_samples_split': 12, 'n_estimators': 100}, {'criterion': 'entropy', 'min_samples_leaf': 10, 'min_samples_split': 12, 'n_estimators': 400}, {'criterion': 'entropy', 'min_samples_leaf': 10, 'min_samples_split': 12, 'n_estimators': 700}, {'criterion': 'entropy', 'min_samples_leaf': 10, 'min_samples_split': 12, 'n_estimators': 1000}, {'criterion': 'entropy', 'min_samples_leaf': 10, 'min_samples_split': 16, 'n_estimators': 50}, {'criterion': 'entropy', 'min_samples_leaf': 10, 'min_samples_split': 16, 'n_estimators': 100}, {'criterion': 'entropy', 'min_samples_leaf': 10, 'min_samples_split': 16, 'n_estimators': 400}, {'criterion': 'entropy', 'min_samples_leaf': 10, 'min_samples_split': 16, 'n_estimators': 700}, {'criterion': 'entropy', 'min_samples_leaf': 10, 'min_samples_split': 16, 'n_estimators': 1000}], 'split0_test_score': array([0.65993266, 0.67340067, 0.65993266, 0.65993266, 0.65993266,\n",
      "       0.65656566, 0.65656566, 0.65993266, 0.65993266, 0.65993266,\n",
      "       0.65656566, 0.65993266, 0.65656566, 0.65319865, 0.64983165,\n",
      "       0.65993266, 0.65656566, 0.64309764, 0.64983165, 0.64983165,\n",
      "       0.65656566, 0.64983165, 0.64983165, 0.64983165, 0.64646465,\n",
      "       0.8047138 , 0.79461279, 0.79461279, 0.78787879, 0.78787879,\n",
      "       0.8047138 , 0.79461279, 0.79461279, 0.78787879, 0.78787879,\n",
      "       0.8047138 , 0.79461279, 0.79461279, 0.78787879, 0.78787879,\n",
      "       0.80808081, 0.79461279, 0.79461279, 0.78451178, 0.78451178,\n",
      "       0.79461279, 0.79124579, 0.79124579, 0.77777778, 0.77441077,\n",
      "       0.78787879, 0.78787879, 0.79124579, 0.79124579, 0.79124579,\n",
      "       0.78787879, 0.78787879, 0.79124579, 0.79124579, 0.79124579,\n",
      "       0.78787879, 0.78787879, 0.79124579, 0.79124579, 0.79124579,\n",
      "       0.78787879, 0.78787879, 0.79124579, 0.79124579, 0.79124579,\n",
      "       0.78787879, 0.78787879, 0.79124579, 0.79124579, 0.79124579,\n",
      "       0.7003367 , 0.7037037 , 0.7037037 , 0.7003367 , 0.7003367 ,\n",
      "       0.69023569, 0.7037037 , 0.7003367 , 0.7003367 , 0.6969697 ,\n",
      "       0.65656566, 0.68686869, 0.66666667, 0.65656566, 0.65656566,\n",
      "       0.65656566, 0.69360269, 0.66329966, 0.65656566, 0.66329966,\n",
      "       0.65656566, 0.71717172, 0.7037037 , 0.69023569, 0.69023569,\n",
      "       0.8047138 , 0.8047138 , 0.78451178, 0.78451178, 0.78451178,\n",
      "       0.8047138 , 0.8047138 , 0.78451178, 0.78451178, 0.78451178,\n",
      "       0.8047138 , 0.8047138 , 0.78451178, 0.78451178, 0.78451178,\n",
      "       0.7979798 , 0.8047138 , 0.78451178, 0.78451178, 0.78451178,\n",
      "       0.78787879, 0.79461279, 0.79461279, 0.79461279, 0.79124579,\n",
      "       0.79124579, 0.78787879, 0.79124579, 0.79124579, 0.79124579,\n",
      "       0.79124579, 0.78787879, 0.79124579, 0.79124579, 0.79124579,\n",
      "       0.79124579, 0.78787879, 0.79124579, 0.79124579, 0.79124579,\n",
      "       0.79124579, 0.78787879, 0.79124579, 0.79124579, 0.79124579,\n",
      "       0.79124579, 0.78787879, 0.79124579, 0.79124579, 0.79124579]), 'split1_test_score': array([0.66329966, 0.63636364, 0.5993266 , 0.58249158, 0.58249158,\n",
      "       0.63636364, 0.63299663, 0.60606061, 0.57575758, 0.57912458,\n",
      "       0.66329966, 0.63299663, 0.61952862, 0.56902357, 0.61952862,\n",
      "       0.70707071, 0.65993266, 0.62289562, 0.60606061, 0.62962963,\n",
      "       0.7003367 , 0.68013468, 0.62962963, 0.62626263, 0.64309764,\n",
      "       0.76094276, 0.76767677, 0.75757576, 0.76094276, 0.74074074,\n",
      "       0.76094276, 0.76767677, 0.75757576, 0.76094276, 0.74074074,\n",
      "       0.76094276, 0.76767677, 0.75757576, 0.76094276, 0.74074074,\n",
      "       0.76094276, 0.76430976, 0.77104377, 0.76767677, 0.76430976,\n",
      "       0.75757576, 0.77104377, 0.76767677, 0.77104377, 0.77441077,\n",
      "       0.77777778, 0.76767677, 0.77441077, 0.76767677, 0.77104377,\n",
      "       0.77777778, 0.76767677, 0.77441077, 0.76767677, 0.77104377,\n",
      "       0.77777778, 0.76767677, 0.77441077, 0.76767677, 0.77104377,\n",
      "       0.77777778, 0.76767677, 0.77441077, 0.76767677, 0.77104377,\n",
      "       0.77777778, 0.76767677, 0.77441077, 0.76767677, 0.77104377,\n",
      "       0.58922559, 0.60942761, 0.5959596 , 0.58922559, 0.5993266 ,\n",
      "       0.55218855, 0.64309764, 0.57912458, 0.57575758, 0.5993266 ,\n",
      "       0.64646465, 0.67676768, 0.64309764, 0.5959596 , 0.64309764,\n",
      "       0.64309764, 0.69360269, 0.64309764, 0.63973064, 0.67676768,\n",
      "       0.66329966, 0.68686869, 0.66666667, 0.67676768, 0.67676768,\n",
      "       0.73400673, 0.75420875, 0.76094276, 0.76094276, 0.76430976,\n",
      "       0.73400673, 0.75420875, 0.76094276, 0.76094276, 0.76430976,\n",
      "       0.73400673, 0.75420875, 0.76094276, 0.76094276, 0.76430976,\n",
      "       0.75084175, 0.75757576, 0.76094276, 0.76767677, 0.76767677,\n",
      "       0.74747475, 0.76767677, 0.77441077, 0.77777778, 0.77777778,\n",
      "       0.77104377, 0.78114478, 0.78114478, 0.77104377, 0.78114478,\n",
      "       0.77104377, 0.78114478, 0.78114478, 0.77104377, 0.78114478,\n",
      "       0.77104377, 0.78114478, 0.78114478, 0.77104377, 0.78114478,\n",
      "       0.77104377, 0.78114478, 0.78114478, 0.77104377, 0.78114478,\n",
      "       0.77104377, 0.78114478, 0.78114478, 0.77104377, 0.78114478]), 'split2_test_score': array([0.79124579, 0.78787879, 0.79461279, 0.79461279, 0.79461279,\n",
      "       0.78451178, 0.78787879, 0.79124579, 0.79124579, 0.78787879,\n",
      "       0.78787879, 0.79124579, 0.79461279, 0.79461279, 0.79461279,\n",
      "       0.78451178, 0.78787879, 0.79461279, 0.79461279, 0.79461279,\n",
      "       0.78787879, 0.78787879, 0.78787879, 0.79124579, 0.78787879,\n",
      "       0.7979798 , 0.79461279, 0.79461279, 0.79461279, 0.79461279,\n",
      "       0.7979798 , 0.79461279, 0.79461279, 0.79461279, 0.79461279,\n",
      "       0.7979798 , 0.79461279, 0.79461279, 0.79461279, 0.79461279,\n",
      "       0.79461279, 0.79461279, 0.79461279, 0.79461279, 0.79461279,\n",
      "       0.79461279, 0.79461279, 0.7979798 , 0.7979798 , 0.7979798 ,\n",
      "       0.79124579, 0.79461279, 0.79461279, 0.79461279, 0.79461279,\n",
      "       0.79124579, 0.79461279, 0.79461279, 0.79461279, 0.79461279,\n",
      "       0.79124579, 0.79461279, 0.79461279, 0.79461279, 0.79461279,\n",
      "       0.79124579, 0.79461279, 0.79461279, 0.79461279, 0.79461279,\n",
      "       0.79124579, 0.79461279, 0.79461279, 0.79461279, 0.79461279,\n",
      "       0.79124579, 0.79461279, 0.78787879, 0.78787879, 0.78787879,\n",
      "       0.79124579, 0.7979798 , 0.79461279, 0.7979798 , 0.79461279,\n",
      "       0.79124579, 0.78787879, 0.79461279, 0.79461279, 0.79461279,\n",
      "       0.79124579, 0.79124579, 0.79461279, 0.79461279, 0.79461279,\n",
      "       0.78787879, 0.78787879, 0.79461279, 0.79124579, 0.79461279,\n",
      "       0.79461279, 0.79461279, 0.7979798 , 0.7979798 , 0.7979798 ,\n",
      "       0.79461279, 0.79461279, 0.7979798 , 0.7979798 , 0.7979798 ,\n",
      "       0.79461279, 0.79461279, 0.7979798 , 0.7979798 , 0.7979798 ,\n",
      "       0.79461279, 0.79461279, 0.7979798 , 0.7979798 , 0.7979798 ,\n",
      "       0.79461279, 0.79461279, 0.7979798 , 0.7979798 , 0.7979798 ,\n",
      "       0.79124579, 0.79461279, 0.79461279, 0.79461279, 0.79461279,\n",
      "       0.79124579, 0.79461279, 0.79461279, 0.79461279, 0.79461279,\n",
      "       0.79124579, 0.79461279, 0.79461279, 0.79461279, 0.79461279,\n",
      "       0.79124579, 0.79461279, 0.79461279, 0.79461279, 0.79461279,\n",
      "       0.79124579, 0.79461279, 0.79461279, 0.79461279, 0.79461279]), 'mean_test_score': array([0.70482604, 0.69921437, 0.68462402, 0.67901235, 0.67901235,\n",
      "       0.69248036, 0.69248036, 0.68574635, 0.67564534, 0.67564534,\n",
      "       0.70258137, 0.69472503, 0.69023569, 0.67227834, 0.68799102,\n",
      "       0.71717172, 0.70145903, 0.68686869, 0.68350168, 0.69135802,\n",
      "       0.71492705, 0.70594837, 0.68911336, 0.68911336, 0.69248036,\n",
      "       0.78787879, 0.78563412, 0.78226712, 0.78114478, 0.77441077,\n",
      "       0.78787879, 0.78563412, 0.78226712, 0.78114478, 0.77441077,\n",
      "       0.78787879, 0.78563412, 0.78226712, 0.78114478, 0.77441077,\n",
      "       0.78787879, 0.78451178, 0.78675645, 0.78226712, 0.78114478,\n",
      "       0.78226712, 0.78563412, 0.78563412, 0.78226712, 0.78226712,\n",
      "       0.78563412, 0.78338945, 0.78675645, 0.78451178, 0.78563412,\n",
      "       0.78563412, 0.78338945, 0.78675645, 0.78451178, 0.78563412,\n",
      "       0.78563412, 0.78338945, 0.78675645, 0.78451178, 0.78563412,\n",
      "       0.78563412, 0.78338945, 0.78675645, 0.78451178, 0.78563412,\n",
      "       0.78563412, 0.78338945, 0.78675645, 0.78451178, 0.78563412,\n",
      "       0.69360269, 0.70258137, 0.69584736, 0.69248036, 0.69584736,\n",
      "       0.67789001, 0.71492705, 0.69135802, 0.69135802, 0.6969697 ,\n",
      "       0.69809203, 0.71717172, 0.70145903, 0.68237935, 0.69809203,\n",
      "       0.6969697 , 0.72615039, 0.7003367 , 0.6969697 , 0.71156004,\n",
      "       0.70258137, 0.73063973, 0.72166105, 0.71941639, 0.72053872,\n",
      "       0.77777778, 0.78451178, 0.78114478, 0.78114478, 0.78226712,\n",
      "       0.77777778, 0.78451178, 0.78114478, 0.78114478, 0.78226712,\n",
      "       0.77777778, 0.78451178, 0.78114478, 0.78114478, 0.78226712,\n",
      "       0.78114478, 0.78563412, 0.78114478, 0.78338945, 0.78338945,\n",
      "       0.77665544, 0.78563412, 0.78900112, 0.79012346, 0.78900112,\n",
      "       0.78451178, 0.78787879, 0.78900112, 0.78563412, 0.78900112,\n",
      "       0.78451178, 0.78787879, 0.78900112, 0.78563412, 0.78900112,\n",
      "       0.78451178, 0.78787879, 0.78900112, 0.78563412, 0.78900112,\n",
      "       0.78451178, 0.78787879, 0.78900112, 0.78563412, 0.78900112,\n",
      "       0.78451178, 0.78787879, 0.78900112, 0.78563412, 0.78900112]), 'std_test_score': array([0.06112345, 0.06449274, 0.08161463, 0.08764275, 0.08764275,\n",
      "       0.06559658, 0.06813966, 0.07777381, 0.08867153, 0.08594473,\n",
      "       0.060377  , 0.0691307 , 0.07533866, 0.09307936, 0.07640122,\n",
      "       0.0513583 , 0.06112345, 0.07663169, 0.08057392, 0.07347649,\n",
      "       0.05459208, 0.0592397 , 0.07032301, 0.07285671, 0.06747088,\n",
      "       0.01924403, 0.01269776, 0.01745943, 0.01454712, 0.02396651,\n",
      "       0.01924403, 0.01269776, 0.01745943, 0.01454712, 0.02396651,\n",
      "       0.01924403, 0.01269776, 0.01745943, 0.01454712, 0.02396651,\n",
      "       0.01982438, 0.01428499, 0.01111054, 0.01111054, 0.01259817,\n",
      "       0.01745943, 0.0104081 , 0.01299196, 0.01144561, 0.01111054,\n",
      "       0.00572281, 0.01144561, 0.00883727, 0.01198325, 0.0104081 ,\n",
      "       0.00572281, 0.01144561, 0.00883727, 0.01198325, 0.0104081 ,\n",
      "       0.00572281, 0.01144561, 0.00883727, 0.01198325, 0.0104081 ,\n",
      "       0.00572281, 0.01144561, 0.00883727, 0.01198325, 0.0104081 ,\n",
      "       0.00572281, 0.01144561, 0.00883727, 0.01198325, 0.0104081 ,\n",
      "       0.08261175, 0.0756057 , 0.07854738, 0.08128987, 0.07704154,\n",
      "       0.09798436, 0.06372646, 0.08820149, 0.09094372, 0.07972526,\n",
      "       0.06599861, 0.05016722, 0.06656872, 0.08312855, 0.0684716 ,\n",
      "       0.06688963, 0.0460294 , 0.06717151, 0.06938533, 0.05898399,\n",
      "       0.060377  , 0.04232258, 0.05375502, 0.0510878 , 0.05266608,\n",
      "       0.0312243 , 0.02182068, 0.0153066 , 0.0153066 , 0.01383707,\n",
      "       0.0312243 , 0.02182068, 0.0153066 , 0.0153066 , 0.01383707,\n",
      "       0.0312243 , 0.02182068, 0.0153066 , 0.0153066 , 0.01383707,\n",
      "       0.02147152, 0.02026428, 0.0153066 , 0.01239659, 0.01239659,\n",
      "       0.0208162 , 0.01269776, 0.0104081 , 0.00883727, 0.00839878,\n",
      "       0.00952332, 0.00549829, 0.00572281, 0.0104081 , 0.00572281,\n",
      "       0.00952332, 0.00549829, 0.00572281, 0.0104081 , 0.00572281,\n",
      "       0.00952332, 0.00549829, 0.00572281, 0.0104081 , 0.00572281,\n",
      "       0.00952332, 0.00549829, 0.00572281, 0.0104081 , 0.00572281,\n",
      "       0.00952332, 0.00549829, 0.00572281, 0.0104081 , 0.00572281]), 'rank_test_score': array([112, 119, 142, 145, 145, 129, 129, 141, 148, 148, 113, 127, 136,\n",
      "       150, 139, 106, 116, 140, 143, 134, 109, 111, 137, 137, 129,  14,\n",
      "        29,  72,  82,  98,  14,  29,  72,  82,  98,  14,  29,  72,  82,\n",
      "        98,  14,  51,  23,  72,  82,  72,  29,  29,  72,  72,  29,  67,\n",
      "        23,  51,  29,  29,  67,  23,  51,  29,  29,  67,  23,  51,  29,\n",
      "        29,  67,  23,  51,  29,  29,  67,  23,  51,  29, 128, 113, 125,\n",
      "       129, 125, 147, 108, 134, 133, 122, 120, 106, 117, 144, 120, 122,\n",
      "       102, 118, 122, 110, 113, 101, 103, 105, 104,  94,  51,  82,  82,\n",
      "        72,  94,  51,  82,  82,  72,  94,  51,  82,  82,  72,  82,  29,\n",
      "        82,  65,  65,  97,  29,   2,   1,   3,  51,  14,   3,  29,   3,\n",
      "        51,  14,   3,  29,   3,  51,  14,   3,  29,   3,  51,  14,   3,\n",
      "        29,   3,  51,  14,   3,  29,   3])}\n"
     ]
    }
   ],
   "source": [
    "rf = RandomForestClassifier(max_features=11, oob_score=True, random_state=1, n_jobs=-1)\n",
    "\n",
    "param_grid = {\"criterion\": [\"gini\", \"entropy\"], \"min_samples_leaf\": [1, 5, 10], \"min_samples_split\": [2, 4, 10, 12, 16], \"n_estimators\": [50, 100, 400, 700, 1000]}\n",
    "\n",
    "gs = GridSearchCV(estimator=rf, param_grid=param_grid, scoring='accuracy', cv=3, n_jobs=-1, error_score='raise')\n",
    "\n",
    "gs = gs.fit(train_data, target)\n",
    "\n",
    "print(\"Best score:\", gs.best_score_)\n",
    "print(\"Best params:\", gs.best_params_)\n",
    "print(\"CV result:\", gs.cv_results_)"
   ],
   "metadata": {
    "collapsed": false,
    "ExecuteTime": {
     "end_time": "2023-11-14T00:53:51.083629200Z",
     "start_time": "2023-11-14T00:50:59.835467600Z"
    }
   },
   "id": "5b1b98977b9e5342"
  },
  {
   "cell_type": "markdown",
   "source": [
    "Train model"
   ],
   "metadata": {
    "collapsed": false
   },
   "id": "578383b79a40af60"
  },
  {
   "cell_type": "code",
   "execution_count": 29,
   "outputs": [
    {
     "data": {
      "text/plain": "   PassengerId  Pclass  SibSp  Parch      Fare  Sex_female  Sex_male  \\\n0            1       3      1      0  1.981001         0.0       1.0   \n1            2       1      1      0  4.266662         1.0       0.0   \n2            3       3      0      0  2.070022         1.0       0.0   \n3            4       1      1      0  3.972177         1.0       0.0   \n4            5       3      0      0  2.085672         0.0       1.0   \n\n   Embarked_C  Embarked_Q  Embarked_S  \n0         0.0         0.0         1.0  \n1         1.0         0.0         0.0  \n2         0.0         0.0         1.0  \n3         0.0         0.0         1.0  \n4         0.0         0.0         1.0  ",
      "text/html": "<div>\n<style scoped>\n    .dataframe tbody tr th:only-of-type {\n        vertical-align: middle;\n    }\n\n    .dataframe tbody tr th {\n        vertical-align: top;\n    }\n\n    .dataframe thead th {\n        text-align: right;\n    }\n</style>\n<table border=\"1\" class=\"dataframe\">\n  <thead>\n    <tr style=\"text-align: right;\">\n      <th></th>\n      <th>PassengerId</th>\n      <th>Pclass</th>\n      <th>SibSp</th>\n      <th>Parch</th>\n      <th>Fare</th>\n      <th>Sex_female</th>\n      <th>Sex_male</th>\n      <th>Embarked_C</th>\n      <th>Embarked_Q</th>\n      <th>Embarked_S</th>\n    </tr>\n  </thead>\n  <tbody>\n    <tr>\n      <th>0</th>\n      <td>1</td>\n      <td>3</td>\n      <td>1</td>\n      <td>0</td>\n      <td>1.981001</td>\n      <td>0.0</td>\n      <td>1.0</td>\n      <td>0.0</td>\n      <td>0.0</td>\n      <td>1.0</td>\n    </tr>\n    <tr>\n      <th>1</th>\n      <td>2</td>\n      <td>1</td>\n      <td>1</td>\n      <td>0</td>\n      <td>4.266662</td>\n      <td>1.0</td>\n      <td>0.0</td>\n      <td>1.0</td>\n      <td>0.0</td>\n      <td>0.0</td>\n    </tr>\n    <tr>\n      <th>2</th>\n      <td>3</td>\n      <td>3</td>\n      <td>0</td>\n      <td>0</td>\n      <td>2.070022</td>\n      <td>1.0</td>\n      <td>0.0</td>\n      <td>0.0</td>\n      <td>0.0</td>\n      <td>1.0</td>\n    </tr>\n    <tr>\n      <th>3</th>\n      <td>4</td>\n      <td>1</td>\n      <td>1</td>\n      <td>0</td>\n      <td>3.972177</td>\n      <td>1.0</td>\n      <td>0.0</td>\n      <td>0.0</td>\n      <td>0.0</td>\n      <td>1.0</td>\n    </tr>\n    <tr>\n      <th>4</th>\n      <td>5</td>\n      <td>3</td>\n      <td>0</td>\n      <td>0</td>\n      <td>2.085672</td>\n      <td>0.0</td>\n      <td>1.0</td>\n      <td>0.0</td>\n      <td>0.0</td>\n      <td>1.0</td>\n    </tr>\n  </tbody>\n</table>\n</div>"
     },
     "execution_count": 29,
     "metadata": {},
     "output_type": "execute_result"
    }
   ],
   "source": [
    "train_data.head()"
   ],
   "metadata": {
    "collapsed": false,
    "ExecuteTime": {
     "end_time": "2023-11-14T00:53:51.098571600Z",
     "start_time": "2023-11-14T00:53:51.082619500Z"
    }
   },
   "id": "63ed49d789335bbc"
  },
  {
   "cell_type": "code",
   "execution_count": 30,
   "outputs": [
    {
     "data": {
      "text/plain": "0    0\n1    1\n2    1\n3    1\n4    0\nName: Survived, dtype: int64"
     },
     "execution_count": 30,
     "metadata": {},
     "output_type": "execute_result"
    }
   ],
   "source": [
    "target.head()"
   ],
   "metadata": {
    "collapsed": false,
    "ExecuteTime": {
     "end_time": "2023-11-14T00:53:51.107849500Z",
     "start_time": "2023-11-14T00:53:51.097572100Z"
    }
   },
   "id": "5881ac43664d18fc"
  },
  {
   "cell_type": "code",
   "execution_count": 31,
   "outputs": [
    {
     "data": {
      "text/plain": "   PassengerId  Pclass  SibSp  Parch     Fare  Sex_female  Sex_male  \\\n0          892       3      0      0   7.8292         0.0       1.0   \n1          893       3      1      0   7.0000         1.0       0.0   \n2          894       2      0      0   9.6875         0.0       1.0   \n3          895       3      0      0   8.6625         0.0       1.0   \n4          896       3      1      1  12.2875         1.0       0.0   \n\n   Embarked_C  Embarked_Q  Embarked_S  \n0         0.0         1.0         0.0  \n1         0.0         0.0         1.0  \n2         0.0         1.0         0.0  \n3         0.0         0.0         1.0  \n4         0.0         0.0         1.0  ",
      "text/html": "<div>\n<style scoped>\n    .dataframe tbody tr th:only-of-type {\n        vertical-align: middle;\n    }\n\n    .dataframe tbody tr th {\n        vertical-align: top;\n    }\n\n    .dataframe thead th {\n        text-align: right;\n    }\n</style>\n<table border=\"1\" class=\"dataframe\">\n  <thead>\n    <tr style=\"text-align: right;\">\n      <th></th>\n      <th>PassengerId</th>\n      <th>Pclass</th>\n      <th>SibSp</th>\n      <th>Parch</th>\n      <th>Fare</th>\n      <th>Sex_female</th>\n      <th>Sex_male</th>\n      <th>Embarked_C</th>\n      <th>Embarked_Q</th>\n      <th>Embarked_S</th>\n    </tr>\n  </thead>\n  <tbody>\n    <tr>\n      <th>0</th>\n      <td>892</td>\n      <td>3</td>\n      <td>0</td>\n      <td>0</td>\n      <td>7.8292</td>\n      <td>0.0</td>\n      <td>1.0</td>\n      <td>0.0</td>\n      <td>1.0</td>\n      <td>0.0</td>\n    </tr>\n    <tr>\n      <th>1</th>\n      <td>893</td>\n      <td>3</td>\n      <td>1</td>\n      <td>0</td>\n      <td>7.0000</td>\n      <td>1.0</td>\n      <td>0.0</td>\n      <td>0.0</td>\n      <td>0.0</td>\n      <td>1.0</td>\n    </tr>\n    <tr>\n      <th>2</th>\n      <td>894</td>\n      <td>2</td>\n      <td>0</td>\n      <td>0</td>\n      <td>9.6875</td>\n      <td>0.0</td>\n      <td>1.0</td>\n      <td>0.0</td>\n      <td>1.0</td>\n      <td>0.0</td>\n    </tr>\n    <tr>\n      <th>3</th>\n      <td>895</td>\n      <td>3</td>\n      <td>0</td>\n      <td>0</td>\n      <td>8.6625</td>\n      <td>0.0</td>\n      <td>1.0</td>\n      <td>0.0</td>\n      <td>0.0</td>\n      <td>1.0</td>\n    </tr>\n    <tr>\n      <th>4</th>\n      <td>896</td>\n      <td>3</td>\n      <td>1</td>\n      <td>1</td>\n      <td>12.2875</td>\n      <td>1.0</td>\n      <td>0.0</td>\n      <td>0.0</td>\n      <td>0.0</td>\n      <td>1.0</td>\n    </tr>\n  </tbody>\n</table>\n</div>"
     },
     "execution_count": 31,
     "metadata": {},
     "output_type": "execute_result"
    }
   ],
   "source": [
    "test_data.head()"
   ],
   "metadata": {
    "collapsed": false,
    "ExecuteTime": {
     "end_time": "2023-11-14T00:53:51.243875300Z",
     "start_time": "2023-11-14T00:53:51.108848700Z"
    }
   },
   "id": "4af44794b4d5a1f4"
  },
  {
   "cell_type": "code",
   "execution_count": 32,
   "outputs": [],
   "source": [
    "# rf = RandomForestClassifier(max_depth=5, min_samples_leaf=5, n_estimators=200, n_jobs=-1, random_state=0)\n",
    "rf = RandomForestClassifier(max_depth=5, min_samples_leaf=16, n_estimators=700, n_jobs=-1, random_state=0)\n",
    "# Best params: {'criterion': 'entropy', 'min_samples_leaf': 5, 'min_samples_split': 16, 'n_estimators': 700}\n",
    "\n",
    "rf.fit(train_data, target)\n",
    "predictions = rf.predict(test_data)"
   ],
   "metadata": {
    "collapsed": false,
    "ExecuteTime": {
     "end_time": "2023-11-14T00:53:53.494937400Z",
     "start_time": "2023-11-14T00:53:51.124635100Z"
    }
   },
   "id": "eb4b8831b6d97087"
  },
  {
   "cell_type": "code",
   "execution_count": 33,
   "outputs": [],
   "source": [
    "# import xgboost as xgb\n",
    "# \n",
    "# gbm = xgb.XGBClassifier(\n",
    "#     n_estimators= 2000,\n",
    "#     max_depth= 4,\n",
    "#     min_child_weight= 2,\n",
    "#     gamma=0.9,                        \n",
    "#     subsample=0.8,\n",
    "#     colsample_bytree=0.8,\n",
    "#     objective= 'binary:logistic',\n",
    "#     nthread= -1,\n",
    "#     scale_pos_weight=1).fit(train_data, target)\n",
    "# \n",
    "# predictions = gbm.predict(test_data)"
   ],
   "metadata": {
    "collapsed": false,
    "ExecuteTime": {
     "end_time": "2023-11-14T00:53:53.507324700Z",
     "start_time": "2023-11-14T00:53:53.495953800Z"
    }
   },
   "id": "e06f15ed207f9533"
  },
  {
   "cell_type": "markdown",
   "source": [
    "Save prediction to csv file"
   ],
   "metadata": {
    "collapsed": false
   },
   "id": "8a963b2daa91dee9"
  },
  {
   "cell_type": "code",
   "execution_count": 34,
   "outputs": [
    {
     "name": "stdout",
     "output_type": "stream",
     "text": [
      "Your submission was successfully saved!\n"
     ]
    }
   ],
   "source": [
    "output = pd.DataFrame({'PassengerId': test_data.PassengerId, 'Survived': predictions})\n",
    "output.to_csv('submission.csv', index=False)\n",
    "\n",
    "print(\"Your submission was successfully saved!\")"
   ],
   "metadata": {
    "collapsed": false,
    "ExecuteTime": {
     "end_time": "2023-11-14T00:53:53.517534Z",
     "start_time": "2023-11-14T00:53:53.504797200Z"
    }
   },
   "id": "a9e230a607b39a4a"
  },
  {
   "cell_type": "markdown",
   "source": [
    "Check output"
   ],
   "metadata": {
    "collapsed": false
   },
   "id": "5366c01ee2824b3d"
  },
  {
   "cell_type": "code",
   "execution_count": 35,
   "outputs": [
    {
     "name": "stdout",
     "output_type": "stream",
     "text": [
      "Survived\n",
      "0    273\n",
      "1    145\n",
      "Name: count, dtype: int64\n"
     ]
    },
    {
     "data": {
      "text/plain": "   PassengerId  Survived\n0          892         0\n1          893         1\n2          894         0\n3          895         0\n4          896         1",
      "text/html": "<div>\n<style scoped>\n    .dataframe tbody tr th:only-of-type {\n        vertical-align: middle;\n    }\n\n    .dataframe tbody tr th {\n        vertical-align: top;\n    }\n\n    .dataframe thead th {\n        text-align: right;\n    }\n</style>\n<table border=\"1\" class=\"dataframe\">\n  <thead>\n    <tr style=\"text-align: right;\">\n      <th></th>\n      <th>PassengerId</th>\n      <th>Survived</th>\n    </tr>\n  </thead>\n  <tbody>\n    <tr>\n      <th>0</th>\n      <td>892</td>\n      <td>0</td>\n    </tr>\n    <tr>\n      <th>1</th>\n      <td>893</td>\n      <td>1</td>\n    </tr>\n    <tr>\n      <th>2</th>\n      <td>894</td>\n      <td>0</td>\n    </tr>\n    <tr>\n      <th>3</th>\n      <td>895</td>\n      <td>0</td>\n    </tr>\n    <tr>\n      <th>4</th>\n      <td>896</td>\n      <td>1</td>\n    </tr>\n  </tbody>\n</table>\n</div>"
     },
     "execution_count": 35,
     "metadata": {},
     "output_type": "execute_result"
    }
   ],
   "source": [
    "results = pd.read_csv('submission.csv')\n",
    "print(results['Survived'].value_counts())\n",
    "results.head()"
   ],
   "metadata": {
    "collapsed": false,
    "ExecuteTime": {
     "end_time": "2023-11-14T00:53:53.595777200Z",
     "start_time": "2023-11-14T00:53:53.519531400Z"
    }
   },
   "id": "4881e0f32463a1f7"
  },
  {
   "cell_type": "markdown",
   "source": [],
   "metadata": {
    "collapsed": false
   },
   "id": "fc78b3b77c9c657b"
  }
 ],
 "metadata": {
  "kernelspec": {
   "display_name": "Python 3 (ipykernel)",
   "language": "python",
   "name": "python3"
  },
  "language_info": {
   "codemirror_mode": {
    "name": "ipython",
    "version": 3
   },
   "file_extension": ".py",
   "mimetype": "text/x-python",
   "name": "python",
   "nbconvert_exporter": "python",
   "pygments_lexer": "ipython3",
   "version": "3.11.4"
  }
 },
 "nbformat": 4,
 "nbformat_minor": 5
}
