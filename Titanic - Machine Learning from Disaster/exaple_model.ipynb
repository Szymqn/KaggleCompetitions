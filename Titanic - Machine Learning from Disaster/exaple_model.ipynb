{
 "cells": [
  {
   "cell_type": "markdown",
   "source": [
    "Import packages"
   ],
   "metadata": {
    "collapsed": false
   },
   "id": "d23e888e8498d3cc"
  },
  {
   "cell_type": "code",
   "execution_count": 10,
   "id": "eed70e31b9baa878",
   "metadata": {
    "collapsed": false,
    "ExecuteTime": {
     "end_time": "2023-10-26T00:09:19.508921300Z",
     "start_time": "2023-10-26T00:09:19.355210300Z"
    }
   },
   "outputs": [],
   "source": [
    "import pandas as pd\n",
    "import numpy as np\n",
    "import matplotlib.pyplot as plt\n",
    "import seaborn as sns\n",
    "from plotly.subplots import make_subplots\n",
    "import plotly.graph_objs as go"
   ]
  },
  {
   "cell_type": "markdown",
   "source": [
    "Load data"
   ],
   "metadata": {
    "collapsed": false
   },
   "id": "ec5924473e65a00d"
  },
  {
   "cell_type": "code",
   "execution_count": 11,
   "id": "23a373983b982949",
   "metadata": {
    "collapsed": false,
    "ExecuteTime": {
     "end_time": "2023-10-26T00:09:19.636538200Z",
     "start_time": "2023-10-26T00:09:19.371672Z"
    }
   },
   "outputs": [],
   "source": [
    "train_data = pd.read_csv(\"data/train.csv\")\n",
    "\n",
    "test_data = pd.read_csv(\"data/test.csv\")"
   ]
  },
  {
   "cell_type": "code",
   "execution_count": 12,
   "outputs": [
    {
     "name": "stdout",
     "output_type": "stream",
     "text": [
      "<class 'pandas.core.frame.DataFrame'>\n",
      "RangeIndex: 891 entries, 0 to 890\n",
      "Data columns (total 12 columns):\n",
      " #   Column           Non-Null Count  Dtype  \n",
      "---  ------           --------------  -----  \n",
      " 0       PassengerId  891 non-null    int64  \n",
      " 1   Survived         891 non-null    int64  \n",
      " 2   Pclass           891 non-null    int64  \n",
      " 3   Name             891 non-null    object \n",
      " 4   Sex              891 non-null    object \n",
      " 5   Age              714 non-null    float64\n",
      " 6   SibSp            891 non-null    int64  \n",
      " 7   Parch            891 non-null    int64  \n",
      " 8   Ticket           891 non-null    object \n",
      " 9   Fare             891 non-null    float64\n",
      " 10  Cabin            204 non-null    object \n",
      " 11  Embarked         889 non-null    object \n",
      "dtypes: float64(2), int64(5), object(5)\n",
      "memory usage: 83.7+ KB\n",
      "    PassengerId      0\n",
      "Survived             0\n",
      "Pclass               0\n",
      "Name                 0\n",
      "Sex                  0\n",
      "Age                177\n",
      "SibSp                0\n",
      "Parch                0\n",
      "Ticket               0\n",
      "Fare                 0\n",
      "Cabin              687\n",
      "Embarked             2\n",
      "dtype: int64\n",
      "Percent of missing values:  8.099513655069211\n"
     ]
    }
   ],
   "source": [
    "# Check data\n",
    "train_data = train_data.fillna(np.nan)\n",
    "train_data.info()\n",
    "\n",
    "missing_values_count = train_data.isnull().sum()\n",
    "print(missing_values_count)\n",
    "\n",
    "total_cells = np.product(train_data.shape)\n",
    "total_missing = missing_values_count.sum()\n",
    "\n",
    "percent_missing = (total_missing/total_cells) * 100\n",
    "print(\"Percent of missing values: \", percent_missing)"
   ],
   "metadata": {
    "collapsed": false,
    "ExecuteTime": {
     "end_time": "2023-10-26T00:09:19.657203100Z",
     "start_time": "2023-10-26T00:09:19.379309400Z"
    }
   },
   "id": "e72c48224006f9ac"
  },
  {
   "cell_type": "markdown",
   "source": [
    "Summarize data"
   ],
   "metadata": {
    "collapsed": false
   },
   "id": "cc26863de54a7c78"
  },
  {
   "cell_type": "code",
   "execution_count": 13,
   "outputs": [
    {
     "data": {
      "text/plain": "           PassengerId    Survived      Pclass         Age       SibSp  \\\ncount       891.000000  891.000000  891.000000  714.000000  891.000000   \nmean        446.000000    0.383838    2.308642   29.699118    0.523008   \nstd         257.353842    0.486592    0.836071   14.526497    1.102743   \nmin           1.000000    0.000000    1.000000    0.420000    0.000000   \n25%         223.500000    0.000000    2.000000   20.125000    0.000000   \n50%         446.000000    0.000000    3.000000   28.000000    0.000000   \n75%         668.500000    1.000000    3.000000   38.000000    1.000000   \nmax         891.000000    1.000000    3.000000   80.000000    8.000000   \n\n            Parch        Fare  \ncount  891.000000  891.000000  \nmean     0.381594   32.204208  \nstd      0.806057   49.693429  \nmin      0.000000    0.000000  \n25%      0.000000    7.910400  \n50%      0.000000   14.454200  \n75%      0.000000   31.000000  \nmax      6.000000  512.329200  ",
      "text/html": "<div>\n<style scoped>\n    .dataframe tbody tr th:only-of-type {\n        vertical-align: middle;\n    }\n\n    .dataframe tbody tr th {\n        vertical-align: top;\n    }\n\n    .dataframe thead th {\n        text-align: right;\n    }\n</style>\n<table border=\"1\" class=\"dataframe\">\n  <thead>\n    <tr style=\"text-align: right;\">\n      <th></th>\n      <th>PassengerId</th>\n      <th>Survived</th>\n      <th>Pclass</th>\n      <th>Age</th>\n      <th>SibSp</th>\n      <th>Parch</th>\n      <th>Fare</th>\n    </tr>\n  </thead>\n  <tbody>\n    <tr>\n      <th>count</th>\n      <td>891.000000</td>\n      <td>891.000000</td>\n      <td>891.000000</td>\n      <td>714.000000</td>\n      <td>891.000000</td>\n      <td>891.000000</td>\n      <td>891.000000</td>\n    </tr>\n    <tr>\n      <th>mean</th>\n      <td>446.000000</td>\n      <td>0.383838</td>\n      <td>2.308642</td>\n      <td>29.699118</td>\n      <td>0.523008</td>\n      <td>0.381594</td>\n      <td>32.204208</td>\n    </tr>\n    <tr>\n      <th>std</th>\n      <td>257.353842</td>\n      <td>0.486592</td>\n      <td>0.836071</td>\n      <td>14.526497</td>\n      <td>1.102743</td>\n      <td>0.806057</td>\n      <td>49.693429</td>\n    </tr>\n    <tr>\n      <th>min</th>\n      <td>1.000000</td>\n      <td>0.000000</td>\n      <td>1.000000</td>\n      <td>0.420000</td>\n      <td>0.000000</td>\n      <td>0.000000</td>\n      <td>0.000000</td>\n    </tr>\n    <tr>\n      <th>25%</th>\n      <td>223.500000</td>\n      <td>0.000000</td>\n      <td>2.000000</td>\n      <td>20.125000</td>\n      <td>0.000000</td>\n      <td>0.000000</td>\n      <td>7.910400</td>\n    </tr>\n    <tr>\n      <th>50%</th>\n      <td>446.000000</td>\n      <td>0.000000</td>\n      <td>3.000000</td>\n      <td>28.000000</td>\n      <td>0.000000</td>\n      <td>0.000000</td>\n      <td>14.454200</td>\n    </tr>\n    <tr>\n      <th>75%</th>\n      <td>668.500000</td>\n      <td>1.000000</td>\n      <td>3.000000</td>\n      <td>38.000000</td>\n      <td>1.000000</td>\n      <td>0.000000</td>\n      <td>31.000000</td>\n    </tr>\n    <tr>\n      <th>max</th>\n      <td>891.000000</td>\n      <td>1.000000</td>\n      <td>3.000000</td>\n      <td>80.000000</td>\n      <td>8.000000</td>\n      <td>6.000000</td>\n      <td>512.329200</td>\n    </tr>\n  </tbody>\n</table>\n</div>"
     },
     "execution_count": 13,
     "metadata": {},
     "output_type": "execute_result"
    }
   ],
   "source": [
    "train_data.describe()"
   ],
   "metadata": {
    "collapsed": false,
    "ExecuteTime": {
     "end_time": "2023-10-26T00:09:19.672215500Z",
     "start_time": "2023-10-26T00:09:19.390593400Z"
    }
   },
   "id": "a5baab59f85c3a53"
  },
  {
   "cell_type": "markdown",
   "source": [
    "Preprocessing"
   ],
   "metadata": {
    "collapsed": false
   },
   "id": "a4dd760b44ed011e"
  },
  {
   "cell_type": "code",
   "execution_count": 14,
   "outputs": [
    {
     "data": {
      "text/plain": "       PassengerId  Survived  Pclass  \\\n0                1         0       3   \n1                2         1       1   \n2                3         1       3   \n3                4         1       1   \n4                5         0       3   \n\n                                                Name     Sex   Age  SibSp  \\\n0                            Braund, Mr. Owen Harris    male  22.0      1   \n1  Cumings, Mrs. John Bradley (Florence Briggs Th...  female  38.0      1   \n2                             Heikkinen, Miss. Laina  female  26.0      0   \n3       Futrelle, Mrs. Jacques Heath (Lily May Peel)  female  35.0      1   \n4                           Allen, Mr. William Henry    male  35.0      0   \n\n   Parch            Ticket     Fare Cabin Embarked  \n0      0         A/5 21171   7.2500   NaN        S  \n1      0          PC 17599  71.2833   C85        C  \n2      0  STON/O2. 3101282   7.9250   NaN        S  \n3      0            113803  53.1000  C123        S  \n4      0            373450   8.0500   NaN        S  ",
      "text/html": "<div>\n<style scoped>\n    .dataframe tbody tr th:only-of-type {\n        vertical-align: middle;\n    }\n\n    .dataframe tbody tr th {\n        vertical-align: top;\n    }\n\n    .dataframe thead th {\n        text-align: right;\n    }\n</style>\n<table border=\"1\" class=\"dataframe\">\n  <thead>\n    <tr style=\"text-align: right;\">\n      <th></th>\n      <th>PassengerId</th>\n      <th>Survived</th>\n      <th>Pclass</th>\n      <th>Name</th>\n      <th>Sex</th>\n      <th>Age</th>\n      <th>SibSp</th>\n      <th>Parch</th>\n      <th>Ticket</th>\n      <th>Fare</th>\n      <th>Cabin</th>\n      <th>Embarked</th>\n    </tr>\n  </thead>\n  <tbody>\n    <tr>\n      <th>0</th>\n      <td>1</td>\n      <td>0</td>\n      <td>3</td>\n      <td>Braund, Mr. Owen Harris</td>\n      <td>male</td>\n      <td>22.0</td>\n      <td>1</td>\n      <td>0</td>\n      <td>A/5 21171</td>\n      <td>7.2500</td>\n      <td>NaN</td>\n      <td>S</td>\n    </tr>\n    <tr>\n      <th>1</th>\n      <td>2</td>\n      <td>1</td>\n      <td>1</td>\n      <td>Cumings, Mrs. John Bradley (Florence Briggs Th...</td>\n      <td>female</td>\n      <td>38.0</td>\n      <td>1</td>\n      <td>0</td>\n      <td>PC 17599</td>\n      <td>71.2833</td>\n      <td>C85</td>\n      <td>C</td>\n    </tr>\n    <tr>\n      <th>2</th>\n      <td>3</td>\n      <td>1</td>\n      <td>3</td>\n      <td>Heikkinen, Miss. Laina</td>\n      <td>female</td>\n      <td>26.0</td>\n      <td>0</td>\n      <td>0</td>\n      <td>STON/O2. 3101282</td>\n      <td>7.9250</td>\n      <td>NaN</td>\n      <td>S</td>\n    </tr>\n    <tr>\n      <th>3</th>\n      <td>4</td>\n      <td>1</td>\n      <td>1</td>\n      <td>Futrelle, Mrs. Jacques Heath (Lily May Peel)</td>\n      <td>female</td>\n      <td>35.0</td>\n      <td>1</td>\n      <td>0</td>\n      <td>113803</td>\n      <td>53.1000</td>\n      <td>C123</td>\n      <td>S</td>\n    </tr>\n    <tr>\n      <th>4</th>\n      <td>5</td>\n      <td>0</td>\n      <td>3</td>\n      <td>Allen, Mr. William Henry</td>\n      <td>male</td>\n      <td>35.0</td>\n      <td>0</td>\n      <td>0</td>\n      <td>373450</td>\n      <td>8.0500</td>\n      <td>NaN</td>\n      <td>S</td>\n    </tr>\n  </tbody>\n</table>\n</div>"
     },
     "execution_count": 14,
     "metadata": {},
     "output_type": "execute_result"
    }
   ],
   "source": [
    "train_data.head()"
   ],
   "metadata": {
    "collapsed": false,
    "ExecuteTime": {
     "end_time": "2023-10-26T00:09:19.689728100Z",
     "start_time": "2023-10-26T00:09:19.412988300Z"
    }
   },
   "id": "782ab33da100a23d"
  },
  {
   "cell_type": "code",
   "execution_count": 27,
   "outputs": [],
   "source": [
    "# Drop Cabin column (687/891) missing values\n",
    "train_data.drop('Cabin', axis=1)\n",
    "\n",
    "# Fill embarked nan values of dataset set with 'S', most frequent value\n",
    "train_data['Embarked'] = train_data['Embarked'].fillna('S')"
   ],
   "metadata": {
    "collapsed": false,
    "ExecuteTime": {
     "end_time": "2023-10-26T00:12:36.920050100Z",
     "start_time": "2023-10-26T00:12:36.915985700Z"
    }
   },
   "id": "8b0b2b4a22ac9755"
  },
  {
   "cell_type": "code",
   "execution_count": 32,
   "outputs": [],
   "source": [
    "from sklearn.preprocessing import OneHotEncoder\n",
    "\n",
    "# Convert categorical data (Sex and Embarked) one-hot-encoding\n",
    "object_cols = ['Sex', 'Embarked']\n",
    "new_cols_name = ['female', 'male', 'C', 'Q', 'S']\n",
    "\n",
    "OH_encoder = OneHotEncoder(handle_unknown='ignore', sparse_output=False)\n",
    "OH_cols_train = pd.DataFrame(OH_encoder.fit_transform(train_data[object_cols]))\n",
    "OH_cols_valid = pd.DataFrame(OH_encoder.transform(test_data[object_cols]))\n",
    "\n",
    "OH_cols_train.columns = new_cols_name\n",
    "OH_cols_valid.columns = new_cols_name\n",
    "\n",
    "num_X_train = train_data.drop(object_cols, axis=1)\n",
    "num_X_valid = test_data.drop(object_cols, axis=1)\n",
    "\n",
    "OH_X_train = pd.concat([num_X_train, OH_cols_train], axis=1)\n",
    "OH_X_valid = pd.concat([num_X_valid, OH_cols_valid], axis=1)"
   ],
   "metadata": {
    "collapsed": false,
    "ExecuteTime": {
     "end_time": "2023-10-26T00:13:21.459811Z",
     "start_time": "2023-10-26T00:13:21.443649500Z"
    }
   },
   "id": "75bd4ecd481536e1"
  },
  {
   "cell_type": "code",
   "execution_count": 33,
   "outputs": [
    {
     "data": {
      "text/plain": "       PassengerId  Survived  Pclass  \\\n0                1         0       3   \n1                2         1       1   \n2                3         1       3   \n3                4         1       1   \n4                5         0       3   \n5                6         0       3   \n6                7         0       1   \n7                8         0       3   \n8                9         1       3   \n9               10         1       2   \n\n                                                Name   Age  SibSp  Parch  \\\n0                            Braund, Mr. Owen Harris  22.0      1      0   \n1  Cumings, Mrs. John Bradley (Florence Briggs Th...  38.0      1      0   \n2                             Heikkinen, Miss. Laina  26.0      0      0   \n3       Futrelle, Mrs. Jacques Heath (Lily May Peel)  35.0      1      0   \n4                           Allen, Mr. William Henry  35.0      0      0   \n5                                   Moran, Mr. James   NaN      0      0   \n6                            McCarthy, Mr. Timothy J  54.0      0      0   \n7                     Palsson, Master. Gosta Leonard   2.0      3      1   \n8  Johnson, Mrs. Oscar W (Elisabeth Vilhelmina Berg)  27.0      0      2   \n9                Nasser, Mrs. Nicholas (Adele Achem)  14.0      1      0   \n\n             Ticket     Fare Cabin  female  male    C    Q    S  \n0         A/5 21171   7.2500   NaN     0.0   1.0  0.0  0.0  1.0  \n1          PC 17599  71.2833   C85     1.0   0.0  1.0  0.0  0.0  \n2  STON/O2. 3101282   7.9250   NaN     1.0   0.0  0.0  0.0  1.0  \n3            113803  53.1000  C123     1.0   0.0  0.0  0.0  1.0  \n4            373450   8.0500   NaN     0.0   1.0  0.0  0.0  1.0  \n5            330877   8.4583   NaN     0.0   1.0  0.0  1.0  0.0  \n6             17463  51.8625   E46     0.0   1.0  0.0  0.0  1.0  \n7            349909  21.0750   NaN     0.0   1.0  0.0  0.0  1.0  \n8            347742  11.1333   NaN     1.0   0.0  0.0  0.0  1.0  \n9            237736  30.0708   NaN     1.0   0.0  1.0  0.0  0.0  ",
      "text/html": "<div>\n<style scoped>\n    .dataframe tbody tr th:only-of-type {\n        vertical-align: middle;\n    }\n\n    .dataframe tbody tr th {\n        vertical-align: top;\n    }\n\n    .dataframe thead th {\n        text-align: right;\n    }\n</style>\n<table border=\"1\" class=\"dataframe\">\n  <thead>\n    <tr style=\"text-align: right;\">\n      <th></th>\n      <th>PassengerId</th>\n      <th>Survived</th>\n      <th>Pclass</th>\n      <th>Name</th>\n      <th>Age</th>\n      <th>SibSp</th>\n      <th>Parch</th>\n      <th>Ticket</th>\n      <th>Fare</th>\n      <th>Cabin</th>\n      <th>female</th>\n      <th>male</th>\n      <th>C</th>\n      <th>Q</th>\n      <th>S</th>\n    </tr>\n  </thead>\n  <tbody>\n    <tr>\n      <th>0</th>\n      <td>1</td>\n      <td>0</td>\n      <td>3</td>\n      <td>Braund, Mr. Owen Harris</td>\n      <td>22.0</td>\n      <td>1</td>\n      <td>0</td>\n      <td>A/5 21171</td>\n      <td>7.2500</td>\n      <td>NaN</td>\n      <td>0.0</td>\n      <td>1.0</td>\n      <td>0.0</td>\n      <td>0.0</td>\n      <td>1.0</td>\n    </tr>\n    <tr>\n      <th>1</th>\n      <td>2</td>\n      <td>1</td>\n      <td>1</td>\n      <td>Cumings, Mrs. John Bradley (Florence Briggs Th...</td>\n      <td>38.0</td>\n      <td>1</td>\n      <td>0</td>\n      <td>PC 17599</td>\n      <td>71.2833</td>\n      <td>C85</td>\n      <td>1.0</td>\n      <td>0.0</td>\n      <td>1.0</td>\n      <td>0.0</td>\n      <td>0.0</td>\n    </tr>\n    <tr>\n      <th>2</th>\n      <td>3</td>\n      <td>1</td>\n      <td>3</td>\n      <td>Heikkinen, Miss. Laina</td>\n      <td>26.0</td>\n      <td>0</td>\n      <td>0</td>\n      <td>STON/O2. 3101282</td>\n      <td>7.9250</td>\n      <td>NaN</td>\n      <td>1.0</td>\n      <td>0.0</td>\n      <td>0.0</td>\n      <td>0.0</td>\n      <td>1.0</td>\n    </tr>\n    <tr>\n      <th>3</th>\n      <td>4</td>\n      <td>1</td>\n      <td>1</td>\n      <td>Futrelle, Mrs. Jacques Heath (Lily May Peel)</td>\n      <td>35.0</td>\n      <td>1</td>\n      <td>0</td>\n      <td>113803</td>\n      <td>53.1000</td>\n      <td>C123</td>\n      <td>1.0</td>\n      <td>0.0</td>\n      <td>0.0</td>\n      <td>0.0</td>\n      <td>1.0</td>\n    </tr>\n    <tr>\n      <th>4</th>\n      <td>5</td>\n      <td>0</td>\n      <td>3</td>\n      <td>Allen, Mr. William Henry</td>\n      <td>35.0</td>\n      <td>0</td>\n      <td>0</td>\n      <td>373450</td>\n      <td>8.0500</td>\n      <td>NaN</td>\n      <td>0.0</td>\n      <td>1.0</td>\n      <td>0.0</td>\n      <td>0.0</td>\n      <td>1.0</td>\n    </tr>\n    <tr>\n      <th>5</th>\n      <td>6</td>\n      <td>0</td>\n      <td>3</td>\n      <td>Moran, Mr. James</td>\n      <td>NaN</td>\n      <td>0</td>\n      <td>0</td>\n      <td>330877</td>\n      <td>8.4583</td>\n      <td>NaN</td>\n      <td>0.0</td>\n      <td>1.0</td>\n      <td>0.0</td>\n      <td>1.0</td>\n      <td>0.0</td>\n    </tr>\n    <tr>\n      <th>6</th>\n      <td>7</td>\n      <td>0</td>\n      <td>1</td>\n      <td>McCarthy, Mr. Timothy J</td>\n      <td>54.0</td>\n      <td>0</td>\n      <td>0</td>\n      <td>17463</td>\n      <td>51.8625</td>\n      <td>E46</td>\n      <td>0.0</td>\n      <td>1.0</td>\n      <td>0.0</td>\n      <td>0.0</td>\n      <td>1.0</td>\n    </tr>\n    <tr>\n      <th>7</th>\n      <td>8</td>\n      <td>0</td>\n      <td>3</td>\n      <td>Palsson, Master. Gosta Leonard</td>\n      <td>2.0</td>\n      <td>3</td>\n      <td>1</td>\n      <td>349909</td>\n      <td>21.0750</td>\n      <td>NaN</td>\n      <td>0.0</td>\n      <td>1.0</td>\n      <td>0.0</td>\n      <td>0.0</td>\n      <td>1.0</td>\n    </tr>\n    <tr>\n      <th>8</th>\n      <td>9</td>\n      <td>1</td>\n      <td>3</td>\n      <td>Johnson, Mrs. Oscar W (Elisabeth Vilhelmina Berg)</td>\n      <td>27.0</td>\n      <td>0</td>\n      <td>2</td>\n      <td>347742</td>\n      <td>11.1333</td>\n      <td>NaN</td>\n      <td>1.0</td>\n      <td>0.0</td>\n      <td>0.0</td>\n      <td>0.0</td>\n      <td>1.0</td>\n    </tr>\n    <tr>\n      <th>9</th>\n      <td>10</td>\n      <td>1</td>\n      <td>2</td>\n      <td>Nasser, Mrs. Nicholas (Adele Achem)</td>\n      <td>14.0</td>\n      <td>1</td>\n      <td>0</td>\n      <td>237736</td>\n      <td>30.0708</td>\n      <td>NaN</td>\n      <td>1.0</td>\n      <td>0.0</td>\n      <td>1.0</td>\n      <td>0.0</td>\n      <td>0.0</td>\n    </tr>\n  </tbody>\n</table>\n</div>"
     },
     "execution_count": 33,
     "metadata": {},
     "output_type": "execute_result"
    }
   ],
   "source": [
    "OH_X_train.head(10)"
   ],
   "metadata": {
    "collapsed": false,
    "ExecuteTime": {
     "end_time": "2023-10-26T00:13:30.393970Z",
     "start_time": "2023-10-26T00:13:30.365764400Z"
    }
   },
   "id": "227fb73b61dc155b"
  },
  {
   "cell_type": "markdown",
   "source": [
    "Feature analysis"
   ],
   "metadata": {
    "collapsed": false
   },
   "id": "ed19aed16d23d5ef"
  },
  {
   "cell_type": "markdown",
   "source": [
    "Numerical variables"
   ],
   "metadata": {
    "collapsed": false
   },
   "id": "7f0ec8406ae5cd87"
  },
  {
   "cell_type": "code",
   "execution_count": null,
   "outputs": [],
   "source": [
    "g = sns.heatmap(train_data[['Survived', 'Age', 'SibSp', 'Parch', 'Fare']].corr(), annot=True, fmt=\".2f\", cmap=\"coolwarm\")"
   ],
   "metadata": {
    "collapsed": false,
    "ExecuteTime": {
     "start_time": "2023-10-26T00:09:19.469559800Z"
    }
   },
   "id": "1ef452e224d29eb3"
  },
  {
   "cell_type": "markdown",
   "source": [
    "SibSP"
   ],
   "metadata": {
    "collapsed": false
   },
   "id": "6f21f0e9a30caa90"
  },
  {
   "cell_type": "code",
   "execution_count": null,
   "outputs": [],
   "source": [
    "g = sns.catplot(hue=\"SibSp\", y=\"Survived\", data=train_data, kind=\"bar\", palette=\"muted\", legend=False)\n",
    "g = g.set_ylabels(\"survived probability\")"
   ],
   "metadata": {
    "collapsed": false,
    "ExecuteTime": {
     "start_time": "2023-10-26T00:09:19.473567300Z"
    }
   },
   "id": "961eb3bc4f1bacf7"
  },
  {
   "cell_type": "markdown",
   "source": [
    "Parch"
   ],
   "metadata": {
    "collapsed": false
   },
   "id": "1e1e13a7a0f85de1"
  },
  {
   "cell_type": "code",
   "execution_count": null,
   "outputs": [],
   "source": [
    "g = sns.catplot(hue=\"Parch\", y=\"Survived\", data=train_data, kind=\"bar\", palette=\"muted\", legend=False)\n",
    "g = g.set_ylabels(\"Survived probability\")"
   ],
   "metadata": {
    "collapsed": false,
    "ExecuteTime": {
     "start_time": "2023-10-26T00:09:19.473567300Z"
    }
   },
   "id": "e0be502989d226e1"
  },
  {
   "cell_type": "markdown",
   "source": [
    "Age"
   ],
   "metadata": {
    "collapsed": false
   },
   "id": "ab4aa4c7a9a96502"
  },
  {
   "cell_type": "code",
   "execution_count": null,
   "outputs": [],
   "source": [
    "g = sns.FacetGrid(data=train_data, col=\"Survived\")\n",
    "g = g.map(sns.histplot  , \"Age\")"
   ],
   "metadata": {
    "collapsed": false,
    "ExecuteTime": {
     "start_time": "2023-10-26T00:09:19.478073200Z"
    }
   },
   "id": "7f01c6043d74ed5b"
  },
  {
   "cell_type": "markdown",
   "source": [
    "Fare"
   ],
   "metadata": {
    "collapsed": false
   },
   "id": "9b1856f733f94d87"
  },
  {
   "cell_type": "code",
   "execution_count": null,
   "outputs": [],
   "source": [
    "g = sns.displot(train_data[\"Fare\"], color=\"m\", label=\"Skewness: %.2f\"%(train_data[\"Fare\"].skew()))"
   ],
   "metadata": {
    "collapsed": false,
    "ExecuteTime": {
     "start_time": "2023-10-26T00:09:19.479597Z"
    }
   },
   "id": "3ac4bb98214bf6ee"
  },
  {
   "cell_type": "code",
   "execution_count": null,
   "outputs": [],
   "source": [
    "# Apply log to Fare to reduce skewness distribution\n",
    "train_data[\"Fare\"] = train_data[\"Fare\"].map(lambda i: np.log(i) if i > 0 else 0)"
   ],
   "metadata": {
    "collapsed": false,
    "ExecuteTime": {
     "start_time": "2023-10-26T00:09:19.480624Z"
    }
   },
   "id": "e81fdd0438be0317"
  },
  {
   "cell_type": "code",
   "execution_count": null,
   "outputs": [],
   "source": [
    "g = sns.displot(train_data[\"Fare\"], color=\"b\", label=\"Skewness: %.2f\"%(train_data[\"Fare\"].skew()))"
   ],
   "metadata": {
    "collapsed": false,
    "ExecuteTime": {
     "start_time": "2023-10-26T00:09:19.483650100Z"
    }
   },
   "id": "2016d45167cfde54"
  },
  {
   "cell_type": "markdown",
   "source": [
    "Categorical variables"
   ],
   "metadata": {
    "collapsed": false
   },
   "id": "7ff405ea1fe92bf4"
  },
  {
   "cell_type": "markdown",
   "source": [
    "Sex"
   ],
   "metadata": {
    "collapsed": false
   },
   "id": "c3ff79bb60e57558"
  },
  {
   "cell_type": "code",
   "execution_count": null,
   "outputs": [],
   "source": [
    "g = sns.barplot(x=\"Sex\", y=\"Survived\", data=train_data)\n",
    "g = g.set_ylabel(\"Survival probability\")"
   ],
   "metadata": {
    "collapsed": false,
    "ExecuteTime": {
     "start_time": "2023-10-26T00:09:19.483650100Z"
    }
   },
   "id": "fd518a0c85e0f84b"
  },
  {
   "cell_type": "code",
   "execution_count": null,
   "outputs": [],
   "source": [
    "train_data[[\"Sex\", \"Survived\"]].groupby('Sex').mean()"
   ],
   "metadata": {
    "collapsed": false,
    "ExecuteTime": {
     "start_time": "2023-10-26T00:09:19.483650100Z"
    }
   },
   "id": "cb2f0017392a38a"
  },
  {
   "cell_type": "markdown",
   "source": [
    "Pclass"
   ],
   "metadata": {
    "collapsed": false
   },
   "id": "232320771c88ebb6"
  },
  {
   "cell_type": "code",
   "execution_count": null,
   "outputs": [],
   "source": [
    "g = sns.catplot(hue=\"Pclass\", y=\"Survived\", data=train_data, kind=\"bar\", palette=\"muted\", legend=False)\n",
    "g = g.set_ylabels(\"Survival probability\")"
   ],
   "metadata": {
    "collapsed": false,
    "ExecuteTime": {
     "start_time": "2023-10-26T00:09:19.483650100Z"
    }
   },
   "id": "59d107370076ecd5"
  },
  {
   "cell_type": "code",
   "execution_count": null,
   "outputs": [],
   "source": [
    "# Pclass vs Survived by Sex\n",
    "g = sns.catplot(x=\"Pclass\", y=\"Survived\", hue=\"Sex\", data=train_data, kind=\"bar\", palette=\"muted\")\n",
    "g = g.set_ylabels(\"Survival probability\")"
   ],
   "metadata": {
    "collapsed": false,
    "ExecuteTime": {
     "start_time": "2023-10-26T00:09:19.489714100Z"
    }
   },
   "id": "f3744f5bd42ee6c6"
  },
  {
   "cell_type": "markdown",
   "source": [
    "Embarked"
   ],
   "metadata": {
    "collapsed": false
   },
   "id": "1ffdc7789dc5ea67"
  },
  {
   "cell_type": "code",
   "execution_count": null,
   "outputs": [],
   "source": [
    "# Explore Embarked vs Survived\n",
    "g = sns.catplot(hue=\"Embarked\", y=\"Survived\", data=train_data, kind=\"bar\", palette=\"muted\", legend=False)\n",
    "g = g.set_ylabels(\"Survived probability\")"
   ],
   "metadata": {
    "collapsed": false,
    "ExecuteTime": {
     "start_time": "2023-10-26T00:09:19.496238100Z"
    }
   },
   "id": "a404d3b520412e2d"
  },
  {
   "cell_type": "code",
   "execution_count": null,
   "outputs": [],
   "source": [
    "# Explore Embarked vs Pclass\n",
    "g = sns.catplot(x=\"Pclass\", hue=\"Embarked\", data=train_data, kind=\"count\", legend=False)\n",
    "g = g.set_ylabels(\"Count\")"
   ],
   "metadata": {
    "collapsed": false,
    "ExecuteTime": {
     "start_time": "2023-10-26T00:09:19.496238100Z"
    }
   },
   "id": "2fe2b21443065763"
  },
  {
   "cell_type": "markdown",
   "source": [
    "Imports for train model"
   ],
   "metadata": {
    "collapsed": false
   },
   "id": "3414ed951b6b1d96"
  },
  {
   "cell_type": "code",
   "execution_count": null,
   "outputs": [],
   "source": [
    "from xgboost import XGBClassifier\n",
    "from sklearn.ensemble import RandomForestClassifier, AdaBoostClassifier, ExtraTreesClassifier, GradientBoostingClassifier\n",
    "from sklearn.tree import DecisionTreeClassifier\n",
    "from sklearn.neighbors import KNeighborsClassifier\n",
    "from sklearn.model_selection import train_test_split ,StratifiedKFold, cross_val_score, GridSearchCV\n",
    "from sklearn.svm import SVC\n",
    "from sklearn.neural_network import MLPClassifier\n",
    "from sklearn.discriminant_analysis import LinearDiscriminantAnalysis"
   ],
   "metadata": {
    "collapsed": false,
    "ExecuteTime": {
     "start_time": "2023-10-26T00:09:19.501156700Z"
    }
   },
   "id": "b5d3ed0582c31b78"
  },
  {
   "cell_type": "markdown",
   "source": [
    "Rank different classifiers"
   ],
   "metadata": {
    "collapsed": false
   },
   "id": "d3450573cde4f934"
  },
  {
   "cell_type": "code",
   "execution_count": null,
   "outputs": [],
   "source": [
    "# drop unnecessary cols and select target col\n",
    "x_train = train_data.loc[:, ~train_data.columns.isin(['Survived', 'Name'])]\n",
    "y_train = train_data['Survived']\n",
    "\n",
    "x_train, x_test, y_train, y_test = train_test_split(x_train, y_train, test_size=0.2, random_state=42)"
   ],
   "metadata": {
    "collapsed": false,
    "ExecuteTime": {
     "start_time": "2023-10-26T00:09:19.503411600Z"
    }
   },
   "id": "8e35e7efce6f731c"
  },
  {
   "cell_type": "code",
   "execution_count": null,
   "outputs": [],
   "source": [
    "kfold = StratifiedKFold(n_splits=10)\n",
    "random_state = 2\n",
    "classifiers = []\n",
    "classifiers.append(SVC(random_state=random_state))\n",
    "classifiers.append(DecisionTreeClassifier(random_state=random_state))\n",
    "classifiers.append(AdaBoostClassifier(DecisionTreeClassifier(random_state=random_state),random_state=random_state,learning_rate=0.1))\n",
    "classifiers.append(RandomForestClassifier(random_state=random_state))\n",
    "classifiers.append(ExtraTreesClassifier(random_state=random_state))\n",
    "classifiers.append(GradientBoostingClassifier(random_state=random_state))\n",
    "classifiers.append(MLPClassifier(random_state=random_state))\n",
    "classifiers.append(KNeighborsClassifier())\n",
    "classifiers.append(LinearDiscriminantAnalysis())\n",
    "classifiers.append(XGBClassifier(random_state = random_state))\n",
    "\n",
    "cv_results = []\n",
    "for classifier in classifiers:\n",
    "    print(classifier, \"Done!\")\n",
    "    cv_results.append(cross_val_score(classifier, x_train, y = y_train, scoring = \"accuracy\", cv = kfold, n_jobs=4, error_score=\"raise\"))\n",
    "    \n",
    "cv_means = []\n",
    "cv_std = []\n",
    "for cv_result in cv_results:\n",
    "    cv_means.append(cv_result.mean())\n",
    "    cv_std.append(cv_result.std())\n",
    "    \n",
    "cv_res = pd.DataFrame({\"CrossValMeans\":cv_means,\"CrossValerrors\": cv_std,\"Algorithm\":[\"SVC\",\"DecisionTree\",\"AdaBoost\",\n",
    "\"RandomForest\",\"ExtraTrees\",\"GradientBoosting\",\"MultipleLayerPerceptron\",\"KNeighboors\",\"LinearDiscriminantAnalysis\",'XGBClassifier']})\n",
    "cv_res = cv_res.sort_values(by='CrossValMeans',ascending = False)"
   ],
   "metadata": {
    "collapsed": false,
    "ExecuteTime": {
     "start_time": "2023-10-26T00:09:19.503411600Z"
    }
   },
   "id": "d51581308b221065"
  },
  {
   "cell_type": "code",
   "execution_count": null,
   "outputs": [],
   "source": [
    "fig = make_subplots(rows=1, cols=1, \n",
    "                    specs=[[{\"type\": \"bar\"}]])\n",
    "\n",
    "fig.add_trace(go.Bar(x=cv_res['CrossValMeans'], y=cv_res.Algorithm, marker=dict(color=['#334550','#334550','#334668','#334668','#496595','#496595','#6D83AA','#6D83AA','#91A2BF','#C8D0DF']),\n",
    "                     name='Fare', orientation='h'), \n",
    "                     row=1, col=1)\n",
    "# styling\n",
    "fig.update_yaxes(showgrid=True, ticksuffix=' ', categoryorder='total ascending', row=1, col=1)\n",
    "fig.update_xaxes(visible=True, row=1, col=1)\n",
    "fig.update_layout(height=500, bargap=0.1,\n",
    "                  margin=dict(b=0,r=20,l=20), xaxis=dict(tickmode='linear'),\n",
    "                  title_text=\"Cross Validation Scores\",\n",
    "                  template=\"plotly_white\",\n",
    "                  title_font=dict(size=29, color='#8a8d93', family=\"Lato, sans-serif\"),\n",
    "                  font=dict(color='#8a8d93'), \n",
    "                  hoverlabel=dict(bgcolor=\"#f2f2f2\", font_size=13, font_family=\"Lato, sans-serif\"),\n",
    "                  showlegend=False)\n",
    "fig.show()"
   ],
   "metadata": {
    "collapsed": false,
    "ExecuteTime": {
     "start_time": "2023-10-26T00:09:19.507414Z"
    }
   },
   "id": "3a6ea803611b0697"
  },
  {
   "cell_type": "markdown",
   "source": [
    "Search the best hyperparameters for Random Forest Classifier "
   ],
   "metadata": {
    "collapsed": false
   },
   "id": "11e648f7cdd67e23"
  },
  {
   "cell_type": "code",
   "execution_count": null,
   "outputs": [],
   "source": [
    "rf = RandomForestClassifier(random_state=0, n_jobs=-1, max_depth=5, n_estimators=100, oob_score=True)\n",
    "\n",
    "rf.fit(x_train, y_train)\n",
    "\n",
    "print('Oob score:', rf.oob_score_)"
   ],
   "metadata": {
    "collapsed": false,
    "ExecuteTime": {
     "start_time": "2023-10-26T00:09:19.509438100Z"
    }
   },
   "id": "8ab8aff03cf10ce3"
  },
  {
   "cell_type": "code",
   "execution_count": null,
   "outputs": [],
   "source": [
    "rf = RandomForestClassifier(random_state=0, n_jobs=-1)\n",
    "\n",
    "params = {\n",
    "    'max_depth': [2, 3, 5, 10, 20],\n",
    "    'min_samples_leaf': [5, 10, 20, 50, 100, 200],\n",
    "    'n_estimators': [10, 25, 30, 50, 100, 200]\n",
    "}\n",
    "\n",
    "grid_search = GridSearchCV(estimator=rf,\n",
    "                           param_grid=params,\n",
    "                           cv=4,\n",
    "                           n_jobs=-1, verbose=1, scoring=\"accuracy\")\n",
    "\n",
    "grid_search.fit(x_train, y_train)"
   ],
   "metadata": {
    "collapsed": false,
    "ExecuteTime": {
     "start_time": "2023-10-26T00:09:19.511454300Z"
    }
   },
   "id": "eee39d39b85051c9"
  },
  {
   "cell_type": "code",
   "execution_count": null,
   "outputs": [],
   "source": [
    "grid_search.best_score_"
   ],
   "metadata": {
    "collapsed": false,
    "ExecuteTime": {
     "start_time": "2023-10-26T00:09:19.511454300Z"
    }
   },
   "id": "272822634b810c75"
  },
  {
   "cell_type": "code",
   "execution_count": null,
   "outputs": [],
   "source": [
    "rf_best = grid_search.best_estimator_\n",
    "rf_best"
   ],
   "metadata": {
    "collapsed": false,
    "ExecuteTime": {
     "start_time": "2023-10-26T00:09:19.511454300Z"
    }
   },
   "id": "48a7714623a23158"
  },
  {
   "cell_type": "code",
   "execution_count": null,
   "outputs": [],
   "source": [
    "imp_df = pd.DataFrame({\n",
    "    \"Varname\": x_train.columns,\n",
    "    \"Imp\": rf_best.feature_importances_\n",
    "})\n",
    "\n",
    "imp_df.sort_values(by=\"Imp\", ascending=False)"
   ],
   "metadata": {
    "collapsed": false,
    "ExecuteTime": {
     "start_time": "2023-10-26T00:09:19.511454300Z"
    }
   },
   "id": "bcadb3e0e9d27450"
  },
  {
   "cell_type": "markdown",
   "source": [
    "Train model (submit)"
   ],
   "metadata": {
    "collapsed": false
   },
   "id": "578383b79a40af60"
  },
  {
   "cell_type": "code",
   "execution_count": null,
   "outputs": [],
   "source": [
    "y = train_data[\"Survived\"]\n",
    "features = [\"Pclass\", \"SibSp\", \"Parch\"]\n",
    "\n",
    "# X = pd.get_dummies(train_data[features])\n",
    "# X_test = pd.get_dummies(test_data[features])\n",
    "X = pd.get_dummies(train_data)\n",
    "X_test = pd.get_dummies(test_data)\n",
    "\n",
    "rf = RandomForestClassifier(max_depth=3, min_samples_leaf=20, n_estimators=10, n_jobs=-1, random_state=0)\n",
    "rf.fit(X, y)\n",
    "predictions = rf.predict(X_test)\n",
    "\n",
    "output = pd.DataFrame({'PassengerId': test_data.PassengerId, 'Survived': predictions})\n",
    "output.to_csv('submission.csv', index=False)\n",
    "\n",
    "print(\"Your submission was successfully saved!\")"
   ],
   "metadata": {
    "collapsed": false,
    "ExecuteTime": {
     "start_time": "2023-10-26T00:09:19.515460800Z"
    }
   },
   "id": "dda6e2c1291592f1"
  },
  {
   "cell_type": "markdown",
   "source": [
    "Save prediction to csv file"
   ],
   "metadata": {
    "collapsed": false
   },
   "id": "8a963b2daa91dee9"
  },
  {
   "cell_type": "code",
   "execution_count": null,
   "outputs": [],
   "source": [
    "output = pd.DataFrame({'PassengerId': test_data.PassengerId, 'Survived': predictions})\n",
    "output.to_csv('submission.csv', index=False)\n",
    "\n",
    "print(\"Your submission was successfully saved!\")"
   ],
   "metadata": {
    "collapsed": false,
    "ExecuteTime": {
     "start_time": "2023-10-26T00:09:19.515460800Z"
    }
   },
   "id": "a9e230a607b39a4a"
  },
  {
   "cell_type": "markdown",
   "source": [
    "Check output"
   ],
   "metadata": {
    "collapsed": false
   },
   "id": "5366c01ee2824b3d"
  },
  {
   "cell_type": "code",
   "execution_count": null,
   "outputs": [],
   "source": [
    "results = pd.read_csv('submission.csv')\n",
    "results.head()"
   ],
   "metadata": {
    "collapsed": false,
    "ExecuteTime": {
     "start_time": "2023-10-26T00:09:19.515460800Z"
    }
   },
   "id": "4881e0f32463a1f7"
  },
  {
   "cell_type": "markdown",
   "source": [],
   "metadata": {
    "collapsed": false
   },
   "id": "fc78b3b77c9c657b"
  }
 ],
 "metadata": {
  "kernelspec": {
   "display_name": "Python 3 (ipykernel)",
   "language": "python",
   "name": "python3"
  },
  "language_info": {
   "codemirror_mode": {
    "name": "ipython",
    "version": 3
   },
   "file_extension": ".py",
   "mimetype": "text/x-python",
   "name": "python",
   "nbconvert_exporter": "python",
   "pygments_lexer": "ipython3",
   "version": "3.11.4"
  }
 },
 "nbformat": 4,
 "nbformat_minor": 5
}
