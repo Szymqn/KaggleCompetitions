{
 "cells": [
  {
   "cell_type": "code",
   "execution_count": 1,
   "id": "85c8f8f2",
   "metadata": {
    "_cell_guid": "b1076dfc-b9ad-4769-8c92-a6c4dae69d19",
    "_uuid": "8f2839f25d086af736a60e9eeb907d3b93b6e0e5",
    "execution": {
     "iopub.execute_input": "2024-04-04T21:35:55.633470Z",
     "iopub.status.busy": "2024-04-04T21:35:55.632955Z",
     "iopub.status.idle": "2024-04-04T21:36:13.790781Z",
     "shell.execute_reply": "2024-04-04T21:36:13.789164Z"
    },
    "papermill": {
     "duration": 18.16944,
     "end_time": "2024-04-04T21:36:13.793818",
     "exception": false,
     "start_time": "2024-04-04T21:35:55.624378",
     "status": "completed"
    },
    "tags": []
   },
   "outputs": [
    {
     "name": "stdout",
     "output_type": "stream",
     "text": [
      "Collecting scikit-lego\r\n",
      "  Downloading scikit_lego-0.8.1-py2.py3-none-any.whl.metadata (11 kB)\r\n",
      "Requirement already satisfied: pandas>=1.1.5 in /opt/conda/lib/python3.10/site-packages (from scikit-lego) (2.2.1)\r\n",
      "Requirement already satisfied: scikit-learn>=1.0 in /opt/conda/lib/python3.10/site-packages (from scikit-lego) (1.2.2)\r\n",
      "Requirement already satisfied: numpy<2,>=1.22.4 in /opt/conda/lib/python3.10/site-packages (from pandas>=1.1.5->scikit-lego) (1.26.4)\r\n",
      "Requirement already satisfied: python-dateutil>=2.8.2 in /opt/conda/lib/python3.10/site-packages (from pandas>=1.1.5->scikit-lego) (2.9.0.post0)\r\n",
      "Requirement already satisfied: pytz>=2020.1 in /opt/conda/lib/python3.10/site-packages (from pandas>=1.1.5->scikit-lego) (2023.3.post1)\r\n",
      "Requirement already satisfied: tzdata>=2022.7 in /opt/conda/lib/python3.10/site-packages (from pandas>=1.1.5->scikit-lego) (2023.4)\r\n",
      "Requirement already satisfied: scipy>=1.3.2 in /opt/conda/lib/python3.10/site-packages (from scikit-learn>=1.0->scikit-lego) (1.11.4)\r\n",
      "Requirement already satisfied: joblib>=1.1.1 in /opt/conda/lib/python3.10/site-packages (from scikit-learn>=1.0->scikit-lego) (1.3.2)\r\n",
      "Requirement already satisfied: threadpoolctl>=2.0.0 in /opt/conda/lib/python3.10/site-packages (from scikit-learn>=1.0->scikit-lego) (3.2.0)\r\n",
      "Requirement already satisfied: six>=1.5 in /opt/conda/lib/python3.10/site-packages (from python-dateutil>=2.8.2->pandas>=1.1.5->scikit-lego) (1.16.0)\r\n",
      "Downloading scikit_lego-0.8.1-py2.py3-none-any.whl (209 kB)\r\n",
      "\u001b[2K   \u001b[90m━━━━━━━━━━━━━━━━━━━━━━━━━━━━━━━━━━━━━━━━\u001b[0m \u001b[32m209.6/209.6 kB\u001b[0m \u001b[31m6.4 MB/s\u001b[0m eta \u001b[36m0:00:00\u001b[0m\r\n",
      "\u001b[?25hInstalling collected packages: scikit-lego\r\n",
      "Successfully installed scikit-lego-0.8.1\r\n",
      "Note: you may need to restart the kernel to use updated packages.\n"
     ]
    }
   ],
   "source": [
    "pip install scikit-lego"
   ]
  },
  {
   "cell_type": "code",
   "execution_count": 2,
   "id": "2765ed44",
   "metadata": {
    "execution": {
     "iopub.execute_input": "2024-04-04T21:36:13.810917Z",
     "iopub.status.busy": "2024-04-04T21:36:13.810491Z",
     "iopub.status.idle": "2024-04-04T21:36:19.299713Z",
     "shell.execute_reply": "2024-04-04T21:36:19.298191Z"
    },
    "papermill": {
     "duration": 5.501834,
     "end_time": "2024-04-04T21:36:19.303073",
     "exception": false,
     "start_time": "2024-04-04T21:36:13.801239",
     "status": "completed"
    },
    "tags": []
   },
   "outputs": [],
   "source": [
    "import os\n",
    "import numpy as np\n",
    "import pandas as pd\n",
    "import seaborn as sns\n",
    "import matplotlib.pyplot as plt\n",
    "\n",
    "from sklearn.tree import DecisionTreeRegressor, plot_tree\n",
    "from sklearn.preprocessing import MinMaxScaler, StandardScaler, LabelEncoder\n",
    "from sklearn.pipeline import make_pipeline\n",
    "from sklearn.linear_model import Ridge, RidgeCV, Lasso, LassoCV\n",
    "from sklearn.model_selection import KFold, StratifiedKFold, train_test_split, GridSearchCV, RepeatedKFold, RepeatedStratifiedKFold\n",
    "from sklearn.metrics import mean_squared_error, mean_absolute_error, mean_squared_log_error\n",
    "from sklearn.inspection import PartialDependenceDisplay\n",
    "from sklearn.ensemble import RandomForestRegressor, HistGradientBoostingRegressor, GradientBoostingRegressor, ExtraTreesRegressor\n",
    "from sklearn.svm import SVR\n",
    "from lightgbm import LGBMRegressor\n",
    "from xgboost import XGBRegressor\n",
    "from catboost import CatBoostRegressor\n",
    "from sklego.linear_model import LADRegression"
   ]
  },
  {
   "cell_type": "code",
   "execution_count": 3,
   "id": "18bfbf59",
   "metadata": {
    "execution": {
     "iopub.execute_input": "2024-04-04T21:36:19.319979Z",
     "iopub.status.busy": "2024-04-04T21:36:19.319314Z",
     "iopub.status.idle": "2024-04-04T21:36:19.326978Z",
     "shell.execute_reply": "2024-04-04T21:36:19.325704Z"
    },
    "papermill": {
     "duration": 0.019024,
     "end_time": "2024-04-04T21:36:19.329453",
     "exception": false,
     "start_time": "2024-04-04T21:36:19.310429",
     "status": "completed"
    },
    "tags": []
   },
   "outputs": [
    {
     "name": "stdout",
     "output_type": "stream",
     "text": [
      "/kaggle/input/playground-series-s4e4/sample_submission.csv\n",
      "/kaggle/input/playground-series-s4e4/train.csv\n",
      "/kaggle/input/playground-series-s4e4/test.csv\n"
     ]
    }
   ],
   "source": [
    "for dirname, _, filenames in os.walk('/kaggle/input'):\n",
    "    for filename in filenames:\n",
    "        print(os.path.join(dirname, filename))"
   ]
  },
  {
   "cell_type": "code",
   "execution_count": 4,
   "id": "81d5c34f",
   "metadata": {
    "execution": {
     "iopub.execute_input": "2024-04-04T21:36:19.349125Z",
     "iopub.status.busy": "2024-04-04T21:36:19.348185Z",
     "iopub.status.idle": "2024-04-04T21:36:19.679247Z",
     "shell.execute_reply": "2024-04-04T21:36:19.677893Z"
    },
    "papermill": {
     "duration": 0.346841,
     "end_time": "2024-04-04T21:36:19.684741",
     "exception": false,
     "start_time": "2024-04-04T21:36:19.337900",
     "status": "completed"
    },
    "tags": []
   },
   "outputs": [],
   "source": [
    "train_df = pd.read_csv('../input/playground-series-s4e4/train.csv')\n",
    "test_df = pd.read_csv('../input/playground-series-s4e4/test.csv')\n",
    "combine = [train_df, test_df]"
   ]
  },
  {
   "cell_type": "code",
   "execution_count": 5,
   "id": "ada7969c",
   "metadata": {
    "execution": {
     "iopub.execute_input": "2024-04-04T21:36:19.705419Z",
     "iopub.status.busy": "2024-04-04T21:36:19.704416Z",
     "iopub.status.idle": "2024-04-04T21:36:19.765351Z",
     "shell.execute_reply": "2024-04-04T21:36:19.762445Z"
    },
    "papermill": {
     "duration": 0.076348,
     "end_time": "2024-04-04T21:36:19.768753",
     "exception": false,
     "start_time": "2024-04-04T21:36:19.692405",
     "status": "completed"
    },
    "tags": []
   },
   "outputs": [
    {
     "name": "stdout",
     "output_type": "stream",
     "text": [
      "<class 'pandas.core.frame.DataFrame'>\n",
      "RangeIndex: 90615 entries, 0 to 90614\n",
      "Data columns (total 10 columns):\n",
      " #   Column          Non-Null Count  Dtype  \n",
      "---  ------          --------------  -----  \n",
      " 0   id              90615 non-null  int64  \n",
      " 1   Sex             90615 non-null  object \n",
      " 2   Length          90615 non-null  float64\n",
      " 3   Diameter        90615 non-null  float64\n",
      " 4   Height          90615 non-null  float64\n",
      " 5   Whole weight    90615 non-null  float64\n",
      " 6   Whole weight.1  90615 non-null  float64\n",
      " 7   Whole weight.2  90615 non-null  float64\n",
      " 8   Shell weight    90615 non-null  float64\n",
      " 9   Rings           90615 non-null  int64  \n",
      "dtypes: float64(7), int64(2), object(1)\n",
      "memory usage: 6.9+ MB\n"
     ]
    }
   ],
   "source": [
    "train_df.info()"
   ]
  },
  {
   "cell_type": "code",
   "execution_count": 6,
   "id": "7693562c",
   "metadata": {
    "execution": {
     "iopub.execute_input": "2024-04-04T21:36:19.786279Z",
     "iopub.status.busy": "2024-04-04T21:36:19.785715Z",
     "iopub.status.idle": "2024-04-04T21:36:19.823508Z",
     "shell.execute_reply": "2024-04-04T21:36:19.822079Z"
    },
    "papermill": {
     "duration": 0.049877,
     "end_time": "2024-04-04T21:36:19.826725",
     "exception": false,
     "start_time": "2024-04-04T21:36:19.776848",
     "status": "completed"
    },
    "tags": []
   },
   "outputs": [
    {
     "data": {
      "text/html": [
       "<div>\n",
       "<style scoped>\n",
       "    .dataframe tbody tr th:only-of-type {\n",
       "        vertical-align: middle;\n",
       "    }\n",
       "\n",
       "    .dataframe tbody tr th {\n",
       "        vertical-align: top;\n",
       "    }\n",
       "\n",
       "    .dataframe thead th {\n",
       "        text-align: right;\n",
       "    }\n",
       "</style>\n",
       "<table border=\"1\" class=\"dataframe\">\n",
       "  <thead>\n",
       "    <tr style=\"text-align: right;\">\n",
       "      <th></th>\n",
       "      <th>id</th>\n",
       "      <th>Sex</th>\n",
       "      <th>Length</th>\n",
       "      <th>Diameter</th>\n",
       "      <th>Height</th>\n",
       "      <th>Whole weight</th>\n",
       "      <th>Whole weight.1</th>\n",
       "      <th>Whole weight.2</th>\n",
       "      <th>Shell weight</th>\n",
       "      <th>Rings</th>\n",
       "    </tr>\n",
       "  </thead>\n",
       "  <tbody>\n",
       "    <tr>\n",
       "      <th>0</th>\n",
       "      <td>0</td>\n",
       "      <td>F</td>\n",
       "      <td>0.550</td>\n",
       "      <td>0.430</td>\n",
       "      <td>0.150</td>\n",
       "      <td>0.7715</td>\n",
       "      <td>0.3285</td>\n",
       "      <td>0.1465</td>\n",
       "      <td>0.2400</td>\n",
       "      <td>11</td>\n",
       "    </tr>\n",
       "    <tr>\n",
       "      <th>1</th>\n",
       "      <td>1</td>\n",
       "      <td>F</td>\n",
       "      <td>0.630</td>\n",
       "      <td>0.490</td>\n",
       "      <td>0.145</td>\n",
       "      <td>1.1300</td>\n",
       "      <td>0.4580</td>\n",
       "      <td>0.2765</td>\n",
       "      <td>0.3200</td>\n",
       "      <td>11</td>\n",
       "    </tr>\n",
       "    <tr>\n",
       "      <th>2</th>\n",
       "      <td>2</td>\n",
       "      <td>I</td>\n",
       "      <td>0.160</td>\n",
       "      <td>0.110</td>\n",
       "      <td>0.025</td>\n",
       "      <td>0.0210</td>\n",
       "      <td>0.0055</td>\n",
       "      <td>0.0030</td>\n",
       "      <td>0.0050</td>\n",
       "      <td>6</td>\n",
       "    </tr>\n",
       "    <tr>\n",
       "      <th>3</th>\n",
       "      <td>3</td>\n",
       "      <td>M</td>\n",
       "      <td>0.595</td>\n",
       "      <td>0.475</td>\n",
       "      <td>0.150</td>\n",
       "      <td>0.9145</td>\n",
       "      <td>0.3755</td>\n",
       "      <td>0.2055</td>\n",
       "      <td>0.2500</td>\n",
       "      <td>10</td>\n",
       "    </tr>\n",
       "    <tr>\n",
       "      <th>4</th>\n",
       "      <td>4</td>\n",
       "      <td>I</td>\n",
       "      <td>0.555</td>\n",
       "      <td>0.425</td>\n",
       "      <td>0.130</td>\n",
       "      <td>0.7820</td>\n",
       "      <td>0.3695</td>\n",
       "      <td>0.1600</td>\n",
       "      <td>0.1975</td>\n",
       "      <td>9</td>\n",
       "    </tr>\n",
       "  </tbody>\n",
       "</table>\n",
       "</div>"
      ],
      "text/plain": [
       "   id Sex  Length  Diameter  Height  Whole weight  Whole weight.1  \\\n",
       "0   0   F   0.550     0.430   0.150        0.7715          0.3285   \n",
       "1   1   F   0.630     0.490   0.145        1.1300          0.4580   \n",
       "2   2   I   0.160     0.110   0.025        0.0210          0.0055   \n",
       "3   3   M   0.595     0.475   0.150        0.9145          0.3755   \n",
       "4   4   I   0.555     0.425   0.130        0.7820          0.3695   \n",
       "\n",
       "   Whole weight.2  Shell weight  Rings  \n",
       "0          0.1465        0.2400     11  \n",
       "1          0.2765        0.3200     11  \n",
       "2          0.0030        0.0050      6  \n",
       "3          0.2055        0.2500     10  \n",
       "4          0.1600        0.1975      9  "
      ]
     },
     "execution_count": 6,
     "metadata": {},
     "output_type": "execute_result"
    }
   ],
   "source": [
    "train_df.head()"
   ]
  },
  {
   "cell_type": "code",
   "execution_count": 7,
   "id": "dc729643",
   "metadata": {
    "execution": {
     "iopub.execute_input": "2024-04-04T21:36:19.848768Z",
     "iopub.status.busy": "2024-04-04T21:36:19.848121Z",
     "iopub.status.idle": "2024-04-04T21:36:19.928795Z",
     "shell.execute_reply": "2024-04-04T21:36:19.927922Z"
    },
    "papermill": {
     "duration": 0.094784,
     "end_time": "2024-04-04T21:36:19.932477",
     "exception": false,
     "start_time": "2024-04-04T21:36:19.837693",
     "status": "completed"
    },
    "tags": []
   },
   "outputs": [
    {
     "data": {
      "text/html": [
       "<div>\n",
       "<style scoped>\n",
       "    .dataframe tbody tr th:only-of-type {\n",
       "        vertical-align: middle;\n",
       "    }\n",
       "\n",
       "    .dataframe tbody tr th {\n",
       "        vertical-align: top;\n",
       "    }\n",
       "\n",
       "    .dataframe thead th {\n",
       "        text-align: right;\n",
       "    }\n",
       "</style>\n",
       "<table border=\"1\" class=\"dataframe\">\n",
       "  <thead>\n",
       "    <tr style=\"text-align: right;\">\n",
       "      <th></th>\n",
       "      <th>id</th>\n",
       "      <th>Length</th>\n",
       "      <th>Diameter</th>\n",
       "      <th>Height</th>\n",
       "      <th>Whole weight</th>\n",
       "      <th>Whole weight.1</th>\n",
       "      <th>Whole weight.2</th>\n",
       "      <th>Shell weight</th>\n",
       "      <th>Rings</th>\n",
       "    </tr>\n",
       "  </thead>\n",
       "  <tbody>\n",
       "    <tr>\n",
       "      <th>count</th>\n",
       "      <td>90615.000000</td>\n",
       "      <td>90615.000000</td>\n",
       "      <td>90615.000000</td>\n",
       "      <td>90615.000000</td>\n",
       "      <td>90615.000000</td>\n",
       "      <td>90615.000000</td>\n",
       "      <td>90615.000000</td>\n",
       "      <td>90615.000000</td>\n",
       "      <td>90615.000000</td>\n",
       "    </tr>\n",
       "    <tr>\n",
       "      <th>mean</th>\n",
       "      <td>45307.000000</td>\n",
       "      <td>0.517098</td>\n",
       "      <td>0.401679</td>\n",
       "      <td>0.135464</td>\n",
       "      <td>0.789035</td>\n",
       "      <td>0.340778</td>\n",
       "      <td>0.169422</td>\n",
       "      <td>0.225898</td>\n",
       "      <td>9.696794</td>\n",
       "    </tr>\n",
       "    <tr>\n",
       "      <th>std</th>\n",
       "      <td>26158.441658</td>\n",
       "      <td>0.118217</td>\n",
       "      <td>0.098026</td>\n",
       "      <td>0.038008</td>\n",
       "      <td>0.457671</td>\n",
       "      <td>0.204428</td>\n",
       "      <td>0.100909</td>\n",
       "      <td>0.130203</td>\n",
       "      <td>3.176221</td>\n",
       "    </tr>\n",
       "    <tr>\n",
       "      <th>min</th>\n",
       "      <td>0.000000</td>\n",
       "      <td>0.075000</td>\n",
       "      <td>0.055000</td>\n",
       "      <td>0.000000</td>\n",
       "      <td>0.002000</td>\n",
       "      <td>0.001000</td>\n",
       "      <td>0.000500</td>\n",
       "      <td>0.001500</td>\n",
       "      <td>1.000000</td>\n",
       "    </tr>\n",
       "    <tr>\n",
       "      <th>25%</th>\n",
       "      <td>22653.500000</td>\n",
       "      <td>0.445000</td>\n",
       "      <td>0.345000</td>\n",
       "      <td>0.110000</td>\n",
       "      <td>0.419000</td>\n",
       "      <td>0.177500</td>\n",
       "      <td>0.086500</td>\n",
       "      <td>0.120000</td>\n",
       "      <td>8.000000</td>\n",
       "    </tr>\n",
       "    <tr>\n",
       "      <th>50%</th>\n",
       "      <td>45307.000000</td>\n",
       "      <td>0.545000</td>\n",
       "      <td>0.425000</td>\n",
       "      <td>0.140000</td>\n",
       "      <td>0.799500</td>\n",
       "      <td>0.330000</td>\n",
       "      <td>0.166000</td>\n",
       "      <td>0.225000</td>\n",
       "      <td>9.000000</td>\n",
       "    </tr>\n",
       "    <tr>\n",
       "      <th>75%</th>\n",
       "      <td>67960.500000</td>\n",
       "      <td>0.600000</td>\n",
       "      <td>0.470000</td>\n",
       "      <td>0.160000</td>\n",
       "      <td>1.067500</td>\n",
       "      <td>0.463000</td>\n",
       "      <td>0.232500</td>\n",
       "      <td>0.305000</td>\n",
       "      <td>11.000000</td>\n",
       "    </tr>\n",
       "    <tr>\n",
       "      <th>max</th>\n",
       "      <td>90614.000000</td>\n",
       "      <td>0.815000</td>\n",
       "      <td>0.650000</td>\n",
       "      <td>1.130000</td>\n",
       "      <td>2.825500</td>\n",
       "      <td>1.488000</td>\n",
       "      <td>0.760000</td>\n",
       "      <td>1.005000</td>\n",
       "      <td>29.000000</td>\n",
       "    </tr>\n",
       "  </tbody>\n",
       "</table>\n",
       "</div>"
      ],
      "text/plain": [
       "                 id        Length      Diameter        Height  Whole weight  \\\n",
       "count  90615.000000  90615.000000  90615.000000  90615.000000  90615.000000   \n",
       "mean   45307.000000      0.517098      0.401679      0.135464      0.789035   \n",
       "std    26158.441658      0.118217      0.098026      0.038008      0.457671   \n",
       "min        0.000000      0.075000      0.055000      0.000000      0.002000   \n",
       "25%    22653.500000      0.445000      0.345000      0.110000      0.419000   \n",
       "50%    45307.000000      0.545000      0.425000      0.140000      0.799500   \n",
       "75%    67960.500000      0.600000      0.470000      0.160000      1.067500   \n",
       "max    90614.000000      0.815000      0.650000      1.130000      2.825500   \n",
       "\n",
       "       Whole weight.1  Whole weight.2  Shell weight         Rings  \n",
       "count    90615.000000    90615.000000  90615.000000  90615.000000  \n",
       "mean         0.340778        0.169422      0.225898      9.696794  \n",
       "std          0.204428        0.100909      0.130203      3.176221  \n",
       "min          0.001000        0.000500      0.001500      1.000000  \n",
       "25%          0.177500        0.086500      0.120000      8.000000  \n",
       "50%          0.330000        0.166000      0.225000      9.000000  \n",
       "75%          0.463000        0.232500      0.305000     11.000000  \n",
       "max          1.488000        0.760000      1.005000     29.000000  "
      ]
     },
     "execution_count": 7,
     "metadata": {},
     "output_type": "execute_result"
    }
   ],
   "source": [
    "train_df.describe()"
   ]
  },
  {
   "cell_type": "code",
   "execution_count": 8,
   "id": "646cc075",
   "metadata": {
    "execution": {
     "iopub.execute_input": "2024-04-04T21:36:19.954749Z",
     "iopub.status.busy": "2024-04-04T21:36:19.954300Z",
     "iopub.status.idle": "2024-04-04T21:36:19.974654Z",
     "shell.execute_reply": "2024-04-04T21:36:19.973344Z"
    },
    "papermill": {
     "duration": 0.033039,
     "end_time": "2024-04-04T21:36:19.977403",
     "exception": false,
     "start_time": "2024-04-04T21:36:19.944364",
     "status": "completed"
    },
    "tags": []
   },
   "outputs": [
    {
     "data": {
      "text/html": [
       "<div>\n",
       "<style scoped>\n",
       "    .dataframe tbody tr th:only-of-type {\n",
       "        vertical-align: middle;\n",
       "    }\n",
       "\n",
       "    .dataframe tbody tr th {\n",
       "        vertical-align: top;\n",
       "    }\n",
       "\n",
       "    .dataframe thead th {\n",
       "        text-align: right;\n",
       "    }\n",
       "</style>\n",
       "<table border=\"1\" class=\"dataframe\">\n",
       "  <thead>\n",
       "    <tr style=\"text-align: right;\">\n",
       "      <th></th>\n",
       "      <th>id</th>\n",
       "      <th>Sex</th>\n",
       "      <th>Length</th>\n",
       "      <th>Diameter</th>\n",
       "      <th>Height</th>\n",
       "      <th>Whole weight</th>\n",
       "      <th>Whole weight.1</th>\n",
       "      <th>Whole weight.2</th>\n",
       "      <th>Shell weight</th>\n",
       "    </tr>\n",
       "  </thead>\n",
       "  <tbody>\n",
       "    <tr>\n",
       "      <th>0</th>\n",
       "      <td>90615</td>\n",
       "      <td>M</td>\n",
       "      <td>0.645</td>\n",
       "      <td>0.475</td>\n",
       "      <td>0.155</td>\n",
       "      <td>1.2380</td>\n",
       "      <td>0.6185</td>\n",
       "      <td>0.3125</td>\n",
       "      <td>0.3005</td>\n",
       "    </tr>\n",
       "    <tr>\n",
       "      <th>1</th>\n",
       "      <td>90616</td>\n",
       "      <td>M</td>\n",
       "      <td>0.580</td>\n",
       "      <td>0.460</td>\n",
       "      <td>0.160</td>\n",
       "      <td>0.9830</td>\n",
       "      <td>0.4785</td>\n",
       "      <td>0.2195</td>\n",
       "      <td>0.2750</td>\n",
       "    </tr>\n",
       "    <tr>\n",
       "      <th>2</th>\n",
       "      <td>90617</td>\n",
       "      <td>M</td>\n",
       "      <td>0.560</td>\n",
       "      <td>0.420</td>\n",
       "      <td>0.140</td>\n",
       "      <td>0.8395</td>\n",
       "      <td>0.3525</td>\n",
       "      <td>0.1845</td>\n",
       "      <td>0.2405</td>\n",
       "    </tr>\n",
       "    <tr>\n",
       "      <th>3</th>\n",
       "      <td>90618</td>\n",
       "      <td>M</td>\n",
       "      <td>0.570</td>\n",
       "      <td>0.490</td>\n",
       "      <td>0.145</td>\n",
       "      <td>0.8740</td>\n",
       "      <td>0.3525</td>\n",
       "      <td>0.1865</td>\n",
       "      <td>0.2350</td>\n",
       "    </tr>\n",
       "    <tr>\n",
       "      <th>4</th>\n",
       "      <td>90619</td>\n",
       "      <td>I</td>\n",
       "      <td>0.415</td>\n",
       "      <td>0.325</td>\n",
       "      <td>0.110</td>\n",
       "      <td>0.3580</td>\n",
       "      <td>0.1575</td>\n",
       "      <td>0.0670</td>\n",
       "      <td>0.1050</td>\n",
       "    </tr>\n",
       "  </tbody>\n",
       "</table>\n",
       "</div>"
      ],
      "text/plain": [
       "      id Sex  Length  Diameter  Height  Whole weight  Whole weight.1  \\\n",
       "0  90615   M   0.645     0.475   0.155        1.2380          0.6185   \n",
       "1  90616   M   0.580     0.460   0.160        0.9830          0.4785   \n",
       "2  90617   M   0.560     0.420   0.140        0.8395          0.3525   \n",
       "3  90618   M   0.570     0.490   0.145        0.8740          0.3525   \n",
       "4  90619   I   0.415     0.325   0.110        0.3580          0.1575   \n",
       "\n",
       "   Whole weight.2  Shell weight  \n",
       "0          0.3125        0.3005  \n",
       "1          0.2195        0.2750  \n",
       "2          0.1845        0.2405  \n",
       "3          0.1865        0.2350  \n",
       "4          0.0670        0.1050  "
      ]
     },
     "execution_count": 8,
     "metadata": {},
     "output_type": "execute_result"
    }
   ],
   "source": [
    "test_df.head()"
   ]
  },
  {
   "cell_type": "markdown",
   "id": "78760fc9",
   "metadata": {
    "papermill": {
     "duration": 0.011186,
     "end_time": "2024-04-04T21:36:20.001014",
     "exception": false,
     "start_time": "2024-04-04T21:36:19.989828",
     "status": "completed"
    },
    "tags": []
   },
   "source": [
    "Preprocessing"
   ]
  },
  {
   "cell_type": "code",
   "execution_count": 9,
   "id": "90d62ede",
   "metadata": {
    "execution": {
     "iopub.execute_input": "2024-04-04T21:36:20.022007Z",
     "iopub.status.busy": "2024-04-04T21:36:20.021140Z",
     "iopub.status.idle": "2024-04-04T21:36:20.090125Z",
     "shell.execute_reply": "2024-04-04T21:36:20.088880Z"
    },
    "papermill": {
     "duration": 0.0824,
     "end_time": "2024-04-04T21:36:20.093311",
     "exception": false,
     "start_time": "2024-04-04T21:36:20.010911",
     "status": "completed"
    },
    "tags": []
   },
   "outputs": [],
   "source": [
    "le = LabelEncoder()\n",
    "\n",
    "for dataset in combine:\n",
    "    dataset['Sex'] = le.fit_transform(dataset['Sex'])\n",
    "    dataset.columns = dataset.columns.str.replace(' ', '_')"
   ]
  },
  {
   "cell_type": "code",
   "execution_count": 10,
   "id": "987e716d",
   "metadata": {
    "execution": {
     "iopub.execute_input": "2024-04-04T21:36:20.113843Z",
     "iopub.status.busy": "2024-04-04T21:36:20.113003Z",
     "iopub.status.idle": "2024-04-04T21:36:20.135774Z",
     "shell.execute_reply": "2024-04-04T21:36:20.134246Z"
    },
    "papermill": {
     "duration": 0.036345,
     "end_time": "2024-04-04T21:36:20.138524",
     "exception": false,
     "start_time": "2024-04-04T21:36:20.102179",
     "status": "completed"
    },
    "tags": []
   },
   "outputs": [
    {
     "data": {
      "text/html": [
       "<div>\n",
       "<style scoped>\n",
       "    .dataframe tbody tr th:only-of-type {\n",
       "        vertical-align: middle;\n",
       "    }\n",
       "\n",
       "    .dataframe tbody tr th {\n",
       "        vertical-align: top;\n",
       "    }\n",
       "\n",
       "    .dataframe thead th {\n",
       "        text-align: right;\n",
       "    }\n",
       "</style>\n",
       "<table border=\"1\" class=\"dataframe\">\n",
       "  <thead>\n",
       "    <tr style=\"text-align: right;\">\n",
       "      <th></th>\n",
       "      <th>id</th>\n",
       "      <th>Sex</th>\n",
       "      <th>Length</th>\n",
       "      <th>Diameter</th>\n",
       "      <th>Height</th>\n",
       "      <th>Whole_weight</th>\n",
       "      <th>Whole_weight.1</th>\n",
       "      <th>Whole_weight.2</th>\n",
       "      <th>Shell_weight</th>\n",
       "      <th>Rings</th>\n",
       "    </tr>\n",
       "  </thead>\n",
       "  <tbody>\n",
       "    <tr>\n",
       "      <th>0</th>\n",
       "      <td>0</td>\n",
       "      <td>0</td>\n",
       "      <td>0.550</td>\n",
       "      <td>0.430</td>\n",
       "      <td>0.150</td>\n",
       "      <td>0.7715</td>\n",
       "      <td>0.3285</td>\n",
       "      <td>0.1465</td>\n",
       "      <td>0.2400</td>\n",
       "      <td>11</td>\n",
       "    </tr>\n",
       "    <tr>\n",
       "      <th>1</th>\n",
       "      <td>1</td>\n",
       "      <td>0</td>\n",
       "      <td>0.630</td>\n",
       "      <td>0.490</td>\n",
       "      <td>0.145</td>\n",
       "      <td>1.1300</td>\n",
       "      <td>0.4580</td>\n",
       "      <td>0.2765</td>\n",
       "      <td>0.3200</td>\n",
       "      <td>11</td>\n",
       "    </tr>\n",
       "    <tr>\n",
       "      <th>2</th>\n",
       "      <td>2</td>\n",
       "      <td>1</td>\n",
       "      <td>0.160</td>\n",
       "      <td>0.110</td>\n",
       "      <td>0.025</td>\n",
       "      <td>0.0210</td>\n",
       "      <td>0.0055</td>\n",
       "      <td>0.0030</td>\n",
       "      <td>0.0050</td>\n",
       "      <td>6</td>\n",
       "    </tr>\n",
       "    <tr>\n",
       "      <th>3</th>\n",
       "      <td>3</td>\n",
       "      <td>2</td>\n",
       "      <td>0.595</td>\n",
       "      <td>0.475</td>\n",
       "      <td>0.150</td>\n",
       "      <td>0.9145</td>\n",
       "      <td>0.3755</td>\n",
       "      <td>0.2055</td>\n",
       "      <td>0.2500</td>\n",
       "      <td>10</td>\n",
       "    </tr>\n",
       "    <tr>\n",
       "      <th>4</th>\n",
       "      <td>4</td>\n",
       "      <td>1</td>\n",
       "      <td>0.555</td>\n",
       "      <td>0.425</td>\n",
       "      <td>0.130</td>\n",
       "      <td>0.7820</td>\n",
       "      <td>0.3695</td>\n",
       "      <td>0.1600</td>\n",
       "      <td>0.1975</td>\n",
       "      <td>9</td>\n",
       "    </tr>\n",
       "  </tbody>\n",
       "</table>\n",
       "</div>"
      ],
      "text/plain": [
       "   id  Sex  Length  Diameter  Height  Whole_weight  Whole_weight.1  \\\n",
       "0   0    0   0.550     0.430   0.150        0.7715          0.3285   \n",
       "1   1    0   0.630     0.490   0.145        1.1300          0.4580   \n",
       "2   2    1   0.160     0.110   0.025        0.0210          0.0055   \n",
       "3   3    2   0.595     0.475   0.150        0.9145          0.3755   \n",
       "4   4    1   0.555     0.425   0.130        0.7820          0.3695   \n",
       "\n",
       "   Whole_weight.2  Shell_weight  Rings  \n",
       "0          0.1465        0.2400     11  \n",
       "1          0.2765        0.3200     11  \n",
       "2          0.0030        0.0050      6  \n",
       "3          0.2055        0.2500     10  \n",
       "4          0.1600        0.1975      9  "
      ]
     },
     "execution_count": 10,
     "metadata": {},
     "output_type": "execute_result"
    }
   ],
   "source": [
    "train_df.head()"
   ]
  },
  {
   "cell_type": "code",
   "execution_count": 11,
   "id": "76708541",
   "metadata": {
    "execution": {
     "iopub.execute_input": "2024-04-04T21:36:20.162600Z",
     "iopub.status.busy": "2024-04-04T21:36:20.160374Z",
     "iopub.status.idle": "2024-04-04T21:36:20.171387Z",
     "shell.execute_reply": "2024-04-04T21:36:20.169969Z"
    },
    "papermill": {
     "duration": 0.026997,
     "end_time": "2024-04-04T21:36:20.174467",
     "exception": false,
     "start_time": "2024-04-04T21:36:20.147470",
     "status": "completed"
    },
    "tags": []
   },
   "outputs": [
    {
     "data": {
      "text/plain": [
       "Index(['id', 'Sex', 'Length', 'Diameter', 'Height', 'Whole_weight',\n",
       "       'Whole_weight.1', 'Whole_weight.2', 'Shell_weight', 'Rings'],\n",
       "      dtype='object')"
      ]
     },
     "execution_count": 11,
     "metadata": {},
     "output_type": "execute_result"
    }
   ],
   "source": [
    "train_df.columns"
   ]
  },
  {
   "cell_type": "markdown",
   "id": "5c7a172c",
   "metadata": {
    "papermill": {
     "duration": 0.013051,
     "end_time": "2024-04-04T21:36:20.196688",
     "exception": false,
     "start_time": "2024-04-04T21:36:20.183637",
     "status": "completed"
    },
    "tags": []
   },
   "source": [
    "Base model"
   ]
  },
  {
   "cell_type": "code",
   "execution_count": 12,
   "id": "d439d993",
   "metadata": {
    "execution": {
     "iopub.execute_input": "2024-04-04T21:36:20.220368Z",
     "iopub.status.busy": "2024-04-04T21:36:20.219801Z",
     "iopub.status.idle": "2024-04-04T21:36:20.227688Z",
     "shell.execute_reply": "2024-04-04T21:36:20.226413Z"
    },
    "papermill": {
     "duration": 0.020767,
     "end_time": "2024-04-04T21:36:20.230186",
     "exception": false,
     "start_time": "2024-04-04T21:36:20.209419",
     "status": "completed"
    },
    "tags": []
   },
   "outputs": [],
   "source": [
    "def rmsle(predictions, targets):\n",
    "    \"\"\"Calculate the root mean squared logarithmic error between predictions and targets\"\"\"\n",
    "    return np.sqrt(np.mean((np.log(predictions + 1) - np.log(targets + 1)) ** 2))"
   ]
  },
  {
   "cell_type": "code",
   "execution_count": 13,
   "id": "916d84e6",
   "metadata": {
    "execution": {
     "iopub.execute_input": "2024-04-04T21:36:20.250302Z",
     "iopub.status.busy": "2024-04-04T21:36:20.249043Z",
     "iopub.status.idle": "2024-04-04T21:40:05.744477Z",
     "shell.execute_reply": "2024-04-04T21:40:05.741995Z"
    },
    "papermill": {
     "duration": 225.508828,
     "end_time": "2024-04-04T21:40:05.747717",
     "exception": false,
     "start_time": "2024-04-04T21:36:20.238889",
     "status": "completed"
    },
    "tags": []
   },
   "outputs": [
    {
     "name": "stdout",
     "output_type": "stream",
     "text": [
      "-------------------------------------------\n",
      "Fold 0 => GradientBoosting of MAE => 0.16370817135937196\n",
      "Fold 0 => HistGradientBoosting of RMSLE => 0.1555888220883805\n",
      "Fold 0 => LightGBM of RMSLE => 0.15564781920097792\n",
      "Fold 0 => XGBoost of RMSLE => 0.1555888220883805\n",
      "Fold 0 => Ensemble of RMSLE => 0.16490402055074\n",
      "-------------------------------------------\n",
      "Fold 1 => GradientBoosting of MAE => 0.165593683006737\n",
      "Fold 1 => HistGradientBoosting of RMSLE => 0.160254026432192\n",
      "Fold 1 => LightGBM of RMSLE => 0.1597464114821363\n",
      "Fold 1 => XGBoost of RMSLE => 0.160254026432192\n",
      "Fold 1 => Ensemble of RMSLE => 0.17102058570591328\n",
      "-------------------------------------------\n",
      "Fold 2 => GradientBoosting of MAE => 0.15855995835421044\n",
      "Fold 2 => HistGradientBoosting of RMSLE => 0.15398737121999498\n",
      "Fold 2 => LightGBM of RMSLE => 0.15395160192988408\n",
      "Fold 2 => XGBoost of RMSLE => 0.15398737121999498\n",
      "Fold 2 => Ensemble of RMSLE => 0.16498727073630692\n",
      "-------------------------------------------\n",
      "Fold 3 => GradientBoosting of MAE => 0.1619293580348137\n",
      "Fold 3 => HistGradientBoosting of RMSLE => 0.1580653455736901\n",
      "Fold 3 => LightGBM of RMSLE => 0.15784369317986144\n",
      "Fold 3 => XGBoost of RMSLE => 0.1580653455736901\n",
      "Fold 3 => Ensemble of RMSLE => 0.16716095147347554\n",
      "-------------------------------------------\n",
      "Fold 4 => GradientBoosting of MAE => 0.1622245150516837\n",
      "Fold 4 => HistGradientBoosting of RMSLE => 0.15593727858978473\n",
      "Fold 4 => LightGBM of RMSLE => 0.15671979417043005\n",
      "Fold 4 => XGBoost of RMSLE => 0.15593727858978473\n",
      "Fold 4 => Ensemble of RMSLE => 0.16968275092611865\n",
      "-------------------------------------------\n",
      "Fold 5 => GradientBoosting of MAE => 0.16177245981646193\n",
      "Fold 5 => HistGradientBoosting of RMSLE => 0.15618394282513198\n",
      "Fold 5 => LightGBM of RMSLE => 0.1555792013573002\n",
      "Fold 5 => XGBoost of RMSLE => 0.15618394282513198\n",
      "Fold 5 => Ensemble of RMSLE => 0.16553546923773885\n",
      "-------------------------------------------\n",
      "Fold 6 => GradientBoosting of MAE => 0.1568063395208217\n",
      "Fold 6 => HistGradientBoosting of RMSLE => 0.15279889901418306\n",
      "Fold 6 => LightGBM of RMSLE => 0.15265057084975656\n",
      "Fold 6 => XGBoost of RMSLE => 0.15279889901418306\n",
      "Fold 6 => Ensemble of RMSLE => 0.16073553632428533\n",
      "-------------------------------------------\n",
      "Fold 7 => GradientBoosting of MAE => 0.1617501016281373\n",
      "Fold 7 => HistGradientBoosting of RMSLE => 0.15664429971587193\n",
      "Fold 7 => LightGBM of RMSLE => 0.15713749575303107\n",
      "Fold 7 => XGBoost of RMSLE => 0.15664429971587193\n",
      "Fold 7 => Ensemble of RMSLE => 0.16856082153980576\n",
      "-------------------------------------------\n",
      "Fold 8 => GradientBoosting of MAE => 0.15627951147064686\n",
      "Fold 8 => HistGradientBoosting of RMSLE => 0.15413513460912098\n",
      "Fold 8 => LightGBM of RMSLE => 0.1541980947294465\n",
      "Fold 8 => XGBoost of RMSLE => 0.15413513460912098\n",
      "Fold 8 => Ensemble of RMSLE => 0.1652074265038765\n",
      "-------------------------------------------\n",
      "Fold 9 => GradientBoosting of MAE => 0.15352362199664193\n",
      "Fold 9 => HistGradientBoosting of RMSLE => 0.15140618631335656\n",
      "Fold 9 => LightGBM of RMSLE => 0.15105351161449543\n",
      "Fold 9 => XGBoost of RMSLE => 0.15140618631335656\n",
      "Fold 9 => Ensemble of RMSLE => 0.16327413575109523\n"
     ]
    }
   ],
   "source": [
    "x = train_df.drop(columns = ['Rings'], axis = 1)\n",
    "Y = train_df['Rings']\n",
    "\n",
    "gb_cv_scores, gb_preds = list(), list()\n",
    "hist_cv_scores, hist_preds = list(), list()\n",
    "lgb_cv_scores, lgb_preds = list(), list()\n",
    "xgb_cv_scores, xgb_preds = list(), list()\n",
    "ens_cv_scores, ens_preds = list(), list()\n",
    "\n",
    "skf = KFold(n_splits = 10, random_state = 42, shuffle = True)\n",
    "\n",
    "for i, (train_i, test_i) in enumerate(skf.split(x, Y)):\n",
    "    x_train, x_test = x.iloc[train_i], x.iloc[test_i]\n",
    "    Y_train, Y_test = Y.iloc[train_i], Y.iloc[test_i]\n",
    "    \n",
    "    print('-------------------------------------------')\n",
    "    # GradientBoosting\n",
    "    gb_md = GradientBoostingRegressor(loss = 'absolute_error'\n",
    "                                 ).fit(x_train, Y_train)\n",
    "    \n",
    "    gb_pred = gb_md.predict(x_test)\n",
    "    gb_score = rmsle(gb_pred, Y_test)\n",
    "    \n",
    "    gb_preds.append(gb_pred)\n",
    "    gb_cv_scores.append(gb_score)\n",
    "    \n",
    "    print(f'Fold {i} => GradientBoosting of MAE =>', gb_score)\n",
    "    \n",
    "    # HistGradientBoosting\n",
    "    hist_md = HistGradientBoostingRegressor(loss = 'absolute_error',\n",
    "                                            ).fit(x_train, Y_train)\n",
    "                                       \n",
    "    hist_pred = hist_md.predict(x_test)\n",
    "    hist_score = rmsle(hist_pred, Y_test)\n",
    "    \n",
    "    hist_preds.append(hist_pred)\n",
    "    hist_cv_scores.append(hist_score)\n",
    "    \n",
    "    print(f'Fold {i} => HistGradientBoosting of RMSLE =>', hist_score)\n",
    "    \n",
    "    # LightGBM\n",
    "    lgb_md = LGBMRegressor(objective = 'mae',\n",
    "                           force_col_wise = True,\n",
    "                           verbose = -1,\n",
    "                          ).fit(x_train, Y_train)\n",
    "                                       \n",
    "    lgb_pred = lgb_md.predict(x_test)\n",
    "    lgb_score = rmsle(lgb_pred, Y_test)\n",
    "    \n",
    "    lgb_preds.append(lgb_pred)\n",
    "    lgb_cv_scores.append(lgb_score)\n",
    "    \n",
    "    print(f'Fold {i} => LightGBM of RMSLE =>', lgb_score)\n",
    "    \n",
    "    # XGBoost\n",
    "    xgb_md = XGBRegressor(objective = 'reg:pseudohubererror',\n",
    "                         ).fit(x_train, Y_train)\n",
    "                                       \n",
    "    xgb_pred = hist_md.predict(x_test)\n",
    "    xgb_score = rmsle(xgb_pred, Y_test)\n",
    "    \n",
    "    xgb_preds.append(xgb_pred)\n",
    "    xgb_cv_scores.append(xgb_score)\n",
    "    \n",
    "    print(f'Fold {i} => XGBoost of RMSLE =>', xgb_score)\n",
    "    \n",
    "    # LAD Ensemble\n",
    "    ens_md = LADRegression().fit(x_train, Y_train)\n",
    "                                       \n",
    "    ens_pred = ens_md.predict(x_test)\n",
    "    ens_score = rmsle(ens_pred, Y_test)\n",
    "    \n",
    "    ens_preds.append(ens_pred)\n",
    "    ens_cv_scores.append(ens_score)\n",
    "    \n",
    "    print(f'Fold {i} => Ensemble of RMSLE =>', ens_score)"
   ]
  },
  {
   "cell_type": "code",
   "execution_count": 14,
   "id": "80d3bd5c",
   "metadata": {
    "execution": {
     "iopub.execute_input": "2024-04-04T21:40:05.777590Z",
     "iopub.status.busy": "2024-04-04T21:40:05.777036Z",
     "iopub.status.idle": "2024-04-04T21:40:06.233040Z",
     "shell.execute_reply": "2024-04-04T21:40:06.231750Z"
    },
    "papermill": {
     "duration": 0.474325,
     "end_time": "2024-04-04T21:40:06.236459",
     "exception": false,
     "start_time": "2024-04-04T21:40:05.762134",
     "status": "completed"
    },
    "tags": []
   },
   "outputs": [
    {
     "data": {
      "image/png": "[encoded data removed]",
      "text/plain": [
       "<Figure size 800x800 with 1 Axes>"
      ]
     },
     "metadata": {},
     "output_type": "display_data"
    }
   ],
   "source": [
    "gb_cv_score = np.mean(gb_cv_scores)\n",
    "hist_cv_score = np.mean(hist_cv_scores)\n",
    "lgb_cv_score = np.mean(lgb_cv_scores)\n",
    "xgb_cv_score = np.mean(xgb_cv_scores)\n",
    "ens_cv_score = np.mean(ens_cv_scores)\n",
    "\n",
    "model_perf = pd.DataFrame({'Model': ['GradientBoosting', 'HistGradient' ,'LightGBM', 'XGBoost', 'Ensemble'],\n",
    "                           'cv-score': [gb_cv_score, hist_cv_score, lgb_cv_score, xgb_cv_score, ens_cv_score]})\n",
    "\n",
    "plt.figure(figsize = (8, 8))\n",
    "ax = sns.barplot(y = 'Model', x = 'cv-score', data = model_perf)\n",
    "ax.bar_label(ax.containers[0]);"
   ]
  }
 ],
 "metadata": {
  "kaggle": {
   "accelerator": "none",
   "dataSources": [
    {
     "databundleVersionId": 8096274,
     "sourceId": 72489,
     "sourceType": "competition"
    }
   ],
   "dockerImageVersionId": 30673,
   "isGpuEnabled": false,
   "isInternetEnabled": true,
   "language": "python",
   "sourceType": "notebook"
  },
  "kernelspec": {
   "display_name": "Python 3",
   "language": "python",
   "name": "python3"
  },
  "language_info": {
   "codemirror_mode": {
    "name": "ipython",
    "version": 3
   },
   "file_extension": ".py",
   "mimetype": "text/x-python",
   "name": "python",
   "nbconvert_exporter": "python",
   "pygments_lexer": "ipython3",
   "version": "3.10.13"
  },
  "papermill": {
   "default_parameters": {},
   "duration": 255.132199,
   "end_time": "2024-04-04T21:40:07.075108",
   "environment_variables": {},
   "exception": null,
   "input_path": "__notebook__.ipynb",
   "output_path": "__notebook__.ipynb",
   "parameters": {},
   "start_time": "2024-04-04T21:35:51.942909",
   "version": "2.5.0"
  }
 },
 "nbformat": 4,
 "nbformat_minor": 5
}
