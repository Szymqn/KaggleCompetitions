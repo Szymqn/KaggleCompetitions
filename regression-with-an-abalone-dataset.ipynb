{
 "cells": [
  {
   "cell_type": "code",
   "execution_count": 1,
   "id": "5e4c85c2",
   "metadata": {
    "_cell_guid": "b1076dfc-b9ad-4769-8c92-a6c4dae69d19",
    "_uuid": "8f2839f25d086af736a60e9eeb907d3b93b6e0e5",
    "execution": {
     "iopub.execute_input": "2024-04-07T22:22:29.426051Z",
     "iopub.status.busy": "2024-04-07T22:22:29.425598Z",
     "iopub.status.idle": "2024-04-07T22:22:46.839494Z",
     "shell.execute_reply": "2024-04-07T22:22:46.837620Z"
    },
    "papermill": {
     "duration": 17.42703,
     "end_time": "2024-04-07T22:22:46.842425",
     "exception": false,
     "start_time": "2024-04-07T22:22:29.415395",
     "status": "completed"
    },
    "tags": []
   },
   "outputs": [
    {
     "name": "stdout",
     "output_type": "stream",
     "text": [
      "Collecting scikit-lego\r\n",
      "  Downloading scikit_lego-0.8.1-py2.py3-none-any.whl.metadata (11 kB)\r\n",
      "Requirement already satisfied: pandas>=1.1.5 in /opt/conda/lib/python3.10/site-packages (from scikit-lego) (2.2.1)\r\n",
      "Requirement already satisfied: scikit-learn>=1.0 in /opt/conda/lib/python3.10/site-packages (from scikit-lego) (1.2.2)\r\n",
      "Requirement already satisfied: numpy<2,>=1.22.4 in /opt/conda/lib/python3.10/site-packages (from pandas>=1.1.5->scikit-lego) (1.26.4)\r\n",
      "Requirement already satisfied: python-dateutil>=2.8.2 in /opt/conda/lib/python3.10/site-packages (from pandas>=1.1.5->scikit-lego) (2.9.0.post0)\r\n",
      "Requirement already satisfied: pytz>=2020.1 in /opt/conda/lib/python3.10/site-packages (from pandas>=1.1.5->scikit-lego) (2023.3.post1)\r\n",
      "Requirement already satisfied: tzdata>=2022.7 in /opt/conda/lib/python3.10/site-packages (from pandas>=1.1.5->scikit-lego) (2023.4)\r\n",
      "Requirement already satisfied: scipy>=1.3.2 in /opt/conda/lib/python3.10/site-packages (from scikit-learn>=1.0->scikit-lego) (1.11.4)\r\n",
      "Requirement already satisfied: joblib>=1.1.1 in /opt/conda/lib/python3.10/site-packages (from scikit-learn>=1.0->scikit-lego) (1.3.2)\r\n",
      "Requirement already satisfied: threadpoolctl>=2.0.0 in /opt/conda/lib/python3.10/site-packages (from scikit-learn>=1.0->scikit-lego) (3.2.0)\r\n",
      "Requirement already satisfied: six>=1.5 in /opt/conda/lib/python3.10/site-packages (from python-dateutil>=2.8.2->pandas>=1.1.5->scikit-lego) (1.16.0)\r\n",
      "Downloading scikit_lego-0.8.1-py2.py3-none-any.whl (209 kB)\r\n",
      "\u001b[2K   \u001b[90m━━━━━━━━━━━━━━━━━━━━━━━━━━━━━━━━━━━━━━━━\u001b[0m \u001b[32m209.6/209.6 kB\u001b[0m \u001b[31m6.8 MB/s\u001b[0m eta \u001b[36m0:00:00\u001b[0m\r\n",
      "\u001b[?25hInstalling collected packages: scikit-lego\r\n",
      "Successfully installed scikit-lego-0.8.1\r\n",
      "Note: you may need to restart the kernel to use updated packages.\n"
     ]
    }
   ],
   "source": [
    "pip install scikit-lego"
   ]
  },
  {
   "cell_type": "code",
   "execution_count": 2,
   "id": "faf218a0",
   "metadata": {
    "execution": {
     "iopub.execute_input": "2024-04-07T22:22:46.863063Z",
     "iopub.status.busy": "2024-04-07T22:22:46.862633Z",
     "iopub.status.idle": "2024-04-07T22:22:52.182929Z",
     "shell.execute_reply": "2024-04-07T22:22:52.181399Z"
    },
    "papermill": {
     "duration": 5.334164,
     "end_time": "2024-04-07T22:22:52.185905",
     "exception": false,
     "start_time": "2024-04-07T22:22:46.851741",
     "status": "completed"
    },
    "tags": []
   },
   "outputs": [],
   "source": [
    "import scipy\n",
    "import os\n",
    "import optuna\n",
    "import numpy as np\n",
    "import pandas as pd\n",
    "import seaborn as sns\n",
    "import matplotlib.pyplot as plt\n",
    "\n",
    "from sklearn.tree import DecisionTreeRegressor, plot_tree\n",
    "from sklearn.preprocessing import MinMaxScaler, StandardScaler, LabelEncoder\n",
    "from sklearn.pipeline import make_pipeline\n",
    "from sklearn.linear_model import Ridge, RidgeCV, Lasso, LassoCV\n",
    "from sklearn.model_selection import KFold, StratifiedKFold, train_test_split, GridSearchCV, RepeatedKFold, RepeatedStratifiedKFold, RandomizedSearchCV\n",
    "from sklearn.metrics import mean_squared_error, mean_absolute_error, mean_squared_log_error\n",
    "from sklearn.inspection import PartialDependenceDisplay\n",
    "from sklearn.ensemble import RandomForestRegressor, HistGradientBoostingRegressor, GradientBoostingRegressor, ExtraTreesRegressor\n",
    "from sklearn.svm import SVR\n",
    "from lightgbm import LGBMRegressor\n",
    "from xgboost import XGBRegressor\n",
    "from catboost import CatBoostRegressor\n",
    "from sklego.linear_model import LADRegression\n",
    "from scipy.stats import loguniform"
   ]
  },
  {
   "cell_type": "code",
   "execution_count": 3,
   "id": "3125b9b0",
   "metadata": {
    "execution": {
     "iopub.execute_input": "2024-04-07T22:22:52.207543Z",
     "iopub.status.busy": "2024-04-07T22:22:52.206160Z",
     "iopub.status.idle": "2024-04-07T22:22:52.213636Z",
     "shell.execute_reply": "2024-04-07T22:22:52.212747Z"
    },
    "papermill": {
     "duration": 0.02043,
     "end_time": "2024-04-07T22:22:52.216064",
     "exception": false,
     "start_time": "2024-04-07T22:22:52.195634",
     "status": "completed"
    },
    "tags": []
   },
   "outputs": [
    {
     "name": "stdout",
     "output_type": "stream",
     "text": [
      "/kaggle/input/playground-series-s4e4/sample_submission.csv\n",
      "/kaggle/input/playground-series-s4e4/train.csv\n",
      "/kaggle/input/playground-series-s4e4/test.csv\n"
     ]
    }
   ],
   "source": [
    "for dirname, _, filenames in os.walk('/kaggle/input'):\n",
    "    for filename in filenames:\n",
    "        print(os.path.join(dirname, filename))"
   ]
  },
  {
   "cell_type": "code",
   "execution_count": 4,
   "id": "87533e82",
   "metadata": {
    "execution": {
     "iopub.execute_input": "2024-04-07T22:22:52.237065Z",
     "iopub.status.busy": "2024-04-07T22:22:52.236277Z",
     "iopub.status.idle": "2024-04-07T22:22:52.538513Z",
     "shell.execute_reply": "2024-04-07T22:22:52.537341Z"
    },
    "papermill": {
     "duration": 0.316276,
     "end_time": "2024-04-07T22:22:52.541580",
     "exception": false,
     "start_time": "2024-04-07T22:22:52.225304",
     "status": "completed"
    },
    "tags": []
   },
   "outputs": [],
   "source": [
    "train_df = pd.read_csv('../input/playground-series-s4e4/train.csv')\n",
    "test_df = pd.read_csv('../input/playground-series-s4e4/test.csv')\n",
    "combine = [train_df, test_df]"
   ]
  },
  {
   "cell_type": "code",
   "execution_count": 5,
   "id": "81d0056f",
   "metadata": {
    "execution": {
     "iopub.execute_input": "2024-04-07T22:22:52.561782Z",
     "iopub.status.busy": "2024-04-07T22:22:52.561361Z",
     "iopub.status.idle": "2024-04-07T22:22:52.602698Z",
     "shell.execute_reply": "2024-04-07T22:22:52.601536Z"
    },
    "papermill": {
     "duration": 0.054787,
     "end_time": "2024-04-07T22:22:52.605678",
     "exception": false,
     "start_time": "2024-04-07T22:22:52.550891",
     "status": "completed"
    },
    "tags": []
   },
   "outputs": [
    {
     "name": "stdout",
     "output_type": "stream",
     "text": [
      "<class 'pandas.core.frame.DataFrame'>\n",
      "RangeIndex: 90615 entries, 0 to 90614\n",
      "Data columns (total 10 columns):\n",
      " #   Column          Non-Null Count  Dtype  \n",
      "---  ------          --------------  -----  \n",
      " 0   id              90615 non-null  int64  \n",
      " 1   Sex             90615 non-null  object \n",
      " 2   Length          90615 non-null  float64\n",
      " 3   Diameter        90615 non-null  float64\n",
      " 4   Height          90615 non-null  float64\n",
      " 5   Whole weight    90615 non-null  float64\n",
      " 6   Whole weight.1  90615 non-null  float64\n",
      " 7   Whole weight.2  90615 non-null  float64\n",
      " 8   Shell weight    90615 non-null  float64\n",
      " 9   Rings           90615 non-null  int64  \n",
      "dtypes: float64(7), int64(2), object(1)\n",
      "memory usage: 6.9+ MB\n"
     ]
    }
   ],
   "source": [
    "train_df.info()"
   ]
  },
  {
   "cell_type": "code",
   "execution_count": 6,
   "id": "1a738adb",
   "metadata": {
    "execution": {
     "iopub.execute_input": "2024-04-07T22:22:52.626997Z",
     "iopub.status.busy": "2024-04-07T22:22:52.625633Z",
     "iopub.status.idle": "2024-04-07T22:22:52.653773Z",
     "shell.execute_reply": "2024-04-07T22:22:52.652599Z"
    },
    "papermill": {
     "duration": 0.041413,
     "end_time": "2024-04-07T22:22:52.656367",
     "exception": false,
     "start_time": "2024-04-07T22:22:52.614954",
     "status": "completed"
    },
    "tags": []
   },
   "outputs": [
    {
     "data": {
      "text/html": [
       "<div>\n",
       "<style scoped>\n",
       "    .dataframe tbody tr th:only-of-type {\n",
       "        vertical-align: middle;\n",
       "    }\n",
       "\n",
       "    .dataframe tbody tr th {\n",
       "        vertical-align: top;\n",
       "    }\n",
       "\n",
       "    .dataframe thead th {\n",
       "        text-align: right;\n",
       "    }\n",
       "</style>\n",
       "<table border=\"1\" class=\"dataframe\">\n",
       "  <thead>\n",
       "    <tr style=\"text-align: right;\">\n",
       "      <th></th>\n",
       "      <th>id</th>\n",
       "      <th>Sex</th>\n",
       "      <th>Length</th>\n",
       "      <th>Diameter</th>\n",
       "      <th>Height</th>\n",
       "      <th>Whole weight</th>\n",
       "      <th>Whole weight.1</th>\n",
       "      <th>Whole weight.2</th>\n",
       "      <th>Shell weight</th>\n",
       "      <th>Rings</th>\n",
       "    </tr>\n",
       "  </thead>\n",
       "  <tbody>\n",
       "    <tr>\n",
       "      <th>0</th>\n",
       "      <td>0</td>\n",
       "      <td>F</td>\n",
       "      <td>0.550</td>\n",
       "      <td>0.430</td>\n",
       "      <td>0.150</td>\n",
       "      <td>0.7715</td>\n",
       "      <td>0.3285</td>\n",
       "      <td>0.1465</td>\n",
       "      <td>0.2400</td>\n",
       "      <td>11</td>\n",
       "    </tr>\n",
       "    <tr>\n",
       "      <th>1</th>\n",
       "      <td>1</td>\n",
       "      <td>F</td>\n",
       "      <td>0.630</td>\n",
       "      <td>0.490</td>\n",
       "      <td>0.145</td>\n",
       "      <td>1.1300</td>\n",
       "      <td>0.4580</td>\n",
       "      <td>0.2765</td>\n",
       "      <td>0.3200</td>\n",
       "      <td>11</td>\n",
       "    </tr>\n",
       "    <tr>\n",
       "      <th>2</th>\n",
       "      <td>2</td>\n",
       "      <td>I</td>\n",
       "      <td>0.160</td>\n",
       "      <td>0.110</td>\n",
       "      <td>0.025</td>\n",
       "      <td>0.0210</td>\n",
       "      <td>0.0055</td>\n",
       "      <td>0.0030</td>\n",
       "      <td>0.0050</td>\n",
       "      <td>6</td>\n",
       "    </tr>\n",
       "    <tr>\n",
       "      <th>3</th>\n",
       "      <td>3</td>\n",
       "      <td>M</td>\n",
       "      <td>0.595</td>\n",
       "      <td>0.475</td>\n",
       "      <td>0.150</td>\n",
       "      <td>0.9145</td>\n",
       "      <td>0.3755</td>\n",
       "      <td>0.2055</td>\n",
       "      <td>0.2500</td>\n",
       "      <td>10</td>\n",
       "    </tr>\n",
       "    <tr>\n",
       "      <th>4</th>\n",
       "      <td>4</td>\n",
       "      <td>I</td>\n",
       "      <td>0.555</td>\n",
       "      <td>0.425</td>\n",
       "      <td>0.130</td>\n",
       "      <td>0.7820</td>\n",
       "      <td>0.3695</td>\n",
       "      <td>0.1600</td>\n",
       "      <td>0.1975</td>\n",
       "      <td>9</td>\n",
       "    </tr>\n",
       "  </tbody>\n",
       "</table>\n",
       "</div>"
      ],
      "text/plain": [
       "   id Sex  Length  Diameter  Height  Whole weight  Whole weight.1  \\\n",
       "0   0   F   0.550     0.430   0.150        0.7715          0.3285   \n",
       "1   1   F   0.630     0.490   0.145        1.1300          0.4580   \n",
       "2   2   I   0.160     0.110   0.025        0.0210          0.0055   \n",
       "3   3   M   0.595     0.475   0.150        0.9145          0.3755   \n",
       "4   4   I   0.555     0.425   0.130        0.7820          0.3695   \n",
       "\n",
       "   Whole weight.2  Shell weight  Rings  \n",
       "0          0.1465        0.2400     11  \n",
       "1          0.2765        0.3200     11  \n",
       "2          0.0030        0.0050      6  \n",
       "3          0.2055        0.2500     10  \n",
       "4          0.1600        0.1975      9  "
      ]
     },
     "execution_count": 6,
     "metadata": {},
     "output_type": "execute_result"
    }
   ],
   "source": [
    "train_df.head()"
   ]
  },
  {
   "cell_type": "code",
   "execution_count": 7,
   "id": "652cd218",
   "metadata": {
    "execution": {
     "iopub.execute_input": "2024-04-07T22:22:52.677870Z",
     "iopub.status.busy": "2024-04-07T22:22:52.677076Z",
     "iopub.status.idle": "2024-04-07T22:22:52.758552Z",
     "shell.execute_reply": "2024-04-07T22:22:52.757281Z"
    },
    "papermill": {
     "duration": 0.095894,
     "end_time": "2024-04-07T22:22:52.761803",
     "exception": false,
     "start_time": "2024-04-07T22:22:52.665909",
     "status": "completed"
    },
    "tags": []
   },
   "outputs": [
    {
     "data": {
      "text/html": [
       "<div>\n",
       "<style scoped>\n",
       "    .dataframe tbody tr th:only-of-type {\n",
       "        vertical-align: middle;\n",
       "    }\n",
       "\n",
       "    .dataframe tbody tr th {\n",
       "        vertical-align: top;\n",
       "    }\n",
       "\n",
       "    .dataframe thead th {\n",
       "        text-align: right;\n",
       "    }\n",
       "</style>\n",
       "<table border=\"1\" class=\"dataframe\">\n",
       "  <thead>\n",
       "    <tr style=\"text-align: right;\">\n",
       "      <th></th>\n",
       "      <th>id</th>\n",
       "      <th>Length</th>\n",
       "      <th>Diameter</th>\n",
       "      <th>Height</th>\n",
       "      <th>Whole weight</th>\n",
       "      <th>Whole weight.1</th>\n",
       "      <th>Whole weight.2</th>\n",
       "      <th>Shell weight</th>\n",
       "      <th>Rings</th>\n",
       "    </tr>\n",
       "  </thead>\n",
       "  <tbody>\n",
       "    <tr>\n",
       "      <th>count</th>\n",
       "      <td>90615.000000</td>\n",
       "      <td>90615.000000</td>\n",
       "      <td>90615.000000</td>\n",
       "      <td>90615.000000</td>\n",
       "      <td>90615.000000</td>\n",
       "      <td>90615.000000</td>\n",
       "      <td>90615.000000</td>\n",
       "      <td>90615.000000</td>\n",
       "      <td>90615.000000</td>\n",
       "    </tr>\n",
       "    <tr>\n",
       "      <th>mean</th>\n",
       "      <td>45307.000000</td>\n",
       "      <td>0.517098</td>\n",
       "      <td>0.401679</td>\n",
       "      <td>0.135464</td>\n",
       "      <td>0.789035</td>\n",
       "      <td>0.340778</td>\n",
       "      <td>0.169422</td>\n",
       "      <td>0.225898</td>\n",
       "      <td>9.696794</td>\n",
       "    </tr>\n",
       "    <tr>\n",
       "      <th>std</th>\n",
       "      <td>26158.441658</td>\n",
       "      <td>0.118217</td>\n",
       "      <td>0.098026</td>\n",
       "      <td>0.038008</td>\n",
       "      <td>0.457671</td>\n",
       "      <td>0.204428</td>\n",
       "      <td>0.100909</td>\n",
       "      <td>0.130203</td>\n",
       "      <td>3.176221</td>\n",
       "    </tr>\n",
       "    <tr>\n",
       "      <th>min</th>\n",
       "      <td>0.000000</td>\n",
       "      <td>0.075000</td>\n",
       "      <td>0.055000</td>\n",
       "      <td>0.000000</td>\n",
       "      <td>0.002000</td>\n",
       "      <td>0.001000</td>\n",
       "      <td>0.000500</td>\n",
       "      <td>0.001500</td>\n",
       "      <td>1.000000</td>\n",
       "    </tr>\n",
       "    <tr>\n",
       "      <th>25%</th>\n",
       "      <td>22653.500000</td>\n",
       "      <td>0.445000</td>\n",
       "      <td>0.345000</td>\n",
       "      <td>0.110000</td>\n",
       "      <td>0.419000</td>\n",
       "      <td>0.177500</td>\n",
       "      <td>0.086500</td>\n",
       "      <td>0.120000</td>\n",
       "      <td>8.000000</td>\n",
       "    </tr>\n",
       "    <tr>\n",
       "      <th>50%</th>\n",
       "      <td>45307.000000</td>\n",
       "      <td>0.545000</td>\n",
       "      <td>0.425000</td>\n",
       "      <td>0.140000</td>\n",
       "      <td>0.799500</td>\n",
       "      <td>0.330000</td>\n",
       "      <td>0.166000</td>\n",
       "      <td>0.225000</td>\n",
       "      <td>9.000000</td>\n",
       "    </tr>\n",
       "    <tr>\n",
       "      <th>75%</th>\n",
       "      <td>67960.500000</td>\n",
       "      <td>0.600000</td>\n",
       "      <td>0.470000</td>\n",
       "      <td>0.160000</td>\n",
       "      <td>1.067500</td>\n",
       "      <td>0.463000</td>\n",
       "      <td>0.232500</td>\n",
       "      <td>0.305000</td>\n",
       "      <td>11.000000</td>\n",
       "    </tr>\n",
       "    <tr>\n",
       "      <th>max</th>\n",
       "      <td>90614.000000</td>\n",
       "      <td>0.815000</td>\n",
       "      <td>0.650000</td>\n",
       "      <td>1.130000</td>\n",
       "      <td>2.825500</td>\n",
       "      <td>1.488000</td>\n",
       "      <td>0.760000</td>\n",
       "      <td>1.005000</td>\n",
       "      <td>29.000000</td>\n",
       "    </tr>\n",
       "  </tbody>\n",
       "</table>\n",
       "</div>"
      ],
      "text/plain": [
       "                 id        Length      Diameter        Height  Whole weight  \\\n",
       "count  90615.000000  90615.000000  90615.000000  90615.000000  90615.000000   \n",
       "mean   45307.000000      0.517098      0.401679      0.135464      0.789035   \n",
       "std    26158.441658      0.118217      0.098026      0.038008      0.457671   \n",
       "min        0.000000      0.075000      0.055000      0.000000      0.002000   \n",
       "25%    22653.500000      0.445000      0.345000      0.110000      0.419000   \n",
       "50%    45307.000000      0.545000      0.425000      0.140000      0.799500   \n",
       "75%    67960.500000      0.600000      0.470000      0.160000      1.067500   \n",
       "max    90614.000000      0.815000      0.650000      1.130000      2.825500   \n",
       "\n",
       "       Whole weight.1  Whole weight.2  Shell weight         Rings  \n",
       "count    90615.000000    90615.000000  90615.000000  90615.000000  \n",
       "mean         0.340778        0.169422      0.225898      9.696794  \n",
       "std          0.204428        0.100909      0.130203      3.176221  \n",
       "min          0.001000        0.000500      0.001500      1.000000  \n",
       "25%          0.177500        0.086500      0.120000      8.000000  \n",
       "50%          0.330000        0.166000      0.225000      9.000000  \n",
       "75%          0.463000        0.232500      0.305000     11.000000  \n",
       "max          1.488000        0.760000      1.005000     29.000000  "
      ]
     },
     "execution_count": 7,
     "metadata": {},
     "output_type": "execute_result"
    }
   ],
   "source": [
    "train_df.describe()"
   ]
  },
  {
   "cell_type": "code",
   "execution_count": 8,
   "id": "15df85eb",
   "metadata": {
    "execution": {
     "iopub.execute_input": "2024-04-07T22:22:52.784118Z",
     "iopub.status.busy": "2024-04-07T22:22:52.783666Z",
     "iopub.status.idle": "2024-04-07T22:22:52.802072Z",
     "shell.execute_reply": "2024-04-07T22:22:52.801029Z"
    },
    "papermill": {
     "duration": 0.032943,
     "end_time": "2024-04-07T22:22:52.805082",
     "exception": false,
     "start_time": "2024-04-07T22:22:52.772139",
     "status": "completed"
    },
    "tags": []
   },
   "outputs": [
    {
     "data": {
      "text/html": [
       "<div>\n",
       "<style scoped>\n",
       "    .dataframe tbody tr th:only-of-type {\n",
       "        vertical-align: middle;\n",
       "    }\n",
       "\n",
       "    .dataframe tbody tr th {\n",
       "        vertical-align: top;\n",
       "    }\n",
       "\n",
       "    .dataframe thead th {\n",
       "        text-align: right;\n",
       "    }\n",
       "</style>\n",
       "<table border=\"1\" class=\"dataframe\">\n",
       "  <thead>\n",
       "    <tr style=\"text-align: right;\">\n",
       "      <th></th>\n",
       "      <th>id</th>\n",
       "      <th>Sex</th>\n",
       "      <th>Length</th>\n",
       "      <th>Diameter</th>\n",
       "      <th>Height</th>\n",
       "      <th>Whole weight</th>\n",
       "      <th>Whole weight.1</th>\n",
       "      <th>Whole weight.2</th>\n",
       "      <th>Shell weight</th>\n",
       "    </tr>\n",
       "  </thead>\n",
       "  <tbody>\n",
       "    <tr>\n",
       "      <th>0</th>\n",
       "      <td>90615</td>\n",
       "      <td>M</td>\n",
       "      <td>0.645</td>\n",
       "      <td>0.475</td>\n",
       "      <td>0.155</td>\n",
       "      <td>1.2380</td>\n",
       "      <td>0.6185</td>\n",
       "      <td>0.3125</td>\n",
       "      <td>0.3005</td>\n",
       "    </tr>\n",
       "    <tr>\n",
       "      <th>1</th>\n",
       "      <td>90616</td>\n",
       "      <td>M</td>\n",
       "      <td>0.580</td>\n",
       "      <td>0.460</td>\n",
       "      <td>0.160</td>\n",
       "      <td>0.9830</td>\n",
       "      <td>0.4785</td>\n",
       "      <td>0.2195</td>\n",
       "      <td>0.2750</td>\n",
       "    </tr>\n",
       "    <tr>\n",
       "      <th>2</th>\n",
       "      <td>90617</td>\n",
       "      <td>M</td>\n",
       "      <td>0.560</td>\n",
       "      <td>0.420</td>\n",
       "      <td>0.140</td>\n",
       "      <td>0.8395</td>\n",
       "      <td>0.3525</td>\n",
       "      <td>0.1845</td>\n",
       "      <td>0.2405</td>\n",
       "    </tr>\n",
       "    <tr>\n",
       "      <th>3</th>\n",
       "      <td>90618</td>\n",
       "      <td>M</td>\n",
       "      <td>0.570</td>\n",
       "      <td>0.490</td>\n",
       "      <td>0.145</td>\n",
       "      <td>0.8740</td>\n",
       "      <td>0.3525</td>\n",
       "      <td>0.1865</td>\n",
       "      <td>0.2350</td>\n",
       "    </tr>\n",
       "    <tr>\n",
       "      <th>4</th>\n",
       "      <td>90619</td>\n",
       "      <td>I</td>\n",
       "      <td>0.415</td>\n",
       "      <td>0.325</td>\n",
       "      <td>0.110</td>\n",
       "      <td>0.3580</td>\n",
       "      <td>0.1575</td>\n",
       "      <td>0.0670</td>\n",
       "      <td>0.1050</td>\n",
       "    </tr>\n",
       "  </tbody>\n",
       "</table>\n",
       "</div>"
      ],
      "text/plain": [
       "      id Sex  Length  Diameter  Height  Whole weight  Whole weight.1  \\\n",
       "0  90615   M   0.645     0.475   0.155        1.2380          0.6185   \n",
       "1  90616   M   0.580     0.460   0.160        0.9830          0.4785   \n",
       "2  90617   M   0.560     0.420   0.140        0.8395          0.3525   \n",
       "3  90618   M   0.570     0.490   0.145        0.8740          0.3525   \n",
       "4  90619   I   0.415     0.325   0.110        0.3580          0.1575   \n",
       "\n",
       "   Whole weight.2  Shell weight  \n",
       "0          0.3125        0.3005  \n",
       "1          0.2195        0.2750  \n",
       "2          0.1845        0.2405  \n",
       "3          0.1865        0.2350  \n",
       "4          0.0670        0.1050  "
      ]
     },
     "execution_count": 8,
     "metadata": {},
     "output_type": "execute_result"
    }
   ],
   "source": [
    "test_df.head()"
   ]
  },
  {
   "cell_type": "markdown",
   "id": "4a64f728",
   "metadata": {
    "papermill": {
     "duration": 0.01105,
     "end_time": "2024-04-07T22:22:52.826455",
     "exception": false,
     "start_time": "2024-04-07T22:22:52.815405",
     "status": "completed"
    },
    "tags": []
   },
   "source": [
    "Preprocessing"
   ]
  },
  {
   "cell_type": "code",
   "execution_count": 9,
   "id": "71a22716",
   "metadata": {
    "execution": {
     "iopub.execute_input": "2024-04-07T22:22:52.849741Z",
     "iopub.status.busy": "2024-04-07T22:22:52.849351Z",
     "iopub.status.idle": "2024-04-07T22:22:52.900413Z",
     "shell.execute_reply": "2024-04-07T22:22:52.899251Z"
    },
    "papermill": {
     "duration": 0.065782,
     "end_time": "2024-04-07T22:22:52.903152",
     "exception": false,
     "start_time": "2024-04-07T22:22:52.837370",
     "status": "completed"
    },
    "tags": []
   },
   "outputs": [],
   "source": [
    "le = LabelEncoder()\n",
    "\n",
    "for dataset in combine:\n",
    "    dataset['Sex'] = le.fit_transform(dataset['Sex'])\n",
    "    dataset.columns = dataset.columns.str.replace(' ', '_')"
   ]
  },
  {
   "cell_type": "code",
   "execution_count": 10,
   "id": "247306fe",
   "metadata": {
    "execution": {
     "iopub.execute_input": "2024-04-07T22:22:52.926737Z",
     "iopub.status.busy": "2024-04-07T22:22:52.926323Z",
     "iopub.status.idle": "2024-04-07T22:22:52.944259Z",
     "shell.execute_reply": "2024-04-07T22:22:52.942997Z"
    },
    "papermill": {
     "duration": 0.033311,
     "end_time": "2024-04-07T22:22:52.946803",
     "exception": false,
     "start_time": "2024-04-07T22:22:52.913492",
     "status": "completed"
    },
    "tags": []
   },
   "outputs": [
    {
     "data": {
      "text/html": [
       "<div>\n",
       "<style scoped>\n",
       "    .dataframe tbody tr th:only-of-type {\n",
       "        vertical-align: middle;\n",
       "    }\n",
       "\n",
       "    .dataframe tbody tr th {\n",
       "        vertical-align: top;\n",
       "    }\n",
       "\n",
       "    .dataframe thead th {\n",
       "        text-align: right;\n",
       "    }\n",
       "</style>\n",
       "<table border=\"1\" class=\"dataframe\">\n",
       "  <thead>\n",
       "    <tr style=\"text-align: right;\">\n",
       "      <th></th>\n",
       "      <th>id</th>\n",
       "      <th>Sex</th>\n",
       "      <th>Length</th>\n",
       "      <th>Diameter</th>\n",
       "      <th>Height</th>\n",
       "      <th>Whole_weight</th>\n",
       "      <th>Whole_weight.1</th>\n",
       "      <th>Whole_weight.2</th>\n",
       "      <th>Shell_weight</th>\n",
       "      <th>Rings</th>\n",
       "    </tr>\n",
       "  </thead>\n",
       "  <tbody>\n",
       "    <tr>\n",
       "      <th>0</th>\n",
       "      <td>0</td>\n",
       "      <td>0</td>\n",
       "      <td>0.550</td>\n",
       "      <td>0.430</td>\n",
       "      <td>0.150</td>\n",
       "      <td>0.7715</td>\n",
       "      <td>0.3285</td>\n",
       "      <td>0.1465</td>\n",
       "      <td>0.2400</td>\n",
       "      <td>11</td>\n",
       "    </tr>\n",
       "    <tr>\n",
       "      <th>1</th>\n",
       "      <td>1</td>\n",
       "      <td>0</td>\n",
       "      <td>0.630</td>\n",
       "      <td>0.490</td>\n",
       "      <td>0.145</td>\n",
       "      <td>1.1300</td>\n",
       "      <td>0.4580</td>\n",
       "      <td>0.2765</td>\n",
       "      <td>0.3200</td>\n",
       "      <td>11</td>\n",
       "    </tr>\n",
       "    <tr>\n",
       "      <th>2</th>\n",
       "      <td>2</td>\n",
       "      <td>1</td>\n",
       "      <td>0.160</td>\n",
       "      <td>0.110</td>\n",
       "      <td>0.025</td>\n",
       "      <td>0.0210</td>\n",
       "      <td>0.0055</td>\n",
       "      <td>0.0030</td>\n",
       "      <td>0.0050</td>\n",
       "      <td>6</td>\n",
       "    </tr>\n",
       "    <tr>\n",
       "      <th>3</th>\n",
       "      <td>3</td>\n",
       "      <td>2</td>\n",
       "      <td>0.595</td>\n",
       "      <td>0.475</td>\n",
       "      <td>0.150</td>\n",
       "      <td>0.9145</td>\n",
       "      <td>0.3755</td>\n",
       "      <td>0.2055</td>\n",
       "      <td>0.2500</td>\n",
       "      <td>10</td>\n",
       "    </tr>\n",
       "    <tr>\n",
       "      <th>4</th>\n",
       "      <td>4</td>\n",
       "      <td>1</td>\n",
       "      <td>0.555</td>\n",
       "      <td>0.425</td>\n",
       "      <td>0.130</td>\n",
       "      <td>0.7820</td>\n",
       "      <td>0.3695</td>\n",
       "      <td>0.1600</td>\n",
       "      <td>0.1975</td>\n",
       "      <td>9</td>\n",
       "    </tr>\n",
       "  </tbody>\n",
       "</table>\n",
       "</div>"
      ],
      "text/plain": [
       "   id  Sex  Length  Diameter  Height  Whole_weight  Whole_weight.1  \\\n",
       "0   0    0   0.550     0.430   0.150        0.7715          0.3285   \n",
       "1   1    0   0.630     0.490   0.145        1.1300          0.4580   \n",
       "2   2    1   0.160     0.110   0.025        0.0210          0.0055   \n",
       "3   3    2   0.595     0.475   0.150        0.9145          0.3755   \n",
       "4   4    1   0.555     0.425   0.130        0.7820          0.3695   \n",
       "\n",
       "   Whole_weight.2  Shell_weight  Rings  \n",
       "0          0.1465        0.2400     11  \n",
       "1          0.2765        0.3200     11  \n",
       "2          0.0030        0.0050      6  \n",
       "3          0.2055        0.2500     10  \n",
       "4          0.1600        0.1975      9  "
      ]
     },
     "execution_count": 10,
     "metadata": {},
     "output_type": "execute_result"
    }
   ],
   "source": [
    "train_df.head()"
   ]
  },
  {
   "cell_type": "code",
   "execution_count": 11,
   "id": "a59f882a",
   "metadata": {
    "execution": {
     "iopub.execute_input": "2024-04-07T22:22:52.970442Z",
     "iopub.status.busy": "2024-04-07T22:22:52.970037Z",
     "iopub.status.idle": "2024-04-07T22:22:52.977353Z",
     "shell.execute_reply": "2024-04-07T22:22:52.976300Z"
    },
    "papermill": {
     "duration": 0.021771,
     "end_time": "2024-04-07T22:22:52.979545",
     "exception": false,
     "start_time": "2024-04-07T22:22:52.957774",
     "status": "completed"
    },
    "tags": []
   },
   "outputs": [
    {
     "data": {
      "text/plain": [
       "Index(['id', 'Sex', 'Length', 'Diameter', 'Height', 'Whole_weight',\n",
       "       'Whole_weight.1', 'Whole_weight.2', 'Shell_weight', 'Rings'],\n",
       "      dtype='object')"
      ]
     },
     "execution_count": 11,
     "metadata": {},
     "output_type": "execute_result"
    }
   ],
   "source": [
    "train_df.columns"
   ]
  },
  {
   "cell_type": "markdown",
   "id": "535e09b0",
   "metadata": {
    "papermill": {
     "duration": 0.010511,
     "end_time": "2024-04-07T22:22:53.001204",
     "exception": false,
     "start_time": "2024-04-07T22:22:52.990693",
     "status": "completed"
    },
    "tags": []
   },
   "source": [
    "Base model"
   ]
  },
  {
   "cell_type": "code",
   "execution_count": 12,
   "id": "2fa37eef",
   "metadata": {
    "execution": {
     "iopub.execute_input": "2024-04-07T22:22:53.024709Z",
     "iopub.status.busy": "2024-04-07T22:22:53.024310Z",
     "iopub.status.idle": "2024-04-07T22:22:53.030829Z",
     "shell.execute_reply": "2024-04-07T22:22:53.029489Z"
    },
    "papermill": {
     "duration": 0.021733,
     "end_time": "2024-04-07T22:22:53.033616",
     "exception": false,
     "start_time": "2024-04-07T22:22:53.011883",
     "status": "completed"
    },
    "tags": []
   },
   "outputs": [],
   "source": [
    "def rmsle(predictions, targets):\n",
    "    \"\"\"Calculate the root mean squared logarithmic error between predictions and targets\"\"\"\n",
    "    return np.sqrt(np.mean((np.log(predictions + 1) - np.log(targets + 1)) ** 2))"
   ]
  },
  {
   "cell_type": "code",
   "execution_count": 13,
   "id": "b1e49f6b",
   "metadata": {
    "execution": {
     "iopub.execute_input": "2024-04-07T22:22:53.058817Z",
     "iopub.status.busy": "2024-04-07T22:22:53.058408Z",
     "iopub.status.idle": "2024-04-07T22:22:53.073271Z",
     "shell.execute_reply": "2024-04-07T22:22:53.071797Z"
    },
    "papermill": {
     "duration": 0.031417,
     "end_time": "2024-04-07T22:22:53.076214",
     "exception": false,
     "start_time": "2024-04-07T22:22:53.044797",
     "status": "completed"
    },
    "tags": []
   },
   "outputs": [],
   "source": [
    "X = train_df.drop(columns = ['Rings'], axis = 1)\n",
    "y = train_df['Rings']\n",
    "\n",
    "gb_cv_scores, gb_preds = list(), list()\n",
    "hist_cv_scores, hist_preds = list(), list()\n",
    "lgb_cv_scores, lgb_preds = list(), list()\n",
    "xgb_cv_scores, xgb_preds = list(), list()\n",
    "ens_cv_scores, ens_preds = list(), list()\n",
    "\n",
    "skf = KFold(n_splits = 10, random_state = 42, shuffle = True)"
   ]
  },
  {
   "cell_type": "code",
   "execution_count": 14,
   "id": "f3a34f33",
   "metadata": {
    "execution": {
     "iopub.execute_input": "2024-04-07T22:22:53.100645Z",
     "iopub.status.busy": "2024-04-07T22:22:53.100252Z",
     "iopub.status.idle": "2024-04-07T22:26:36.507856Z",
     "shell.execute_reply": "2024-04-07T22:26:36.505025Z"
    },
    "papermill": {
     "duration": 223.424264,
     "end_time": "2024-04-07T22:26:36.511415",
     "exception": false,
     "start_time": "2024-04-07T22:22:53.087151",
     "status": "completed"
    },
    "tags": []
   },
   "outputs": [
    {
     "name": "stdout",
     "output_type": "stream",
     "text": [
      "-------------------------------------------\n",
      "Fold 0 => GradientBoosting of MAE => 0.18035834222744948\n",
      "Fold 0 => HistGradientBoosting of RMSLE => 0.1679521853213326\n",
      "Fold 0 => LightGBM of RMSLE => 0.15827783983483518\n",
      "Fold 0 => XGBoost of RMSLE => 0.1679521853213326\n",
      "Fold 0 => Ensemble of RMSLE => 0.1817780711455201\n",
      "-------------------------------------------\n",
      "Fold 1 => GradientBoosting of MAE => 0.18264160344893604\n",
      "Fold 1 => HistGradientBoosting of RMSLE => 0.1725911965655784\n",
      "Fold 1 => LightGBM of RMSLE => 0.1616843609643284\n",
      "Fold 1 => XGBoost of RMSLE => 0.1725911965655784\n",
      "Fold 1 => Ensemble of RMSLE => 0.18727575682761494\n",
      "-------------------------------------------\n",
      "Fold 2 => GradientBoosting of MAE => 0.17541552616240505\n",
      "Fold 2 => HistGradientBoosting of RMSLE => 0.16848132907840557\n",
      "Fold 2 => LightGBM of RMSLE => 0.15771653044634676\n",
      "Fold 2 => XGBoost of RMSLE => 0.16848132907840557\n",
      "Fold 2 => Ensemble of RMSLE => 0.1829876590495391\n",
      "-------------------------------------------\n",
      "Fold 3 => GradientBoosting of MAE => 0.1767819284710405\n",
      "Fold 3 => HistGradientBoosting of RMSLE => 0.17045808511503593\n",
      "Fold 3 => LightGBM of RMSLE => 0.16067395737575668\n",
      "Fold 3 => XGBoost of RMSLE => 0.17045808511503593\n",
      "Fold 3 => Ensemble of RMSLE => 0.1824299385574338\n",
      "-------------------------------------------\n",
      "Fold 4 => GradientBoosting of MAE => 0.17791381240064325\n",
      "Fold 4 => HistGradientBoosting of RMSLE => 0.17154672442793542\n",
      "Fold 4 => LightGBM of RMSLE => 0.15831946909203623\n",
      "Fold 4 => XGBoost of RMSLE => 0.17154672442793542\n",
      "Fold 4 => Ensemble of RMSLE => 0.18446539340143478\n",
      "-------------------------------------------\n",
      "Fold 5 => GradientBoosting of MAE => 0.17780026564894752\n",
      "Fold 5 => HistGradientBoosting of RMSLE => 0.17181944401124816\n",
      "Fold 5 => LightGBM of RMSLE => 0.15767470955064708\n",
      "Fold 5 => XGBoost of RMSLE => 0.17181944401124816\n",
      "Fold 5 => Ensemble of RMSLE => 0.18222980438517225\n",
      "-------------------------------------------\n",
      "Fold 6 => GradientBoosting of MAE => 0.1737832472889636\n",
      "Fold 6 => HistGradientBoosting of RMSLE => 0.1674358260068512\n",
      "Fold 6 => LightGBM of RMSLE => 0.15553798046585068\n",
      "Fold 6 => XGBoost of RMSLE => 0.1674358260068512\n",
      "Fold 6 => Ensemble of RMSLE => 0.17878620283659474\n",
      "-------------------------------------------\n",
      "Fold 7 => GradientBoosting of MAE => 0.17800031485098886\n",
      "Fold 7 => HistGradientBoosting of RMSLE => 0.16903722919532793\n",
      "Fold 7 => LightGBM of RMSLE => 0.16036170859926502\n",
      "Fold 7 => XGBoost of RMSLE => 0.16903722919532793\n",
      "Fold 7 => Ensemble of RMSLE => 0.18458427430752655\n",
      "-------------------------------------------\n",
      "Fold 8 => GradientBoosting of MAE => 0.17225616119378134\n",
      "Fold 8 => HistGradientBoosting of RMSLE => 0.1685965155120306\n",
      "Fold 8 => LightGBM of RMSLE => 0.15625048199354627\n",
      "Fold 8 => XGBoost of RMSLE => 0.1685965155120306\n",
      "Fold 8 => Ensemble of RMSLE => 0.18223091460790267\n",
      "-------------------------------------------\n",
      "Fold 9 => GradientBoosting of MAE => 0.16840224171733717\n",
      "Fold 9 => HistGradientBoosting of RMSLE => 0.16529947378145127\n",
      "Fold 9 => LightGBM of RMSLE => 0.15568765382030153\n",
      "Fold 9 => XGBoost of RMSLE => 0.16529947378145127\n",
      "Fold 9 => Ensemble of RMSLE => 0.18212235368654886\n"
     ]
    }
   ],
   "source": [
    "for i, (train_i, test_i) in enumerate(skf.split(X, y)):\n",
    "    X_train, X_test = X.iloc[train_i], X.iloc[test_i]\n",
    "    y_train, y_test = y.iloc[train_i], y.iloc[test_i]\n",
    "    \n",
    "    print('-------------------------------------------')\n",
    "    # GradientBoosting\n",
    "    gb_md = GradientBoostingRegressor(loss = 'absolute_error'\n",
    "                                 ).fit(X_train, y_train)\n",
    "    \n",
    "    gb_pred = gb_md.predict(X_test).astype(int)\n",
    "    gb_score = rmsle(gb_pred, y_test)\n",
    "    \n",
    "    gb_preds.append(gb_pred)\n",
    "    gb_cv_scores.append(gb_score)\n",
    "    \n",
    "    print(f'Fold {i} => GradientBoosting of MAE =>', gb_score)\n",
    "    \n",
    "    # HistGradientBoosting\n",
    "    hist_md = HistGradientBoostingRegressor(loss = 'absolute_error',\n",
    "                                            ).fit(X_train, y_train)\n",
    "                                       \n",
    "    hist_pred = hist_md.predict(X_test).astype(int)\n",
    "    hist_score = rmsle(hist_pred, y_test)\n",
    "    \n",
    "    hist_preds.append(hist_pred)\n",
    "    hist_cv_scores.append(hist_score)\n",
    "    \n",
    "    print(f'Fold {i} => HistGradientBoosting of RMSLE =>', hist_score)\n",
    "    \n",
    "    # LightGBM\n",
    "    lgb_md = LGBMRegressor(objective = 'rmse',\n",
    "                           force_col_wise = True,\n",
    "                           verbose = -1,\n",
    "                          ).fit(X_train, y_train)\n",
    "                                       \n",
    "    lgb_pred = lgb_md.predict(X_test).astype(int)\n",
    "    lgb_score = rmsle(lgb_pred, y_test)\n",
    "    \n",
    "    lgb_preds.append(lgb_pred)\n",
    "    lgb_cv_scores.append(lgb_score)\n",
    "    \n",
    "    print(f'Fold {i} => LightGBM of RMSLE =>', lgb_score)\n",
    "    \n",
    "    # XGBoost\n",
    "    xgb_md = XGBRegressor(objective = 'reg:pseudohubererror',\n",
    "                         ).fit(X_train, y_train)\n",
    "                                       \n",
    "    xgb_pred = hist_md.predict(X_test).astype(int)\n",
    "    xgb_score = rmsle(xgb_pred, y_test)\n",
    "    \n",
    "    xgb_preds.append(xgb_pred)\n",
    "    xgb_cv_scores.append(xgb_score)\n",
    "    \n",
    "    print(f'Fold {i} => XGBoost of RMSLE =>', xgb_score)\n",
    "    \n",
    "    # LAD Ensemble\n",
    "    ens_md = LADRegression().fit(X_train, y_train)\n",
    "                                       \n",
    "    ens_pred = ens_md.predict(X_test).astype(int)\n",
    "    ens_score = rmsle(ens_pred, y_test)\n",
    "    \n",
    "    ens_preds.append(ens_pred)\n",
    "    ens_cv_scores.append(ens_score)\n",
    "    \n",
    "    print(f'Fold {i} => Ensemble of RMSLE =>', ens_score)"
   ]
  },
  {
   "cell_type": "code",
   "execution_count": 15,
   "id": "87c87096",
   "metadata": {
    "execution": {
     "iopub.execute_input": "2024-04-07T22:26:36.547306Z",
     "iopub.status.busy": "2024-04-07T22:26:36.546858Z",
     "iopub.status.idle": "2024-04-07T22:26:36.998853Z",
     "shell.execute_reply": "2024-04-07T22:26:36.997431Z"
    },
    "papermill": {
     "duration": 0.47194,
     "end_time": "2024-04-07T22:26:37.001611",
     "exception": false,
     "start_time": "2024-04-07T22:26:36.529671",
     "status": "completed"
    },
    "tags": []
   },
   "outputs": [
    {
     "data": {
      "image/png": "[encoded data removed]",
      "text/plain": [
       "<Figure size 800x800 with 1 Axes>"
      ]
     },
     "metadata": {},
     "output_type": "display_data"
    }
   ],
   "source": [
    "gb_cv_score = np.mean(gb_cv_scores)\n",
    "hist_cv_score = np.mean(hist_cv_scores)\n",
    "lgb_cv_score = np.mean(lgb_cv_scores)\n",
    "xgb_cv_score = np.mean(xgb_cv_scores)\n",
    "ens_cv_score = np.mean(ens_cv_scores)\n",
    "\n",
    "model_perf = pd.DataFrame({'Model': ['GradientBoosting', 'HistGradient' ,'LightGBM', 'XGBoost', 'Ensemble'],\n",
    "                           'cv-score': [gb_cv_score, hist_cv_score, lgb_cv_score, xgb_cv_score, ens_cv_score]})\n",
    "\n",
    "plt.figure(figsize = (8, 8))\n",
    "ax = sns.barplot(y = 'Model', x = 'cv-score', data = model_perf)\n",
    "ax.bar_label(ax.containers[0]);"
   ]
  },
  {
   "cell_type": "markdown",
   "id": "482255b1",
   "metadata": {
    "papermill": {
     "duration": 0.016572,
     "end_time": "2024-04-07T22:26:37.035469",
     "exception": false,
     "start_time": "2024-04-07T22:26:37.018897",
     "status": "completed"
    },
    "tags": []
   },
   "source": [
    "Hyperparameter tuning"
   ]
  },
  {
   "cell_type": "code",
   "execution_count": 16,
   "id": "7a6259d6",
   "metadata": {
    "execution": {
     "iopub.execute_input": "2024-04-07T22:26:37.071054Z",
     "iopub.status.busy": "2024-04-07T22:26:37.070245Z",
     "iopub.status.idle": "2024-04-07T22:26:37.080691Z",
     "shell.execute_reply": "2024-04-07T22:26:37.079444Z"
    },
    "papermill": {
     "duration": 0.031011,
     "end_time": "2024-04-07T22:26:37.083466",
     "exception": false,
     "start_time": "2024-04-07T22:26:37.052455",
     "status": "completed"
    },
    "tags": []
   },
   "outputs": [],
   "source": [
    "def objective(trial):\n",
    "    X_train, X_val, y_train, y_val = train_test_split(X, y, test_size=0.3, random_state=42) \n",
    "    \n",
    "    params = {\n",
    "        \"objective\": \"regression\",\n",
    "        \"metric\": \"rmse\",\n",
    "        \"n_estimators\": 1000,\n",
    "        \"verbosity\": -1,\n",
    "        \"bagging_freq\": 1,\n",
    "        \"learning_rate\": trial.suggest_float(\"learning_rate\", 1e-3, 0.1, log=True),\n",
    "        \"num_leaves\": trial.suggest_int(\"num_leaves\", 2, 2**10),\n",
    "        \"subsample\": trial.suggest_float(\"subsample\", 0.05, 1.0),\n",
    "        \"colsample_bytree\": trial.suggest_float(\"colsample_bytree\", 0.05, 1.0),\n",
    "        \"min_data_in_leaf\": trial.suggest_int(\"min_data_in_leaf\", 1, 100),\n",
    "        \"verbose\": -1,\n",
    "        \"force_col_wise\": True,\n",
    "    }\n",
    "\n",
    "    model = LGBMRegressor(**params)\n",
    "    model.fit(X_train, y_train)\n",
    "    predictions = model.predict(X_val).astype(int)\n",
    "    result = rmsle(predictions, y_val)\n",
    "    return result"
   ]
  },
  {
   "cell_type": "code",
   "execution_count": 17,
   "id": "22559137",
   "metadata": {
    "execution": {
     "iopub.execute_input": "2024-04-07T22:26:37.120001Z",
     "iopub.status.busy": "2024-04-07T22:26:37.119562Z",
     "iopub.status.idle": "2024-04-07T22:42:16.634617Z",
     "shell.execute_reply": "2024-04-07T22:42:16.633363Z"
    },
    "papermill": {
     "duration": 939.555894,
     "end_time": "2024-04-07T22:42:16.656096",
     "exception": false,
     "start_time": "2024-04-07T22:26:37.100202",
     "status": "completed"
    },
    "tags": []
   },
   "outputs": [
    {
     "name": "stderr",
     "output_type": "stream",
     "text": [
      "[I 2024-04-07 22:26:37,121] A new study created in memory with name: no-name-5641aad4-37b2-484d-a687-f33845a78ce5\n",
      "[I 2024-04-07 22:27:02,655] Trial 0 finished with value: 0.16887588048168378 and parameters: {'learning_rate': 0.06819061061402736, 'num_leaves': 295, 'subsample': 0.7932412410329287, 'colsample_bytree': 0.7580625931363703, 'min_data_in_leaf': 28}. Best is trial 0 with value: 0.16887588048168378.\n",
      "[I 2024-04-07 22:27:34,623] Trial 1 finished with value: 0.1605297339041745 and parameters: {'learning_rate': 0.008634943526834644, 'num_leaves': 964, 'subsample': 0.8612333962763719, 'colsample_bytree': 0.2986785763534463, 'min_data_in_leaf': 85}. Best is trial 1 with value: 0.1605297339041745.\n",
      "[I 2024-04-07 22:27:59,253] Trial 2 finished with value: 0.15863175817090822 and parameters: {'learning_rate': 0.004122214924159056, 'num_leaves': 599, 'subsample': 0.31246867948391416, 'colsample_bytree': 0.7826318257548849, 'min_data_in_leaf': 82}. Best is trial 2 with value: 0.15863175817090822.\n",
      "[I 2024-04-07 22:28:13,941] Trial 3 finished with value: 0.17796368271559906 and parameters: {'learning_rate': 0.011867714565807434, 'num_leaves': 922, 'subsample': 0.9482551250752514, 'colsample_bytree': 0.05828114755989474, 'min_data_in_leaf': 15}. Best is trial 2 with value: 0.15863175817090822.\n",
      "[I 2024-04-07 22:28:29,491] Trial 4 finished with value: 0.17350247990019926 and parameters: {'learning_rate': 0.04201950914191628, 'num_leaves': 310, 'subsample': 0.5054300967999907, 'colsample_bytree': 0.1642821486806434, 'min_data_in_leaf': 82}. Best is trial 2 with value: 0.15863175817090822.\n",
      "[I 2024-04-07 22:28:41,256] Trial 5 finished with value: 0.16277735886836225 and parameters: {'learning_rate': 0.013958416541375526, 'num_leaves': 185, 'subsample': 0.06644446319618624, 'colsample_bytree': 0.17783107433633644, 'min_data_in_leaf': 70}. Best is trial 2 with value: 0.15863175817090822.\n",
      "[I 2024-04-07 22:29:11,123] Trial 6 finished with value: 0.15837286417480187 and parameters: {'learning_rate': 0.0021268382598055705, 'num_leaves': 414, 'subsample': 0.5283063664009253, 'colsample_bytree': 0.9323158744888538, 'min_data_in_leaf': 82}. Best is trial 6 with value: 0.15837286417480187.\n",
      "[I 2024-04-07 22:29:37,228] Trial 7 finished with value: 0.15971429690422953 and parameters: {'learning_rate': 0.005423603740866794, 'num_leaves': 377, 'subsample': 0.6743427703063942, 'colsample_bytree': 0.310018657189019, 'min_data_in_leaf': 88}. Best is trial 6 with value: 0.15837286417480187.\n",
      "[I 2024-04-07 22:30:37,218] Trial 8 finished with value: 0.1643751237199103 and parameters: {'learning_rate': 0.015633621380833188, 'num_leaves': 987, 'subsample': 0.9812307746079993, 'colsample_bytree': 0.8677531540263685, 'min_data_in_leaf': 66}. Best is trial 6 with value: 0.15837286417480187.\n",
      "[I 2024-04-07 22:31:20,758] Trial 9 finished with value: 0.17510805107613578 and parameters: {'learning_rate': 0.05876308385839666, 'num_leaves': 727, 'subsample': 0.6839034622206829, 'colsample_bytree': 0.31423908568411124, 'min_data_in_leaf': 44}. Best is trial 6 with value: 0.15837286417480187.\n",
      "[I 2024-04-07 22:31:36,678] Trial 10 finished with value: 0.17057632857922508 and parameters: {'learning_rate': 0.0012528461143863471, 'num_leaves': 47, 'subsample': 0.3819702797601201, 'colsample_bytree': 0.9833853390797916, 'min_data_in_leaf': 99}. Best is trial 6 with value: 0.15837286417480187.\n",
      "[I 2024-04-07 22:32:04,152] Trial 11 finished with value: 0.1579691159480924 and parameters: {'learning_rate': 0.0024721829348375917, 'num_leaves': 604, 'subsample': 0.29786386249091745, 'colsample_bytree': 0.6300596025998857, 'min_data_in_leaf': 54}. Best is trial 11 with value: 0.1579691159480924.\n",
      "[I 2024-04-07 22:32:27,594] Trial 12 finished with value: 0.17071056952328306 and parameters: {'learning_rate': 0.0012785693191899187, 'num_leaves': 536, 'subsample': 0.24412609471343794, 'colsample_bytree': 0.6010127121015483, 'min_data_in_leaf': 51}. Best is trial 11 with value: 0.1579691159480924.\n",
      "[I 2024-04-07 22:33:01,362] Trial 13 finished with value: 0.15800872027794355 and parameters: {'learning_rate': 0.0026081460205010483, 'num_leaves': 606, 'subsample': 0.5124030100146746, 'colsample_bytree': 0.5885420192001831, 'min_data_in_leaf': 54}. Best is trial 11 with value: 0.1579691159480924.\n",
      "[I 2024-04-07 22:33:18,149] Trial 14 finished with value: 0.1586884798483517 and parameters: {'learning_rate': 0.0033355901476849518, 'num_leaves': 689, 'subsample': 0.10200774350724229, 'colsample_bytree': 0.5628736552215143, 'min_data_in_leaf': 46}. Best is trial 11 with value: 0.1579691159480924.\n",
      "[I 2024-04-07 22:33:51,793] Trial 15 finished with value: 0.15979270407808577 and parameters: {'learning_rate': 0.002335449240393374, 'num_leaves': 779, 'subsample': 0.4742328251255494, 'colsample_bytree': 0.47672711381432353, 'min_data_in_leaf': 59}. Best is trial 11 with value: 0.1579691159480924.\n",
      "[I 2024-04-07 22:34:20,046] Trial 16 finished with value: 0.1593236728258353 and parameters: {'learning_rate': 0.006864023593861081, 'num_leaves': 626, 'subsample': 0.1836458883075472, 'colsample_bytree': 0.669020811206903, 'min_data_in_leaf': 31}. Best is trial 11 with value: 0.1579691159480924.\n",
      "[I 2024-04-07 22:34:58,015] Trial 17 finished with value: 0.15951330875513797 and parameters: {'learning_rate': 0.00224486797331403, 'num_leaves': 819, 'subsample': 0.6198444621831568, 'colsample_bytree': 0.4108797250679271, 'min_data_in_leaf': 2}. Best is trial 11 with value: 0.1579691159480924.\n",
      "[I 2024-04-07 22:35:39,453] Trial 18 finished with value: 0.16584411394721635 and parameters: {'learning_rate': 0.02586192259995424, 'num_leaves': 470, 'subsample': 0.38899993119108234, 'colsample_bytree': 0.6761209914436639, 'min_data_in_leaf': 33}. Best is trial 11 with value: 0.1579691159480924.\n",
      "[I 2024-04-07 22:36:06,573] Trial 19 finished with value: 0.17719714913293427 and parameters: {'learning_rate': 0.0011694417586307667, 'num_leaves': 557, 'subsample': 0.3715504196334044, 'colsample_bytree': 0.46499477066519346, 'min_data_in_leaf': 61}. Best is trial 11 with value: 0.1579691159480924.\n",
      "[I 2024-04-07 22:36:29,614] Trial 20 finished with value: 0.15837616344706734 and parameters: {'learning_rate': 0.003751621309218393, 'num_leaves': 839, 'subsample': 0.2109198294192638, 'colsample_bytree': 0.6470561387064051, 'min_data_in_leaf': 51}. Best is trial 11 with value: 0.1579691159480924.\n",
      "[I 2024-04-07 22:37:00,736] Trial 21 finished with value: 0.1584302721068844 and parameters: {'learning_rate': 0.002080085538476059, 'num_leaves': 447, 'subsample': 0.5081455861072594, 'colsample_bytree': 0.8981512634909896, 'min_data_in_leaf': 73}. Best is trial 11 with value: 0.1579691159480924.\n",
      "[I 2024-04-07 22:37:29,167] Trial 22 finished with value: 0.16127869974759074 and parameters: {'learning_rate': 0.001743131968695772, 'num_leaves': 417, 'subsample': 0.6042849836484193, 'colsample_bytree': 0.7752037915102856, 'min_data_in_leaf': 99}. Best is trial 11 with value: 0.1579691159480924.\n",
      "[I 2024-04-07 22:38:15,230] Trial 23 finished with value: 0.1579411989327647 and parameters: {'learning_rate': 0.003081870451958179, 'num_leaves': 658, 'subsample': 0.4401973403827549, 'colsample_bytree': 0.9585942888748252, 'min_data_in_leaf': 40}. Best is trial 23 with value: 0.1579411989327647.\n",
      "[I 2024-04-07 22:39:03,909] Trial 24 finished with value: 0.15965447530846308 and parameters: {'learning_rate': 0.005270423124852178, 'num_leaves': 663, 'subsample': 0.43124508524676863, 'colsample_bytree': 0.8397506936330016, 'min_data_in_leaf': 36}. Best is trial 23 with value: 0.1579411989327647.\n",
      "[I 2024-04-07 22:39:35,747] Trial 25 finished with value: 0.15782650120193062 and parameters: {'learning_rate': 0.0029280965046143584, 'num_leaves': 734, 'subsample': 0.31601440849905216, 'colsample_bytree': 0.5310658725500984, 'min_data_in_leaf': 40}. Best is trial 25 with value: 0.15782650120193062.\n",
      "[I 2024-04-07 22:40:07,500] Trial 26 finished with value: 0.1597707535312361 and parameters: {'learning_rate': 0.007994834515793357, 'num_leaves': 857, 'subsample': 0.2977596517198685, 'colsample_bytree': 0.4223938254875798, 'min_data_in_leaf': 39}. Best is trial 25 with value: 0.15782650120193062.\n",
      "[I 2024-04-07 22:40:54,315] Trial 27 finished with value: 0.15777804206522253 and parameters: {'learning_rate': 0.003123152226565751, 'num_leaves': 745, 'subsample': 0.3001820424836398, 'colsample_bytree': 0.9952210679454103, 'min_data_in_leaf': 24}. Best is trial 27 with value: 0.15777804206522253.\n",
      "[I 2024-04-07 22:41:24,657] Trial 28 finished with value: 0.1630106113861327 and parameters: {'learning_rate': 0.020041808794461383, 'num_leaves': 732, 'subsample': 0.13426567061674372, 'colsample_bytree': 0.9588008827248807, 'min_data_in_leaf': 22}. Best is trial 27 with value: 0.15777804206522253.\n",
      "[I 2024-04-07 22:42:16,630] Trial 29 finished with value: 0.15917331941447035 and parameters: {'learning_rate': 0.004949806918267773, 'num_leaves': 896, 'subsample': 0.2796647858764095, 'colsample_bytree': 0.83506045146009, 'min_data_in_leaf': 19}. Best is trial 27 with value: 0.15777804206522253.\n"
     ]
    }
   ],
   "source": [
    "study = optuna.create_study(direction='minimize')\n",
    "study.optimize(objective, n_trials=30)"
   ]
  },
  {
   "cell_type": "code",
   "execution_count": 18,
   "id": "95371c36",
   "metadata": {
    "execution": {
     "iopub.execute_input": "2024-04-07T22:42:16.696357Z",
     "iopub.status.busy": "2024-04-07T22:42:16.695944Z",
     "iopub.status.idle": "2024-04-07T22:42:16.702805Z",
     "shell.execute_reply": "2024-04-07T22:42:16.701583Z"
    },
    "papermill": {
     "duration": 0.029835,
     "end_time": "2024-04-07T22:42:16.705339",
     "exception": false,
     "start_time": "2024-04-07T22:42:16.675504",
     "status": "completed"
    },
    "tags": []
   },
   "outputs": [
    {
     "name": "stdout",
     "output_type": "stream",
     "text": [
      "Best hyperparameters: {'learning_rate': 0.003123152226565751, 'num_leaves': 745, 'subsample': 0.3001820424836398, 'colsample_bytree': 0.9952210679454103, 'min_data_in_leaf': 24}\n",
      "Best RMSLE: 0.15777804206522253\n"
     ]
    }
   ],
   "source": [
    "print('Best hyperparameters:', study.best_params)\n",
    "print('Best RMSLE:', study.best_value)"
   ]
  },
  {
   "cell_type": "code",
   "execution_count": 19,
   "id": "8f153c7b",
   "metadata": {
    "execution": {
     "iopub.execute_input": "2024-04-07T22:42:16.746118Z",
     "iopub.status.busy": "2024-04-07T22:42:16.745643Z",
     "iopub.status.idle": "2024-04-07T22:42:20.723701Z",
     "shell.execute_reply": "2024-04-07T22:42:20.722744Z"
    },
    "papermill": {
     "duration": 4.001679,
     "end_time": "2024-04-07T22:42:20.726434",
     "exception": false,
     "start_time": "2024-04-07T22:42:16.724755",
     "status": "completed"
    },
    "tags": []
   },
   "outputs": [
    {
     "name": "stdout",
     "output_type": "stream",
     "text": [
      "[LightGBM] [Warning] min_data_in_leaf is set=24, min_child_samples=20 will be ignored. Current value: min_data_in_leaf=24\n",
      "[LightGBM] [Warning] min_data_in_leaf is set=24, min_child_samples=20 will be ignored. Current value: min_data_in_leaf=24\n",
      "[LightGBM] [Info] Auto-choosing col-wise multi-threading, the overhead of testing was 0.016420 seconds.\n",
      "You can set `force_col_wise=true` to remove the overhead.\n",
      "[LightGBM] [Info] Total Bins 1585\n",
      "[LightGBM] [Info] Number of data points in the train set: 63430, number of used features: 9\n",
      "[LightGBM] [Info] Start training from score 9.702396\n",
      "[LightGBM] [Warning] min_data_in_leaf is set=24, min_child_samples=20 will be ignored. Current value: min_data_in_leaf=24\n"
     ]
    }
   ],
   "source": [
    "X_train, X_val, y_train, y_val = train_test_split(X, y, test_size=0.3, random_state=42) \n",
    "\n",
    "lgbmr_clf = LGBMRegressor(**study.best_params)\n",
    "lgbmr_clf.fit(X_train, y_train)\n",
    "predictions = pd.Series(lgbmr_clf.predict(X_val), name=\"Rings\").astype(int)"
   ]
  },
  {
   "cell_type": "code",
   "execution_count": 20,
   "id": "de144a62",
   "metadata": {
    "execution": {
     "iopub.execute_input": "2024-04-07T22:42:20.768327Z",
     "iopub.status.busy": "2024-04-07T22:42:20.767617Z",
     "iopub.status.idle": "2024-04-07T22:42:20.885412Z",
     "shell.execute_reply": "2024-04-07T22:42:20.884245Z"
    },
    "papermill": {
     "duration": 0.141301,
     "end_time": "2024-04-07T22:42:20.888129",
     "exception": false,
     "start_time": "2024-04-07T22:42:20.746828",
     "status": "completed"
    },
    "tags": []
   },
   "outputs": [],
   "source": [
    "results = pd.concat([test_df[\"id\"], predictions], axis=1)\n",
    "results.to_csv(\"/kaggle/working/result.csv\", index=False)"
   ]
  }
 ],
 "metadata": {
  "kaggle": {
   "accelerator": "none",
   "dataSources": [
    {
     "databundleVersionId": 8096274,
     "sourceId": 72489,
     "sourceType": "competition"
    }
   ],
   "dockerImageVersionId": 30673,
   "isGpuEnabled": false,
   "isInternetEnabled": true,
   "language": "python",
   "sourceType": "notebook"
  },
  "kernelspec": {
   "display_name": "Python 3",
   "language": "python",
   "name": "python3"
  },
  "language_info": {
   "codemirror_mode": {
    "name": "ipython",
    "version": 3
   },
   "file_extension": ".py",
   "mimetype": "text/x-python",
   "name": "python",
   "nbconvert_exporter": "python",
   "pygments_lexer": "ipython3",
   "version": "3.10.13"
  },
  "papermill": {
   "default_parameters": {},
   "duration": 1195.588114,
   "end_time": "2024-04-07T22:42:21.734105",
   "environment_variables": {},
   "exception": null,
   "input_path": "__notebook__.ipynb",
   "output_path": "__notebook__.ipynb",
   "parameters": {},
   "start_time": "2024-04-07T22:22:26.145991",
   "version": "2.5.0"
  }
 },
 "nbformat": 4,
 "nbformat_minor": 5
}
