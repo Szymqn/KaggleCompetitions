{
 "cells": [
  {
   "cell_type": "code",
   "execution_count": 1,
   "id": "e7040e0a",
   "metadata": {
    "_cell_guid": "b1076dfc-b9ad-4769-8c92-a6c4dae69d19",
    "_uuid": "8f2839f25d086af736a60e9eeb907d3b93b6e0e5",
    "execution": {
     "iopub.execute_input": "2024-04-07T23:09:02.336780Z",
     "iopub.status.busy": "2024-04-07T23:09:02.335601Z",
     "iopub.status.idle": "2024-04-07T23:09:19.729200Z",
     "shell.execute_reply": "2024-04-07T23:09:19.727278Z"
    },
    "papermill": {
     "duration": 17.408081,
     "end_time": "2024-04-07T23:09:19.732159",
     "exception": false,
     "start_time": "2024-04-07T23:09:02.324078",
     "status": "completed"
    },
    "tags": []
   },
   "outputs": [
    {
     "name": "stdout",
     "output_type": "stream",
     "text": [
      "Collecting scikit-lego\r\n",
      "  Downloading scikit_lego-0.8.1-py2.py3-none-any.whl.metadata (11 kB)\r\n",
      "Requirement already satisfied: pandas>=1.1.5 in /opt/conda/lib/python3.10/site-packages (from scikit-lego) (2.2.1)\r\n",
      "Requirement already satisfied: scikit-learn>=1.0 in /opt/conda/lib/python3.10/site-packages (from scikit-lego) (1.2.2)\r\n",
      "Requirement already satisfied: numpy<2,>=1.22.4 in /opt/conda/lib/python3.10/site-packages (from pandas>=1.1.5->scikit-lego) (1.26.4)\r\n",
      "Requirement already satisfied: python-dateutil>=2.8.2 in /opt/conda/lib/python3.10/site-packages (from pandas>=1.1.5->scikit-lego) (2.9.0.post0)\r\n",
      "Requirement already satisfied: pytz>=2020.1 in /opt/conda/lib/python3.10/site-packages (from pandas>=1.1.5->scikit-lego) (2023.3.post1)\r\n",
      "Requirement already satisfied: tzdata>=2022.7 in /opt/conda/lib/python3.10/site-packages (from pandas>=1.1.5->scikit-lego) (2023.4)\r\n",
      "Requirement already satisfied: scipy>=1.3.2 in /opt/conda/lib/python3.10/site-packages (from scikit-learn>=1.0->scikit-lego) (1.11.4)\r\n",
      "Requirement already satisfied: joblib>=1.1.1 in /opt/conda/lib/python3.10/site-packages (from scikit-learn>=1.0->scikit-lego) (1.3.2)\r\n",
      "Requirement already satisfied: threadpoolctl>=2.0.0 in /opt/conda/lib/python3.10/site-packages (from scikit-learn>=1.0->scikit-lego) (3.2.0)\r\n",
      "Requirement already satisfied: six>=1.5 in /opt/conda/lib/python3.10/site-packages (from python-dateutil>=2.8.2->pandas>=1.1.5->scikit-lego) (1.16.0)\r\n",
      "Downloading scikit_lego-0.8.1-py2.py3-none-any.whl (209 kB)\r\n",
      "\u001b[2K   \u001b[90m━━━━━━━━━━━━━━━━━━━━━━━━━━━━━━━━━━━━━━━━\u001b[0m \u001b[32m209.6/209.6 kB\u001b[0m \u001b[31m5.0 MB/s\u001b[0m eta \u001b[36m0:00:00\u001b[0m\r\n",
      "\u001b[?25hInstalling collected packages: scikit-lego\r\n",
      "Successfully installed scikit-lego-0.8.1\r\n",
      "Note: you may need to restart the kernel to use updated packages.\n"
     ]
    }
   ],
   "source": [
    "pip install scikit-lego"
   ]
  },
  {
   "cell_type": "code",
   "execution_count": 2,
   "id": "1f2ce87a",
   "metadata": {
    "execution": {
     "iopub.execute_input": "2024-04-07T23:09:19.752853Z",
     "iopub.status.busy": "2024-04-07T23:09:19.752398Z",
     "iopub.status.idle": "2024-04-07T23:09:24.770144Z",
     "shell.execute_reply": "2024-04-07T23:09:24.768831Z"
    },
    "papermill": {
     "duration": 5.03159,
     "end_time": "2024-04-07T23:09:24.773230",
     "exception": false,
     "start_time": "2024-04-07T23:09:19.741640",
     "status": "completed"
    },
    "tags": []
   },
   "outputs": [],
   "source": [
    "import scipy\n",
    "import os\n",
    "import optuna\n",
    "import numpy as np\n",
    "import pandas as pd\n",
    "import seaborn as sns\n",
    "import matplotlib.pyplot as plt\n",
    "\n",
    "from sklearn.tree import DecisionTreeRegressor, plot_tree\n",
    "from sklearn.preprocessing import MinMaxScaler, StandardScaler, LabelEncoder\n",
    "from sklearn.pipeline import make_pipeline\n",
    "from sklearn.linear_model import Ridge, RidgeCV, Lasso, LassoCV\n",
    "from sklearn.model_selection import KFold, StratifiedKFold, train_test_split, GridSearchCV, RepeatedKFold, RepeatedStratifiedKFold, RandomizedSearchCV\n",
    "from sklearn.metrics import mean_squared_error, mean_absolute_error, mean_squared_log_error\n",
    "from sklearn.inspection import PartialDependenceDisplay\n",
    "from sklearn.ensemble import RandomForestRegressor, HistGradientBoostingRegressor, GradientBoostingRegressor, ExtraTreesRegressor\n",
    "from sklearn.svm import SVR\n",
    "from lightgbm import LGBMRegressor\n",
    "from xgboost import XGBRegressor\n",
    "from catboost import CatBoostRegressor\n",
    "from sklego.linear_model import LADRegression\n",
    "from scipy.stats import loguniform"
   ]
  },
  {
   "cell_type": "code",
   "execution_count": 3,
   "id": "37622060",
   "metadata": {
    "execution": {
     "iopub.execute_input": "2024-04-07T23:09:24.794360Z",
     "iopub.status.busy": "2024-04-07T23:09:24.793583Z",
     "iopub.status.idle": "2024-04-07T23:09:24.800934Z",
     "shell.execute_reply": "2024-04-07T23:09:24.800016Z"
    },
    "papermill": {
     "duration": 0.020687,
     "end_time": "2024-04-07T23:09:24.803306",
     "exception": false,
     "start_time": "2024-04-07T23:09:24.782619",
     "status": "completed"
    },
    "tags": []
   },
   "outputs": [
    {
     "name": "stdout",
     "output_type": "stream",
     "text": [
      "/kaggle/input/playground-series-s4e4/sample_submission.csv\n",
      "/kaggle/input/playground-series-s4e4/train.csv\n",
      "/kaggle/input/playground-series-s4e4/test.csv\n"
     ]
    }
   ],
   "source": [
    "for dirname, _, filenames in os.walk('/kaggle/input'):\n",
    "    for filename in filenames:\n",
    "        print(os.path.join(dirname, filename))"
   ]
  },
  {
   "cell_type": "code",
   "execution_count": 4,
   "id": "3e38691a",
   "metadata": {
    "execution": {
     "iopub.execute_input": "2024-04-07T23:09:24.823837Z",
     "iopub.status.busy": "2024-04-07T23:09:24.823341Z",
     "iopub.status.idle": "2024-04-07T23:09:25.152243Z",
     "shell.execute_reply": "2024-04-07T23:09:25.151275Z"
    },
    "papermill": {
     "duration": 0.342874,
     "end_time": "2024-04-07T23:09:25.155256",
     "exception": false,
     "start_time": "2024-04-07T23:09:24.812382",
     "status": "completed"
    },
    "tags": []
   },
   "outputs": [],
   "source": [
    "train_df = pd.read_csv('../input/playground-series-s4e4/train.csv')\n",
    "test_df = pd.read_csv('../input/playground-series-s4e4/test.csv')\n",
    "combine = [train_df, test_df]"
   ]
  },
  {
   "cell_type": "code",
   "execution_count": 5,
   "id": "2a5fdced",
   "metadata": {
    "execution": {
     "iopub.execute_input": "2024-04-07T23:09:25.176413Z",
     "iopub.status.busy": "2024-04-07T23:09:25.175530Z",
     "iopub.status.idle": "2024-04-07T23:09:25.224276Z",
     "shell.execute_reply": "2024-04-07T23:09:25.222836Z"
    },
    "papermill": {
     "duration": 0.062607,
     "end_time": "2024-04-07T23:09:25.227260",
     "exception": false,
     "start_time": "2024-04-07T23:09:25.164653",
     "status": "completed"
    },
    "tags": []
   },
   "outputs": [
    {
     "name": "stdout",
     "output_type": "stream",
     "text": [
      "<class 'pandas.core.frame.DataFrame'>\n",
      "RangeIndex: 90615 entries, 0 to 90614\n",
      "Data columns (total 10 columns):\n",
      " #   Column          Non-Null Count  Dtype  \n",
      "---  ------          --------------  -----  \n",
      " 0   id              90615 non-null  int64  \n",
      " 1   Sex             90615 non-null  object \n",
      " 2   Length          90615 non-null  float64\n",
      " 3   Diameter        90615 non-null  float64\n",
      " 4   Height          90615 non-null  float64\n",
      " 5   Whole weight    90615 non-null  float64\n",
      " 6   Whole weight.1  90615 non-null  float64\n",
      " 7   Whole weight.2  90615 non-null  float64\n",
      " 8   Shell weight    90615 non-null  float64\n",
      " 9   Rings           90615 non-null  int64  \n",
      "dtypes: float64(7), int64(2), object(1)\n",
      "memory usage: 6.9+ MB\n"
     ]
    }
   ],
   "source": [
    "train_df.info()"
   ]
  },
  {
   "cell_type": "code",
   "execution_count": 6,
   "id": "66fbe4b3",
   "metadata": {
    "execution": {
     "iopub.execute_input": "2024-04-07T23:09:25.247789Z",
     "iopub.status.busy": "2024-04-07T23:09:25.247319Z",
     "iopub.status.idle": "2024-04-07T23:09:25.273078Z",
     "shell.execute_reply": "2024-04-07T23:09:25.271841Z"
    },
    "papermill": {
     "duration": 0.039259,
     "end_time": "2024-04-07T23:09:25.275680",
     "exception": false,
     "start_time": "2024-04-07T23:09:25.236421",
     "status": "completed"
    },
    "tags": []
   },
   "outputs": [
    {
     "data": {
      "text/html": [
       "<div>\n",
       "<style scoped>\n",
       "    .dataframe tbody tr th:only-of-type {\n",
       "        vertical-align: middle;\n",
       "    }\n",
       "\n",
       "    .dataframe tbody tr th {\n",
       "        vertical-align: top;\n",
       "    }\n",
       "\n",
       "    .dataframe thead th {\n",
       "        text-align: right;\n",
       "    }\n",
       "</style>\n",
       "<table border=\"1\" class=\"dataframe\">\n",
       "  <thead>\n",
       "    <tr style=\"text-align: right;\">\n",
       "      <th></th>\n",
       "      <th>id</th>\n",
       "      <th>Sex</th>\n",
       "      <th>Length</th>\n",
       "      <th>Diameter</th>\n",
       "      <th>Height</th>\n",
       "      <th>Whole weight</th>\n",
       "      <th>Whole weight.1</th>\n",
       "      <th>Whole weight.2</th>\n",
       "      <th>Shell weight</th>\n",
       "      <th>Rings</th>\n",
       "    </tr>\n",
       "  </thead>\n",
       "  <tbody>\n",
       "    <tr>\n",
       "      <th>0</th>\n",
       "      <td>0</td>\n",
       "      <td>F</td>\n",
       "      <td>0.550</td>\n",
       "      <td>0.430</td>\n",
       "      <td>0.150</td>\n",
       "      <td>0.7715</td>\n",
       "      <td>0.3285</td>\n",
       "      <td>0.1465</td>\n",
       "      <td>0.2400</td>\n",
       "      <td>11</td>\n",
       "    </tr>\n",
       "    <tr>\n",
       "      <th>1</th>\n",
       "      <td>1</td>\n",
       "      <td>F</td>\n",
       "      <td>0.630</td>\n",
       "      <td>0.490</td>\n",
       "      <td>0.145</td>\n",
       "      <td>1.1300</td>\n",
       "      <td>0.4580</td>\n",
       "      <td>0.2765</td>\n",
       "      <td>0.3200</td>\n",
       "      <td>11</td>\n",
       "    </tr>\n",
       "    <tr>\n",
       "      <th>2</th>\n",
       "      <td>2</td>\n",
       "      <td>I</td>\n",
       "      <td>0.160</td>\n",
       "      <td>0.110</td>\n",
       "      <td>0.025</td>\n",
       "      <td>0.0210</td>\n",
       "      <td>0.0055</td>\n",
       "      <td>0.0030</td>\n",
       "      <td>0.0050</td>\n",
       "      <td>6</td>\n",
       "    </tr>\n",
       "    <tr>\n",
       "      <th>3</th>\n",
       "      <td>3</td>\n",
       "      <td>M</td>\n",
       "      <td>0.595</td>\n",
       "      <td>0.475</td>\n",
       "      <td>0.150</td>\n",
       "      <td>0.9145</td>\n",
       "      <td>0.3755</td>\n",
       "      <td>0.2055</td>\n",
       "      <td>0.2500</td>\n",
       "      <td>10</td>\n",
       "    </tr>\n",
       "    <tr>\n",
       "      <th>4</th>\n",
       "      <td>4</td>\n",
       "      <td>I</td>\n",
       "      <td>0.555</td>\n",
       "      <td>0.425</td>\n",
       "      <td>0.130</td>\n",
       "      <td>0.7820</td>\n",
       "      <td>0.3695</td>\n",
       "      <td>0.1600</td>\n",
       "      <td>0.1975</td>\n",
       "      <td>9</td>\n",
       "    </tr>\n",
       "  </tbody>\n",
       "</table>\n",
       "</div>"
      ],
      "text/plain": [
       "   id Sex  Length  Diameter  Height  Whole weight  Whole weight.1  \\\n",
       "0   0   F   0.550     0.430   0.150        0.7715          0.3285   \n",
       "1   1   F   0.630     0.490   0.145        1.1300          0.4580   \n",
       "2   2   I   0.160     0.110   0.025        0.0210          0.0055   \n",
       "3   3   M   0.595     0.475   0.150        0.9145          0.3755   \n",
       "4   4   I   0.555     0.425   0.130        0.7820          0.3695   \n",
       "\n",
       "   Whole weight.2  Shell weight  Rings  \n",
       "0          0.1465        0.2400     11  \n",
       "1          0.2765        0.3200     11  \n",
       "2          0.0030        0.0050      6  \n",
       "3          0.2055        0.2500     10  \n",
       "4          0.1600        0.1975      9  "
      ]
     },
     "execution_count": 6,
     "metadata": {},
     "output_type": "execute_result"
    }
   ],
   "source": [
    "train_df.head()"
   ]
  },
  {
   "cell_type": "code",
   "execution_count": 7,
   "id": "47bef426",
   "metadata": {
    "execution": {
     "iopub.execute_input": "2024-04-07T23:09:25.297457Z",
     "iopub.status.busy": "2024-04-07T23:09:25.296245Z",
     "iopub.status.idle": "2024-04-07T23:09:25.374902Z",
     "shell.execute_reply": "2024-04-07T23:09:25.373751Z"
    },
    "papermill": {
     "duration": 0.092554,
     "end_time": "2024-04-07T23:09:25.377651",
     "exception": false,
     "start_time": "2024-04-07T23:09:25.285097",
     "status": "completed"
    },
    "tags": []
   },
   "outputs": [
    {
     "data": {
      "text/html": [
       "<div>\n",
       "<style scoped>\n",
       "    .dataframe tbody tr th:only-of-type {\n",
       "        vertical-align: middle;\n",
       "    }\n",
       "\n",
       "    .dataframe tbody tr th {\n",
       "        vertical-align: top;\n",
       "    }\n",
       "\n",
       "    .dataframe thead th {\n",
       "        text-align: right;\n",
       "    }\n",
       "</style>\n",
       "<table border=\"1\" class=\"dataframe\">\n",
       "  <thead>\n",
       "    <tr style=\"text-align: right;\">\n",
       "      <th></th>\n",
       "      <th>id</th>\n",
       "      <th>Length</th>\n",
       "      <th>Diameter</th>\n",
       "      <th>Height</th>\n",
       "      <th>Whole weight</th>\n",
       "      <th>Whole weight.1</th>\n",
       "      <th>Whole weight.2</th>\n",
       "      <th>Shell weight</th>\n",
       "      <th>Rings</th>\n",
       "    </tr>\n",
       "  </thead>\n",
       "  <tbody>\n",
       "    <tr>\n",
       "      <th>count</th>\n",
       "      <td>90615.000000</td>\n",
       "      <td>90615.000000</td>\n",
       "      <td>90615.000000</td>\n",
       "      <td>90615.000000</td>\n",
       "      <td>90615.000000</td>\n",
       "      <td>90615.000000</td>\n",
       "      <td>90615.000000</td>\n",
       "      <td>90615.000000</td>\n",
       "      <td>90615.000000</td>\n",
       "    </tr>\n",
       "    <tr>\n",
       "      <th>mean</th>\n",
       "      <td>45307.000000</td>\n",
       "      <td>0.517098</td>\n",
       "      <td>0.401679</td>\n",
       "      <td>0.135464</td>\n",
       "      <td>0.789035</td>\n",
       "      <td>0.340778</td>\n",
       "      <td>0.169422</td>\n",
       "      <td>0.225898</td>\n",
       "      <td>9.696794</td>\n",
       "    </tr>\n",
       "    <tr>\n",
       "      <th>std</th>\n",
       "      <td>26158.441658</td>\n",
       "      <td>0.118217</td>\n",
       "      <td>0.098026</td>\n",
       "      <td>0.038008</td>\n",
       "      <td>0.457671</td>\n",
       "      <td>0.204428</td>\n",
       "      <td>0.100909</td>\n",
       "      <td>0.130203</td>\n",
       "      <td>3.176221</td>\n",
       "    </tr>\n",
       "    <tr>\n",
       "      <th>min</th>\n",
       "      <td>0.000000</td>\n",
       "      <td>0.075000</td>\n",
       "      <td>0.055000</td>\n",
       "      <td>0.000000</td>\n",
       "      <td>0.002000</td>\n",
       "      <td>0.001000</td>\n",
       "      <td>0.000500</td>\n",
       "      <td>0.001500</td>\n",
       "      <td>1.000000</td>\n",
       "    </tr>\n",
       "    <tr>\n",
       "      <th>25%</th>\n",
       "      <td>22653.500000</td>\n",
       "      <td>0.445000</td>\n",
       "      <td>0.345000</td>\n",
       "      <td>0.110000</td>\n",
       "      <td>0.419000</td>\n",
       "      <td>0.177500</td>\n",
       "      <td>0.086500</td>\n",
       "      <td>0.120000</td>\n",
       "      <td>8.000000</td>\n",
       "    </tr>\n",
       "    <tr>\n",
       "      <th>50%</th>\n",
       "      <td>45307.000000</td>\n",
       "      <td>0.545000</td>\n",
       "      <td>0.425000</td>\n",
       "      <td>0.140000</td>\n",
       "      <td>0.799500</td>\n",
       "      <td>0.330000</td>\n",
       "      <td>0.166000</td>\n",
       "      <td>0.225000</td>\n",
       "      <td>9.000000</td>\n",
       "    </tr>\n",
       "    <tr>\n",
       "      <th>75%</th>\n",
       "      <td>67960.500000</td>\n",
       "      <td>0.600000</td>\n",
       "      <td>0.470000</td>\n",
       "      <td>0.160000</td>\n",
       "      <td>1.067500</td>\n",
       "      <td>0.463000</td>\n",
       "      <td>0.232500</td>\n",
       "      <td>0.305000</td>\n",
       "      <td>11.000000</td>\n",
       "    </tr>\n",
       "    <tr>\n",
       "      <th>max</th>\n",
       "      <td>90614.000000</td>\n",
       "      <td>0.815000</td>\n",
       "      <td>0.650000</td>\n",
       "      <td>1.130000</td>\n",
       "      <td>2.825500</td>\n",
       "      <td>1.488000</td>\n",
       "      <td>0.760000</td>\n",
       "      <td>1.005000</td>\n",
       "      <td>29.000000</td>\n",
       "    </tr>\n",
       "  </tbody>\n",
       "</table>\n",
       "</div>"
      ],
      "text/plain": [
       "                 id        Length      Diameter        Height  Whole weight  \\\n",
       "count  90615.000000  90615.000000  90615.000000  90615.000000  90615.000000   \n",
       "mean   45307.000000      0.517098      0.401679      0.135464      0.789035   \n",
       "std    26158.441658      0.118217      0.098026      0.038008      0.457671   \n",
       "min        0.000000      0.075000      0.055000      0.000000      0.002000   \n",
       "25%    22653.500000      0.445000      0.345000      0.110000      0.419000   \n",
       "50%    45307.000000      0.545000      0.425000      0.140000      0.799500   \n",
       "75%    67960.500000      0.600000      0.470000      0.160000      1.067500   \n",
       "max    90614.000000      0.815000      0.650000      1.130000      2.825500   \n",
       "\n",
       "       Whole weight.1  Whole weight.2  Shell weight         Rings  \n",
       "count    90615.000000    90615.000000  90615.000000  90615.000000  \n",
       "mean         0.340778        0.169422      0.225898      9.696794  \n",
       "std          0.204428        0.100909      0.130203      3.176221  \n",
       "min          0.001000        0.000500      0.001500      1.000000  \n",
       "25%          0.177500        0.086500      0.120000      8.000000  \n",
       "50%          0.330000        0.166000      0.225000      9.000000  \n",
       "75%          0.463000        0.232500      0.305000     11.000000  \n",
       "max          1.488000        0.760000      1.005000     29.000000  "
      ]
     },
     "execution_count": 7,
     "metadata": {},
     "output_type": "execute_result"
    }
   ],
   "source": [
    "train_df.describe()"
   ]
  },
  {
   "cell_type": "code",
   "execution_count": 8,
   "id": "5f6562e1",
   "metadata": {
    "execution": {
     "iopub.execute_input": "2024-04-07T23:09:25.399505Z",
     "iopub.status.busy": "2024-04-07T23:09:25.399027Z",
     "iopub.status.idle": "2024-04-07T23:09:25.417824Z",
     "shell.execute_reply": "2024-04-07T23:09:25.416652Z"
    },
    "papermill": {
     "duration": 0.032722,
     "end_time": "2024-04-07T23:09:25.420454",
     "exception": false,
     "start_time": "2024-04-07T23:09:25.387732",
     "status": "completed"
    },
    "tags": []
   },
   "outputs": [
    {
     "data": {
      "text/html": [
       "<div>\n",
       "<style scoped>\n",
       "    .dataframe tbody tr th:only-of-type {\n",
       "        vertical-align: middle;\n",
       "    }\n",
       "\n",
       "    .dataframe tbody tr th {\n",
       "        vertical-align: top;\n",
       "    }\n",
       "\n",
       "    .dataframe thead th {\n",
       "        text-align: right;\n",
       "    }\n",
       "</style>\n",
       "<table border=\"1\" class=\"dataframe\">\n",
       "  <thead>\n",
       "    <tr style=\"text-align: right;\">\n",
       "      <th></th>\n",
       "      <th>id</th>\n",
       "      <th>Sex</th>\n",
       "      <th>Length</th>\n",
       "      <th>Diameter</th>\n",
       "      <th>Height</th>\n",
       "      <th>Whole weight</th>\n",
       "      <th>Whole weight.1</th>\n",
       "      <th>Whole weight.2</th>\n",
       "      <th>Shell weight</th>\n",
       "    </tr>\n",
       "  </thead>\n",
       "  <tbody>\n",
       "    <tr>\n",
       "      <th>0</th>\n",
       "      <td>90615</td>\n",
       "      <td>M</td>\n",
       "      <td>0.645</td>\n",
       "      <td>0.475</td>\n",
       "      <td>0.155</td>\n",
       "      <td>1.2380</td>\n",
       "      <td>0.6185</td>\n",
       "      <td>0.3125</td>\n",
       "      <td>0.3005</td>\n",
       "    </tr>\n",
       "    <tr>\n",
       "      <th>1</th>\n",
       "      <td>90616</td>\n",
       "      <td>M</td>\n",
       "      <td>0.580</td>\n",
       "      <td>0.460</td>\n",
       "      <td>0.160</td>\n",
       "      <td>0.9830</td>\n",
       "      <td>0.4785</td>\n",
       "      <td>0.2195</td>\n",
       "      <td>0.2750</td>\n",
       "    </tr>\n",
       "    <tr>\n",
       "      <th>2</th>\n",
       "      <td>90617</td>\n",
       "      <td>M</td>\n",
       "      <td>0.560</td>\n",
       "      <td>0.420</td>\n",
       "      <td>0.140</td>\n",
       "      <td>0.8395</td>\n",
       "      <td>0.3525</td>\n",
       "      <td>0.1845</td>\n",
       "      <td>0.2405</td>\n",
       "    </tr>\n",
       "    <tr>\n",
       "      <th>3</th>\n",
       "      <td>90618</td>\n",
       "      <td>M</td>\n",
       "      <td>0.570</td>\n",
       "      <td>0.490</td>\n",
       "      <td>0.145</td>\n",
       "      <td>0.8740</td>\n",
       "      <td>0.3525</td>\n",
       "      <td>0.1865</td>\n",
       "      <td>0.2350</td>\n",
       "    </tr>\n",
       "    <tr>\n",
       "      <th>4</th>\n",
       "      <td>90619</td>\n",
       "      <td>I</td>\n",
       "      <td>0.415</td>\n",
       "      <td>0.325</td>\n",
       "      <td>0.110</td>\n",
       "      <td>0.3580</td>\n",
       "      <td>0.1575</td>\n",
       "      <td>0.0670</td>\n",
       "      <td>0.1050</td>\n",
       "    </tr>\n",
       "  </tbody>\n",
       "</table>\n",
       "</div>"
      ],
      "text/plain": [
       "      id Sex  Length  Diameter  Height  Whole weight  Whole weight.1  \\\n",
       "0  90615   M   0.645     0.475   0.155        1.2380          0.6185   \n",
       "1  90616   M   0.580     0.460   0.160        0.9830          0.4785   \n",
       "2  90617   M   0.560     0.420   0.140        0.8395          0.3525   \n",
       "3  90618   M   0.570     0.490   0.145        0.8740          0.3525   \n",
       "4  90619   I   0.415     0.325   0.110        0.3580          0.1575   \n",
       "\n",
       "   Whole weight.2  Shell weight  \n",
       "0          0.3125        0.3005  \n",
       "1          0.2195        0.2750  \n",
       "2          0.1845        0.2405  \n",
       "3          0.1865        0.2350  \n",
       "4          0.0670        0.1050  "
      ]
     },
     "execution_count": 8,
     "metadata": {},
     "output_type": "execute_result"
    }
   ],
   "source": [
    "test_df.head()"
   ]
  },
  {
   "cell_type": "markdown",
   "id": "e3eb5528",
   "metadata": {
    "papermill": {
     "duration": 0.009993,
     "end_time": "2024-04-07T23:09:25.440471",
     "exception": false,
     "start_time": "2024-04-07T23:09:25.430478",
     "status": "completed"
    },
    "tags": []
   },
   "source": [
    "Preprocessing"
   ]
  },
  {
   "cell_type": "code",
   "execution_count": 9,
   "id": "cb5d4bf7",
   "metadata": {
    "execution": {
     "iopub.execute_input": "2024-04-07T23:09:25.462343Z",
     "iopub.status.busy": "2024-04-07T23:09:25.461921Z",
     "iopub.status.idle": "2024-04-07T23:09:25.513142Z",
     "shell.execute_reply": "2024-04-07T23:09:25.512010Z"
    },
    "papermill": {
     "duration": 0.065692,
     "end_time": "2024-04-07T23:09:25.516191",
     "exception": false,
     "start_time": "2024-04-07T23:09:25.450499",
     "status": "completed"
    },
    "tags": []
   },
   "outputs": [],
   "source": [
    "le = LabelEncoder()\n",
    "\n",
    "for dataset in combine:\n",
    "    dataset['Sex'] = le.fit_transform(dataset['Sex'])\n",
    "    dataset.columns = dataset.columns.str.replace(' ', '_')"
   ]
  },
  {
   "cell_type": "code",
   "execution_count": 10,
   "id": "250a891e",
   "metadata": {
    "execution": {
     "iopub.execute_input": "2024-04-07T23:09:25.539905Z",
     "iopub.status.busy": "2024-04-07T23:09:25.539453Z",
     "iopub.status.idle": "2024-04-07T23:09:25.559517Z",
     "shell.execute_reply": "2024-04-07T23:09:25.558045Z"
    },
    "papermill": {
     "duration": 0.03577,
     "end_time": "2024-04-07T23:09:25.562283",
     "exception": false,
     "start_time": "2024-04-07T23:09:25.526513",
     "status": "completed"
    },
    "tags": []
   },
   "outputs": [
    {
     "data": {
      "text/html": [
       "<div>\n",
       "<style scoped>\n",
       "    .dataframe tbody tr th:only-of-type {\n",
       "        vertical-align: middle;\n",
       "    }\n",
       "\n",
       "    .dataframe tbody tr th {\n",
       "        vertical-align: top;\n",
       "    }\n",
       "\n",
       "    .dataframe thead th {\n",
       "        text-align: right;\n",
       "    }\n",
       "</style>\n",
       "<table border=\"1\" class=\"dataframe\">\n",
       "  <thead>\n",
       "    <tr style=\"text-align: right;\">\n",
       "      <th></th>\n",
       "      <th>id</th>\n",
       "      <th>Sex</th>\n",
       "      <th>Length</th>\n",
       "      <th>Diameter</th>\n",
       "      <th>Height</th>\n",
       "      <th>Whole_weight</th>\n",
       "      <th>Whole_weight.1</th>\n",
       "      <th>Whole_weight.2</th>\n",
       "      <th>Shell_weight</th>\n",
       "      <th>Rings</th>\n",
       "    </tr>\n",
       "  </thead>\n",
       "  <tbody>\n",
       "    <tr>\n",
       "      <th>0</th>\n",
       "      <td>0</td>\n",
       "      <td>0</td>\n",
       "      <td>0.550</td>\n",
       "      <td>0.430</td>\n",
       "      <td>0.150</td>\n",
       "      <td>0.7715</td>\n",
       "      <td>0.3285</td>\n",
       "      <td>0.1465</td>\n",
       "      <td>0.2400</td>\n",
       "      <td>11</td>\n",
       "    </tr>\n",
       "    <tr>\n",
       "      <th>1</th>\n",
       "      <td>1</td>\n",
       "      <td>0</td>\n",
       "      <td>0.630</td>\n",
       "      <td>0.490</td>\n",
       "      <td>0.145</td>\n",
       "      <td>1.1300</td>\n",
       "      <td>0.4580</td>\n",
       "      <td>0.2765</td>\n",
       "      <td>0.3200</td>\n",
       "      <td>11</td>\n",
       "    </tr>\n",
       "    <tr>\n",
       "      <th>2</th>\n",
       "      <td>2</td>\n",
       "      <td>1</td>\n",
       "      <td>0.160</td>\n",
       "      <td>0.110</td>\n",
       "      <td>0.025</td>\n",
       "      <td>0.0210</td>\n",
       "      <td>0.0055</td>\n",
       "      <td>0.0030</td>\n",
       "      <td>0.0050</td>\n",
       "      <td>6</td>\n",
       "    </tr>\n",
       "    <tr>\n",
       "      <th>3</th>\n",
       "      <td>3</td>\n",
       "      <td>2</td>\n",
       "      <td>0.595</td>\n",
       "      <td>0.475</td>\n",
       "      <td>0.150</td>\n",
       "      <td>0.9145</td>\n",
       "      <td>0.3755</td>\n",
       "      <td>0.2055</td>\n",
       "      <td>0.2500</td>\n",
       "      <td>10</td>\n",
       "    </tr>\n",
       "    <tr>\n",
       "      <th>4</th>\n",
       "      <td>4</td>\n",
       "      <td>1</td>\n",
       "      <td>0.555</td>\n",
       "      <td>0.425</td>\n",
       "      <td>0.130</td>\n",
       "      <td>0.7820</td>\n",
       "      <td>0.3695</td>\n",
       "      <td>0.1600</td>\n",
       "      <td>0.1975</td>\n",
       "      <td>9</td>\n",
       "    </tr>\n",
       "  </tbody>\n",
       "</table>\n",
       "</div>"
      ],
      "text/plain": [
       "   id  Sex  Length  Diameter  Height  Whole_weight  Whole_weight.1  \\\n",
       "0   0    0   0.550     0.430   0.150        0.7715          0.3285   \n",
       "1   1    0   0.630     0.490   0.145        1.1300          0.4580   \n",
       "2   2    1   0.160     0.110   0.025        0.0210          0.0055   \n",
       "3   3    2   0.595     0.475   0.150        0.9145          0.3755   \n",
       "4   4    1   0.555     0.425   0.130        0.7820          0.3695   \n",
       "\n",
       "   Whole_weight.2  Shell_weight  Rings  \n",
       "0          0.1465        0.2400     11  \n",
       "1          0.2765        0.3200     11  \n",
       "2          0.0030        0.0050      6  \n",
       "3          0.2055        0.2500     10  \n",
       "4          0.1600        0.1975      9  "
      ]
     },
     "execution_count": 10,
     "metadata": {},
     "output_type": "execute_result"
    }
   ],
   "source": [
    "train_df.head()"
   ]
  },
  {
   "cell_type": "code",
   "execution_count": 11,
   "id": "acd5fb32",
   "metadata": {
    "execution": {
     "iopub.execute_input": "2024-04-07T23:09:25.586558Z",
     "iopub.status.busy": "2024-04-07T23:09:25.585334Z",
     "iopub.status.idle": "2024-04-07T23:09:25.593902Z",
     "shell.execute_reply": "2024-04-07T23:09:25.592671Z"
    },
    "papermill": {
     "duration": 0.023378,
     "end_time": "2024-04-07T23:09:25.596636",
     "exception": false,
     "start_time": "2024-04-07T23:09:25.573258",
     "status": "completed"
    },
    "tags": []
   },
   "outputs": [
    {
     "data": {
      "text/plain": [
       "Index(['id', 'Sex', 'Length', 'Diameter', 'Height', 'Whole_weight',\n",
       "       'Whole_weight.1', 'Whole_weight.2', 'Shell_weight', 'Rings'],\n",
       "      dtype='object')"
      ]
     },
     "execution_count": 11,
     "metadata": {},
     "output_type": "execute_result"
    }
   ],
   "source": [
    "train_df.columns"
   ]
  },
  {
   "cell_type": "markdown",
   "id": "92c4d787",
   "metadata": {
    "papermill": {
     "duration": 0.010228,
     "end_time": "2024-04-07T23:09:25.617490",
     "exception": false,
     "start_time": "2024-04-07T23:09:25.607262",
     "status": "completed"
    },
    "tags": []
   },
   "source": [
    "Base model"
   ]
  },
  {
   "cell_type": "code",
   "execution_count": 12,
   "id": "7821344e",
   "metadata": {
    "execution": {
     "iopub.execute_input": "2024-04-07T23:09:25.640860Z",
     "iopub.status.busy": "2024-04-07T23:09:25.640410Z",
     "iopub.status.idle": "2024-04-07T23:09:25.647562Z",
     "shell.execute_reply": "2024-04-07T23:09:25.646334Z"
    },
    "papermill": {
     "duration": 0.021966,
     "end_time": "2024-04-07T23:09:25.650181",
     "exception": false,
     "start_time": "2024-04-07T23:09:25.628215",
     "status": "completed"
    },
    "tags": []
   },
   "outputs": [],
   "source": [
    "def rmsle(predictions, targets):\n",
    "    \"\"\"Calculate the root mean squared logarithmic error between predictions and targets\"\"\"\n",
    "    return np.sqrt(np.mean((np.log(predictions + 1) - np.log(targets + 1)) ** 2))"
   ]
  },
  {
   "cell_type": "code",
   "execution_count": 13,
   "id": "1388a11e",
   "metadata": {
    "execution": {
     "iopub.execute_input": "2024-04-07T23:09:25.673460Z",
     "iopub.status.busy": "2024-04-07T23:09:25.673073Z",
     "iopub.status.idle": "2024-04-07T23:09:25.687092Z",
     "shell.execute_reply": "2024-04-07T23:09:25.685866Z"
    },
    "papermill": {
     "duration": 0.029189,
     "end_time": "2024-04-07T23:09:25.690023",
     "exception": false,
     "start_time": "2024-04-07T23:09:25.660834",
     "status": "completed"
    },
    "tags": []
   },
   "outputs": [],
   "source": [
    "X = train_df.drop(columns = ['Rings'], axis = 1)\n",
    "y = train_df['Rings']\n",
    "\n",
    "gb_cv_scores, gb_preds = list(), list()\n",
    "hist_cv_scores, hist_preds = list(), list()\n",
    "lgb_cv_scores, lgb_preds = list(), list()\n",
    "xgb_cv_scores, xgb_preds = list(), list()\n",
    "ens_cv_scores, ens_preds = list(), list()\n",
    "\n",
    "skf = KFold(n_splits = 10, random_state = 42, shuffle = True)"
   ]
  },
  {
   "cell_type": "code",
   "execution_count": 14,
   "id": "8398cb34",
   "metadata": {
    "execution": {
     "iopub.execute_input": "2024-04-07T23:09:25.713137Z",
     "iopub.status.busy": "2024-04-07T23:09:25.712690Z",
     "iopub.status.idle": "2024-04-07T23:13:05.135920Z",
     "shell.execute_reply": "2024-04-07T23:13:05.133244Z"
    },
    "papermill": {
     "duration": 219.438168,
     "end_time": "2024-04-07T23:13:05.138848",
     "exception": false,
     "start_time": "2024-04-07T23:09:25.700680",
     "status": "completed"
    },
    "tags": []
   },
   "outputs": [
    {
     "name": "stdout",
     "output_type": "stream",
     "text": [
      "-------------------------------------------\n",
      "Fold 0 => GradientBoosting of MAE => 0.18035834222744948\n",
      "Fold 0 => HistGradientBoosting of RMSLE => 0.1686515923739014\n",
      "Fold 0 => LightGBM of RMSLE => 0.15827783983483518\n",
      "Fold 0 => XGBoost of RMSLE => 0.1686515923739014\n",
      "Fold 0 => Ensemble of RMSLE => 0.1817780711455201\n",
      "-------------------------------------------\n",
      "Fold 1 => GradientBoosting of MAE => 0.18264160344893604\n",
      "Fold 1 => HistGradientBoosting of RMSLE => 0.1746781955503816\n",
      "Fold 1 => LightGBM of RMSLE => 0.1616843609643284\n",
      "Fold 1 => XGBoost of RMSLE => 0.1746781955503816\n",
      "Fold 1 => Ensemble of RMSLE => 0.18727575682761494\n",
      "-------------------------------------------\n",
      "Fold 2 => GradientBoosting of MAE => 0.17541552616240505\n",
      "Fold 2 => HistGradientBoosting of RMSLE => 0.16733519026432397\n",
      "Fold 2 => LightGBM of RMSLE => 0.15771653044634676\n",
      "Fold 2 => XGBoost of RMSLE => 0.16733519026432397\n",
      "Fold 2 => Ensemble of RMSLE => 0.1829876590495391\n",
      "-------------------------------------------\n",
      "Fold 3 => GradientBoosting of MAE => 0.1767819284710405\n",
      "Fold 3 => HistGradientBoosting of RMSLE => 0.16937611665728441\n",
      "Fold 3 => LightGBM of RMSLE => 0.16067395737575668\n",
      "Fold 3 => XGBoost of RMSLE => 0.16937611665728441\n",
      "Fold 3 => Ensemble of RMSLE => 0.1824299385574338\n",
      "-------------------------------------------\n",
      "Fold 4 => GradientBoosting of MAE => 0.17791381240064325\n",
      "Fold 4 => HistGradientBoosting of RMSLE => 0.17035994023051437\n",
      "Fold 4 => LightGBM of RMSLE => 0.15831946909203623\n",
      "Fold 4 => XGBoost of RMSLE => 0.17035994023051437\n",
      "Fold 4 => Ensemble of RMSLE => 0.18446539340143478\n",
      "-------------------------------------------\n",
      "Fold 5 => GradientBoosting of MAE => 0.17780026564894752\n",
      "Fold 5 => HistGradientBoosting of RMSLE => 0.16989458233292723\n",
      "Fold 5 => LightGBM of RMSLE => 0.15767470955064708\n",
      "Fold 5 => XGBoost of RMSLE => 0.16989458233292723\n",
      "Fold 5 => Ensemble of RMSLE => 0.18222980438517225\n",
      "-------------------------------------------\n",
      "Fold 6 => GradientBoosting of MAE => 0.1737832472889636\n",
      "Fold 6 => HistGradientBoosting of RMSLE => 0.16781546455814855\n",
      "Fold 6 => LightGBM of RMSLE => 0.15553798046585068\n",
      "Fold 6 => XGBoost of RMSLE => 0.16781546455814855\n",
      "Fold 6 => Ensemble of RMSLE => 0.17878620283659474\n",
      "-------------------------------------------\n",
      "Fold 7 => GradientBoosting of MAE => 0.17800031485098886\n",
      "Fold 7 => HistGradientBoosting of RMSLE => 0.170149374951493\n",
      "Fold 7 => LightGBM of RMSLE => 0.16036170859926502\n",
      "Fold 7 => XGBoost of RMSLE => 0.170149374951493\n",
      "Fold 7 => Ensemble of RMSLE => 0.18458427430752655\n",
      "-------------------------------------------\n",
      "Fold 8 => GradientBoosting of MAE => 0.17225616119378134\n",
      "Fold 8 => HistGradientBoosting of RMSLE => 0.1687597602047596\n",
      "Fold 8 => LightGBM of RMSLE => 0.15625048199354627\n",
      "Fold 8 => XGBoost of RMSLE => 0.1687597602047596\n",
      "Fold 8 => Ensemble of RMSLE => 0.18223091460790267\n",
      "-------------------------------------------\n",
      "Fold 9 => GradientBoosting of MAE => 0.16840224171733717\n",
      "Fold 9 => HistGradientBoosting of RMSLE => 0.1650196324723287\n",
      "Fold 9 => LightGBM of RMSLE => 0.15568765382030153\n",
      "Fold 9 => XGBoost of RMSLE => 0.1650196324723287\n",
      "Fold 9 => Ensemble of RMSLE => 0.18212235368654886\n"
     ]
    }
   ],
   "source": [
    "for i, (train_i, test_i) in enumerate(skf.split(X, y)):\n",
    "    X_train, X_test = X.iloc[train_i], X.iloc[test_i]\n",
    "    y_train, y_test = y.iloc[train_i], y.iloc[test_i]\n",
    "    \n",
    "    print('-------------------------------------------')\n",
    "    # GradientBoosting\n",
    "    gb_md = GradientBoostingRegressor(loss = 'absolute_error'\n",
    "                                 ).fit(X_train, y_train)\n",
    "    \n",
    "    gb_pred = gb_md.predict(X_test).astype(int)\n",
    "    gb_score = rmsle(gb_pred, y_test)\n",
    "    \n",
    "    gb_preds.append(gb_pred)\n",
    "    gb_cv_scores.append(gb_score)\n",
    "    \n",
    "    print(f'Fold {i} => GradientBoosting of MAE =>', gb_score)\n",
    "    \n",
    "    # HistGradientBoosting\n",
    "    hist_md = HistGradientBoostingRegressor(loss = 'absolute_error',\n",
    "                                            ).fit(X_train, y_train)\n",
    "                                       \n",
    "    hist_pred = hist_md.predict(X_test).astype(int)\n",
    "    hist_score = rmsle(hist_pred, y_test)\n",
    "    \n",
    "    hist_preds.append(hist_pred)\n",
    "    hist_cv_scores.append(hist_score)\n",
    "    \n",
    "    print(f'Fold {i} => HistGradientBoosting of RMSLE =>', hist_score)\n",
    "    \n",
    "    # LightGBM\n",
    "    lgb_md = LGBMRegressor(objective = 'rmse',\n",
    "                           force_col_wise = True,\n",
    "                           verbose = -1,\n",
    "                          ).fit(X_train, y_train)\n",
    "                                       \n",
    "    lgb_pred = lgb_md.predict(X_test).astype(int)\n",
    "    lgb_score = rmsle(lgb_pred, y_test)\n",
    "    \n",
    "    lgb_preds.append(lgb_pred)\n",
    "    lgb_cv_scores.append(lgb_score)\n",
    "    \n",
    "    print(f'Fold {i} => LightGBM of RMSLE =>', lgb_score)\n",
    "    \n",
    "    # XGBoost\n",
    "    xgb_md = XGBRegressor(objective = 'reg:pseudohubererror',\n",
    "                         ).fit(X_train, y_train)\n",
    "                                       \n",
    "    xgb_pred = hist_md.predict(X_test).astype(int)\n",
    "    xgb_score = rmsle(xgb_pred, y_test)\n",
    "    \n",
    "    xgb_preds.append(xgb_pred)\n",
    "    xgb_cv_scores.append(xgb_score)\n",
    "    \n",
    "    print(f'Fold {i} => XGBoost of RMSLE =>', xgb_score)\n",
    "    \n",
    "    # LAD Ensemble\n",
    "    ens_md = LADRegression().fit(X_train, y_train)\n",
    "                                       \n",
    "    ens_pred = ens_md.predict(X_test).astype(int)\n",
    "    ens_score = rmsle(ens_pred, y_test)\n",
    "    \n",
    "    ens_preds.append(ens_pred)\n",
    "    ens_cv_scores.append(ens_score)\n",
    "    \n",
    "    print(f'Fold {i} => Ensemble of RMSLE =>', ens_score)"
   ]
  },
  {
   "cell_type": "code",
   "execution_count": 15,
   "id": "17964371",
   "metadata": {
    "execution": {
     "iopub.execute_input": "2024-04-07T23:13:05.172650Z",
     "iopub.status.busy": "2024-04-07T23:13:05.172179Z",
     "iopub.status.idle": "2024-04-07T23:13:05.604595Z",
     "shell.execute_reply": "2024-04-07T23:13:05.603456Z"
    },
    "papermill": {
     "duration": 0.451987,
     "end_time": "2024-04-07T23:13:05.606912",
     "exception": false,
     "start_time": "2024-04-07T23:13:05.154925",
     "status": "completed"
    },
    "tags": []
   },
   "outputs": [
    {
     "data": {
      "image/png": "[encoded data removed]",
      "text/plain": [
       "<Figure size 800x800 with 1 Axes>"
      ]
     },
     "metadata": {},
     "output_type": "display_data"
    }
   ],
   "source": [
    "gb_cv_score = np.mean(gb_cv_scores)\n",
    "hist_cv_score = np.mean(hist_cv_scores)\n",
    "lgb_cv_score = np.mean(lgb_cv_scores)\n",
    "xgb_cv_score = np.mean(xgb_cv_scores)\n",
    "ens_cv_score = np.mean(ens_cv_scores)\n",
    "\n",
    "model_perf = pd.DataFrame({'Model': ['GradientBoosting', 'HistGradient' ,'LightGBM', 'XGBoost', 'Ensemble'],\n",
    "                           'cv-score': [gb_cv_score, hist_cv_score, lgb_cv_score, xgb_cv_score, ens_cv_score]})\n",
    "\n",
    "plt.figure(figsize = (8, 8))\n",
    "ax = sns.barplot(y = 'Model', x = 'cv-score', data = model_perf)\n",
    "ax.bar_label(ax.containers[0]);"
   ]
  },
  {
   "cell_type": "markdown",
   "id": "4b6660b0",
   "metadata": {
    "papermill": {
     "duration": 0.015669,
     "end_time": "2024-04-07T23:13:05.638402",
     "exception": false,
     "start_time": "2024-04-07T23:13:05.622733",
     "status": "completed"
    },
    "tags": []
   },
   "source": [
    "Hyperparameter tuning"
   ]
  },
  {
   "cell_type": "code",
   "execution_count": 16,
   "id": "126902ff",
   "metadata": {
    "execution": {
     "iopub.execute_input": "2024-04-07T23:13:05.672767Z",
     "iopub.status.busy": "2024-04-07T23:13:05.672217Z",
     "iopub.status.idle": "2024-04-07T23:13:05.682378Z",
     "shell.execute_reply": "2024-04-07T23:13:05.681233Z"
    },
    "papermill": {
     "duration": 0.030545,
     "end_time": "2024-04-07T23:13:05.684702",
     "exception": false,
     "start_time": "2024-04-07T23:13:05.654157",
     "status": "completed"
    },
    "tags": []
   },
   "outputs": [],
   "source": [
    "def objective(trial):\n",
    "    X_train, X_val, y_train, y_val = train_test_split(X, y, test_size=0.3, random_state=42) \n",
    "    \n",
    "    params = {\n",
    "        \"objective\": \"regression\",\n",
    "        \"metric\": \"rmse\",\n",
    "        \"n_estimators\": 1000,\n",
    "        \"verbosity\": -1,\n",
    "        \"bagging_freq\": 1,\n",
    "        \"learning_rate\": trial.suggest_float(\"learning_rate\", 1e-3, 0.1, log=True),\n",
    "        \"num_leaves\": trial.suggest_int(\"num_leaves\", 2, 2**10),\n",
    "        \"subsample\": trial.suggest_float(\"subsample\", 0.05, 1.0),\n",
    "        \"colsample_bytree\": trial.suggest_float(\"colsample_bytree\", 0.05, 1.0),\n",
    "        \"min_data_in_leaf\": trial.suggest_int(\"min_data_in_leaf\", 1, 100),\n",
    "        \"verbose\": -1,\n",
    "        \"force_col_wise\": True,\n",
    "    }\n",
    "\n",
    "    model = LGBMRegressor(**params)\n",
    "    model.fit(X_train, y_train)\n",
    "    predictions = model.predict(X_val).astype(int)\n",
    "    result = rmsle(predictions, y_val)\n",
    "    return result"
   ]
  },
  {
   "cell_type": "code",
   "execution_count": 17,
   "id": "90744a8d",
   "metadata": {
    "execution": {
     "iopub.execute_input": "2024-04-07T23:13:05.718397Z",
     "iopub.status.busy": "2024-04-07T23:13:05.717941Z",
     "iopub.status.idle": "2024-04-07T23:30:51.048109Z",
     "shell.execute_reply": "2024-04-07T23:30:51.046846Z"
    },
    "papermill": {
     "duration": 1065.36861,
     "end_time": "2024-04-07T23:30:51.069044",
     "exception": false,
     "start_time": "2024-04-07T23:13:05.700434",
     "status": "completed"
    },
    "tags": []
   },
   "outputs": [
    {
     "name": "stderr",
     "output_type": "stream",
     "text": [
      "[I 2024-04-07 23:13:05,720] A new study created in memory with name: no-name-a3463ed1-59f3-4a08-9ed5-d66e61251819\n",
      "[I 2024-04-07 23:13:38,301] Trial 0 finished with value: 0.1652114809064227 and parameters: {'learning_rate': 0.02801020113702928, 'num_leaves': 466, 'subsample': 0.6145036410071183, 'colsample_bytree': 0.4314184374706534, 'min_data_in_leaf': 44}. Best is trial 0 with value: 0.1652114809064227.\n",
      "[I 2024-04-07 23:14:00,491] Trial 1 finished with value: 0.1584943726614363 and parameters: {'learning_rate': 0.004961000820450055, 'num_leaves': 300, 'subsample': 0.9459351300588964, 'colsample_bytree': 0.38934227195734156, 'min_data_in_leaf': 56}. Best is trial 1 with value: 0.1584943726614363.\n",
      "[I 2024-04-07 23:14:42,862] Trial 2 finished with value: 0.1683148665632736 and parameters: {'learning_rate': 0.034191151191994444, 'num_leaves': 511, 'subsample': 0.6452985170897074, 'colsample_bytree': 0.8271264167117239, 'min_data_in_leaf': 55}. Best is trial 1 with value: 0.1584943726614363.\n",
      "[I 2024-04-07 23:14:57,149] Trial 3 finished with value: 0.202263783880783 and parameters: {'learning_rate': 0.0012692642802101845, 'num_leaves': 589, 'subsample': 0.7573610539882659, 'colsample_bytree': 0.14620787574306532, 'min_data_in_leaf': 88}. Best is trial 1 with value: 0.1584943726614363.\n",
      "[I 2024-04-07 23:15:31,156] Trial 4 finished with value: 0.16290264471173366 and parameters: {'learning_rate': 0.02256910367391043, 'num_leaves': 362, 'subsample': 0.5636945286368953, 'colsample_bytree': 0.7699812523359965, 'min_data_in_leaf': 61}. Best is trial 1 with value: 0.1584943726614363.\n",
      "[I 2024-04-07 23:15:49,498] Trial 5 finished with value: 0.17746588727075077 and parameters: {'learning_rate': 0.013609643938455205, 'num_leaves': 227, 'subsample': 0.38995382912725135, 'colsample_bytree': 0.1069262978453059, 'min_data_in_leaf': 24}. Best is trial 1 with value: 0.1584943726614363.\n",
      "[I 2024-04-07 23:16:08,267] Trial 6 finished with value: 0.15847950127484328 and parameters: {'learning_rate': 0.003269100509218792, 'num_leaves': 574, 'subsample': 0.2117609870816916, 'colsample_bytree': 0.8522289247206752, 'min_data_in_leaf': 97}. Best is trial 6 with value: 0.15847950127484328.\n",
      "[I 2024-04-07 23:16:24,726] Trial 7 finished with value: 0.16204504093027922 and parameters: {'learning_rate': 0.01627930341895341, 'num_leaves': 169, 'subsample': 0.5613995695960742, 'colsample_bytree': 0.22907637836454514, 'min_data_in_leaf': 36}. Best is trial 6 with value: 0.15847950127484328.\n",
      "[I 2024-04-07 23:16:36,673] Trial 8 finished with value: 0.16530762610839322 and parameters: {'learning_rate': 0.0016968664152014264, 'num_leaves': 29, 'subsample': 0.887366984709743, 'colsample_bytree': 0.7188608467551252, 'min_data_in_leaf': 57}. Best is trial 6 with value: 0.15847950127484328.\n",
      "[I 2024-04-07 23:17:32,514] Trial 9 finished with value: 0.1629616986434498 and parameters: {'learning_rate': 0.013634152205305337, 'num_leaves': 887, 'subsample': 0.9080586249652276, 'colsample_bytree': 0.6161639177721243, 'min_data_in_leaf': 65}. Best is trial 6 with value: 0.15847950127484328.\n",
      "[I 2024-04-07 23:17:42,901] Trial 10 finished with value: 0.16412239346027915 and parameters: {'learning_rate': 0.07621118386038117, 'num_leaves': 779, 'subsample': 0.05164437959597329, 'colsample_bytree': 0.9711319634608531, 'min_data_in_leaf': 99}. Best is trial 6 with value: 0.15847950127484328.\n",
      "[I 2024-04-07 23:18:36,383] Trial 11 finished with value: 0.15828256003685973 and parameters: {'learning_rate': 0.0038633460455606418, 'num_leaves': 721, 'subsample': 0.3121519809112297, 'colsample_bytree': 0.40687904457026713, 'min_data_in_leaf': 11}. Best is trial 11 with value: 0.15828256003685973.\n",
      "[I 2024-04-07 23:19:23,505] Trial 12 finished with value: 0.1585968938494674 and parameters: {'learning_rate': 0.004236672155748731, 'num_leaves': 710, 'subsample': 0.24920443155793842, 'colsample_bytree': 0.49746899320119836, 'min_data_in_leaf': 6}. Best is trial 11 with value: 0.15828256003685973.\n",
      "[I 2024-04-07 23:20:10,095] Trial 13 finished with value: 0.1598077082792794 and parameters: {'learning_rate': 0.004568824881263384, 'num_leaves': 984, 'subsample': 0.26587797807518787, 'colsample_bytree': 0.296558857484441, 'min_data_in_leaf': 1}. Best is trial 11 with value: 0.15828256003685973.\n",
      "[I 2024-04-07 23:20:21,418] Trial 14 finished with value: 0.16080764153109048 and parameters: {'learning_rate': 0.002163622616569345, 'num_leaves': 658, 'subsample': 0.05941786383052544, 'colsample_bytree': 0.9767921583424333, 'min_data_in_leaf': 77}. Best is trial 11 with value: 0.15828256003685973.\n",
      "[I 2024-04-07 23:21:18,790] Trial 15 finished with value: 0.15723392981134035 and parameters: {'learning_rate': 0.0026791567889531, 'num_leaves': 794, 'subsample': 0.37577247796126334, 'colsample_bytree': 0.6175073205353705, 'min_data_in_leaf': 24}. Best is trial 15 with value: 0.15723392981134035.\n",
      "[I 2024-04-07 23:22:18,384] Trial 16 finished with value: 0.16059805175914996 and parameters: {'learning_rate': 0.007613155874122563, 'num_leaves': 825, 'subsample': 0.3840644686800495, 'colsample_bytree': 0.6383574421201053, 'min_data_in_leaf': 19}. Best is trial 15 with value: 0.15723392981134035.\n",
      "[I 2024-04-07 23:23:26,505] Trial 17 finished with value: 0.180273060688694 and parameters: {'learning_rate': 0.0010322988425997518, 'num_leaves': 1022, 'subsample': 0.42407313990940765, 'colsample_bytree': 0.5756507357990425, 'min_data_in_leaf': 18}. Best is trial 15 with value: 0.15723392981134035.\n",
      "[I 2024-04-07 23:24:10,607] Trial 18 finished with value: 0.16207126401124652 and parameters: {'learning_rate': 0.0024866529864788667, 'num_leaves': 889, 'subsample': 0.44595370480570584, 'colsample_bytree': 0.35235424937285675, 'min_data_in_leaf': 35}. Best is trial 15 with value: 0.15723392981134035.\n",
      "[I 2024-04-07 23:24:51,495] Trial 19 finished with value: 0.16005401999843907 and parameters: {'learning_rate': 0.007791614891840797, 'num_leaves': 709, 'subsample': 0.17519802958445843, 'colsample_bytree': 0.49617111524031643, 'min_data_in_leaf': 14}. Best is trial 15 with value: 0.15723392981134035.\n",
      "[I 2024-04-07 23:25:26,902] Trial 20 finished with value: 0.15960269529901938 and parameters: {'learning_rate': 0.00722562029941122, 'num_leaves': 421, 'subsample': 0.3185730017049101, 'colsample_bytree': 0.6854291374651584, 'min_data_in_leaf': 29}. Best is trial 15 with value: 0.15723392981134035.\n",
      "[I 2024-04-07 23:26:07,251] Trial 21 finished with value: 0.15763767519304925 and parameters: {'learning_rate': 0.003173641184710013, 'num_leaves': 598, 'subsample': 0.14953525409490415, 'colsample_bytree': 0.878118184621807, 'min_data_in_leaf': 11}. Best is trial 15 with value: 0.15723392981134035.\n",
      "[I 2024-04-07 23:26:48,466] Trial 22 finished with value: 0.15753757869222987 and parameters: {'learning_rate': 0.0022144544370585203, 'num_leaves': 628, 'subsample': 0.14327212335496087, 'colsample_bytree': 0.8582865549380317, 'min_data_in_leaf': 10}. Best is trial 15 with value: 0.15723392981134035.\n",
      "[I 2024-04-07 23:27:25,268] Trial 23 finished with value: 0.15710923736476975 and parameters: {'learning_rate': 0.0020864075920300415, 'num_leaves': 591, 'subsample': 0.15007068241854163, 'colsample_bytree': 0.8761464564054975, 'min_data_in_leaf': 1}. Best is trial 23 with value: 0.15710923736476975.\n",
      "[I 2024-04-07 23:28:15,404] Trial 24 finished with value: 0.1603562721274453 and parameters: {'learning_rate': 0.0016822557645981048, 'num_leaves': 813, 'subsample': 0.12006547611980153, 'colsample_bytree': 0.9316529921313331, 'min_data_in_leaf': 3}. Best is trial 23 with value: 0.15710923736476975.\n",
      "[I 2024-04-07 23:28:33,705] Trial 25 finished with value: 0.16318445545670202 and parameters: {'learning_rate': 0.0016208964591174315, 'num_leaves': 628, 'subsample': 0.12440106456744536, 'colsample_bytree': 0.7717520288267578, 'min_data_in_leaf': 44}. Best is trial 23 with value: 0.15710923736476975.\n",
      "[I 2024-04-07 23:29:09,466] Trial 26 finished with value: 0.15706486574911166 and parameters: {'learning_rate': 0.0027901285874469394, 'num_leaves': 522, 'subsample': 0.5040646050368249, 'colsample_bytree': 0.8995921544517366, 'min_data_in_leaf': 26}. Best is trial 26 with value: 0.15706486574911166.\n",
      "[I 2024-04-07 23:29:49,397] Trial 27 finished with value: 0.1590790951110321 and parameters: {'learning_rate': 0.0059344748728117035, 'num_leaves': 497, 'subsample': 0.4892772907614976, 'colsample_bytree': 0.7681376092230046, 'min_data_in_leaf': 26}. Best is trial 26 with value: 0.15706486574911166.\n",
      "[I 2024-04-07 23:30:18,404] Trial 28 finished with value: 0.15722893546698627 and parameters: {'learning_rate': 0.00287218422428768, 'num_leaves': 390, 'subsample': 0.704990086304574, 'colsample_bytree': 0.6803035545125707, 'min_data_in_leaf': 33}. Best is trial 26 with value: 0.15706486574911166.\n",
      "[I 2024-04-07 23:30:51,043] Trial 29 finished with value: 0.17816879345996134 and parameters: {'learning_rate': 0.0010035014879040626, 'num_leaves': 393, 'subsample': 0.6881312840764127, 'colsample_bytree': 0.9248683066415335, 'min_data_in_leaf': 44}. Best is trial 26 with value: 0.15706486574911166.\n"
     ]
    }
   ],
   "source": [
    "study = optuna.create_study(direction='minimize')\n",
    "study.optimize(objective, n_trials=30)"
   ]
  },
  {
   "cell_type": "code",
   "execution_count": 18,
   "id": "67e18275",
   "metadata": {
    "execution": {
     "iopub.execute_input": "2024-04-07T23:30:51.108813Z",
     "iopub.status.busy": "2024-04-07T23:30:51.108397Z",
     "iopub.status.idle": "2024-04-07T23:30:51.115113Z",
     "shell.execute_reply": "2024-04-07T23:30:51.113840Z"
    },
    "papermill": {
     "duration": 0.030317,
     "end_time": "2024-04-07T23:30:51.117757",
     "exception": false,
     "start_time": "2024-04-07T23:30:51.087440",
     "status": "completed"
    },
    "tags": []
   },
   "outputs": [
    {
     "name": "stdout",
     "output_type": "stream",
     "text": [
      "Best hyperparameters: {'learning_rate': 0.0027901285874469394, 'num_leaves': 522, 'subsample': 0.5040646050368249, 'colsample_bytree': 0.8995921544517366, 'min_data_in_leaf': 26}\n",
      "Best RMSLE: 0.15706486574911166\n"
     ]
    }
   ],
   "source": [
    "print('Best hyperparameters:', study.best_params)\n",
    "print('Best RMSLE:', study.best_value)"
   ]
  },
  {
   "cell_type": "code",
   "execution_count": 19,
   "id": "206745bb",
   "metadata": {
    "execution": {
     "iopub.execute_input": "2024-04-07T23:30:51.157551Z",
     "iopub.status.busy": "2024-04-07T23:30:51.157176Z",
     "iopub.status.idle": "2024-04-07T23:30:54.287686Z",
     "shell.execute_reply": "2024-04-07T23:30:54.286532Z"
    },
    "papermill": {
     "duration": 3.153909,
     "end_time": "2024-04-07T23:30:54.290696",
     "exception": false,
     "start_time": "2024-04-07T23:30:51.136787",
     "status": "completed"
    },
    "tags": []
   },
   "outputs": [
    {
     "name": "stdout",
     "output_type": "stream",
     "text": [
      "[LightGBM] [Warning] min_data_in_leaf is set=26, min_child_samples=20 will be ignored. Current value: min_data_in_leaf=26\n",
      "[LightGBM] [Warning] min_data_in_leaf is set=26, min_child_samples=20 will be ignored. Current value: min_data_in_leaf=26\n",
      "[LightGBM] [Info] Auto-choosing col-wise multi-threading, the overhead of testing was 0.014650 seconds.\n",
      "You can set `force_col_wise=true` to remove the overhead.\n",
      "[LightGBM] [Info] Total Bins 1585\n",
      "[LightGBM] [Info] Number of data points in the train set: 63430, number of used features: 9\n",
      "[LightGBM] [Info] Start training from score 9.702396\n",
      "[LightGBM] [Warning] min_data_in_leaf is set=26, min_child_samples=20 will be ignored. Current value: min_data_in_leaf=26\n"
     ]
    }
   ],
   "source": [
    "X_train, X_val, y_train, y_val = train_test_split(X, y, test_size=0.3, random_state=42) \n",
    "\n",
    "lgbmr_clf = LGBMRegressor(**study.best_params)\n",
    "lgbmr_clf.fit(X_train, y_train)\n",
    "predictions = pd.Series(lgbmr_clf.predict(X_val), name=\"Rings\").astype(int)"
   ]
  },
  {
   "cell_type": "code",
   "execution_count": 20,
   "id": "f6c25fde",
   "metadata": {
    "execution": {
     "iopub.execute_input": "2024-04-07T23:30:54.330769Z",
     "iopub.status.busy": "2024-04-07T23:30:54.330368Z",
     "iopub.status.idle": "2024-04-07T23:30:54.378236Z",
     "shell.execute_reply": "2024-04-07T23:30:54.377152Z"
    },
    "papermill": {
     "duration": 0.071279,
     "end_time": "2024-04-07T23:30:54.381226",
     "exception": false,
     "start_time": "2024-04-07T23:30:54.309947",
     "status": "completed"
    },
    "tags": []
   },
   "outputs": [],
   "source": [
    "results = pd.concat([test_df[\"id\"][:len(predictions)], predictions], axis=1)\n",
    "results.to_csv(\"/kaggle/working/result.csv\", index=False)"
   ]
  }
 ],
 "metadata": {
  "kaggle": {
   "accelerator": "none",
   "dataSources": [
    {
     "databundleVersionId": 8096274,
     "sourceId": 72489,
     "sourceType": "competition"
    }
   ],
   "dockerImageVersionId": 30673,
   "isGpuEnabled": false,
   "isInternetEnabled": true,
   "language": "python",
   "sourceType": "notebook"
  },
  "kernelspec": {
   "display_name": "Python 3",
   "language": "python",
   "name": "python3"
  },
  "language_info": {
   "codemirror_mode": {
    "name": "ipython",
    "version": 3
   },
   "file_extension": ".py",
   "mimetype": "text/x-python",
   "name": "python",
   "nbconvert_exporter": "python",
   "pygments_lexer": "ipython3",
   "version": "3.10.13"
  },
  "papermill": {
   "default_parameters": {},
   "duration": 1316.576622,
   "end_time": "2024-04-07T23:30:55.329127",
   "environment_variables": {},
   "exception": null,
   "input_path": "__notebook__.ipynb",
   "output_path": "__notebook__.ipynb",
   "parameters": {},
   "start_time": "2024-04-07T23:08:58.752505",
   "version": "2.5.0"
  }
 },
 "nbformat": 4,
 "nbformat_minor": 5
}
