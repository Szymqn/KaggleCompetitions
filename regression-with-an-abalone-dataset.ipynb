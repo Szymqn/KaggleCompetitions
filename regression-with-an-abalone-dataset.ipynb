{
 "cells": [
  {
   "cell_type": "code",
   "execution_count": 1,
   "id": "4c30b1f2",
   "metadata": {
    "_cell_guid": "b1076dfc-b9ad-4769-8c92-a6c4dae69d19",
    "_uuid": "8f2839f25d086af736a60e9eeb907d3b93b6e0e5",
    "execution": {
     "iopub.execute_input": "2024-04-08T09:53:16.618863Z",
     "iopub.status.busy": "2024-04-08T09:53:16.618077Z",
     "iopub.status.idle": "2024-04-08T09:53:30.417755Z",
     "shell.execute_reply": "2024-04-08T09:53:30.415839Z"
    },
    "papermill": {
     "duration": 13.811204,
     "end_time": "2024-04-08T09:53:30.421033",
     "exception": false,
     "start_time": "2024-04-08T09:53:16.609829",
     "status": "completed"
    },
    "tags": []
   },
   "outputs": [
    {
     "name": "stdout",
     "output_type": "stream",
     "text": [
      "Collecting scikit-lego\r\n",
      "  Downloading scikit_lego-0.8.1-py2.py3-none-any.whl.metadata (11 kB)\r\n",
      "Requirement already satisfied: pandas>=1.1.5 in /opt/conda/lib/python3.10/site-packages (from scikit-lego) (2.2.1)\r\n",
      "Requirement already satisfied: scikit-learn>=1.0 in /opt/conda/lib/python3.10/site-packages (from scikit-lego) (1.2.2)\r\n",
      "Requirement already satisfied: numpy<2,>=1.22.4 in /opt/conda/lib/python3.10/site-packages (from pandas>=1.1.5->scikit-lego) (1.26.4)\r\n",
      "Requirement already satisfied: python-dateutil>=2.8.2 in /opt/conda/lib/python3.10/site-packages (from pandas>=1.1.5->scikit-lego) (2.9.0.post0)\r\n",
      "Requirement already satisfied: pytz>=2020.1 in /opt/conda/lib/python3.10/site-packages (from pandas>=1.1.5->scikit-lego) (2023.3.post1)\r\n",
      "Requirement already satisfied: tzdata>=2022.7 in /opt/conda/lib/python3.10/site-packages (from pandas>=1.1.5->scikit-lego) (2023.4)\r\n",
      "Requirement already satisfied: scipy>=1.3.2 in /opt/conda/lib/python3.10/site-packages (from scikit-learn>=1.0->scikit-lego) (1.11.4)\r\n",
      "Requirement already satisfied: joblib>=1.1.1 in /opt/conda/lib/python3.10/site-packages (from scikit-learn>=1.0->scikit-lego) (1.3.2)\r\n",
      "Requirement already satisfied: threadpoolctl>=2.0.0 in /opt/conda/lib/python3.10/site-packages (from scikit-learn>=1.0->scikit-lego) (3.2.0)\r\n",
      "Requirement already satisfied: six>=1.5 in /opt/conda/lib/python3.10/site-packages (from python-dateutil>=2.8.2->pandas>=1.1.5->scikit-lego) (1.16.0)\r\n",
      "Downloading scikit_lego-0.8.1-py2.py3-none-any.whl (209 kB)\r\n",
      "\u001b[2K   \u001b[90m━━━━━━━━━━━━━━━━━━━━━━━━━━━━━━━━━━━━━━━━\u001b[0m \u001b[32m209.6/209.6 kB\u001b[0m \u001b[31m4.5 MB/s\u001b[0m eta \u001b[36m0:00:00\u001b[0m\r\n",
      "\u001b[?25hInstalling collected packages: scikit-lego\r\n",
      "Successfully installed scikit-lego-0.8.1\r\n",
      "Note: you may need to restart the kernel to use updated packages.\n"
     ]
    }
   ],
   "source": [
    "pip install scikit-lego"
   ]
  },
  {
   "cell_type": "code",
   "execution_count": 2,
   "id": "f69ca764",
   "metadata": {
    "execution": {
     "iopub.execute_input": "2024-04-08T09:53:30.436346Z",
     "iopub.status.busy": "2024-04-08T09:53:30.435891Z",
     "iopub.status.idle": "2024-04-08T09:53:34.703728Z",
     "shell.execute_reply": "2024-04-08T09:53:34.702635Z"
    },
    "papermill": {
     "duration": 4.278781,
     "end_time": "2024-04-08T09:53:34.706709",
     "exception": false,
     "start_time": "2024-04-08T09:53:30.427928",
     "status": "completed"
    },
    "tags": []
   },
   "outputs": [],
   "source": [
    "import scipy\n",
    "import os\n",
    "import optuna\n",
    "import numpy as np\n",
    "import pandas as pd\n",
    "import seaborn as sns\n",
    "import matplotlib.pyplot as plt\n",
    "\n",
    "from sklearn.tree import DecisionTreeRegressor, plot_tree\n",
    "from sklearn.preprocessing import MinMaxScaler, StandardScaler, LabelEncoder\n",
    "from sklearn.pipeline import make_pipeline\n",
    "from sklearn.linear_model import Ridge, RidgeCV, Lasso, LassoCV\n",
    "from sklearn.model_selection import KFold, StratifiedKFold, train_test_split, GridSearchCV, RepeatedKFold, RepeatedStratifiedKFold, RandomizedSearchCV\n",
    "from sklearn.metrics import mean_squared_error, mean_absolute_error, mean_squared_log_error\n",
    "from sklearn.inspection import PartialDependenceDisplay\n",
    "from sklearn.ensemble import RandomForestRegressor, HistGradientBoostingRegressor, GradientBoostingRegressor, ExtraTreesRegressor\n",
    "from sklearn.svm import SVR\n",
    "from lightgbm import LGBMRegressor\n",
    "from xgboost import XGBRegressor\n",
    "from catboost import CatBoostRegressor\n",
    "from sklego.linear_model import LADRegression\n",
    "from scipy.stats import loguniform"
   ]
  },
  {
   "cell_type": "code",
   "execution_count": 3,
   "id": "f765c469",
   "metadata": {
    "execution": {
     "iopub.execute_input": "2024-04-08T09:53:34.721650Z",
     "iopub.status.busy": "2024-04-08T09:53:34.721068Z",
     "iopub.status.idle": "2024-04-08T09:53:34.728119Z",
     "shell.execute_reply": "2024-04-08T09:53:34.727070Z"
    },
    "papermill": {
     "duration": 0.017348,
     "end_time": "2024-04-08T09:53:34.730586",
     "exception": false,
     "start_time": "2024-04-08T09:53:34.713238",
     "status": "completed"
    },
    "tags": []
   },
   "outputs": [
    {
     "name": "stdout",
     "output_type": "stream",
     "text": [
      "/kaggle/input/playground-series-s4e4/sample_submission.csv\n",
      "/kaggle/input/playground-series-s4e4/train.csv\n",
      "/kaggle/input/playground-series-s4e4/test.csv\n"
     ]
    }
   ],
   "source": [
    "for dirname, _, filenames in os.walk('/kaggle/input'):\n",
    "    for filename in filenames:\n",
    "        print(os.path.join(dirname, filename))"
   ]
  },
  {
   "cell_type": "code",
   "execution_count": 4,
   "id": "b6078068",
   "metadata": {
    "execution": {
     "iopub.execute_input": "2024-04-08T09:53:34.745759Z",
     "iopub.status.busy": "2024-04-08T09:53:34.745373Z",
     "iopub.status.idle": "2024-04-08T09:53:34.996909Z",
     "shell.execute_reply": "2024-04-08T09:53:34.995949Z"
    },
    "papermill": {
     "duration": 0.262047,
     "end_time": "2024-04-08T09:53:34.999385",
     "exception": false,
     "start_time": "2024-04-08T09:53:34.737338",
     "status": "completed"
    },
    "tags": []
   },
   "outputs": [],
   "source": [
    "train_df = pd.read_csv('../input/playground-series-s4e4/train.csv')\n",
    "test_df = pd.read_csv('../input/playground-series-s4e4/test.csv')\n",
    "combine = [train_df, test_df]"
   ]
  },
  {
   "cell_type": "code",
   "execution_count": 5,
   "id": "8dc1493e",
   "metadata": {
    "execution": {
     "iopub.execute_input": "2024-04-08T09:53:35.015063Z",
     "iopub.status.busy": "2024-04-08T09:53:35.014341Z",
     "iopub.status.idle": "2024-04-08T09:53:35.048731Z",
     "shell.execute_reply": "2024-04-08T09:53:35.046860Z"
    },
    "papermill": {
     "duration": 0.0453,
     "end_time": "2024-04-08T09:53:35.051391",
     "exception": false,
     "start_time": "2024-04-08T09:53:35.006091",
     "status": "completed"
    },
    "tags": []
   },
   "outputs": [
    {
     "name": "stdout",
     "output_type": "stream",
     "text": [
      "<class 'pandas.core.frame.DataFrame'>\n",
      "RangeIndex: 90615 entries, 0 to 90614\n",
      "Data columns (total 10 columns):\n",
      " #   Column          Non-Null Count  Dtype  \n",
      "---  ------          --------------  -----  \n",
      " 0   id              90615 non-null  int64  \n",
      " 1   Sex             90615 non-null  object \n",
      " 2   Length          90615 non-null  float64\n",
      " 3   Diameter        90615 non-null  float64\n",
      " 4   Height          90615 non-null  float64\n",
      " 5   Whole weight    90615 non-null  float64\n",
      " 6   Whole weight.1  90615 non-null  float64\n",
      " 7   Whole weight.2  90615 non-null  float64\n",
      " 8   Shell weight    90615 non-null  float64\n",
      " 9   Rings           90615 non-null  int64  \n",
      "dtypes: float64(7), int64(2), object(1)\n",
      "memory usage: 6.9+ MB\n"
     ]
    }
   ],
   "source": [
    "train_df.info()"
   ]
  },
  {
   "cell_type": "code",
   "execution_count": 6,
   "id": "eb1a00e6",
   "metadata": {
    "execution": {
     "iopub.execute_input": "2024-04-08T09:53:35.066272Z",
     "iopub.status.busy": "2024-04-08T09:53:35.065860Z",
     "iopub.status.idle": "2024-04-08T09:53:35.089060Z",
     "shell.execute_reply": "2024-04-08T09:53:35.087870Z"
    },
    "papermill": {
     "duration": 0.033415,
     "end_time": "2024-04-08T09:53:35.091497",
     "exception": false,
     "start_time": "2024-04-08T09:53:35.058082",
     "status": "completed"
    },
    "tags": []
   },
   "outputs": [
    {
     "data": {
      "text/html": [
       "<div>\n",
       "<style scoped>\n",
       "    .dataframe tbody tr th:only-of-type {\n",
       "        vertical-align: middle;\n",
       "    }\n",
       "\n",
       "    .dataframe tbody tr th {\n",
       "        vertical-align: top;\n",
       "    }\n",
       "\n",
       "    .dataframe thead th {\n",
       "        text-align: right;\n",
       "    }\n",
       "</style>\n",
       "<table border=\"1\" class=\"dataframe\">\n",
       "  <thead>\n",
       "    <tr style=\"text-align: right;\">\n",
       "      <th></th>\n",
       "      <th>id</th>\n",
       "      <th>Sex</th>\n",
       "      <th>Length</th>\n",
       "      <th>Diameter</th>\n",
       "      <th>Height</th>\n",
       "      <th>Whole weight</th>\n",
       "      <th>Whole weight.1</th>\n",
       "      <th>Whole weight.2</th>\n",
       "      <th>Shell weight</th>\n",
       "      <th>Rings</th>\n",
       "    </tr>\n",
       "  </thead>\n",
       "  <tbody>\n",
       "    <tr>\n",
       "      <th>0</th>\n",
       "      <td>0</td>\n",
       "      <td>F</td>\n",
       "      <td>0.550</td>\n",
       "      <td>0.430</td>\n",
       "      <td>0.150</td>\n",
       "      <td>0.7715</td>\n",
       "      <td>0.3285</td>\n",
       "      <td>0.1465</td>\n",
       "      <td>0.2400</td>\n",
       "      <td>11</td>\n",
       "    </tr>\n",
       "    <tr>\n",
       "      <th>1</th>\n",
       "      <td>1</td>\n",
       "      <td>F</td>\n",
       "      <td>0.630</td>\n",
       "      <td>0.490</td>\n",
       "      <td>0.145</td>\n",
       "      <td>1.1300</td>\n",
       "      <td>0.4580</td>\n",
       "      <td>0.2765</td>\n",
       "      <td>0.3200</td>\n",
       "      <td>11</td>\n",
       "    </tr>\n",
       "    <tr>\n",
       "      <th>2</th>\n",
       "      <td>2</td>\n",
       "      <td>I</td>\n",
       "      <td>0.160</td>\n",
       "      <td>0.110</td>\n",
       "      <td>0.025</td>\n",
       "      <td>0.0210</td>\n",
       "      <td>0.0055</td>\n",
       "      <td>0.0030</td>\n",
       "      <td>0.0050</td>\n",
       "      <td>6</td>\n",
       "    </tr>\n",
       "    <tr>\n",
       "      <th>3</th>\n",
       "      <td>3</td>\n",
       "      <td>M</td>\n",
       "      <td>0.595</td>\n",
       "      <td>0.475</td>\n",
       "      <td>0.150</td>\n",
       "      <td>0.9145</td>\n",
       "      <td>0.3755</td>\n",
       "      <td>0.2055</td>\n",
       "      <td>0.2500</td>\n",
       "      <td>10</td>\n",
       "    </tr>\n",
       "    <tr>\n",
       "      <th>4</th>\n",
       "      <td>4</td>\n",
       "      <td>I</td>\n",
       "      <td>0.555</td>\n",
       "      <td>0.425</td>\n",
       "      <td>0.130</td>\n",
       "      <td>0.7820</td>\n",
       "      <td>0.3695</td>\n",
       "      <td>0.1600</td>\n",
       "      <td>0.1975</td>\n",
       "      <td>9</td>\n",
       "    </tr>\n",
       "  </tbody>\n",
       "</table>\n",
       "</div>"
      ],
      "text/plain": [
       "   id Sex  Length  Diameter  Height  Whole weight  Whole weight.1  \\\n",
       "0   0   F   0.550     0.430   0.150        0.7715          0.3285   \n",
       "1   1   F   0.630     0.490   0.145        1.1300          0.4580   \n",
       "2   2   I   0.160     0.110   0.025        0.0210          0.0055   \n",
       "3   3   M   0.595     0.475   0.150        0.9145          0.3755   \n",
       "4   4   I   0.555     0.425   0.130        0.7820          0.3695   \n",
       "\n",
       "   Whole weight.2  Shell weight  Rings  \n",
       "0          0.1465        0.2400     11  \n",
       "1          0.2765        0.3200     11  \n",
       "2          0.0030        0.0050      6  \n",
       "3          0.2055        0.2500     10  \n",
       "4          0.1600        0.1975      9  "
      ]
     },
     "execution_count": 6,
     "metadata": {},
     "output_type": "execute_result"
    }
   ],
   "source": [
    "train_df.head()"
   ]
  },
  {
   "cell_type": "code",
   "execution_count": 7,
   "id": "13f03373",
   "metadata": {
    "execution": {
     "iopub.execute_input": "2024-04-08T09:53:35.107146Z",
     "iopub.status.busy": "2024-04-08T09:53:35.106714Z",
     "iopub.status.idle": "2024-04-08T09:53:35.176071Z",
     "shell.execute_reply": "2024-04-08T09:53:35.175063Z"
    },
    "papermill": {
     "duration": 0.079853,
     "end_time": "2024-04-08T09:53:35.178487",
     "exception": false,
     "start_time": "2024-04-08T09:53:35.098634",
     "status": "completed"
    },
    "tags": []
   },
   "outputs": [
    {
     "data": {
      "text/html": [
       "<div>\n",
       "<style scoped>\n",
       "    .dataframe tbody tr th:only-of-type {\n",
       "        vertical-align: middle;\n",
       "    }\n",
       "\n",
       "    .dataframe tbody tr th {\n",
       "        vertical-align: top;\n",
       "    }\n",
       "\n",
       "    .dataframe thead th {\n",
       "        text-align: right;\n",
       "    }\n",
       "</style>\n",
       "<table border=\"1\" class=\"dataframe\">\n",
       "  <thead>\n",
       "    <tr style=\"text-align: right;\">\n",
       "      <th></th>\n",
       "      <th>id</th>\n",
       "      <th>Length</th>\n",
       "      <th>Diameter</th>\n",
       "      <th>Height</th>\n",
       "      <th>Whole weight</th>\n",
       "      <th>Whole weight.1</th>\n",
       "      <th>Whole weight.2</th>\n",
       "      <th>Shell weight</th>\n",
       "      <th>Rings</th>\n",
       "    </tr>\n",
       "  </thead>\n",
       "  <tbody>\n",
       "    <tr>\n",
       "      <th>count</th>\n",
       "      <td>90615.000000</td>\n",
       "      <td>90615.000000</td>\n",
       "      <td>90615.000000</td>\n",
       "      <td>90615.000000</td>\n",
       "      <td>90615.000000</td>\n",
       "      <td>90615.000000</td>\n",
       "      <td>90615.000000</td>\n",
       "      <td>90615.000000</td>\n",
       "      <td>90615.000000</td>\n",
       "    </tr>\n",
       "    <tr>\n",
       "      <th>mean</th>\n",
       "      <td>45307.000000</td>\n",
       "      <td>0.517098</td>\n",
       "      <td>0.401679</td>\n",
       "      <td>0.135464</td>\n",
       "      <td>0.789035</td>\n",
       "      <td>0.340778</td>\n",
       "      <td>0.169422</td>\n",
       "      <td>0.225898</td>\n",
       "      <td>9.696794</td>\n",
       "    </tr>\n",
       "    <tr>\n",
       "      <th>std</th>\n",
       "      <td>26158.441658</td>\n",
       "      <td>0.118217</td>\n",
       "      <td>0.098026</td>\n",
       "      <td>0.038008</td>\n",
       "      <td>0.457671</td>\n",
       "      <td>0.204428</td>\n",
       "      <td>0.100909</td>\n",
       "      <td>0.130203</td>\n",
       "      <td>3.176221</td>\n",
       "    </tr>\n",
       "    <tr>\n",
       "      <th>min</th>\n",
       "      <td>0.000000</td>\n",
       "      <td>0.075000</td>\n",
       "      <td>0.055000</td>\n",
       "      <td>0.000000</td>\n",
       "      <td>0.002000</td>\n",
       "      <td>0.001000</td>\n",
       "      <td>0.000500</td>\n",
       "      <td>0.001500</td>\n",
       "      <td>1.000000</td>\n",
       "    </tr>\n",
       "    <tr>\n",
       "      <th>25%</th>\n",
       "      <td>22653.500000</td>\n",
       "      <td>0.445000</td>\n",
       "      <td>0.345000</td>\n",
       "      <td>0.110000</td>\n",
       "      <td>0.419000</td>\n",
       "      <td>0.177500</td>\n",
       "      <td>0.086500</td>\n",
       "      <td>0.120000</td>\n",
       "      <td>8.000000</td>\n",
       "    </tr>\n",
       "    <tr>\n",
       "      <th>50%</th>\n",
       "      <td>45307.000000</td>\n",
       "      <td>0.545000</td>\n",
       "      <td>0.425000</td>\n",
       "      <td>0.140000</td>\n",
       "      <td>0.799500</td>\n",
       "      <td>0.330000</td>\n",
       "      <td>0.166000</td>\n",
       "      <td>0.225000</td>\n",
       "      <td>9.000000</td>\n",
       "    </tr>\n",
       "    <tr>\n",
       "      <th>75%</th>\n",
       "      <td>67960.500000</td>\n",
       "      <td>0.600000</td>\n",
       "      <td>0.470000</td>\n",
       "      <td>0.160000</td>\n",
       "      <td>1.067500</td>\n",
       "      <td>0.463000</td>\n",
       "      <td>0.232500</td>\n",
       "      <td>0.305000</td>\n",
       "      <td>11.000000</td>\n",
       "    </tr>\n",
       "    <tr>\n",
       "      <th>max</th>\n",
       "      <td>90614.000000</td>\n",
       "      <td>0.815000</td>\n",
       "      <td>0.650000</td>\n",
       "      <td>1.130000</td>\n",
       "      <td>2.825500</td>\n",
       "      <td>1.488000</td>\n",
       "      <td>0.760000</td>\n",
       "      <td>1.005000</td>\n",
       "      <td>29.000000</td>\n",
       "    </tr>\n",
       "  </tbody>\n",
       "</table>\n",
       "</div>"
      ],
      "text/plain": [
       "                 id        Length      Diameter        Height  Whole weight  \\\n",
       "count  90615.000000  90615.000000  90615.000000  90615.000000  90615.000000   \n",
       "mean   45307.000000      0.517098      0.401679      0.135464      0.789035   \n",
       "std    26158.441658      0.118217      0.098026      0.038008      0.457671   \n",
       "min        0.000000      0.075000      0.055000      0.000000      0.002000   \n",
       "25%    22653.500000      0.445000      0.345000      0.110000      0.419000   \n",
       "50%    45307.000000      0.545000      0.425000      0.140000      0.799500   \n",
       "75%    67960.500000      0.600000      0.470000      0.160000      1.067500   \n",
       "max    90614.000000      0.815000      0.650000      1.130000      2.825500   \n",
       "\n",
       "       Whole weight.1  Whole weight.2  Shell weight         Rings  \n",
       "count    90615.000000    90615.000000  90615.000000  90615.000000  \n",
       "mean         0.340778        0.169422      0.225898      9.696794  \n",
       "std          0.204428        0.100909      0.130203      3.176221  \n",
       "min          0.001000        0.000500      0.001500      1.000000  \n",
       "25%          0.177500        0.086500      0.120000      8.000000  \n",
       "50%          0.330000        0.166000      0.225000      9.000000  \n",
       "75%          0.463000        0.232500      0.305000     11.000000  \n",
       "max          1.488000        0.760000      1.005000     29.000000  "
      ]
     },
     "execution_count": 7,
     "metadata": {},
     "output_type": "execute_result"
    }
   ],
   "source": [
    "train_df.describe()"
   ]
  },
  {
   "cell_type": "code",
   "execution_count": 8,
   "id": "539a674a",
   "metadata": {
    "execution": {
     "iopub.execute_input": "2024-04-08T09:53:35.194363Z",
     "iopub.status.busy": "2024-04-08T09:53:35.193958Z",
     "iopub.status.idle": "2024-04-08T09:53:35.210086Z",
     "shell.execute_reply": "2024-04-08T09:53:35.208902Z"
    },
    "papermill": {
     "duration": 0.026605,
     "end_time": "2024-04-08T09:53:35.212331",
     "exception": false,
     "start_time": "2024-04-08T09:53:35.185726",
     "status": "completed"
    },
    "tags": []
   },
   "outputs": [
    {
     "data": {
      "text/html": [
       "<div>\n",
       "<style scoped>\n",
       "    .dataframe tbody tr th:only-of-type {\n",
       "        vertical-align: middle;\n",
       "    }\n",
       "\n",
       "    .dataframe tbody tr th {\n",
       "        vertical-align: top;\n",
       "    }\n",
       "\n",
       "    .dataframe thead th {\n",
       "        text-align: right;\n",
       "    }\n",
       "</style>\n",
       "<table border=\"1\" class=\"dataframe\">\n",
       "  <thead>\n",
       "    <tr style=\"text-align: right;\">\n",
       "      <th></th>\n",
       "      <th>id</th>\n",
       "      <th>Sex</th>\n",
       "      <th>Length</th>\n",
       "      <th>Diameter</th>\n",
       "      <th>Height</th>\n",
       "      <th>Whole weight</th>\n",
       "      <th>Whole weight.1</th>\n",
       "      <th>Whole weight.2</th>\n",
       "      <th>Shell weight</th>\n",
       "    </tr>\n",
       "  </thead>\n",
       "  <tbody>\n",
       "    <tr>\n",
       "      <th>0</th>\n",
       "      <td>90615</td>\n",
       "      <td>M</td>\n",
       "      <td>0.645</td>\n",
       "      <td>0.475</td>\n",
       "      <td>0.155</td>\n",
       "      <td>1.2380</td>\n",
       "      <td>0.6185</td>\n",
       "      <td>0.3125</td>\n",
       "      <td>0.3005</td>\n",
       "    </tr>\n",
       "    <tr>\n",
       "      <th>1</th>\n",
       "      <td>90616</td>\n",
       "      <td>M</td>\n",
       "      <td>0.580</td>\n",
       "      <td>0.460</td>\n",
       "      <td>0.160</td>\n",
       "      <td>0.9830</td>\n",
       "      <td>0.4785</td>\n",
       "      <td>0.2195</td>\n",
       "      <td>0.2750</td>\n",
       "    </tr>\n",
       "    <tr>\n",
       "      <th>2</th>\n",
       "      <td>90617</td>\n",
       "      <td>M</td>\n",
       "      <td>0.560</td>\n",
       "      <td>0.420</td>\n",
       "      <td>0.140</td>\n",
       "      <td>0.8395</td>\n",
       "      <td>0.3525</td>\n",
       "      <td>0.1845</td>\n",
       "      <td>0.2405</td>\n",
       "    </tr>\n",
       "    <tr>\n",
       "      <th>3</th>\n",
       "      <td>90618</td>\n",
       "      <td>M</td>\n",
       "      <td>0.570</td>\n",
       "      <td>0.490</td>\n",
       "      <td>0.145</td>\n",
       "      <td>0.8740</td>\n",
       "      <td>0.3525</td>\n",
       "      <td>0.1865</td>\n",
       "      <td>0.2350</td>\n",
       "    </tr>\n",
       "    <tr>\n",
       "      <th>4</th>\n",
       "      <td>90619</td>\n",
       "      <td>I</td>\n",
       "      <td>0.415</td>\n",
       "      <td>0.325</td>\n",
       "      <td>0.110</td>\n",
       "      <td>0.3580</td>\n",
       "      <td>0.1575</td>\n",
       "      <td>0.0670</td>\n",
       "      <td>0.1050</td>\n",
       "    </tr>\n",
       "  </tbody>\n",
       "</table>\n",
       "</div>"
      ],
      "text/plain": [
       "      id Sex  Length  Diameter  Height  Whole weight  Whole weight.1  \\\n",
       "0  90615   M   0.645     0.475   0.155        1.2380          0.6185   \n",
       "1  90616   M   0.580     0.460   0.160        0.9830          0.4785   \n",
       "2  90617   M   0.560     0.420   0.140        0.8395          0.3525   \n",
       "3  90618   M   0.570     0.490   0.145        0.8740          0.3525   \n",
       "4  90619   I   0.415     0.325   0.110        0.3580          0.1575   \n",
       "\n",
       "   Whole weight.2  Shell weight  \n",
       "0          0.3125        0.3005  \n",
       "1          0.2195        0.2750  \n",
       "2          0.1845        0.2405  \n",
       "3          0.1865        0.2350  \n",
       "4          0.0670        0.1050  "
      ]
     },
     "execution_count": 8,
     "metadata": {},
     "output_type": "execute_result"
    }
   ],
   "source": [
    "test_df.head()"
   ]
  },
  {
   "cell_type": "markdown",
   "id": "97bec3c0",
   "metadata": {
    "papermill": {
     "duration": 0.006914,
     "end_time": "2024-04-08T09:53:35.226432",
     "exception": false,
     "start_time": "2024-04-08T09:53:35.219518",
     "status": "completed"
    },
    "tags": []
   },
   "source": [
    "Preprocessing"
   ]
  },
  {
   "cell_type": "code",
   "execution_count": 9,
   "id": "2a1d6d48",
   "metadata": {
    "execution": {
     "iopub.execute_input": "2024-04-08T09:53:35.242638Z",
     "iopub.status.busy": "2024-04-08T09:53:35.242258Z",
     "iopub.status.idle": "2024-04-08T09:53:35.280253Z",
     "shell.execute_reply": "2024-04-08T09:53:35.278723Z"
    },
    "papermill": {
     "duration": 0.049149,
     "end_time": "2024-04-08T09:53:35.282768",
     "exception": false,
     "start_time": "2024-04-08T09:53:35.233619",
     "status": "completed"
    },
    "tags": []
   },
   "outputs": [],
   "source": [
    "le = LabelEncoder()\n",
    "\n",
    "for dataset in combine:\n",
    "    dataset['Sex'] = le.fit_transform(dataset['Sex'])\n",
    "    dataset.columns = dataset.columns.str.replace(' ', '_')"
   ]
  },
  {
   "cell_type": "code",
   "execution_count": 10,
   "id": "14e4c303",
   "metadata": {
    "execution": {
     "iopub.execute_input": "2024-04-08T09:53:35.300386Z",
     "iopub.status.busy": "2024-04-08T09:53:35.299312Z",
     "iopub.status.idle": "2024-04-08T09:53:35.315473Z",
     "shell.execute_reply": "2024-04-08T09:53:35.314478Z"
    },
    "papermill": {
     "duration": 0.027792,
     "end_time": "2024-04-08T09:53:35.317880",
     "exception": false,
     "start_time": "2024-04-08T09:53:35.290088",
     "status": "completed"
    },
    "tags": []
   },
   "outputs": [
    {
     "data": {
      "text/html": [
       "<div>\n",
       "<style scoped>\n",
       "    .dataframe tbody tr th:only-of-type {\n",
       "        vertical-align: middle;\n",
       "    }\n",
       "\n",
       "    .dataframe tbody tr th {\n",
       "        vertical-align: top;\n",
       "    }\n",
       "\n",
       "    .dataframe thead th {\n",
       "        text-align: right;\n",
       "    }\n",
       "</style>\n",
       "<table border=\"1\" class=\"dataframe\">\n",
       "  <thead>\n",
       "    <tr style=\"text-align: right;\">\n",
       "      <th></th>\n",
       "      <th>id</th>\n",
       "      <th>Sex</th>\n",
       "      <th>Length</th>\n",
       "      <th>Diameter</th>\n",
       "      <th>Height</th>\n",
       "      <th>Whole_weight</th>\n",
       "      <th>Whole_weight.1</th>\n",
       "      <th>Whole_weight.2</th>\n",
       "      <th>Shell_weight</th>\n",
       "      <th>Rings</th>\n",
       "    </tr>\n",
       "  </thead>\n",
       "  <tbody>\n",
       "    <tr>\n",
       "      <th>0</th>\n",
       "      <td>0</td>\n",
       "      <td>0</td>\n",
       "      <td>0.550</td>\n",
       "      <td>0.430</td>\n",
       "      <td>0.150</td>\n",
       "      <td>0.7715</td>\n",
       "      <td>0.3285</td>\n",
       "      <td>0.1465</td>\n",
       "      <td>0.2400</td>\n",
       "      <td>11</td>\n",
       "    </tr>\n",
       "    <tr>\n",
       "      <th>1</th>\n",
       "      <td>1</td>\n",
       "      <td>0</td>\n",
       "      <td>0.630</td>\n",
       "      <td>0.490</td>\n",
       "      <td>0.145</td>\n",
       "      <td>1.1300</td>\n",
       "      <td>0.4580</td>\n",
       "      <td>0.2765</td>\n",
       "      <td>0.3200</td>\n",
       "      <td>11</td>\n",
       "    </tr>\n",
       "    <tr>\n",
       "      <th>2</th>\n",
       "      <td>2</td>\n",
       "      <td>1</td>\n",
       "      <td>0.160</td>\n",
       "      <td>0.110</td>\n",
       "      <td>0.025</td>\n",
       "      <td>0.0210</td>\n",
       "      <td>0.0055</td>\n",
       "      <td>0.0030</td>\n",
       "      <td>0.0050</td>\n",
       "      <td>6</td>\n",
       "    </tr>\n",
       "    <tr>\n",
       "      <th>3</th>\n",
       "      <td>3</td>\n",
       "      <td>2</td>\n",
       "      <td>0.595</td>\n",
       "      <td>0.475</td>\n",
       "      <td>0.150</td>\n",
       "      <td>0.9145</td>\n",
       "      <td>0.3755</td>\n",
       "      <td>0.2055</td>\n",
       "      <td>0.2500</td>\n",
       "      <td>10</td>\n",
       "    </tr>\n",
       "    <tr>\n",
       "      <th>4</th>\n",
       "      <td>4</td>\n",
       "      <td>1</td>\n",
       "      <td>0.555</td>\n",
       "      <td>0.425</td>\n",
       "      <td>0.130</td>\n",
       "      <td>0.7820</td>\n",
       "      <td>0.3695</td>\n",
       "      <td>0.1600</td>\n",
       "      <td>0.1975</td>\n",
       "      <td>9</td>\n",
       "    </tr>\n",
       "  </tbody>\n",
       "</table>\n",
       "</div>"
      ],
      "text/plain": [
       "   id  Sex  Length  Diameter  Height  Whole_weight  Whole_weight.1  \\\n",
       "0   0    0   0.550     0.430   0.150        0.7715          0.3285   \n",
       "1   1    0   0.630     0.490   0.145        1.1300          0.4580   \n",
       "2   2    1   0.160     0.110   0.025        0.0210          0.0055   \n",
       "3   3    2   0.595     0.475   0.150        0.9145          0.3755   \n",
       "4   4    1   0.555     0.425   0.130        0.7820          0.3695   \n",
       "\n",
       "   Whole_weight.2  Shell_weight  Rings  \n",
       "0          0.1465        0.2400     11  \n",
       "1          0.2765        0.3200     11  \n",
       "2          0.0030        0.0050      6  \n",
       "3          0.2055        0.2500     10  \n",
       "4          0.1600        0.1975      9  "
      ]
     },
     "execution_count": 10,
     "metadata": {},
     "output_type": "execute_result"
    }
   ],
   "source": [
    "train_df.head()"
   ]
  },
  {
   "cell_type": "code",
   "execution_count": 11,
   "id": "2b357632",
   "metadata": {
    "execution": {
     "iopub.execute_input": "2024-04-08T09:53:35.334329Z",
     "iopub.status.busy": "2024-04-08T09:53:35.333914Z",
     "iopub.status.idle": "2024-04-08T09:53:35.340655Z",
     "shell.execute_reply": "2024-04-08T09:53:35.339390Z"
    },
    "papermill": {
     "duration": 0.017441,
     "end_time": "2024-04-08T09:53:35.342795",
     "exception": false,
     "start_time": "2024-04-08T09:53:35.325354",
     "status": "completed"
    },
    "tags": []
   },
   "outputs": [
    {
     "data": {
      "text/plain": [
       "Index(['id', 'Sex', 'Length', 'Diameter', 'Height', 'Whole_weight',\n",
       "       'Whole_weight.1', 'Whole_weight.2', 'Shell_weight', 'Rings'],\n",
       "      dtype='object')"
      ]
     },
     "execution_count": 11,
     "metadata": {},
     "output_type": "execute_result"
    }
   ],
   "source": [
    "train_df.columns"
   ]
  },
  {
   "cell_type": "markdown",
   "id": "a5761f59",
   "metadata": {
    "papermill": {
     "duration": 0.0073,
     "end_time": "2024-04-08T09:53:35.357578",
     "exception": false,
     "start_time": "2024-04-08T09:53:35.350278",
     "status": "completed"
    },
    "tags": []
   },
   "source": [
    "Base model"
   ]
  },
  {
   "cell_type": "code",
   "execution_count": 12,
   "id": "4b080def",
   "metadata": {
    "execution": {
     "iopub.execute_input": "2024-04-08T09:53:35.374177Z",
     "iopub.status.busy": "2024-04-08T09:53:35.373558Z",
     "iopub.status.idle": "2024-04-08T09:53:35.379005Z",
     "shell.execute_reply": "2024-04-08T09:53:35.378057Z"
    },
    "papermill": {
     "duration": 0.016039,
     "end_time": "2024-04-08T09:53:35.381049",
     "exception": false,
     "start_time": "2024-04-08T09:53:35.365010",
     "status": "completed"
    },
    "tags": []
   },
   "outputs": [],
   "source": [
    "def rmsle(predictions, targets):\n",
    "    \"\"\"Calculate the root mean squared logarithmic error between predictions and targets\"\"\"\n",
    "    return np.sqrt(np.mean((np.log(predictions + 1) - np.log(targets + 1)) ** 2))"
   ]
  },
  {
   "cell_type": "code",
   "execution_count": 13,
   "id": "b536aded",
   "metadata": {
    "execution": {
     "iopub.execute_input": "2024-04-08T09:53:35.397919Z",
     "iopub.status.busy": "2024-04-08T09:53:35.397583Z",
     "iopub.status.idle": "2024-04-08T09:53:35.407961Z",
     "shell.execute_reply": "2024-04-08T09:53:35.406950Z"
    },
    "papermill": {
     "duration": 0.021776,
     "end_time": "2024-04-08T09:53:35.410346",
     "exception": false,
     "start_time": "2024-04-08T09:53:35.388570",
     "status": "completed"
    },
    "tags": []
   },
   "outputs": [],
   "source": [
    "X = train_df.drop(columns = ['id', 'Rings'], axis = 1)\n",
    "y = train_df['Rings']\n",
    "\n",
    "gb_cv_scores, gb_preds = list(), list()\n",
    "hist_cv_scores, hist_preds = list(), list()\n",
    "lgb_cv_scores, lgb_preds = list(), list()\n",
    "xgb_cv_scores, xgb_preds = list(), list()\n",
    "ens_cv_scores, ens_preds = list(), list()\n",
    "\n",
    "skf = KFold(n_splits = 10, random_state = 42, shuffle = True)"
   ]
  },
  {
   "cell_type": "code",
   "execution_count": 14,
   "id": "32a0dcd8",
   "metadata": {
    "execution": {
     "iopub.execute_input": "2024-04-08T09:53:35.427481Z",
     "iopub.status.busy": "2024-04-08T09:53:35.427101Z",
     "iopub.status.idle": "2024-04-08T09:56:25.470955Z",
     "shell.execute_reply": "2024-04-08T09:56:25.469103Z"
    },
    "papermill": {
     "duration": 170.055031,
     "end_time": "2024-04-08T09:56:25.473408",
     "exception": false,
     "start_time": "2024-04-08T09:53:35.418377",
     "status": "completed"
    },
    "tags": []
   },
   "outputs": [
    {
     "name": "stdout",
     "output_type": "stream",
     "text": [
      "-------------------------------------------\n",
      "Fold 0 => GradientBoosting of MAE => 0.18035834222744948\n",
      "Fold 0 => HistGradientBoosting of RMSLE => 0.16776492701069656\n",
      "Fold 0 => LightGBM of RMSLE => 0.15825037676230322\n",
      "Fold 0 => XGBoost of RMSLE => 0.16776492701069656\n",
      "Fold 0 => Ensemble of RMSLE => 0.1818273509947044\n",
      "-------------------------------------------\n",
      "Fold 1 => GradientBoosting of MAE => 0.18264160344893604\n",
      "Fold 1 => HistGradientBoosting of RMSLE => 0.17357158779599244\n",
      "Fold 1 => LightGBM of RMSLE => 0.16138146217087157\n",
      "Fold 1 => XGBoost of RMSLE => 0.17357158779599244\n",
      "Fold 1 => Ensemble of RMSLE => 0.18726830986321358\n",
      "-------------------------------------------\n",
      "Fold 2 => GradientBoosting of MAE => 0.17541552616240505\n",
      "Fold 2 => HistGradientBoosting of RMSLE => 0.1677157205701474\n",
      "Fold 2 => LightGBM of RMSLE => 0.1575516148675715\n",
      "Fold 2 => XGBoost of RMSLE => 0.1677157205701474\n",
      "Fold 2 => Ensemble of RMSLE => 0.18299765909934215\n",
      "-------------------------------------------\n",
      "Fold 3 => GradientBoosting of MAE => 0.1767819284710405\n",
      "Fold 3 => HistGradientBoosting of RMSLE => 0.16978554272613272\n",
      "Fold 3 => LightGBM of RMSLE => 0.1603599608867894\n",
      "Fold 3 => XGBoost of RMSLE => 0.16978554272613272\n",
      "Fold 3 => Ensemble of RMSLE => 0.18243942221241083\n",
      "-------------------------------------------\n",
      "Fold 4 => GradientBoosting of MAE => 0.17791381240064325\n",
      "Fold 4 => HistGradientBoosting of RMSLE => 0.172179082644656\n",
      "Fold 4 => LightGBM of RMSLE => 0.15852925985872768\n",
      "Fold 4 => XGBoost of RMSLE => 0.172179082644656\n",
      "Fold 4 => Ensemble of RMSLE => 0.18441248468553162\n",
      "-------------------------------------------\n",
      "Fold 5 => GradientBoosting of MAE => 0.17780026564894752\n",
      "Fold 5 => HistGradientBoosting of RMSLE => 0.17001260499588156\n",
      "Fold 5 => LightGBM of RMSLE => 0.15779155402287673\n",
      "Fold 5 => XGBoost of RMSLE => 0.17001260499588156\n",
      "Fold 5 => Ensemble of RMSLE => 0.18219619753215596\n",
      "-------------------------------------------\n",
      "Fold 6 => GradientBoosting of MAE => 0.1737832472889636\n",
      "Fold 6 => HistGradientBoosting of RMSLE => 0.16806783974043762\n",
      "Fold 6 => LightGBM of RMSLE => 0.15579802890262642\n",
      "Fold 6 => XGBoost of RMSLE => 0.16806783974043762\n",
      "Fold 6 => Ensemble of RMSLE => 0.17879331199550338\n",
      "-------------------------------------------\n",
      "Fold 7 => GradientBoosting of MAE => 0.17800031485098886\n",
      "Fold 7 => HistGradientBoosting of RMSLE => 0.17164987140812124\n",
      "Fold 7 => LightGBM of RMSLE => 0.15982486031803733\n",
      "Fold 7 => XGBoost of RMSLE => 0.17164987140812124\n",
      "Fold 7 => Ensemble of RMSLE => 0.18469577728140552\n",
      "-------------------------------------------\n",
      "Fold 8 => GradientBoosting of MAE => 0.17229197842602773\n",
      "Fold 8 => HistGradientBoosting of RMSLE => 0.16813140176300484\n",
      "Fold 8 => LightGBM of RMSLE => 0.15584729943668368\n",
      "Fold 8 => XGBoost of RMSLE => 0.16813140176300484\n",
      "Fold 8 => Ensemble of RMSLE => 0.18221685860263598\n",
      "-------------------------------------------\n",
      "Fold 9 => GradientBoosting of MAE => 0.16840224171733717\n",
      "Fold 9 => HistGradientBoosting of RMSLE => 0.16588722961937963\n",
      "Fold 9 => LightGBM of RMSLE => 0.15565527325916484\n",
      "Fold 9 => XGBoost of RMSLE => 0.16588722961937963\n",
      "Fold 9 => Ensemble of RMSLE => 0.18205287668956588\n"
     ]
    }
   ],
   "source": [
    "for i, (train_i, test_i) in enumerate(skf.split(X, y)):\n",
    "    X_train, X_test = X.iloc[train_i], X.iloc[test_i]\n",
    "    y_train, y_test = y.iloc[train_i], y.iloc[test_i]\n",
    "    \n",
    "    print('-------------------------------------------')\n",
    "    # GradientBoosting\n",
    "    gb_md = GradientBoostingRegressor(loss = 'absolute_error'\n",
    "                                 ).fit(X_train, y_train)\n",
    "    \n",
    "    gb_pred = gb_md.predict(X_test).astype(int)\n",
    "    gb_score = rmsle(gb_pred, y_test)\n",
    "    \n",
    "    gb_preds.append(gb_pred)\n",
    "    gb_cv_scores.append(gb_score)\n",
    "    \n",
    "    print(f'Fold {i} => GradientBoosting of MAE =>', gb_score)\n",
    "    \n",
    "    # HistGradientBoosting\n",
    "    hist_md = HistGradientBoostingRegressor(loss = 'absolute_error',\n",
    "                                            ).fit(X_train, y_train)\n",
    "                                       \n",
    "    hist_pred = hist_md.predict(X_test).astype(int)\n",
    "    hist_score = rmsle(hist_pred, y_test)\n",
    "    \n",
    "    hist_preds.append(hist_pred)\n",
    "    hist_cv_scores.append(hist_score)\n",
    "    \n",
    "    print(f'Fold {i} => HistGradientBoosting of RMSLE =>', hist_score)\n",
    "    \n",
    "    # LightGBM\n",
    "    lgb_md = LGBMRegressor(objective = 'rmse',\n",
    "                           force_col_wise = True,\n",
    "                           verbose = -1,\n",
    "                          ).fit(X_train, y_train)\n",
    "                                       \n",
    "    lgb_pred = lgb_md.predict(X_test).astype(int)\n",
    "    lgb_score = rmsle(lgb_pred, y_test)\n",
    "    \n",
    "    lgb_preds.append(lgb_pred)\n",
    "    lgb_cv_scores.append(lgb_score)\n",
    "    \n",
    "    print(f'Fold {i} => LightGBM of RMSLE =>', lgb_score)\n",
    "    \n",
    "    # XGBoost\n",
    "    xgb_md = XGBRegressor(objective = 'reg:pseudohubererror',\n",
    "                         ).fit(X_train, y_train)\n",
    "                                       \n",
    "    xgb_pred = hist_md.predict(X_test).astype(int)\n",
    "    xgb_score = rmsle(xgb_pred, y_test)\n",
    "    \n",
    "    xgb_preds.append(xgb_pred)\n",
    "    xgb_cv_scores.append(xgb_score)\n",
    "    \n",
    "    print(f'Fold {i} => XGBoost of RMSLE =>', xgb_score)\n",
    "    \n",
    "    # LAD Ensemble\n",
    "    ens_md = LADRegression().fit(X_train, y_train)\n",
    "                                       \n",
    "    ens_pred = ens_md.predict(X_test).astype(int)\n",
    "    ens_score = rmsle(ens_pred, y_test)\n",
    "    \n",
    "    ens_preds.append(ens_pred)\n",
    "    ens_cv_scores.append(ens_score)\n",
    "    \n",
    "    print(f'Fold {i} => Ensemble of RMSLE =>', ens_score)"
   ]
  },
  {
   "cell_type": "code",
   "execution_count": 15,
   "id": "7fa86308",
   "metadata": {
    "execution": {
     "iopub.execute_input": "2024-04-08T09:56:25.497798Z",
     "iopub.status.busy": "2024-04-08T09:56:25.497318Z",
     "iopub.status.idle": "2024-04-08T09:56:25.909239Z",
     "shell.execute_reply": "2024-04-08T09:56:25.908209Z"
    },
    "papermill": {
     "duration": 0.426794,
     "end_time": "2024-04-08T09:56:25.911366",
     "exception": false,
     "start_time": "2024-04-08T09:56:25.484572",
     "status": "completed"
    },
    "tags": []
   },
   "outputs": [
    {
     "data": {
      "image/png": "[encoded data removed]",
      "text/plain": [
       "<Figure size 800x800 with 1 Axes>"
      ]
     },
     "metadata": {},
     "output_type": "display_data"
    }
   ],
   "source": [
    "gb_cv_score = np.mean(gb_cv_scores)\n",
    "hist_cv_score = np.mean(hist_cv_scores)\n",
    "lgb_cv_score = np.mean(lgb_cv_scores)\n",
    "xgb_cv_score = np.mean(xgb_cv_scores)\n",
    "ens_cv_score = np.mean(ens_cv_scores)\n",
    "\n",
    "model_perf = pd.DataFrame({'Model': ['GradientBoosting', 'HistGradient' ,'LightGBM', 'XGBoost', 'Ensemble'],\n",
    "                           'cv-score': [gb_cv_score, hist_cv_score, lgb_cv_score, xgb_cv_score, ens_cv_score]})\n",
    "\n",
    "plt.figure(figsize = (8, 8))\n",
    "ax = sns.barplot(y = 'Model', x = 'cv-score', data = model_perf)\n",
    "ax.bar_label(ax.containers[0]);"
   ]
  },
  {
   "cell_type": "markdown",
   "id": "97e3be37",
   "metadata": {
    "papermill": {
     "duration": 0.011104,
     "end_time": "2024-04-08T09:56:25.934058",
     "exception": false,
     "start_time": "2024-04-08T09:56:25.922954",
     "status": "completed"
    },
    "tags": []
   },
   "source": [
    "Hyperparameter tuning"
   ]
  },
  {
   "cell_type": "code",
   "execution_count": 16,
   "id": "f89402c4",
   "metadata": {
    "execution": {
     "iopub.execute_input": "2024-04-08T09:56:25.959190Z",
     "iopub.status.busy": "2024-04-08T09:56:25.958754Z",
     "iopub.status.idle": "2024-04-08T09:56:25.966318Z",
     "shell.execute_reply": "2024-04-08T09:56:25.965537Z"
    },
    "papermill": {
     "duration": 0.022182,
     "end_time": "2024-04-08T09:56:25.968250",
     "exception": false,
     "start_time": "2024-04-08T09:56:25.946068",
     "status": "completed"
    },
    "tags": []
   },
   "outputs": [],
   "source": [
    "def objective(trial):\n",
    "    X_train, X_val, y_train, y_val = train_test_split(X, y, test_size=0.3, random_state=42) \n",
    "    \n",
    "    params = {\n",
    "        \"objective\": \"regression\",\n",
    "        \"metric\": \"rmse\",\n",
    "        \"n_estimators\": 1000,\n",
    "        \"verbosity\": -1,\n",
    "        \"bagging_freq\": 1,\n",
    "        \"learning_rate\": trial.suggest_float(\"learning_rate\", 1e-3, 0.1, log=True),\n",
    "        \"num_leaves\": trial.suggest_int(\"num_leaves\", 2, 2**10),\n",
    "        \"subsample\": trial.suggest_float(\"subsample\", 0.05, 1.0),\n",
    "        \"colsample_bytree\": trial.suggest_float(\"colsample_bytree\", 0.05, 1.0),\n",
    "        \"min_data_in_leaf\": trial.suggest_int(\"min_data_in_leaf\", 1, 100),\n",
    "        \"verbose\": -1,\n",
    "        \"force_col_wise\": True,\n",
    "    }\n",
    "\n",
    "    model = LGBMRegressor(**params)\n",
    "    model.fit(X_train, y_train)\n",
    "    predictions = model.predict(X_val).astype(int)\n",
    "    result = rmsle(predictions, y_val)\n",
    "    return result"
   ]
  },
  {
   "cell_type": "code",
   "execution_count": 17,
   "id": "f6f28225",
   "metadata": {
    "execution": {
     "iopub.execute_input": "2024-04-08T09:56:25.993185Z",
     "iopub.status.busy": "2024-04-08T09:56:25.992756Z",
     "iopub.status.idle": "2024-04-08T10:10:54.898609Z",
     "shell.execute_reply": "2024-04-08T10:10:54.897391Z"
    },
    "papermill": {
     "duration": 868.934211,
     "end_time": "2024-04-08T10:10:54.913881",
     "exception": false,
     "start_time": "2024-04-08T09:56:25.979670",
     "status": "completed"
    },
    "tags": []
   },
   "outputs": [
    {
     "name": "stderr",
     "output_type": "stream",
     "text": [
      "[I 2024-04-08 09:56:25,994] A new study created in memory with name: no-name-3df00b41-3bf8-468a-a867-21487329deb0\n",
      "[I 2024-04-08 09:56:48,449] Trial 0 finished with value: 0.17949689054714768 and parameters: {'learning_rate': 0.0492564110944128, 'num_leaves': 329, 'subsample': 0.0941754286361251, 'colsample_bytree': 0.20606000438986022, 'min_data_in_leaf': 2}. Best is trial 0 with value: 0.17949689054714768.\n",
      "[I 2024-04-08 09:57:22,688] Trial 1 finished with value: 0.1652154992269799 and parameters: {'learning_rate': 0.03329842344379917, 'num_leaves': 392, 'subsample': 0.8466094128965852, 'colsample_bytree': 0.721278287681119, 'min_data_in_leaf': 100}. Best is trial 1 with value: 0.1652154992269799.\n",
      "[I 2024-04-08 09:57:45,563] Trial 2 finished with value: 0.1595707775983745 and parameters: {'learning_rate': 0.01329867596906185, 'num_leaves': 884, 'subsample': 0.26261666006930345, 'colsample_bytree': 0.9599027151902987, 'min_data_in_leaf': 91}. Best is trial 2 with value: 0.1595707775983745.\n",
      "[I 2024-04-08 09:58:28,228] Trial 3 finished with value: 0.16329218993366332 and parameters: {'learning_rate': 0.016067842277310184, 'num_leaves': 708, 'subsample': 0.6880316446836487, 'colsample_bytree': 0.5738847202222113, 'min_data_in_leaf': 23}. Best is trial 2 with value: 0.1595707775983745.\n",
      "[I 2024-04-08 09:58:46,673] Trial 4 finished with value: 0.1725502350689211 and parameters: {'learning_rate': 0.0013379213095005397, 'num_leaves': 275, 'subsample': 0.7894644115118649, 'colsample_bytree': 0.4283033672656766, 'min_data_in_leaf': 1}. Best is trial 2 with value: 0.1595707775983745.\n",
      "[I 2024-04-08 09:59:09,364] Trial 5 finished with value: 0.15912536945671388 and parameters: {'learning_rate': 0.005965213486873384, 'num_leaves': 877, 'subsample': 0.27957335023366475, 'colsample_bytree': 0.9016711236812098, 'min_data_in_leaf': 82}. Best is trial 5 with value: 0.15912536945671388.\n",
      "[I 2024-04-08 09:59:26,260] Trial 6 finished with value: 0.1727762456015961 and parameters: {'learning_rate': 0.039498985432365984, 'num_leaves': 565, 'subsample': 0.1696612318073606, 'colsample_bytree': 0.07023860729281037, 'min_data_in_leaf': 4}. Best is trial 5 with value: 0.15912536945671388.\n",
      "[I 2024-04-08 09:59:52,269] Trial 7 finished with value: 0.15931125471737018 and parameters: {'learning_rate': 0.006251597483678758, 'num_leaves': 826, 'subsample': 0.16459244620955013, 'colsample_bytree': 0.7655634945636566, 'min_data_in_leaf': 29}. Best is trial 5 with value: 0.15912536945671388.\n",
      "[I 2024-04-08 10:00:05,725] Trial 8 finished with value: 0.16261602391988567 and parameters: {'learning_rate': 0.06480411225540143, 'num_leaves': 63, 'subsample': 0.41481859018569067, 'colsample_bytree': 0.20747565786425587, 'min_data_in_leaf': 41}. Best is trial 5 with value: 0.15912536945671388.\n",
      "[I 2024-04-08 10:00:21,987] Trial 9 finished with value: 0.1613312257859668 and parameters: {'learning_rate': 0.03454073682063514, 'num_leaves': 173, 'subsample': 0.8294423373580084, 'colsample_bytree': 0.47271620673869924, 'min_data_in_leaf': 41}. Best is trial 5 with value: 0.15912536945671388.\n",
      "[I 2024-04-08 10:00:56,058] Trial 10 finished with value: 0.1579448429759757 and parameters: {'learning_rate': 0.0031632614571940436, 'num_leaves': 1023, 'subsample': 0.4942249091904568, 'colsample_bytree': 0.963160038793457, 'min_data_in_leaf': 73}. Best is trial 10 with value: 0.1579448429759757.\n",
      "[I 2024-04-08 10:01:27,254] Trial 11 finished with value: 0.15801046854271458 and parameters: {'learning_rate': 0.003184145033688652, 'num_leaves': 1021, 'subsample': 0.44749097591191117, 'colsample_bytree': 0.9742443032649755, 'min_data_in_leaf': 75}. Best is trial 10 with value: 0.1579448429759757.\n",
      "[I 2024-04-08 10:01:58,271] Trial 12 finished with value: 0.15902212884995287 and parameters: {'learning_rate': 0.0019429896403111535, 'num_leaves': 1022, 'subsample': 0.503277301137433, 'colsample_bytree': 0.9993730202049895, 'min_data_in_leaf': 67}. Best is trial 10 with value: 0.1579448429759757.\n",
      "[I 2024-04-08 10:02:30,542] Trial 13 finished with value: 0.1573924426836343 and parameters: {'learning_rate': 0.0026771209287913228, 'num_leaves': 995, 'subsample': 0.604783416877253, 'colsample_bytree': 0.7788865582291932, 'min_data_in_leaf': 70}. Best is trial 13 with value: 0.1573924426836343.\n",
      "[I 2024-04-08 10:03:05,592] Trial 14 finished with value: 0.1574015466975726 and parameters: {'learning_rate': 0.003194823818449918, 'num_leaves': 644, 'subsample': 0.6706931822161223, 'colsample_bytree': 0.7953927447230358, 'min_data_in_leaf': 64}. Best is trial 13 with value: 0.1573924426836343.\n",
      "[I 2024-04-08 10:03:40,100] Trial 15 finished with value: 0.1573469928531645 and parameters: {'learning_rate': 0.0029825204487964174, 'num_leaves': 532, 'subsample': 0.6468060777015628, 'colsample_bytree': 0.7610421878459883, 'min_data_in_leaf': 61}. Best is trial 15 with value: 0.1573469928531645.\n",
      "[I 2024-04-08 10:04:08,888] Trial 16 finished with value: 0.17943982200652137 and parameters: {'learning_rate': 0.0010249418962458843, 'num_leaves': 441, 'subsample': 0.99546373787702, 'colsample_bytree': 0.6217289364159253, 'min_data_in_leaf': 54}. Best is trial 15 with value: 0.1573469928531645.\n",
      "[I 2024-04-08 10:04:41,052] Trial 17 finished with value: 0.159446928356089 and parameters: {'learning_rate': 0.006098100070530665, 'num_leaves': 738, 'subsample': 0.5985608608026911, 'colsample_bytree': 0.6768366105611026, 'min_data_in_leaf': 58}. Best is trial 15 with value: 0.1573469928531645.\n",
      "[I 2024-04-08 10:05:15,996] Trial 18 finished with value: 0.1576596097697141 and parameters: {'learning_rate': 0.0021613732361645136, 'num_leaves': 512, 'subsample': 0.6131305208012902, 'colsample_bytree': 0.8136340525931182, 'min_data_in_leaf': 46}. Best is trial 15 with value: 0.1573469928531645.\n",
      "[I 2024-04-08 10:05:37,383] Trial 19 finished with value: 0.15971807236959187 and parameters: {'learning_rate': 0.009328066272915065, 'num_leaves': 176, 'subsample': 0.359557980502888, 'colsample_bytree': 0.37222834206678573, 'min_data_in_leaf': 86}. Best is trial 15 with value: 0.1573469928531645.\n",
      "[I 2024-04-08 10:06:14,529] Trial 20 finished with value: 0.15831281462582608 and parameters: {'learning_rate': 0.0019679758035340993, 'num_leaves': 593, 'subsample': 0.9465320234942307, 'colsample_bytree': 0.8681533475646784, 'min_data_in_leaf': 30}. Best is trial 15 with value: 0.1573469928531645.\n",
      "[I 2024-04-08 10:06:51,353] Trial 21 finished with value: 0.15768742957135254 and parameters: {'learning_rate': 0.0035149747527184368, 'num_leaves': 651, 'subsample': 0.7010561114924729, 'colsample_bytree': 0.8078203471204278, 'min_data_in_leaf': 63}. Best is trial 15 with value: 0.1573469928531645.\n",
      "[I 2024-04-08 10:07:21,691] Trial 22 finished with value: 0.1580415459102371 and parameters: {'learning_rate': 0.004313472750763631, 'num_leaves': 499, 'subsample': 0.5911051482956919, 'colsample_bytree': 0.6646236266675327, 'min_data_in_leaf': 70}. Best is trial 15 with value: 0.1573469928531645.\n",
      "[I 2024-04-08 10:07:57,047] Trial 23 finished with value: 0.16632065257639767 and parameters: {'learning_rate': 0.0015710066548219764, 'num_leaves': 781, 'subsample': 0.7263834801022309, 'colsample_bytree': 0.5488595310850614, 'min_data_in_leaf': 59}. Best is trial 15 with value: 0.1573469928531645.\n",
      "[I 2024-04-08 10:08:27,766] Trial 24 finished with value: 0.15737558437050028 and parameters: {'learning_rate': 0.0024454154859900796, 'num_leaves': 639, 'subsample': 0.6201418248138136, 'colsample_bytree': 0.8642785140435507, 'min_data_in_leaf': 79}. Best is trial 15 with value: 0.1573469928531645.\n",
      "[I 2024-04-08 10:08:56,424] Trial 25 finished with value: 0.17601202376689698 and parameters: {'learning_rate': 0.001064073658514949, 'num_leaves': 909, 'subsample': 0.5549792738125151, 'colsample_bytree': 0.8845514812282698, 'min_data_in_leaf': 76}. Best is trial 15 with value: 0.1573469928531645.\n",
      "[I 2024-04-08 10:09:27,855] Trial 26 finished with value: 0.15990291395582615 and parameters: {'learning_rate': 0.008460112353436581, 'num_leaves': 456, 'subsample': 0.7738279919286508, 'colsample_bytree': 0.7310471460603486, 'min_data_in_leaf': 100}. Best is trial 15 with value: 0.1573469928531645.\n",
      "[I 2024-04-08 10:10:02,046] Trial 27 finished with value: 0.1627605667793005 and parameters: {'learning_rate': 0.021473684661959373, 'num_leaves': 686, 'subsample': 0.6487741566808548, 'colsample_bytree': 0.8419984687736033, 'min_data_in_leaf': 82}. Best is trial 15 with value: 0.1573469928531645.\n",
      "[I 2024-04-08 10:10:30,360] Trial 28 finished with value: 0.15756299228986562 and parameters: {'learning_rate': 0.0025185830341169116, 'num_leaves': 382, 'subsample': 0.8699351119900923, 'colsample_bytree': 0.634957314901074, 'min_data_in_leaf': 89}. Best is trial 15 with value: 0.1573469928531645.\n",
      "[I 2024-04-08 10:10:54,894] Trial 29 finished with value: 0.15822472424831574 and parameters: {'learning_rate': 0.004639891654939469, 'num_leaves': 268, 'subsample': 0.5420165884312185, 'colsample_bytree': 0.7328224939999537, 'min_data_in_leaf': 49}. Best is trial 15 with value: 0.1573469928531645.\n"
     ]
    }
   ],
   "source": [
    "study = optuna.create_study(direction='minimize')\n",
    "study.optimize(objective, n_trials=30)"
   ]
  },
  {
   "cell_type": "code",
   "execution_count": 18,
   "id": "8438b883",
   "metadata": {
    "execution": {
     "iopub.execute_input": "2024-04-08T10:10:54.943045Z",
     "iopub.status.busy": "2024-04-08T10:10:54.942663Z",
     "iopub.status.idle": "2024-04-08T10:10:54.948110Z",
     "shell.execute_reply": "2024-04-08T10:10:54.947067Z"
    },
    "papermill": {
     "duration": 0.023082,
     "end_time": "2024-04-08T10:10:54.950658",
     "exception": false,
     "start_time": "2024-04-08T10:10:54.927576",
     "status": "completed"
    },
    "tags": []
   },
   "outputs": [
    {
     "name": "stdout",
     "output_type": "stream",
     "text": [
      "Best hyperparameters: {'learning_rate': 0.0029825204487964174, 'num_leaves': 532, 'subsample': 0.6468060777015628, 'colsample_bytree': 0.7610421878459883, 'min_data_in_leaf': 61}\n",
      "Best RMSLE: 0.1573469928531645\n"
     ]
    }
   ],
   "source": [
    "print('Best hyperparameters:', study.best_params)\n",
    "print('Best RMSLE:', study.best_value)"
   ]
  },
  {
   "cell_type": "code",
   "execution_count": 19,
   "id": "fdb41da8",
   "metadata": {
    "execution": {
     "iopub.execute_input": "2024-04-08T10:10:54.979890Z",
     "iopub.status.busy": "2024-04-08T10:10:54.979540Z",
     "iopub.status.idle": "2024-04-08T10:10:58.825876Z",
     "shell.execute_reply": "2024-04-08T10:10:58.824629Z"
    },
    "papermill": {
     "duration": 3.864763,
     "end_time": "2024-04-08T10:10:58.828854",
     "exception": false,
     "start_time": "2024-04-08T10:10:54.964091",
     "status": "completed"
    },
    "tags": []
   },
   "outputs": [
    {
     "name": "stdout",
     "output_type": "stream",
     "text": [
      "[LightGBM] [Warning] min_data_in_leaf is set=61, min_child_samples=20 will be ignored. Current value: min_data_in_leaf=61\n",
      "[LightGBM] [Warning] min_data_in_leaf is set=61, min_child_samples=20 will be ignored. Current value: min_data_in_leaf=61\n",
      "[LightGBM] [Info] Auto-choosing col-wise multi-threading, the overhead of testing was 0.014912 seconds.\n",
      "You can set `force_col_wise=true` to remove the overhead.\n",
      "[LightGBM] [Info] Total Bins 1334\n",
      "[LightGBM] [Info] Number of data points in the train set: 90615, number of used features: 8\n",
      "[LightGBM] [Info] Start training from score 9.696794\n",
      "[LightGBM] [Warning] min_data_in_leaf is set=61, min_child_samples=20 will be ignored. Current value: min_data_in_leaf=61\n"
     ]
    }
   ],
   "source": [
    "lgbmr_clf = LGBMRegressor(**study.best_params)\n",
    "lgbmr_clf.fit(train_df.iloc[:, 1:-1], train_df.iloc[:, -1])\n",
    "predictions = pd.Series(lgbmr_clf.predict(test_df.iloc[:, 1:]), name=\"Rings\").astype(int)"
   ]
  },
  {
   "cell_type": "code",
   "execution_count": 20,
   "id": "fdb398b4",
   "metadata": {
    "execution": {
     "iopub.execute_input": "2024-04-08T10:10:58.860416Z",
     "iopub.status.busy": "2024-04-08T10:10:58.859964Z",
     "iopub.status.idle": "2024-04-08T10:10:58.920643Z",
     "shell.execute_reply": "2024-04-08T10:10:58.919460Z"
    },
    "papermill": {
     "duration": 0.080413,
     "end_time": "2024-04-08T10:10:58.923758",
     "exception": false,
     "start_time": "2024-04-08T10:10:58.843345",
     "status": "completed"
    },
    "tags": []
   },
   "outputs": [],
   "source": [
    "results = pd.concat([test_df[\"id\"][:len(predictions)], predictions], axis=1)\n",
    "results.to_csv(\"/kaggle/working/result.csv\", index=False)"
   ]
  }
 ],
 "metadata": {
  "kaggle": {
   "accelerator": "none",
   "dataSources": [
    {
     "databundleVersionId": 8096274,
     "sourceId": 72489,
     "sourceType": "competition"
    }
   ],
   "dockerImageVersionId": 30673,
   "isGpuEnabled": false,
   "isInternetEnabled": true,
   "language": "python",
   "sourceType": "notebook"
  },
  "kernelspec": {
   "display_name": "Python 3",
   "language": "python",
   "name": "python3"
  },
  "language_info": {
   "codemirror_mode": {
    "name": "ipython",
    "version": 3
   },
   "file_extension": ".py",
   "mimetype": "text/x-python",
   "name": "python",
   "nbconvert_exporter": "python",
   "pygments_lexer": "ipython3",
   "version": "3.10.13"
  },
  "papermill": {
   "default_parameters": {},
   "duration": 1065.999382,
   "end_time": "2024-04-08T10:10:59.762776",
   "environment_variables": {},
   "exception": null,
   "input_path": "__notebook__.ipynb",
   "output_path": "__notebook__.ipynb",
   "parameters": {},
   "start_time": "2024-04-08T09:53:13.763394",
   "version": "2.5.0"
  }
 },
 "nbformat": 4,
 "nbformat_minor": 5
}
