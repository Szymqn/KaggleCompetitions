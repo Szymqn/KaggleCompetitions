{
 "cells": [
  {
   "cell_type": "code",
   "execution_count": 1,
   "id": "83a3ca41",
   "metadata": {
    "_cell_guid": "b1076dfc-b9ad-4769-8c92-a6c4dae69d19",
    "_uuid": "8f2839f25d086af736a60e9eeb907d3b93b6e0e5",
    "execution": {
     "iopub.execute_input": "2024-04-09T10:15:16.746438Z",
     "iopub.status.busy": "2024-04-09T10:15:16.745907Z",
     "iopub.status.idle": "2024-04-09T10:15:35.407638Z",
     "shell.execute_reply": "2024-04-09T10:15:35.405970Z"
    },
    "papermill": {
     "duration": 18.676248,
     "end_time": "2024-04-09T10:15:35.411306",
     "exception": false,
     "start_time": "2024-04-09T10:15:16.735058",
     "status": "completed"
    },
    "tags": []
   },
   "outputs": [
    {
     "name": "stdout",
     "output_type": "stream",
     "text": [
      "Collecting scikit-lego\r\n",
      "  Downloading scikit_lego-0.8.1-py2.py3-none-any.whl.metadata (11 kB)\r\n",
      "Requirement already satisfied: pandas>=1.1.5 in /opt/conda/lib/python3.10/site-packages (from scikit-lego) (2.2.1)\r\n",
      "Requirement already satisfied: scikit-learn>=1.0 in /opt/conda/lib/python3.10/site-packages (from scikit-lego) (1.2.2)\r\n",
      "Requirement already satisfied: numpy<2,>=1.22.4 in /opt/conda/lib/python3.10/site-packages (from pandas>=1.1.5->scikit-lego) (1.26.4)\r\n",
      "Requirement already satisfied: python-dateutil>=2.8.2 in /opt/conda/lib/python3.10/site-packages (from pandas>=1.1.5->scikit-lego) (2.9.0.post0)\r\n",
      "Requirement already satisfied: pytz>=2020.1 in /opt/conda/lib/python3.10/site-packages (from pandas>=1.1.5->scikit-lego) (2023.3.post1)\r\n",
      "Requirement already satisfied: tzdata>=2022.7 in /opt/conda/lib/python3.10/site-packages (from pandas>=1.1.5->scikit-lego) (2023.4)\r\n",
      "Requirement already satisfied: scipy>=1.3.2 in /opt/conda/lib/python3.10/site-packages (from scikit-learn>=1.0->scikit-lego) (1.11.4)\r\n",
      "Requirement already satisfied: joblib>=1.1.1 in /opt/conda/lib/python3.10/site-packages (from scikit-learn>=1.0->scikit-lego) (1.3.2)\r\n",
      "Requirement already satisfied: threadpoolctl>=2.0.0 in /opt/conda/lib/python3.10/site-packages (from scikit-learn>=1.0->scikit-lego) (3.2.0)\r\n",
      "Requirement already satisfied: six>=1.5 in /opt/conda/lib/python3.10/site-packages (from python-dateutil>=2.8.2->pandas>=1.1.5->scikit-lego) (1.16.0)\r\n",
      "Downloading scikit_lego-0.8.1-py2.py3-none-any.whl (209 kB)\r\n",
      "\u001b[2K   \u001b[90m━━━━━━━━━━━━━━━━━━━━━━━━━━━━━━━━━━━━━━━━\u001b[0m \u001b[32m209.6/209.6 kB\u001b[0m \u001b[31m6.3 MB/s\u001b[0m eta \u001b[36m0:00:00\u001b[0m\r\n",
      "\u001b[?25hInstalling collected packages: scikit-lego\r\n",
      "Successfully installed scikit-lego-0.8.1\r\n",
      "Note: you may need to restart the kernel to use updated packages.\n"
     ]
    }
   ],
   "source": [
    "pip install scikit-lego"
   ]
  },
  {
   "cell_type": "code",
   "execution_count": 2,
   "id": "bc57f64d",
   "metadata": {
    "execution": {
     "iopub.execute_input": "2024-04-09T10:15:35.432900Z",
     "iopub.status.busy": "2024-04-09T10:15:35.432354Z",
     "iopub.status.idle": "2024-04-09T10:15:41.024208Z",
     "shell.execute_reply": "2024-04-09T10:15:41.023119Z"
    },
    "papermill": {
     "duration": 5.606023,
     "end_time": "2024-04-09T10:15:41.027225",
     "exception": false,
     "start_time": "2024-04-09T10:15:35.421202",
     "status": "completed"
    },
    "tags": []
   },
   "outputs": [],
   "source": [
    "import scipy\n",
    "import os\n",
    "import optuna\n",
    "import numpy as np\n",
    "import pandas as pd\n",
    "import seaborn as sns\n",
    "import matplotlib.pyplot as plt\n",
    "\n",
    "from sklearn.tree import DecisionTreeRegressor, plot_tree\n",
    "from sklearn.preprocessing import MinMaxScaler, StandardScaler, LabelEncoder\n",
    "from sklearn.pipeline import make_pipeline\n",
    "from sklearn.linear_model import Ridge, RidgeCV, Lasso, LassoCV\n",
    "from sklearn.model_selection import KFold, StratifiedKFold, train_test_split, GridSearchCV, RepeatedKFold, RepeatedStratifiedKFold, RandomizedSearchCV\n",
    "from sklearn.metrics import mean_squared_error, mean_absolute_error, mean_squared_log_error\n",
    "from sklearn.inspection import PartialDependenceDisplay\n",
    "from sklearn.ensemble import RandomForestRegressor, HistGradientBoostingRegressor, GradientBoostingRegressor, ExtraTreesRegressor\n",
    "from sklearn.svm import SVR\n",
    "from lightgbm import LGBMRegressor\n",
    "from xgboost import XGBRegressor\n",
    "from catboost import CatBoostRegressor\n",
    "from sklego.linear_model import LADRegression\n",
    "from scipy.stats import loguniform"
   ]
  },
  {
   "cell_type": "code",
   "execution_count": 3,
   "id": "c30b6d37",
   "metadata": {
    "execution": {
     "iopub.execute_input": "2024-04-09T10:15:41.048603Z",
     "iopub.status.busy": "2024-04-09T10:15:41.047550Z",
     "iopub.status.idle": "2024-04-09T10:15:41.055665Z",
     "shell.execute_reply": "2024-04-09T10:15:41.054428Z"
    },
    "papermill": {
     "duration": 0.021525,
     "end_time": "2024-04-09T10:15:41.058035",
     "exception": false,
     "start_time": "2024-04-09T10:15:41.036510",
     "status": "completed"
    },
    "tags": []
   },
   "outputs": [
    {
     "name": "stdout",
     "output_type": "stream",
     "text": [
      "/kaggle/input/playground-series-s4e4/sample_submission.csv\n",
      "/kaggle/input/playground-series-s4e4/train.csv\n",
      "/kaggle/input/playground-series-s4e4/test.csv\n"
     ]
    }
   ],
   "source": [
    "for dirname, _, filenames in os.walk('/kaggle/input'):\n",
    "    for filename in filenames:\n",
    "        print(os.path.join(dirname, filename))"
   ]
  },
  {
   "cell_type": "code",
   "execution_count": 4,
   "id": "039776e6",
   "metadata": {
    "execution": {
     "iopub.execute_input": "2024-04-09T10:15:41.079120Z",
     "iopub.status.busy": "2024-04-09T10:15:41.078231Z",
     "iopub.status.idle": "2024-04-09T10:15:41.411436Z",
     "shell.execute_reply": "2024-04-09T10:15:41.409841Z"
    },
    "papermill": {
     "duration": 0.347461,
     "end_time": "2024-04-09T10:15:41.414751",
     "exception": false,
     "start_time": "2024-04-09T10:15:41.067290",
     "status": "completed"
    },
    "tags": []
   },
   "outputs": [],
   "source": [
    "train_df = pd.read_csv('../input/playground-series-s4e4/train.csv')\n",
    "test_df = pd.read_csv('../input/playground-series-s4e4/test.csv')\n",
    "combine = [train_df, test_df]"
   ]
  },
  {
   "cell_type": "code",
   "execution_count": 5,
   "id": "4a2a3b28",
   "metadata": {
    "execution": {
     "iopub.execute_input": "2024-04-09T10:15:41.438027Z",
     "iopub.status.busy": "2024-04-09T10:15:41.436149Z",
     "iopub.status.idle": "2024-04-09T10:15:41.481262Z",
     "shell.execute_reply": "2024-04-09T10:15:41.480045Z"
    },
    "papermill": {
     "duration": 0.05962,
     "end_time": "2024-04-09T10:15:41.484476",
     "exception": false,
     "start_time": "2024-04-09T10:15:41.424856",
     "status": "completed"
    },
    "tags": []
   },
   "outputs": [
    {
     "name": "stdout",
     "output_type": "stream",
     "text": [
      "<class 'pandas.core.frame.DataFrame'>\n",
      "RangeIndex: 90615 entries, 0 to 90614\n",
      "Data columns (total 10 columns):\n",
      " #   Column          Non-Null Count  Dtype  \n",
      "---  ------          --------------  -----  \n",
      " 0   id              90615 non-null  int64  \n",
      " 1   Sex             90615 non-null  object \n",
      " 2   Length          90615 non-null  float64\n",
      " 3   Diameter        90615 non-null  float64\n",
      " 4   Height          90615 non-null  float64\n",
      " 5   Whole weight    90615 non-null  float64\n",
      " 6   Whole weight.1  90615 non-null  float64\n",
      " 7   Whole weight.2  90615 non-null  float64\n",
      " 8   Shell weight    90615 non-null  float64\n",
      " 9   Rings           90615 non-null  int64  \n",
      "dtypes: float64(7), int64(2), object(1)\n",
      "memory usage: 6.9+ MB\n"
     ]
    }
   ],
   "source": [
    "train_df.info()"
   ]
  },
  {
   "cell_type": "code",
   "execution_count": 6,
   "id": "e8425c7f",
   "metadata": {
    "execution": {
     "iopub.execute_input": "2024-04-09T10:15:41.506293Z",
     "iopub.status.busy": "2024-04-09T10:15:41.505025Z",
     "iopub.status.idle": "2024-04-09T10:15:41.532207Z",
     "shell.execute_reply": "2024-04-09T10:15:41.531166Z"
    },
    "papermill": {
     "duration": 0.040846,
     "end_time": "2024-04-09T10:15:41.534824",
     "exception": false,
     "start_time": "2024-04-09T10:15:41.493978",
     "status": "completed"
    },
    "tags": []
   },
   "outputs": [
    {
     "data": {
      "text/html": [
       "<div>\n",
       "<style scoped>\n",
       "    .dataframe tbody tr th:only-of-type {\n",
       "        vertical-align: middle;\n",
       "    }\n",
       "\n",
       "    .dataframe tbody tr th {\n",
       "        vertical-align: top;\n",
       "    }\n",
       "\n",
       "    .dataframe thead th {\n",
       "        text-align: right;\n",
       "    }\n",
       "</style>\n",
       "<table border=\"1\" class=\"dataframe\">\n",
       "  <thead>\n",
       "    <tr style=\"text-align: right;\">\n",
       "      <th></th>\n",
       "      <th>id</th>\n",
       "      <th>Sex</th>\n",
       "      <th>Length</th>\n",
       "      <th>Diameter</th>\n",
       "      <th>Height</th>\n",
       "      <th>Whole weight</th>\n",
       "      <th>Whole weight.1</th>\n",
       "      <th>Whole weight.2</th>\n",
       "      <th>Shell weight</th>\n",
       "      <th>Rings</th>\n",
       "    </tr>\n",
       "  </thead>\n",
       "  <tbody>\n",
       "    <tr>\n",
       "      <th>0</th>\n",
       "      <td>0</td>\n",
       "      <td>F</td>\n",
       "      <td>0.550</td>\n",
       "      <td>0.430</td>\n",
       "      <td>0.150</td>\n",
       "      <td>0.7715</td>\n",
       "      <td>0.3285</td>\n",
       "      <td>0.1465</td>\n",
       "      <td>0.2400</td>\n",
       "      <td>11</td>\n",
       "    </tr>\n",
       "    <tr>\n",
       "      <th>1</th>\n",
       "      <td>1</td>\n",
       "      <td>F</td>\n",
       "      <td>0.630</td>\n",
       "      <td>0.490</td>\n",
       "      <td>0.145</td>\n",
       "      <td>1.1300</td>\n",
       "      <td>0.4580</td>\n",
       "      <td>0.2765</td>\n",
       "      <td>0.3200</td>\n",
       "      <td>11</td>\n",
       "    </tr>\n",
       "    <tr>\n",
       "      <th>2</th>\n",
       "      <td>2</td>\n",
       "      <td>I</td>\n",
       "      <td>0.160</td>\n",
       "      <td>0.110</td>\n",
       "      <td>0.025</td>\n",
       "      <td>0.0210</td>\n",
       "      <td>0.0055</td>\n",
       "      <td>0.0030</td>\n",
       "      <td>0.0050</td>\n",
       "      <td>6</td>\n",
       "    </tr>\n",
       "    <tr>\n",
       "      <th>3</th>\n",
       "      <td>3</td>\n",
       "      <td>M</td>\n",
       "      <td>0.595</td>\n",
       "      <td>0.475</td>\n",
       "      <td>0.150</td>\n",
       "      <td>0.9145</td>\n",
       "      <td>0.3755</td>\n",
       "      <td>0.2055</td>\n",
       "      <td>0.2500</td>\n",
       "      <td>10</td>\n",
       "    </tr>\n",
       "    <tr>\n",
       "      <th>4</th>\n",
       "      <td>4</td>\n",
       "      <td>I</td>\n",
       "      <td>0.555</td>\n",
       "      <td>0.425</td>\n",
       "      <td>0.130</td>\n",
       "      <td>0.7820</td>\n",
       "      <td>0.3695</td>\n",
       "      <td>0.1600</td>\n",
       "      <td>0.1975</td>\n",
       "      <td>9</td>\n",
       "    </tr>\n",
       "  </tbody>\n",
       "</table>\n",
       "</div>"
      ],
      "text/plain": [
       "   id Sex  Length  Diameter  Height  Whole weight  Whole weight.1  \\\n",
       "0   0   F   0.550     0.430   0.150        0.7715          0.3285   \n",
       "1   1   F   0.630     0.490   0.145        1.1300          0.4580   \n",
       "2   2   I   0.160     0.110   0.025        0.0210          0.0055   \n",
       "3   3   M   0.595     0.475   0.150        0.9145          0.3755   \n",
       "4   4   I   0.555     0.425   0.130        0.7820          0.3695   \n",
       "\n",
       "   Whole weight.2  Shell weight  Rings  \n",
       "0          0.1465        0.2400     11  \n",
       "1          0.2765        0.3200     11  \n",
       "2          0.0030        0.0050      6  \n",
       "3          0.2055        0.2500     10  \n",
       "4          0.1600        0.1975      9  "
      ]
     },
     "execution_count": 6,
     "metadata": {},
     "output_type": "execute_result"
    }
   ],
   "source": [
    "train_df.head()"
   ]
  },
  {
   "cell_type": "code",
   "execution_count": 7,
   "id": "4794b9e8",
   "metadata": {
    "execution": {
     "iopub.execute_input": "2024-04-09T10:15:41.557540Z",
     "iopub.status.busy": "2024-04-09T10:15:41.556797Z",
     "iopub.status.idle": "2024-04-09T10:15:41.642407Z",
     "shell.execute_reply": "2024-04-09T10:15:41.641349Z"
    },
    "papermill": {
     "duration": 0.100693,
     "end_time": "2024-04-09T10:15:41.645303",
     "exception": false,
     "start_time": "2024-04-09T10:15:41.544610",
     "status": "completed"
    },
    "tags": []
   },
   "outputs": [
    {
     "data": {
      "text/html": [
       "<div>\n",
       "<style scoped>\n",
       "    .dataframe tbody tr th:only-of-type {\n",
       "        vertical-align: middle;\n",
       "    }\n",
       "\n",
       "    .dataframe tbody tr th {\n",
       "        vertical-align: top;\n",
       "    }\n",
       "\n",
       "    .dataframe thead th {\n",
       "        text-align: right;\n",
       "    }\n",
       "</style>\n",
       "<table border=\"1\" class=\"dataframe\">\n",
       "  <thead>\n",
       "    <tr style=\"text-align: right;\">\n",
       "      <th></th>\n",
       "      <th>id</th>\n",
       "      <th>Length</th>\n",
       "      <th>Diameter</th>\n",
       "      <th>Height</th>\n",
       "      <th>Whole weight</th>\n",
       "      <th>Whole weight.1</th>\n",
       "      <th>Whole weight.2</th>\n",
       "      <th>Shell weight</th>\n",
       "      <th>Rings</th>\n",
       "    </tr>\n",
       "  </thead>\n",
       "  <tbody>\n",
       "    <tr>\n",
       "      <th>count</th>\n",
       "      <td>90615.000000</td>\n",
       "      <td>90615.000000</td>\n",
       "      <td>90615.000000</td>\n",
       "      <td>90615.000000</td>\n",
       "      <td>90615.000000</td>\n",
       "      <td>90615.000000</td>\n",
       "      <td>90615.000000</td>\n",
       "      <td>90615.000000</td>\n",
       "      <td>90615.000000</td>\n",
       "    </tr>\n",
       "    <tr>\n",
       "      <th>mean</th>\n",
       "      <td>45307.000000</td>\n",
       "      <td>0.517098</td>\n",
       "      <td>0.401679</td>\n",
       "      <td>0.135464</td>\n",
       "      <td>0.789035</td>\n",
       "      <td>0.340778</td>\n",
       "      <td>0.169422</td>\n",
       "      <td>0.225898</td>\n",
       "      <td>9.696794</td>\n",
       "    </tr>\n",
       "    <tr>\n",
       "      <th>std</th>\n",
       "      <td>26158.441658</td>\n",
       "      <td>0.118217</td>\n",
       "      <td>0.098026</td>\n",
       "      <td>0.038008</td>\n",
       "      <td>0.457671</td>\n",
       "      <td>0.204428</td>\n",
       "      <td>0.100909</td>\n",
       "      <td>0.130203</td>\n",
       "      <td>3.176221</td>\n",
       "    </tr>\n",
       "    <tr>\n",
       "      <th>min</th>\n",
       "      <td>0.000000</td>\n",
       "      <td>0.075000</td>\n",
       "      <td>0.055000</td>\n",
       "      <td>0.000000</td>\n",
       "      <td>0.002000</td>\n",
       "      <td>0.001000</td>\n",
       "      <td>0.000500</td>\n",
       "      <td>0.001500</td>\n",
       "      <td>1.000000</td>\n",
       "    </tr>\n",
       "    <tr>\n",
       "      <th>25%</th>\n",
       "      <td>22653.500000</td>\n",
       "      <td>0.445000</td>\n",
       "      <td>0.345000</td>\n",
       "      <td>0.110000</td>\n",
       "      <td>0.419000</td>\n",
       "      <td>0.177500</td>\n",
       "      <td>0.086500</td>\n",
       "      <td>0.120000</td>\n",
       "      <td>8.000000</td>\n",
       "    </tr>\n",
       "    <tr>\n",
       "      <th>50%</th>\n",
       "      <td>45307.000000</td>\n",
       "      <td>0.545000</td>\n",
       "      <td>0.425000</td>\n",
       "      <td>0.140000</td>\n",
       "      <td>0.799500</td>\n",
       "      <td>0.330000</td>\n",
       "      <td>0.166000</td>\n",
       "      <td>0.225000</td>\n",
       "      <td>9.000000</td>\n",
       "    </tr>\n",
       "    <tr>\n",
       "      <th>75%</th>\n",
       "      <td>67960.500000</td>\n",
       "      <td>0.600000</td>\n",
       "      <td>0.470000</td>\n",
       "      <td>0.160000</td>\n",
       "      <td>1.067500</td>\n",
       "      <td>0.463000</td>\n",
       "      <td>0.232500</td>\n",
       "      <td>0.305000</td>\n",
       "      <td>11.000000</td>\n",
       "    </tr>\n",
       "    <tr>\n",
       "      <th>max</th>\n",
       "      <td>90614.000000</td>\n",
       "      <td>0.815000</td>\n",
       "      <td>0.650000</td>\n",
       "      <td>1.130000</td>\n",
       "      <td>2.825500</td>\n",
       "      <td>1.488000</td>\n",
       "      <td>0.760000</td>\n",
       "      <td>1.005000</td>\n",
       "      <td>29.000000</td>\n",
       "    </tr>\n",
       "  </tbody>\n",
       "</table>\n",
       "</div>"
      ],
      "text/plain": [
       "                 id        Length      Diameter        Height  Whole weight  \\\n",
       "count  90615.000000  90615.000000  90615.000000  90615.000000  90615.000000   \n",
       "mean   45307.000000      0.517098      0.401679      0.135464      0.789035   \n",
       "std    26158.441658      0.118217      0.098026      0.038008      0.457671   \n",
       "min        0.000000      0.075000      0.055000      0.000000      0.002000   \n",
       "25%    22653.500000      0.445000      0.345000      0.110000      0.419000   \n",
       "50%    45307.000000      0.545000      0.425000      0.140000      0.799500   \n",
       "75%    67960.500000      0.600000      0.470000      0.160000      1.067500   \n",
       "max    90614.000000      0.815000      0.650000      1.130000      2.825500   \n",
       "\n",
       "       Whole weight.1  Whole weight.2  Shell weight         Rings  \n",
       "count    90615.000000    90615.000000  90615.000000  90615.000000  \n",
       "mean         0.340778        0.169422      0.225898      9.696794  \n",
       "std          0.204428        0.100909      0.130203      3.176221  \n",
       "min          0.001000        0.000500      0.001500      1.000000  \n",
       "25%          0.177500        0.086500      0.120000      8.000000  \n",
       "50%          0.330000        0.166000      0.225000      9.000000  \n",
       "75%          0.463000        0.232500      0.305000     11.000000  \n",
       "max          1.488000        0.760000      1.005000     29.000000  "
      ]
     },
     "execution_count": 7,
     "metadata": {},
     "output_type": "execute_result"
    }
   ],
   "source": [
    "train_df.describe()"
   ]
  },
  {
   "cell_type": "code",
   "execution_count": 8,
   "id": "6522b792",
   "metadata": {
    "execution": {
     "iopub.execute_input": "2024-04-09T10:15:41.667570Z",
     "iopub.status.busy": "2024-04-09T10:15:41.667121Z",
     "iopub.status.idle": "2024-04-09T10:15:41.687207Z",
     "shell.execute_reply": "2024-04-09T10:15:41.686061Z"
    },
    "papermill": {
     "duration": 0.03434,
     "end_time": "2024-04-09T10:15:41.689781",
     "exception": false,
     "start_time": "2024-04-09T10:15:41.655441",
     "status": "completed"
    },
    "tags": []
   },
   "outputs": [
    {
     "data": {
      "text/html": [
       "<div>\n",
       "<style scoped>\n",
       "    .dataframe tbody tr th:only-of-type {\n",
       "        vertical-align: middle;\n",
       "    }\n",
       "\n",
       "    .dataframe tbody tr th {\n",
       "        vertical-align: top;\n",
       "    }\n",
       "\n",
       "    .dataframe thead th {\n",
       "        text-align: right;\n",
       "    }\n",
       "</style>\n",
       "<table border=\"1\" class=\"dataframe\">\n",
       "  <thead>\n",
       "    <tr style=\"text-align: right;\">\n",
       "      <th></th>\n",
       "      <th>id</th>\n",
       "      <th>Sex</th>\n",
       "      <th>Length</th>\n",
       "      <th>Diameter</th>\n",
       "      <th>Height</th>\n",
       "      <th>Whole weight</th>\n",
       "      <th>Whole weight.1</th>\n",
       "      <th>Whole weight.2</th>\n",
       "      <th>Shell weight</th>\n",
       "    </tr>\n",
       "  </thead>\n",
       "  <tbody>\n",
       "    <tr>\n",
       "      <th>0</th>\n",
       "      <td>90615</td>\n",
       "      <td>M</td>\n",
       "      <td>0.645</td>\n",
       "      <td>0.475</td>\n",
       "      <td>0.155</td>\n",
       "      <td>1.2380</td>\n",
       "      <td>0.6185</td>\n",
       "      <td>0.3125</td>\n",
       "      <td>0.3005</td>\n",
       "    </tr>\n",
       "    <tr>\n",
       "      <th>1</th>\n",
       "      <td>90616</td>\n",
       "      <td>M</td>\n",
       "      <td>0.580</td>\n",
       "      <td>0.460</td>\n",
       "      <td>0.160</td>\n",
       "      <td>0.9830</td>\n",
       "      <td>0.4785</td>\n",
       "      <td>0.2195</td>\n",
       "      <td>0.2750</td>\n",
       "    </tr>\n",
       "    <tr>\n",
       "      <th>2</th>\n",
       "      <td>90617</td>\n",
       "      <td>M</td>\n",
       "      <td>0.560</td>\n",
       "      <td>0.420</td>\n",
       "      <td>0.140</td>\n",
       "      <td>0.8395</td>\n",
       "      <td>0.3525</td>\n",
       "      <td>0.1845</td>\n",
       "      <td>0.2405</td>\n",
       "    </tr>\n",
       "    <tr>\n",
       "      <th>3</th>\n",
       "      <td>90618</td>\n",
       "      <td>M</td>\n",
       "      <td>0.570</td>\n",
       "      <td>0.490</td>\n",
       "      <td>0.145</td>\n",
       "      <td>0.8740</td>\n",
       "      <td>0.3525</td>\n",
       "      <td>0.1865</td>\n",
       "      <td>0.2350</td>\n",
       "    </tr>\n",
       "    <tr>\n",
       "      <th>4</th>\n",
       "      <td>90619</td>\n",
       "      <td>I</td>\n",
       "      <td>0.415</td>\n",
       "      <td>0.325</td>\n",
       "      <td>0.110</td>\n",
       "      <td>0.3580</td>\n",
       "      <td>0.1575</td>\n",
       "      <td>0.0670</td>\n",
       "      <td>0.1050</td>\n",
       "    </tr>\n",
       "  </tbody>\n",
       "</table>\n",
       "</div>"
      ],
      "text/plain": [
       "      id Sex  Length  Diameter  Height  Whole weight  Whole weight.1  \\\n",
       "0  90615   M   0.645     0.475   0.155        1.2380          0.6185   \n",
       "1  90616   M   0.580     0.460   0.160        0.9830          0.4785   \n",
       "2  90617   M   0.560     0.420   0.140        0.8395          0.3525   \n",
       "3  90618   M   0.570     0.490   0.145        0.8740          0.3525   \n",
       "4  90619   I   0.415     0.325   0.110        0.3580          0.1575   \n",
       "\n",
       "   Whole weight.2  Shell weight  \n",
       "0          0.3125        0.3005  \n",
       "1          0.2195        0.2750  \n",
       "2          0.1845        0.2405  \n",
       "3          0.1865        0.2350  \n",
       "4          0.0670        0.1050  "
      ]
     },
     "execution_count": 8,
     "metadata": {},
     "output_type": "execute_result"
    }
   ],
   "source": [
    "test_df.head()"
   ]
  },
  {
   "cell_type": "markdown",
   "id": "eed68a67",
   "metadata": {
    "papermill": {
     "duration": 0.0101,
     "end_time": "2024-04-09T10:15:41.710438",
     "exception": false,
     "start_time": "2024-04-09T10:15:41.700338",
     "status": "completed"
    },
    "tags": []
   },
   "source": [
    "Preprocessing"
   ]
  },
  {
   "cell_type": "code",
   "execution_count": 9,
   "id": "c5c3b29e",
   "metadata": {
    "execution": {
     "iopub.execute_input": "2024-04-09T10:15:41.733773Z",
     "iopub.status.busy": "2024-04-09T10:15:41.732767Z",
     "iopub.status.idle": "2024-04-09T10:15:41.783404Z",
     "shell.execute_reply": "2024-04-09T10:15:41.782117Z"
    },
    "papermill": {
     "duration": 0.065766,
     "end_time": "2024-04-09T10:15:41.786555",
     "exception": false,
     "start_time": "2024-04-09T10:15:41.720789",
     "status": "completed"
    },
    "tags": []
   },
   "outputs": [],
   "source": [
    "le = LabelEncoder()\n",
    "\n",
    "for dataset in combine:\n",
    "    dataset['Sex'] = le.fit_transform(dataset['Sex'])\n",
    "    dataset.columns = dataset.columns.str.replace(' ', '_')"
   ]
  },
  {
   "cell_type": "code",
   "execution_count": 10,
   "id": "f355cc50",
   "metadata": {
    "execution": {
     "iopub.execute_input": "2024-04-09T10:15:41.810576Z",
     "iopub.status.busy": "2024-04-09T10:15:41.810080Z",
     "iopub.status.idle": "2024-04-09T10:15:41.830355Z",
     "shell.execute_reply": "2024-04-09T10:15:41.829092Z"
    },
    "papermill": {
     "duration": 0.03488,
     "end_time": "2024-04-09T10:15:41.833089",
     "exception": false,
     "start_time": "2024-04-09T10:15:41.798209",
     "status": "completed"
    },
    "tags": []
   },
   "outputs": [
    {
     "data": {
      "text/html": [
       "<div>\n",
       "<style scoped>\n",
       "    .dataframe tbody tr th:only-of-type {\n",
       "        vertical-align: middle;\n",
       "    }\n",
       "\n",
       "    .dataframe tbody tr th {\n",
       "        vertical-align: top;\n",
       "    }\n",
       "\n",
       "    .dataframe thead th {\n",
       "        text-align: right;\n",
       "    }\n",
       "</style>\n",
       "<table border=\"1\" class=\"dataframe\">\n",
       "  <thead>\n",
       "    <tr style=\"text-align: right;\">\n",
       "      <th></th>\n",
       "      <th>id</th>\n",
       "      <th>Sex</th>\n",
       "      <th>Length</th>\n",
       "      <th>Diameter</th>\n",
       "      <th>Height</th>\n",
       "      <th>Whole_weight</th>\n",
       "      <th>Whole_weight.1</th>\n",
       "      <th>Whole_weight.2</th>\n",
       "      <th>Shell_weight</th>\n",
       "      <th>Rings</th>\n",
       "    </tr>\n",
       "  </thead>\n",
       "  <tbody>\n",
       "    <tr>\n",
       "      <th>0</th>\n",
       "      <td>0</td>\n",
       "      <td>0</td>\n",
       "      <td>0.550</td>\n",
       "      <td>0.430</td>\n",
       "      <td>0.150</td>\n",
       "      <td>0.7715</td>\n",
       "      <td>0.3285</td>\n",
       "      <td>0.1465</td>\n",
       "      <td>0.2400</td>\n",
       "      <td>11</td>\n",
       "    </tr>\n",
       "    <tr>\n",
       "      <th>1</th>\n",
       "      <td>1</td>\n",
       "      <td>0</td>\n",
       "      <td>0.630</td>\n",
       "      <td>0.490</td>\n",
       "      <td>0.145</td>\n",
       "      <td>1.1300</td>\n",
       "      <td>0.4580</td>\n",
       "      <td>0.2765</td>\n",
       "      <td>0.3200</td>\n",
       "      <td>11</td>\n",
       "    </tr>\n",
       "    <tr>\n",
       "      <th>2</th>\n",
       "      <td>2</td>\n",
       "      <td>1</td>\n",
       "      <td>0.160</td>\n",
       "      <td>0.110</td>\n",
       "      <td>0.025</td>\n",
       "      <td>0.0210</td>\n",
       "      <td>0.0055</td>\n",
       "      <td>0.0030</td>\n",
       "      <td>0.0050</td>\n",
       "      <td>6</td>\n",
       "    </tr>\n",
       "    <tr>\n",
       "      <th>3</th>\n",
       "      <td>3</td>\n",
       "      <td>2</td>\n",
       "      <td>0.595</td>\n",
       "      <td>0.475</td>\n",
       "      <td>0.150</td>\n",
       "      <td>0.9145</td>\n",
       "      <td>0.3755</td>\n",
       "      <td>0.2055</td>\n",
       "      <td>0.2500</td>\n",
       "      <td>10</td>\n",
       "    </tr>\n",
       "    <tr>\n",
       "      <th>4</th>\n",
       "      <td>4</td>\n",
       "      <td>1</td>\n",
       "      <td>0.555</td>\n",
       "      <td>0.425</td>\n",
       "      <td>0.130</td>\n",
       "      <td>0.7820</td>\n",
       "      <td>0.3695</td>\n",
       "      <td>0.1600</td>\n",
       "      <td>0.1975</td>\n",
       "      <td>9</td>\n",
       "    </tr>\n",
       "  </tbody>\n",
       "</table>\n",
       "</div>"
      ],
      "text/plain": [
       "   id  Sex  Length  Diameter  Height  Whole_weight  Whole_weight.1  \\\n",
       "0   0    0   0.550     0.430   0.150        0.7715          0.3285   \n",
       "1   1    0   0.630     0.490   0.145        1.1300          0.4580   \n",
       "2   2    1   0.160     0.110   0.025        0.0210          0.0055   \n",
       "3   3    2   0.595     0.475   0.150        0.9145          0.3755   \n",
       "4   4    1   0.555     0.425   0.130        0.7820          0.3695   \n",
       "\n",
       "   Whole_weight.2  Shell_weight  Rings  \n",
       "0          0.1465        0.2400     11  \n",
       "1          0.2765        0.3200     11  \n",
       "2          0.0030        0.0050      6  \n",
       "3          0.2055        0.2500     10  \n",
       "4          0.1600        0.1975      9  "
      ]
     },
     "execution_count": 10,
     "metadata": {},
     "output_type": "execute_result"
    }
   ],
   "source": [
    "train_df.head()"
   ]
  },
  {
   "cell_type": "code",
   "execution_count": 11,
   "id": "8c075676",
   "metadata": {
    "execution": {
     "iopub.execute_input": "2024-04-09T10:15:41.857659Z",
     "iopub.status.busy": "2024-04-09T10:15:41.857176Z",
     "iopub.status.idle": "2024-04-09T10:15:41.864937Z",
     "shell.execute_reply": "2024-04-09T10:15:41.863589Z"
    },
    "papermill": {
     "duration": 0.023671,
     "end_time": "2024-04-09T10:15:41.867700",
     "exception": false,
     "start_time": "2024-04-09T10:15:41.844029",
     "status": "completed"
    },
    "tags": []
   },
   "outputs": [
    {
     "data": {
      "text/plain": [
       "Index(['id', 'Sex', 'Length', 'Diameter', 'Height', 'Whole_weight',\n",
       "       'Whole_weight.1', 'Whole_weight.2', 'Shell_weight', 'Rings'],\n",
       "      dtype='object')"
      ]
     },
     "execution_count": 11,
     "metadata": {},
     "output_type": "execute_result"
    }
   ],
   "source": [
    "train_df.columns"
   ]
  },
  {
   "cell_type": "markdown",
   "id": "9ca80e3a",
   "metadata": {
    "papermill": {
     "duration": 0.010567,
     "end_time": "2024-04-09T10:15:41.889258",
     "exception": false,
     "start_time": "2024-04-09T10:15:41.878691",
     "status": "completed"
    },
    "tags": []
   },
   "source": [
    "Base model"
   ]
  },
  {
   "cell_type": "code",
   "execution_count": 12,
   "id": "290250c6",
   "metadata": {
    "execution": {
     "iopub.execute_input": "2024-04-09T10:15:41.913314Z",
     "iopub.status.busy": "2024-04-09T10:15:41.912878Z",
     "iopub.status.idle": "2024-04-09T10:15:41.919545Z",
     "shell.execute_reply": "2024-04-09T10:15:41.918419Z"
    },
    "papermill": {
     "duration": 0.021739,
     "end_time": "2024-04-09T10:15:41.922000",
     "exception": false,
     "start_time": "2024-04-09T10:15:41.900261",
     "status": "completed"
    },
    "tags": []
   },
   "outputs": [],
   "source": [
    "def rmsle(predictions, targets):\n",
    "    \"\"\"Calculate the root mean squared logarithmic error between predictions and targets\"\"\"\n",
    "    return np.sqrt(np.mean((np.log(predictions + 1) - np.log(targets + 1)) ** 2))"
   ]
  },
  {
   "cell_type": "code",
   "execution_count": 13,
   "id": "36027389",
   "metadata": {
    "execution": {
     "iopub.execute_input": "2024-04-09T10:15:41.946108Z",
     "iopub.status.busy": "2024-04-09T10:15:41.945671Z",
     "iopub.status.idle": "2024-04-09T10:15:41.958892Z",
     "shell.execute_reply": "2024-04-09T10:15:41.957816Z"
    },
    "papermill": {
     "duration": 0.028813,
     "end_time": "2024-04-09T10:15:41.961871",
     "exception": false,
     "start_time": "2024-04-09T10:15:41.933058",
     "status": "completed"
    },
    "tags": []
   },
   "outputs": [],
   "source": [
    "X = train_df.drop(columns = ['id', 'Rings'], axis = 1)\n",
    "y = train_df['Rings']\n",
    "\n",
    "gb_cv_scores, gb_preds = list(), list()\n",
    "hist_cv_scores, hist_preds = list(), list()\n",
    "lgb_cv_scores, lgb_preds = list(), list()\n",
    "xgb_cv_scores, xgb_preds = list(), list()\n",
    "ens_cv_scores, ens_preds = list(), list()\n",
    "\n",
    "skf = KFold(n_splits = 10, random_state = 42, shuffle = True)"
   ]
  },
  {
   "cell_type": "code",
   "execution_count": 14,
   "id": "a4928375",
   "metadata": {
    "execution": {
     "iopub.execute_input": "2024-04-09T10:15:41.987211Z",
     "iopub.status.busy": "2024-04-09T10:15:41.986366Z",
     "iopub.status.idle": "2024-04-09T10:18:59.473500Z",
     "shell.execute_reply": "2024-04-09T10:18:59.470269Z"
    },
    "papermill": {
     "duration": 197.505874,
     "end_time": "2024-04-09T10:18:59.479176",
     "exception": false,
     "start_time": "2024-04-09T10:15:41.973302",
     "status": "completed"
    },
    "tags": []
   },
   "outputs": [
    {
     "name": "stdout",
     "output_type": "stream",
     "text": [
      "-------------------------------------------\n",
      "Fold 0 => GradientBoosting of MAE => 0.18035834222744948\n",
      "Fold 0 => HistGradientBoosting of RMSLE => 0.15622552871464748\n",
      "Fold 0 => LightGBM of RMSLE => 0.1507498625987879\n",
      "Fold 0 => XGBoost of RMSLE => 0.15622552871464748\n",
      "Fold 0 => Ensemble of RMSLE => 0.16490478680648013\n",
      "-------------------------------------------\n",
      "Fold 1 => GradientBoosting of MAE => 0.18264160344893604\n",
      "Fold 1 => HistGradientBoosting of RMSLE => 0.15963914681101388\n",
      "Fold 1 => LightGBM of RMSLE => 0.15426080664808717\n",
      "Fold 1 => XGBoost of RMSLE => 0.15963914681101388\n",
      "Fold 1 => Ensemble of RMSLE => 0.17099592730359445\n",
      "-------------------------------------------\n",
      "Fold 2 => GradientBoosting of MAE => 0.17541552616240505\n",
      "Fold 2 => HistGradientBoosting of RMSLE => 0.15424684300826952\n",
      "Fold 2 => LightGBM of RMSLE => 0.14922873853694796\n",
      "Fold 2 => XGBoost of RMSLE => 0.15424684300826952\n",
      "Fold 2 => Ensemble of RMSLE => 0.1649910610457418\n",
      "-------------------------------------------\n",
      "Fold 3 => GradientBoosting of MAE => 0.1767819284710405\n",
      "Fold 3 => HistGradientBoosting of RMSLE => 0.1574918449650288\n",
      "Fold 3 => LightGBM of RMSLE => 0.1539935341916507\n",
      "Fold 3 => XGBoost of RMSLE => 0.1574918449650288\n",
      "Fold 3 => Ensemble of RMSLE => 0.16717209724086662\n",
      "-------------------------------------------\n",
      "Fold 4 => GradientBoosting of MAE => 0.17791381240064325\n",
      "Fold 4 => HistGradientBoosting of RMSLE => 0.15573719570792854\n",
      "Fold 4 => LightGBM of RMSLE => 0.15096200508962151\n",
      "Fold 4 => XGBoost of RMSLE => 0.15573719570792854\n",
      "Fold 4 => Ensemble of RMSLE => 0.16969087444714698\n",
      "-------------------------------------------\n",
      "Fold 5 => GradientBoosting of MAE => 0.17780026564894752\n",
      "Fold 5 => HistGradientBoosting of RMSLE => 0.15623601702761175\n",
      "Fold 5 => LightGBM of RMSLE => 0.14985700183694453\n",
      "Fold 5 => XGBoost of RMSLE => 0.15623601702761175\n",
      "Fold 5 => Ensemble of RMSLE => 0.16555671839241887\n",
      "-------------------------------------------\n",
      "Fold 6 => GradientBoosting of MAE => 0.1737832472889636\n",
      "Fold 6 => HistGradientBoosting of RMSLE => 0.15291317471108784\n",
      "Fold 6 => LightGBM of RMSLE => 0.14745554415898282\n",
      "Fold 6 => XGBoost of RMSLE => 0.15291317471108784\n",
      "Fold 6 => Ensemble of RMSLE => 0.16074225252814048\n",
      "-------------------------------------------\n",
      "Fold 7 => GradientBoosting of MAE => 0.17800031485098886\n",
      "Fold 7 => HistGradientBoosting of RMSLE => 0.1572120885612148\n",
      "Fold 7 => LightGBM of RMSLE => 0.15209777174655262\n",
      "Fold 7 => XGBoost of RMSLE => 0.1572120885612148\n",
      "Fold 7 => Ensemble of RMSLE => 0.16855957164384264\n",
      "-------------------------------------------\n",
      "Fold 8 => GradientBoosting of MAE => 0.17229197842602773\n",
      "Fold 8 => HistGradientBoosting of RMSLE => 0.1542347781925846\n",
      "Fold 8 => LightGBM of RMSLE => 0.1479699861391049\n",
      "Fold 8 => XGBoost of RMSLE => 0.1542347781925846\n",
      "Fold 8 => Ensemble of RMSLE => 0.16517667710448639\n",
      "-------------------------------------------\n",
      "Fold 9 => GradientBoosting of MAE => 0.16840224171733717\n",
      "Fold 9 => HistGradientBoosting of RMSLE => 0.1515268008983962\n",
      "Fold 9 => LightGBM of RMSLE => 0.1469045242682658\n",
      "Fold 9 => XGBoost of RMSLE => 0.1515268008983962\n",
      "Fold 9 => Ensemble of RMSLE => 0.1632811044577765\n"
     ]
    }
   ],
   "source": [
    "for i, (train_i, test_i) in enumerate(skf.split(X, y)):\n",
    "    X_train, X_test = X.iloc[train_i], X.iloc[test_i]\n",
    "    y_train, y_test = y.iloc[train_i], y.iloc[test_i]\n",
    "    \n",
    "    print('-------------------------------------------')\n",
    "    # GradientBoosting\n",
    "    gb_md = GradientBoostingRegressor(loss = 'absolute_error'\n",
    "                                 ).fit(X_train, y_train)\n",
    "    \n",
    "    gb_pred = gb_md.predict(X_test).astype(int)\n",
    "    gb_score = rmsle(gb_pred, y_test)\n",
    "    \n",
    "    gb_preds.append(gb_pred)\n",
    "    gb_cv_scores.append(gb_score)\n",
    "    \n",
    "    print(f'Fold {i} => GradientBoosting of MAE =>', gb_score)\n",
    "    \n",
    "    # HistGradientBoosting\n",
    "    hist_md = HistGradientBoostingRegressor(loss = 'absolute_error',\n",
    "                                            ).fit(X_train, y_train)\n",
    "                                       \n",
    "    hist_pred = hist_md.predict(X_test)\n",
    "    hist_score = rmsle(hist_pred, y_test)\n",
    "    \n",
    "    hist_preds.append(hist_pred)\n",
    "    hist_cv_scores.append(hist_score)\n",
    "    \n",
    "    print(f'Fold {i} => HistGradientBoosting of RMSLE =>', hist_score)\n",
    "    \n",
    "    # LightGBM\n",
    "    lgb_md = LGBMRegressor(objective = 'rmse',\n",
    "                           force_col_wise = True,\n",
    "                           verbose = -1,\n",
    "                          ).fit(X_train, y_train)\n",
    "                                       \n",
    "    lgb_pred = lgb_md.predict(X_test)\n",
    "    lgb_score = rmsle(lgb_pred, y_test)\n",
    "    \n",
    "    lgb_preds.append(lgb_pred)\n",
    "    lgb_cv_scores.append(lgb_score)\n",
    "    \n",
    "    print(f'Fold {i} => LightGBM of RMSLE =>', lgb_score)\n",
    "    \n",
    "    # XGBoost\n",
    "    xgb_md = XGBRegressor(objective = 'reg:pseudohubererror',\n",
    "                         ).fit(X_train, y_train)\n",
    "                                       \n",
    "    xgb_pred = hist_md.predict(X_test)\n",
    "    xgb_score = rmsle(xgb_pred, y_test)\n",
    "    \n",
    "    xgb_preds.append(xgb_pred)\n",
    "    xgb_cv_scores.append(xgb_score)\n",
    "    \n",
    "    print(f'Fold {i} => XGBoost of RMSLE =>', xgb_score)\n",
    "    \n",
    "    # LAD Ensemble\n",
    "    ens_md = LADRegression().fit(X_train, y_train)\n",
    "                                       \n",
    "    ens_pred = ens_md.predict(X_test)\n",
    "    ens_score = rmsle(ens_pred, y_test)\n",
    "    \n",
    "    ens_preds.append(ens_pred)\n",
    "    ens_cv_scores.append(ens_score)\n",
    "    \n",
    "    print(f'Fold {i} => Ensemble of RMSLE =>', ens_score)"
   ]
  },
  {
   "cell_type": "code",
   "execution_count": 15,
   "id": "137bf615",
   "metadata": {
    "execution": {
     "iopub.execute_input": "2024-04-09T10:18:59.550259Z",
     "iopub.status.busy": "2024-04-09T10:18:59.549763Z",
     "iopub.status.idle": "2024-04-09T10:18:59.980851Z",
     "shell.execute_reply": "2024-04-09T10:18:59.979301Z"
    },
    "papermill": {
     "duration": 0.46898,
     "end_time": "2024-04-09T10:18:59.984404",
     "exception": false,
     "start_time": "2024-04-09T10:18:59.515424",
     "status": "completed"
    },
    "tags": []
   },
   "outputs": [
    {
     "data": {
      "image/png": "[encoded data removed]",
      "text/plain": [
       "<Figure size 800x800 with 1 Axes>"
      ]
     },
     "metadata": {},
     "output_type": "display_data"
    }
   ],
   "source": [
    "gb_cv_score = np.mean(gb_cv_scores)\n",
    "hist_cv_score = np.mean(hist_cv_scores)\n",
    "lgb_cv_score = np.mean(lgb_cv_scores)\n",
    "xgb_cv_score = np.mean(xgb_cv_scores)\n",
    "ens_cv_score = np.mean(ens_cv_scores)\n",
    "\n",
    "model_perf = pd.DataFrame({'Model': ['GradientBoosting', 'HistGradient' ,'LightGBM', 'XGBoost', 'Ensemble'],\n",
    "                           'cv-score': [gb_cv_score, hist_cv_score, lgb_cv_score, xgb_cv_score, ens_cv_score]})\n",
    "\n",
    "plt.figure(figsize = (8, 8))\n",
    "ax = sns.barplot(y = 'Model', x = 'cv-score', data = model_perf)\n",
    "ax.bar_label(ax.containers[0]);"
   ]
  },
  {
   "cell_type": "markdown",
   "id": "ce599a6c",
   "metadata": {
    "papermill": {
     "duration": 0.017232,
     "end_time": "2024-04-09T10:19:00.019085",
     "exception": false,
     "start_time": "2024-04-09T10:19:00.001853",
     "status": "completed"
    },
    "tags": []
   },
   "source": [
    "Hyperparameter tuning"
   ]
  },
  {
   "cell_type": "code",
   "execution_count": 16,
   "id": "0e61cd76",
   "metadata": {
    "execution": {
     "iopub.execute_input": "2024-04-09T10:19:00.058588Z",
     "iopub.status.busy": "2024-04-09T10:19:00.058074Z",
     "iopub.status.idle": "2024-04-09T10:19:00.070144Z",
     "shell.execute_reply": "2024-04-09T10:19:00.068474Z"
    },
    "papermill": {
     "duration": 0.03614,
     "end_time": "2024-04-09T10:19:00.073972",
     "exception": false,
     "start_time": "2024-04-09T10:19:00.037832",
     "status": "completed"
    },
    "tags": []
   },
   "outputs": [],
   "source": [
    "def objective(trial):\n",
    "    X_train, X_val, y_train, y_val = train_test_split(X, y, test_size=0.3, random_state=42) \n",
    "    \n",
    "    params = {\n",
    "        \"objective\": \"regression\",\n",
    "        \"metric\": \"rmse\",\n",
    "        \"n_estimators\": 1000,\n",
    "        \"verbosity\": -1,\n",
    "        \"bagging_freq\": 1,\n",
    "        \"learning_rate\": trial.suggest_float(\"learning_rate\", 1e-3, 0.1, log=True),\n",
    "        \"num_leaves\": trial.suggest_int(\"num_leaves\", 2, 2**10),\n",
    "        \"subsample\": trial.suggest_float(\"subsample\", 0.05, 1.0),\n",
    "        \"colsample_bytree\": trial.suggest_float(\"colsample_bytree\", 0.05, 1.0),\n",
    "        \"min_data_in_leaf\": trial.suggest_int(\"min_data_in_leaf\", 1, 100),\n",
    "        \"verbose\": -1,\n",
    "        \"force_col_wise\": True,\n",
    "    }\n",
    "\n",
    "    model = LGBMRegressor(**params)\n",
    "    model.fit(X_train, y_train)\n",
    "    predictions = model.predict(X_val)\n",
    "    result = rmsle(predictions, y_val)\n",
    "    return result"
   ]
  },
  {
   "cell_type": "code",
   "execution_count": 17,
   "id": "102b19f8",
   "metadata": {
    "execution": {
     "iopub.execute_input": "2024-04-09T10:19:00.113886Z",
     "iopub.status.busy": "2024-04-09T10:19:00.112368Z",
     "iopub.status.idle": "2024-04-09T10:33:39.761829Z",
     "shell.execute_reply": "2024-04-09T10:33:39.760571Z"
    },
    "papermill": {
     "duration": 879.689873,
     "end_time": "2024-04-09T10:33:39.783051",
     "exception": false,
     "start_time": "2024-04-09T10:19:00.093178",
     "status": "completed"
    },
    "tags": []
   },
   "outputs": [
    {
     "name": "stderr",
     "output_type": "stream",
     "text": [
      "[I 2024-04-09 10:19:00,116] A new study created in memory with name: no-name-0a11d92b-3c60-4cb7-af16-49dd64fc3ed5\n",
      "[I 2024-04-09 10:19:39,707] Trial 0 finished with value: 0.16189155749048462 and parameters: {'learning_rate': 0.004270140336551118, 'num_leaves': 619, 'subsample': 0.7702551979876117, 'colsample_bytree': 0.19949202413302103, 'min_data_in_leaf': 29}. Best is trial 0 with value: 0.16189155749048462.\n",
      "[I 2024-04-09 10:19:54,004] Trial 1 finished with value: 0.20335784399053053 and parameters: {'learning_rate': 0.001146190712004199, 'num_leaves': 442, 'subsample': 0.9649101014203353, 'colsample_bytree': 0.0920545211703784, 'min_data_in_leaf': 37}. Best is trial 0 with value: 0.16189155749048462.\n",
      "[I 2024-04-09 10:20:31,671] Trial 2 finished with value: 0.15514092103607352 and parameters: {'learning_rate': 0.024539232325772747, 'num_leaves': 361, 'subsample': 0.39279785643033877, 'colsample_bytree': 0.9195741613164703, 'min_data_in_leaf': 18}. Best is trial 2 with value: 0.15514092103607352.\n",
      "[I 2024-04-09 10:20:50,255] Trial 3 finished with value: 0.15147806046700918 and parameters: {'learning_rate': 0.028096700900083763, 'num_leaves': 911, 'subsample': 0.14691970007903257, 'colsample_bytree': 0.48192364495171813, 'min_data_in_leaf': 72}. Best is trial 3 with value: 0.15147806046700918.\n",
      "[I 2024-04-09 10:21:40,814] Trial 4 finished with value: 0.15097803455766312 and parameters: {'learning_rate': 0.005804088246369562, 'num_leaves': 565, 'subsample': 0.9216089087440249, 'colsample_bytree': 0.8833678240081254, 'min_data_in_leaf': 87}. Best is trial 4 with value: 0.15097803455766312.\n",
      "[I 2024-04-09 10:22:00,826] Trial 5 finished with value: 0.16531214041711334 and parameters: {'learning_rate': 0.038495836098357605, 'num_leaves': 371, 'subsample': 0.3508021418872544, 'colsample_bytree': 0.07713710267516981, 'min_data_in_leaf': 31}. Best is trial 4 with value: 0.15097803455766312.\n",
      "[I 2024-04-09 10:22:19,922] Trial 6 finished with value: 0.1656520206131085 and parameters: {'learning_rate': 0.001475708004890924, 'num_leaves': 365, 'subsample': 0.1250936539930298, 'colsample_bytree': 0.8404463479705621, 'min_data_in_leaf': 48}. Best is trial 4 with value: 0.15097803455766312.\n",
      "[I 2024-04-09 10:22:58,653] Trial 7 finished with value: 0.15784646722230175 and parameters: {'learning_rate': 0.05319849196409738, 'num_leaves': 666, 'subsample': 0.6077194726299338, 'colsample_bytree': 0.9944853024625137, 'min_data_in_leaf': 92}. Best is trial 4 with value: 0.15097803455766312.\n",
      "[I 2024-04-09 10:23:24,486] Trial 8 finished with value: 0.15199675050095773 and parameters: {'learning_rate': 0.025598928129642564, 'num_leaves': 987, 'subsample': 0.20679841059975224, 'colsample_bytree': 0.8805321474943535, 'min_data_in_leaf': 58}. Best is trial 4 with value: 0.15097803455766312.\n",
      "[I 2024-04-09 10:23:59,561] Trial 9 finished with value: 0.15992720929114032 and parameters: {'learning_rate': 0.08211360543121118, 'num_leaves': 545, 'subsample': 0.43346519726178456, 'colsample_bytree': 0.8210333169251541, 'min_data_in_leaf': 85}. Best is trial 4 with value: 0.15097803455766312.\n",
      "[I 2024-04-09 10:24:08,000] Trial 10 finished with value: 0.1536066746139621 and parameters: {'learning_rate': 0.006767457884143555, 'num_leaves': 12, 'subsample': 0.9703075279828891, 'colsample_bytree': 0.598752651345866, 'min_data_in_leaf': 99}. Best is trial 4 with value: 0.15097803455766312.\n",
      "[I 2024-04-09 10:24:47,712] Trial 11 finished with value: 0.15167365451222473 and parameters: {'learning_rate': 0.01227035861631717, 'num_leaves': 1021, 'subsample': 0.6853803442981673, 'colsample_bytree': 0.4619321721205107, 'min_data_in_leaf': 74}. Best is trial 4 with value: 0.15097803455766312.\n",
      "[I 2024-04-09 10:25:31,161] Trial 12 finished with value: 0.15333861651150665 and parameters: {'learning_rate': 0.003080321563249552, 'num_leaves': 781, 'subsample': 0.8145805208904586, 'colsample_bytree': 0.5002052508793001, 'min_data_in_leaf': 70}. Best is trial 4 with value: 0.15097803455766312.\n",
      "[I 2024-04-09 10:25:42,535] Trial 13 finished with value: 0.1523796747888488 and parameters: {'learning_rate': 0.01381008619634964, 'num_leaves': 832, 'subsample': 0.050191195832613056, 'colsample_bytree': 0.6628989733883394, 'min_data_in_leaf': 73}. Best is trial 4 with value: 0.15097803455766312.\n",
      "[I 2024-04-09 10:26:05,119] Trial 14 finished with value: 0.15140465382214915 and parameters: {'learning_rate': 0.007671751174354054, 'num_leaves': 183, 'subsample': 0.2516749841476562, 'colsample_bytree': 0.3416184529228368, 'min_data_in_leaf': 59}. Best is trial 4 with value: 0.15097803455766312.\n",
      "[I 2024-04-09 10:26:22,714] Trial 15 finished with value: 0.15615988672883713 and parameters: {'learning_rate': 0.0026992876289594304, 'num_leaves': 194, 'subsample': 0.5348696955107997, 'colsample_bytree': 0.319619865192741, 'min_data_in_leaf': 2}. Best is trial 4 with value: 0.15097803455766312.\n",
      "[I 2024-04-09 10:26:42,492] Trial 16 finished with value: 0.15133261673193898 and parameters: {'learning_rate': 0.00732987400397114, 'num_leaves': 140, 'subsample': 0.31699787444501065, 'colsample_bytree': 0.3331153058748412, 'min_data_in_leaf': 54}. Best is trial 4 with value: 0.15097803455766312.\n",
      "[I 2024-04-09 10:26:52,588] Trial 17 finished with value: 0.15331854234954323 and parameters: {'learning_rate': 0.0053594841838668725, 'num_leaves': 17, 'subsample': 0.8415754170191612, 'colsample_bytree': 0.7521034082451841, 'min_data_in_leaf': 48}. Best is trial 4 with value: 0.15097803455766312.\n",
      "[I 2024-04-09 10:27:14,602] Trial 18 finished with value: 0.16184662659620183 and parameters: {'learning_rate': 0.001994978594016774, 'num_leaves': 232, 'subsample': 0.5067658299100848, 'colsample_bytree': 0.3812599348200666, 'min_data_in_leaf': 85}. Best is trial 4 with value: 0.15097803455766312.\n",
      "[I 2024-04-09 10:27:40,003] Trial 19 finished with value: 0.1533956280676845 and parameters: {'learning_rate': 0.015736670643904486, 'num_leaves': 708, 'subsample': 0.28516885916138307, 'colsample_bytree': 0.22278491646630633, 'min_data_in_leaf': 61}. Best is trial 4 with value: 0.15097803455766312.\n",
      "[I 2024-04-09 10:28:15,255] Trial 20 finished with value: 0.15084129705059313 and parameters: {'learning_rate': 0.00860970744368655, 'num_leaves': 502, 'subsample': 0.6647785773243321, 'colsample_bytree': 0.6483074531136921, 'min_data_in_leaf': 9}. Best is trial 20 with value: 0.15084129705059313.\n",
      "[I 2024-04-09 10:28:49,779] Trial 21 finished with value: 0.15099264395352024 and parameters: {'learning_rate': 0.008774957331997872, 'num_leaves': 545, 'subsample': 0.6643411382167939, 'colsample_bytree': 0.6695615033470858, 'min_data_in_leaf': 3}. Best is trial 20 with value: 0.15084129705059313.\n",
      "[I 2024-04-09 10:29:28,063] Trial 22 finished with value: 0.15076671853863524 and parameters: {'learning_rate': 0.0038827747659778617, 'num_leaves': 551, 'subsample': 0.6799173382414245, 'colsample_bytree': 0.6979972715543713, 'min_data_in_leaf': 5}. Best is trial 22 with value: 0.15076671853863524.\n",
      "[I 2024-04-09 10:30:04,888] Trial 23 finished with value: 0.1506488644225791 and parameters: {'learning_rate': 0.004547520981142022, 'num_leaves': 459, 'subsample': 0.8923079981923552, 'colsample_bytree': 0.7430668252966285, 'min_data_in_leaf': 17}. Best is trial 23 with value: 0.1506488644225791.\n",
      "[I 2024-04-09 10:30:41,425] Trial 24 finished with value: 0.15062977791708063 and parameters: {'learning_rate': 0.0038961851779477706, 'num_leaves': 459, 'subsample': 0.734000418978908, 'colsample_bytree': 0.7279863370476894, 'min_data_in_leaf': 14}. Best is trial 24 with value: 0.15062977791708063.\n",
      "[I 2024-04-09 10:31:18,000] Trial 25 finished with value: 0.15089093610750243 and parameters: {'learning_rate': 0.0034421955560542316, 'num_leaves': 447, 'subsample': 0.767589180490852, 'colsample_bytree': 0.748951736847728, 'min_data_in_leaf': 18}. Best is trial 24 with value: 0.15062977791708063.\n",
      "[I 2024-04-09 10:31:44,706] Trial 26 finished with value: 0.1556769899916888 and parameters: {'learning_rate': 0.002108226352171442, 'num_leaves': 269, 'subsample': 0.8549039566599764, 'colsample_bytree': 0.7653056910929993, 'min_data_in_leaf': 15}. Best is trial 24 with value: 0.15062977791708063.\n",
      "[I 2024-04-09 10:32:20,736] Trial 27 finished with value: 0.1506418885864377 and parameters: {'learning_rate': 0.0037556870113107585, 'num_leaves': 445, 'subsample': 0.7367063320516942, 'colsample_bytree': 0.5936230142888774, 'min_data_in_leaf': 28}. Best is trial 24 with value: 0.15062977791708063.\n",
      "[I 2024-04-09 10:32:48,384] Trial 28 finished with value: 0.15576596465033585 and parameters: {'learning_rate': 0.0021355144182834927, 'num_leaves': 299, 'subsample': 0.8840589290907652, 'colsample_bytree': 0.5765536732922065, 'min_data_in_leaf': 27}. Best is trial 24 with value: 0.15062977791708063.\n",
      "[I 2024-04-09 10:33:39,757] Trial 29 finished with value: 0.15060233187850977 and parameters: {'learning_rate': 0.004913493960218388, 'num_leaves': 652, 'subsample': 0.7564226478281908, 'colsample_bytree': 0.5883322923445578, 'min_data_in_leaf': 39}. Best is trial 29 with value: 0.15060233187850977.\n"
     ]
    }
   ],
   "source": [
    "study = optuna.create_study(direction='minimize')\n",
    "study.optimize(objective, n_trials=30)"
   ]
  },
  {
   "cell_type": "code",
   "execution_count": 18,
   "id": "91c9210b",
   "metadata": {
    "execution": {
     "iopub.execute_input": "2024-04-09T10:33:39.824885Z",
     "iopub.status.busy": "2024-04-09T10:33:39.823442Z",
     "iopub.status.idle": "2024-04-09T10:33:39.831016Z",
     "shell.execute_reply": "2024-04-09T10:33:39.829989Z"
    },
    "papermill": {
     "duration": 0.031571,
     "end_time": "2024-04-09T10:33:39.833758",
     "exception": false,
     "start_time": "2024-04-09T10:33:39.802187",
     "status": "completed"
    },
    "tags": []
   },
   "outputs": [
    {
     "name": "stdout",
     "output_type": "stream",
     "text": [
      "Best hyperparameters: {'learning_rate': 0.004913493960218388, 'num_leaves': 652, 'subsample': 0.7564226478281908, 'colsample_bytree': 0.5883322923445578, 'min_data_in_leaf': 39}\n",
      "Best RMSLE: 0.15060233187850977\n"
     ]
    }
   ],
   "source": [
    "print('Best hyperparameters:', study.best_params)\n",
    "print('Best RMSLE:', study.best_value)"
   ]
  },
  {
   "cell_type": "code",
   "execution_count": 19,
   "id": "99abc449",
   "metadata": {
    "execution": {
     "iopub.execute_input": "2024-04-09T10:33:39.875870Z",
     "iopub.status.busy": "2024-04-09T10:33:39.875044Z",
     "iopub.status.idle": "2024-04-09T10:33:44.087200Z",
     "shell.execute_reply": "2024-04-09T10:33:44.085975Z"
    },
    "papermill": {
     "duration": 4.236799,
     "end_time": "2024-04-09T10:33:44.090235",
     "exception": false,
     "start_time": "2024-04-09T10:33:39.853436",
     "status": "completed"
    },
    "tags": []
   },
   "outputs": [
    {
     "name": "stdout",
     "output_type": "stream",
     "text": [
      "[LightGBM] [Warning] min_data_in_leaf is set=39, min_child_samples=20 will be ignored. Current value: min_data_in_leaf=39\n",
      "[LightGBM] [Warning] min_data_in_leaf is set=39, min_child_samples=20 will be ignored. Current value: min_data_in_leaf=39\n",
      "[LightGBM] [Info] Auto-choosing col-wise multi-threading, the overhead of testing was 0.019916 seconds.\n",
      "You can set `force_col_wise=true` to remove the overhead.\n",
      "[LightGBM] [Info] Total Bins 1334\n",
      "[LightGBM] [Info] Number of data points in the train set: 90615, number of used features: 8\n",
      "[LightGBM] [Info] Start training from score 9.696794\n",
      "[LightGBM] [Warning] min_data_in_leaf is set=39, min_child_samples=20 will be ignored. Current value: min_data_in_leaf=39\n"
     ]
    }
   ],
   "source": [
    "lgbmr_clf = LGBMRegressor(**study.best_params)\n",
    "lgbmr_clf.fit(train_df.iloc[:, 1:-1], train_df.iloc[:, -1])\n",
    "predictions = pd.Series(lgbmr_clf.predict(test_df.iloc[:, 1:]), name=\"Rings\")"
   ]
  },
  {
   "cell_type": "code",
   "execution_count": 20,
   "id": "fcdec267",
   "metadata": {
    "execution": {
     "iopub.execute_input": "2024-04-09T10:33:44.134168Z",
     "iopub.status.busy": "2024-04-09T10:33:44.132713Z",
     "iopub.status.idle": "2024-04-09T10:33:44.343272Z",
     "shell.execute_reply": "2024-04-09T10:33:44.341765Z"
    },
    "papermill": {
     "duration": 0.23625,
     "end_time": "2024-04-09T10:33:44.346496",
     "exception": false,
     "start_time": "2024-04-09T10:33:44.110246",
     "status": "completed"
    },
    "tags": []
   },
   "outputs": [],
   "source": [
    "results = pd.concat([test_df[\"id\"][:len(predictions)], predictions], axis=1)\n",
    "results.to_csv(\"/kaggle/working/result.csv\", index=False)"
   ]
  }
 ],
 "metadata": {
  "kaggle": {
   "accelerator": "none",
   "dataSources": [
    {
     "databundleVersionId": 8096274,
     "sourceId": 72489,
     "sourceType": "competition"
    }
   ],
   "dockerImageVersionId": 30673,
   "isGpuEnabled": false,
   "isInternetEnabled": true,
   "language": "python",
   "sourceType": "notebook"
  },
  "kernelspec": {
   "display_name": "Python 3",
   "language": "python",
   "name": "python3"
  },
  "language_info": {
   "codemirror_mode": {
    "name": "ipython",
    "version": 3
   },
   "file_extension": ".py",
   "mimetype": "text/x-python",
   "name": "python",
   "nbconvert_exporter": "python",
   "pygments_lexer": "ipython3",
   "version": "3.10.13"
  },
  "papermill": {
   "default_parameters": {},
   "duration": 1112.694142,
   "end_time": "2024-04-09T10:33:45.495911",
   "environment_variables": {},
   "exception": null,
   "input_path": "__notebook__.ipynb",
   "output_path": "__notebook__.ipynb",
   "parameters": {},
   "start_time": "2024-04-09T10:15:12.801769",
   "version": "2.5.0"
  }
 },
 "nbformat": 4,
 "nbformat_minor": 5
}
